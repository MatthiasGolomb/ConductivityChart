{
 "cells": [
  {
   "cell_type": "code",
   "execution_count": 18,
   "metadata": {},
   "outputs": [],
   "source": [
    "import pandas as pd\n",
    "import plotly.graph_objects as go\n",
    "import numpy as np\n",
    "from numpy import nan\n",
    "import plotly.express as px\n",
    "import chart_studio"
   ]
  },
  {
   "cell_type": "code",
   "execution_count": 19,
   "metadata": {},
   "outputs": [],
   "source": [
    "mofs = pd.read_excel('Conductivites_Data.xlsx')\n",
    "mofs['Porosity'] = [row if row>0 else 0.001 for row in mofs['BET']]"
   ]
  },
  {
   "cell_type": "code",
   "execution_count": 27,
   "metadata": {},
   "outputs": [
    {
     "data": {
      "text/html": [
       "<div>\n",
       "<style scoped>\n",
       "    .dataframe tbody tr th:only-of-type {\n",
       "        vertical-align: middle;\n",
       "    }\n",
       "\n",
       "    .dataframe tbody tr th {\n",
       "        vertical-align: top;\n",
       "    }\n",
       "\n",
       "    .dataframe thead th {\n",
       "        text-align: right;\n",
       "    }\n",
       "</style>\n",
       "<table border=\"1\" class=\"dataframe\">\n",
       "  <thead>\n",
       "    <tr style=\"text-align: right;\">\n",
       "      <th></th>\n",
       "      <th>Name</th>\n",
       "      <th>Dimensionality</th>\n",
       "      <th>BET</th>\n",
       "      <th>Porous</th>\n",
       "      <th>Year</th>\n",
       "      <th>Value</th>\n",
       "      <th>DOI</th>\n",
       "      <th>Porosity</th>\n",
       "    </tr>\n",
       "  </thead>\n",
       "  <tbody>\n",
       "    <tr>\n",
       "      <th>0</th>\n",
       "      <td>Fe2DOBDC</td>\n",
       "      <td>3D</td>\n",
       "      <td>248.0</td>\n",
       "      <td>Yes</td>\n",
       "      <td>2013</td>\n",
       "      <td>3.200000e-07</td>\n",
       "      <td>NaN</td>\n",
       "      <td>248.000</td>\n",
       "    </tr>\n",
       "    <tr>\n",
       "      <th>1</th>\n",
       "      <td>Fe2DSBDC</td>\n",
       "      <td>3D</td>\n",
       "      <td>54.0</td>\n",
       "      <td>No</td>\n",
       "      <td>2013</td>\n",
       "      <td>3.900000e-06</td>\n",
       "      <td>NaN</td>\n",
       "      <td>54.000</td>\n",
       "    </tr>\n",
       "    <tr>\n",
       "      <th>2</th>\n",
       "      <td>Fe(1,2,3-triazolate)</td>\n",
       "      <td>3D</td>\n",
       "      <td>370.0</td>\n",
       "      <td>Yes</td>\n",
       "      <td>2018</td>\n",
       "      <td>7.000000e-09</td>\n",
       "      <td>NaN</td>\n",
       "      <td>370.000</td>\n",
       "    </tr>\n",
       "    <tr>\n",
       "      <th>3</th>\n",
       "      <td>Fe(1,2,3-triazolate) (oxidized)</td>\n",
       "      <td>3D</td>\n",
       "      <td>450.0</td>\n",
       "      <td>Yes</td>\n",
       "      <td>2012</td>\n",
       "      <td>7.700000e-05</td>\n",
       "      <td>NaN</td>\n",
       "      <td>450.000</td>\n",
       "    </tr>\n",
       "    <tr>\n",
       "      <th>4</th>\n",
       "      <td>Fe(1,2,3-triazolate)(BF4)0.33</td>\n",
       "      <td>3D</td>\n",
       "      <td>50.0</td>\n",
       "      <td>No</td>\n",
       "      <td>2018</td>\n",
       "      <td>3.000000e-01</td>\n",
       "      <td>NaN</td>\n",
       "      <td>50.000</td>\n",
       "    </tr>\n",
       "    <tr>\n",
       "      <th>5</th>\n",
       "      <td>Fe2(BDT)3 (oxidized)</td>\n",
       "      <td>3D</td>\n",
       "      <td>614.0</td>\n",
       "      <td>Yes</td>\n",
       "      <td>2018</td>\n",
       "      <td>1.200000e+00</td>\n",
       "      <td>NaN</td>\n",
       "      <td>614.000</td>\n",
       "    </tr>\n",
       "    <tr>\n",
       "      <th>6</th>\n",
       "      <td>Fe2(BDP)3</td>\n",
       "      <td>3D</td>\n",
       "      <td>1230.0</td>\n",
       "      <td>Yes</td>\n",
       "      <td>2018</td>\n",
       "      <td>3.500000e-07</td>\n",
       "      <td>NaN</td>\n",
       "      <td>1230.000</td>\n",
       "    </tr>\n",
       "    <tr>\n",
       "      <th>7</th>\n",
       "      <td>K(0.98)Fe2(BDP)3</td>\n",
       "      <td>3D</td>\n",
       "      <td>610.0</td>\n",
       "      <td>Yes</td>\n",
       "      <td>2018</td>\n",
       "      <td>2.500000e-02</td>\n",
       "      <td>NaN</td>\n",
       "      <td>610.000</td>\n",
       "    </tr>\n",
       "    <tr>\n",
       "      <th>8</th>\n",
       "      <td>Cu2(6-Hmna)(6-mn)</td>\n",
       "      <td>3D</td>\n",
       "      <td>3.0</td>\n",
       "      <td>No</td>\n",
       "      <td>2019</td>\n",
       "      <td>1.096000e+01</td>\n",
       "      <td>NaN</td>\n",
       "      <td>3.000</td>\n",
       "    </tr>\n",
       "    <tr>\n",
       "      <th>9</th>\n",
       "      <td>Fe2(dhbq)3</td>\n",
       "      <td>3D</td>\n",
       "      <td>NaN</td>\n",
       "      <td>No</td>\n",
       "      <td>2015</td>\n",
       "      <td>1.600000e-01</td>\n",
       "      <td>NaN</td>\n",
       "      <td>0.001</td>\n",
       "    </tr>\n",
       "    <tr>\n",
       "      <th>10</th>\n",
       "      <td>Fe2(dhbq)3</td>\n",
       "      <td>2D layered</td>\n",
       "      <td>1175.0</td>\n",
       "      <td>Yes</td>\n",
       "      <td>2017</td>\n",
       "      <td>1.400000e-02</td>\n",
       "      <td>NaN</td>\n",
       "      <td>1175.000</td>\n",
       "    </tr>\n",
       "    <tr>\n",
       "      <th>11</th>\n",
       "      <td>V2(dhbq)3</td>\n",
       "      <td>2D layered</td>\n",
       "      <td>NaN</td>\n",
       "      <td>Yes</td>\n",
       "      <td>2018</td>\n",
       "      <td>4.500000e-01</td>\n",
       "      <td>NaN</td>\n",
       "      <td>0.001</td>\n",
       "    </tr>\n",
       "    <tr>\n",
       "      <th>12</th>\n",
       "      <td>Cu3(HOTP)2</td>\n",
       "      <td>2D layered</td>\n",
       "      <td>306.0</td>\n",
       "      <td>Yes</td>\n",
       "      <td>2012</td>\n",
       "      <td>1.000000e-01</td>\n",
       "      <td>NaN</td>\n",
       "      <td>306.000</td>\n",
       "    </tr>\n",
       "    <tr>\n",
       "      <th>13</th>\n",
       "      <td>Ho(1+x)(HOTP)</td>\n",
       "      <td>3D</td>\n",
       "      <td>208.0</td>\n",
       "      <td>Yes</td>\n",
       "      <td>2019</td>\n",
       "      <td>5.000000e-02</td>\n",
       "      <td>NaN</td>\n",
       "      <td>208.000</td>\n",
       "    </tr>\n",
       "    <tr>\n",
       "      <th>14</th>\n",
       "      <td>Pt3(THT)2</td>\n",
       "      <td>2D layered</td>\n",
       "      <td>300.0</td>\n",
       "      <td>Yes</td>\n",
       "      <td>2014</td>\n",
       "      <td>1.400000e-06</td>\n",
       "      <td>NaN</td>\n",
       "      <td>300.000</td>\n",
       "    </tr>\n",
       "    <tr>\n",
       "      <th>15</th>\n",
       "      <td>Fe3(THT)2</td>\n",
       "      <td>2D layered</td>\n",
       "      <td>526.0</td>\n",
       "      <td>Yes</td>\n",
       "      <td>2018</td>\n",
       "      <td>3.400000e-02</td>\n",
       "      <td>NaN</td>\n",
       "      <td>526.000</td>\n",
       "    </tr>\n",
       "    <tr>\n",
       "      <th>16</th>\n",
       "      <td>Fe3(PTC)</td>\n",
       "      <td>2D layered</td>\n",
       "      <td>210.0</td>\n",
       "      <td>Yes</td>\n",
       "      <td>2018</td>\n",
       "      <td>1.000000e+01</td>\n",
       "      <td>NaN</td>\n",
       "      <td>210.000</td>\n",
       "    </tr>\n",
       "    <tr>\n",
       "      <th>17</th>\n",
       "      <td>Ni3(BHT)2</td>\n",
       "      <td>2D layered</td>\n",
       "      <td>NaN</td>\n",
       "      <td>Yes</td>\n",
       "      <td>2013</td>\n",
       "      <td>1.500000e-01</td>\n",
       "      <td>NaN</td>\n",
       "      <td>0.001</td>\n",
       "    </tr>\n",
       "    <tr>\n",
       "      <th>18</th>\n",
       "      <td>Ni3(BHT)2 oxidized</td>\n",
       "      <td>2D layered</td>\n",
       "      <td>NaN</td>\n",
       "      <td>Yes</td>\n",
       "      <td>2014</td>\n",
       "      <td>1.500000e+02</td>\n",
       "      <td>NaN</td>\n",
       "      <td>0.001</td>\n",
       "    </tr>\n",
       "    <tr>\n",
       "      <th>19</th>\n",
       "      <td>Cu3(BHT)</td>\n",
       "      <td>2D layered</td>\n",
       "      <td>NaN</td>\n",
       "      <td>No</td>\n",
       "      <td>2015</td>\n",
       "      <td>2.500000e+03</td>\n",
       "      <td>NaN</td>\n",
       "      <td>0.001</td>\n",
       "    </tr>\n",
       "    <tr>\n",
       "      <th>20</th>\n",
       "      <td>Cu3(BHSe)</td>\n",
       "      <td>2D layered</td>\n",
       "      <td>NaN</td>\n",
       "      <td>No</td>\n",
       "      <td>2019</td>\n",
       "      <td>1.100000e+02</td>\n",
       "      <td>NaN</td>\n",
       "      <td>0.001</td>\n",
       "    </tr>\n",
       "    <tr>\n",
       "      <th>21</th>\n",
       "      <td>Pb3(BHT)</td>\n",
       "      <td>3D</td>\n",
       "      <td>NaN</td>\n",
       "      <td>No</td>\n",
       "      <td>2008</td>\n",
       "      <td>2.000000e-06</td>\n",
       "      <td>NaN</td>\n",
       "      <td>0.001</td>\n",
       "    </tr>\n",
       "    <tr>\n",
       "      <th>22</th>\n",
       "      <td>Ni3(HITP)2</td>\n",
       "      <td>2D layered</td>\n",
       "      <td>630.0</td>\n",
       "      <td>Yes</td>\n",
       "      <td>2014</td>\n",
       "      <td>1.500000e+02</td>\n",
       "      <td>NaN</td>\n",
       "      <td>630.000</td>\n",
       "    </tr>\n",
       "    <tr>\n",
       "      <th>23</th>\n",
       "      <td>Cu3(HITP)2</td>\n",
       "      <td>2D layered</td>\n",
       "      <td>NaN</td>\n",
       "      <td>Yes</td>\n",
       "      <td>2015</td>\n",
       "      <td>2.000000e-01</td>\n",
       "      <td>NaN</td>\n",
       "      <td>0.001</td>\n",
       "    </tr>\n",
       "    <tr>\n",
       "      <th>24</th>\n",
       "      <td>Cu3(HIB)2</td>\n",
       "      <td>2D layered</td>\n",
       "      <td>114.0</td>\n",
       "      <td>Yes</td>\n",
       "      <td>2017</td>\n",
       "      <td>1.300000e+01</td>\n",
       "      <td>NaN</td>\n",
       "      <td>114.000</td>\n",
       "    </tr>\n",
       "    <tr>\n",
       "      <th>25</th>\n",
       "      <td>(Mn/Fe)3(HIB)2</td>\n",
       "      <td>2D layered</td>\n",
       "      <td>2298.0</td>\n",
       "      <td>Yes</td>\n",
       "      <td>2019</td>\n",
       "      <td>3.590000e+02</td>\n",
       "      <td>NaN</td>\n",
       "      <td>2298.000</td>\n",
       "    </tr>\n",
       "    <tr>\n",
       "      <th>26</th>\n",
       "      <td>Cd2(TTFTB)</td>\n",
       "      <td>3D</td>\n",
       "      <td>559.0</td>\n",
       "      <td>Yes</td>\n",
       "      <td>2015</td>\n",
       "      <td>2.900000e-04</td>\n",
       "      <td>NaN</td>\n",
       "      <td>559.000</td>\n",
       "    </tr>\n",
       "    <tr>\n",
       "      <th>27</th>\n",
       "      <td>Cd(DPNDI)</td>\n",
       "      <td>3D</td>\n",
       "      <td>NaN</td>\n",
       "      <td>Yes</td>\n",
       "      <td>2019</td>\n",
       "      <td>3.300000e-02</td>\n",
       "      <td>NaN</td>\n",
       "      <td>0.001</td>\n",
       "    </tr>\n",
       "    <tr>\n",
       "      <th>28</th>\n",
       "      <td>Cu[Cu(pdt)2]</td>\n",
       "      <td>3D</td>\n",
       "      <td>NaN</td>\n",
       "      <td>Yes</td>\n",
       "      <td>2009</td>\n",
       "      <td>6.000000e-04</td>\n",
       "      <td>NaN</td>\n",
       "      <td>0.001</td>\n",
       "    </tr>\n",
       "    <tr>\n",
       "      <th>29</th>\n",
       "      <td>Cu[Ni(pdt)2]</td>\n",
       "      <td>3D</td>\n",
       "      <td>385.0</td>\n",
       "      <td>Yes</td>\n",
       "      <td>2010</td>\n",
       "      <td>1.000000e-08</td>\n",
       "      <td>NaN</td>\n",
       "      <td>385.000</td>\n",
       "    </tr>\n",
       "    <tr>\n",
       "      <th>30</th>\n",
       "      <td>Zn4O(NDC)3</td>\n",
       "      <td>3D</td>\n",
       "      <td>NaN</td>\n",
       "      <td>Yes</td>\n",
       "      <td>2019</td>\n",
       "      <td>4.000000e-02</td>\n",
       "      <td>NaN</td>\n",
       "      <td>0.001</td>\n",
       "    </tr>\n",
       "    <tr>\n",
       "      <th>31</th>\n",
       "      <td>I2@Eu4(BPT)4</td>\n",
       "      <td>3D</td>\n",
       "      <td>69.6</td>\n",
       "      <td>No</td>\n",
       "      <td>2014</td>\n",
       "      <td>8.200000e-07</td>\n",
       "      <td>NaN</td>\n",
       "      <td>69.600</td>\n",
       "    </tr>\n",
       "    <tr>\n",
       "      <th>32</th>\n",
       "      <td>I2@Zn3(lac)2(pybz)2</td>\n",
       "      <td>3D</td>\n",
       "      <td>NaN</td>\n",
       "      <td>Yes</td>\n",
       "      <td>2010</td>\n",
       "      <td>3.400000e-03</td>\n",
       "      <td>NaN</td>\n",
       "      <td>0.001</td>\n",
       "    </tr>\n",
       "    <tr>\n",
       "      <th>33</th>\n",
       "      <td>TCNQ@Cu3(BTC)2</td>\n",
       "      <td>3D</td>\n",
       "      <td>214.0</td>\n",
       "      <td>Yes</td>\n",
       "      <td>2014</td>\n",
       "      <td>7.000000e-02</td>\n",
       "      <td>NaN</td>\n",
       "      <td>214.000</td>\n",
       "    </tr>\n",
       "    <tr>\n",
       "      <th>34</th>\n",
       "      <td>TCNQ@(TATAB)3</td>\n",
       "      <td>3D</td>\n",
       "      <td>NaN</td>\n",
       "      <td>Yes</td>\n",
       "      <td>2019</td>\n",
       "      <td>2.700000e-07</td>\n",
       "      <td>NaN</td>\n",
       "      <td>0.001</td>\n",
       "    </tr>\n",
       "    <tr>\n",
       "      <th>35</th>\n",
       "      <td>C60@Zr6(OH)16(TBAPy)2</td>\n",
       "      <td>3D</td>\n",
       "      <td>1550.0</td>\n",
       "      <td>Yes</td>\n",
       "      <td>2018</td>\n",
       "      <td>1.000000e-03</td>\n",
       "      <td>NaN</td>\n",
       "      <td>1550.000</td>\n",
       "    </tr>\n",
       "    <tr>\n",
       "      <th>36</th>\n",
       "      <td>Co3(HITP)2</td>\n",
       "      <td>2D layered</td>\n",
       "      <td>280.0</td>\n",
       "      <td>Yes</td>\n",
       "      <td>2020</td>\n",
       "      <td>1.150000e+01</td>\n",
       "      <td>10.1016/j.apcatb.2020.119295</td>\n",
       "      <td>280.000</td>\n",
       "    </tr>\n",
       "  </tbody>\n",
       "</table>\n",
       "</div>"
      ],
      "text/plain": [
       "                               Name Dimensionality     BET Porous  Year  \\\n",
       "0                          Fe2DOBDC             3D   248.0    Yes  2013   \n",
       "1                          Fe2DSBDC             3D    54.0     No  2013   \n",
       "2              Fe(1,2,3-triazolate)             3D   370.0    Yes  2018   \n",
       "3   Fe(1,2,3-triazolate) (oxidized)             3D   450.0    Yes  2012   \n",
       "4     Fe(1,2,3-triazolate)(BF4)0.33             3D    50.0     No  2018   \n",
       "5              Fe2(BDT)3 (oxidized)             3D   614.0    Yes  2018   \n",
       "6                         Fe2(BDP)3             3D  1230.0    Yes  2018   \n",
       "7                  K(0.98)Fe2(BDP)3             3D   610.0    Yes  2018   \n",
       "8                 Cu2(6-Hmna)(6-mn)             3D     3.0     No  2019   \n",
       "9                        Fe2(dhbq)3             3D     NaN     No  2015   \n",
       "10                       Fe2(dhbq)3     2D layered  1175.0    Yes  2017   \n",
       "11                        V2(dhbq)3     2D layered     NaN    Yes  2018   \n",
       "12                       Cu3(HOTP)2     2D layered   306.0    Yes  2012   \n",
       "13                    Ho(1+x)(HOTP)             3D   208.0    Yes  2019   \n",
       "14                        Pt3(THT)2     2D layered   300.0    Yes  2014   \n",
       "15                        Fe3(THT)2     2D layered   526.0    Yes  2018   \n",
       "16                         Fe3(PTC)     2D layered   210.0    Yes  2018   \n",
       "17                        Ni3(BHT)2     2D layered     NaN    Yes  2013   \n",
       "18               Ni3(BHT)2 oxidized     2D layered     NaN    Yes  2014   \n",
       "19                         Cu3(BHT)     2D layered     NaN     No  2015   \n",
       "20                        Cu3(BHSe)     2D layered     NaN     No  2019   \n",
       "21                         Pb3(BHT)             3D     NaN     No  2008   \n",
       "22                       Ni3(HITP)2     2D layered   630.0    Yes  2014   \n",
       "23                       Cu3(HITP)2     2D layered     NaN    Yes  2015   \n",
       "24                        Cu3(HIB)2     2D layered   114.0    Yes  2017   \n",
       "25                   (Mn/Fe)3(HIB)2     2D layered  2298.0    Yes  2019   \n",
       "26                       Cd2(TTFTB)             3D   559.0    Yes  2015   \n",
       "27                        Cd(DPNDI)             3D     NaN    Yes  2019   \n",
       "28                     Cu[Cu(pdt)2]             3D     NaN    Yes  2009   \n",
       "29                     Cu[Ni(pdt)2]             3D   385.0    Yes  2010   \n",
       "30                       Zn4O(NDC)3             3D     NaN    Yes  2019   \n",
       "31                     I2@Eu4(BPT)4             3D    69.6     No  2014   \n",
       "32              I2@Zn3(lac)2(pybz)2             3D     NaN    Yes  2010   \n",
       "33                   TCNQ@Cu3(BTC)2             3D   214.0    Yes  2014   \n",
       "34                    TCNQ@(TATAB)3             3D     NaN    Yes  2019   \n",
       "35            C60@Zr6(OH)16(TBAPy)2             3D  1550.0    Yes  2018   \n",
       "36                       Co3(HITP)2     2D layered   280.0    Yes  2020   \n",
       "\n",
       "           Value                           DOI  Porosity  \n",
       "0   3.200000e-07                           NaN   248.000  \n",
       "1   3.900000e-06                           NaN    54.000  \n",
       "2   7.000000e-09                           NaN   370.000  \n",
       "3   7.700000e-05                           NaN   450.000  \n",
       "4   3.000000e-01                           NaN    50.000  \n",
       "5   1.200000e+00                           NaN   614.000  \n",
       "6   3.500000e-07                           NaN  1230.000  \n",
       "7   2.500000e-02                           NaN   610.000  \n",
       "8   1.096000e+01                           NaN     3.000  \n",
       "9   1.600000e-01                           NaN     0.001  \n",
       "10  1.400000e-02                           NaN  1175.000  \n",
       "11  4.500000e-01                           NaN     0.001  \n",
       "12  1.000000e-01                           NaN   306.000  \n",
       "13  5.000000e-02                           NaN   208.000  \n",
       "14  1.400000e-06                           NaN   300.000  \n",
       "15  3.400000e-02                           NaN   526.000  \n",
       "16  1.000000e+01                           NaN   210.000  \n",
       "17  1.500000e-01                           NaN     0.001  \n",
       "18  1.500000e+02                           NaN     0.001  \n",
       "19  2.500000e+03                           NaN     0.001  \n",
       "20  1.100000e+02                           NaN     0.001  \n",
       "21  2.000000e-06                           NaN     0.001  \n",
       "22  1.500000e+02                           NaN   630.000  \n",
       "23  2.000000e-01                           NaN     0.001  \n",
       "24  1.300000e+01                           NaN   114.000  \n",
       "25  3.590000e+02                           NaN  2298.000  \n",
       "26  2.900000e-04                           NaN   559.000  \n",
       "27  3.300000e-02                           NaN     0.001  \n",
       "28  6.000000e-04                           NaN     0.001  \n",
       "29  1.000000e-08                           NaN   385.000  \n",
       "30  4.000000e-02                           NaN     0.001  \n",
       "31  8.200000e-07                           NaN    69.600  \n",
       "32  3.400000e-03                           NaN     0.001  \n",
       "33  7.000000e-02                           NaN   214.000  \n",
       "34  2.700000e-07                           NaN     0.001  \n",
       "35  1.000000e-03                           NaN  1550.000  \n",
       "36  1.150000e+01  10.1016/j.apcatb.2020.119295   280.000  "
      ]
     },
     "execution_count": 27,
     "metadata": {},
     "output_type": "execute_result"
    }
   ],
   "source": [
    "mofs"
   ]
  },
  {
   "cell_type": "code",
   "execution_count": 20,
   "metadata": {},
   "outputs": [
    {
     "data": {
      "application/vnd.plotly.v1+json": {
       "config": {
        "plotlyServerURL": "https://plotly.com"
       },
       "data": [
        {
         "customdata": [
          [
           "3D",
           0.001
          ],
          [
           "3D",
           0.001
          ],
          [
           "3D",
           0.001
          ],
          [
           "3D",
           450
          ],
          [
           "3D",
           54
          ],
          [
           "3D",
           214
          ],
          [
           "3D",
           0.001
          ],
          [
           "3D",
           614
          ],
          [
           "3D",
           3
          ]
         ],
         "hovertemplate": "<b>%{hovertext}</b><br><br>Dimensionality=%{customdata[0]}                                 <br>Year=%{x}<br>Value=%{y} S/cm<sup>2</sup>                                 <br>Porosity=%{customdata[1]} m<sup>2</sup>/g<extra></extra>",
         "hovertext": [
          "Pb3(BHT)",
          "Cu[Cu(pdt)2]",
          "I2@Zn3(lac)2(pybz)2",
          "Fe(1,2,3-triazolate) (oxidized)",
          "Fe2DSBDC",
          "TCNQ@Cu3(BTC)2",
          "Fe2(dhbq)3",
          "Fe2(BDT)3 (oxidized)",
          "Cu2(6-Hmna)(6-mn)"
         ],
         "legendgroup": "3D",
         "line": {
          "color": "#636efa",
          "dash": "solid"
         },
         "mode": "lines",
         "name": "3D",
         "orientation": "v",
         "showlegend": true,
         "type": "scatter",
         "x": [
          2008,
          2009,
          2010,
          2012,
          2013,
          2014,
          2015,
          2018,
          2019
         ],
         "xaxis": "x",
         "y": [
          2e-06,
          0.0006,
          0.0034,
          7.7e-05,
          3.9e-06,
          0.07,
          0.16,
          1.2,
          10.96
         ],
         "yaxis": "y"
        },
        {
         "customdata": [
          [
           "2D layered",
           306
          ],
          [
           "2D layered",
           0.001
          ],
          [
           "2D layered",
           0.001
          ],
          [
           "2D layered",
           0.001
          ],
          [
           "2D layered",
           114
          ],
          [
           "2D layered",
           210
          ],
          [
           "2D layered",
           2298
          ],
          [
           "2D layered",
           280
          ]
         ],
         "hovertemplate": "<b>%{hovertext}</b><br><br>Dimensionality=%{customdata[0]}                                 <br>Year=%{x}<br>Value=%{y} S/cm<sup>2</sup>                                 <br>Porosity=%{customdata[1]} m<sup>2</sup>/g<extra></extra>",
         "hovertext": [
          "Cu3(HOTP)2",
          "Ni3(BHT)2",
          "Ni3(BHT)2 oxidized",
          "Cu3(BHT)",
          "Cu3(HIB)2",
          "Fe3(PTC)",
          "(Mn/Fe)3(HIB)2",
          "Co3(HITP)2"
         ],
         "legendgroup": "2D layered",
         "line": {
          "color": "#EF553B",
          "dash": "solid"
         },
         "mode": "lines",
         "name": "2D layered",
         "orientation": "v",
         "showlegend": true,
         "type": "scatter",
         "x": [
          2012,
          2013,
          2014,
          2015,
          2017,
          2018,
          2019,
          2020
         ],
         "xaxis": "x",
         "y": [
          0.1,
          0.15,
          150,
          2500,
          13,
          10,
          359,
          11.5
         ],
         "yaxis": "y"
        }
       ],
       "layout": {
        "autosize": true,
        "legend": {
         "title": {
          "text": "Dimensionality"
         },
         "tracegroupgap": 0
        },
        "margin": {
         "t": 60
        },
        "template": {
         "data": {
          "bar": [
           {
            "error_x": {
             "color": "#2a3f5f"
            },
            "error_y": {
             "color": "#2a3f5f"
            },
            "marker": {
             "line": {
              "color": "#E5ECF6",
              "width": 0.5
             }
            },
            "type": "bar"
           }
          ],
          "barpolar": [
           {
            "marker": {
             "line": {
              "color": "#E5ECF6",
              "width": 0.5
             }
            },
            "type": "barpolar"
           }
          ],
          "carpet": [
           {
            "aaxis": {
             "endlinecolor": "#2a3f5f",
             "gridcolor": "white",
             "linecolor": "white",
             "minorgridcolor": "white",
             "startlinecolor": "#2a3f5f"
            },
            "baxis": {
             "endlinecolor": "#2a3f5f",
             "gridcolor": "white",
             "linecolor": "white",
             "minorgridcolor": "white",
             "startlinecolor": "#2a3f5f"
            },
            "type": "carpet"
           }
          ],
          "choropleth": [
           {
            "colorbar": {
             "outlinewidth": 0,
             "ticks": ""
            },
            "type": "choropleth"
           }
          ],
          "contour": [
           {
            "colorbar": {
             "outlinewidth": 0,
             "ticks": ""
            },
            "colorscale": [
             [
              0,
              "#0d0887"
             ],
             [
              0.1111111111111111,
              "#46039f"
             ],
             [
              0.2222222222222222,
              "#7201a8"
             ],
             [
              0.3333333333333333,
              "#9c179e"
             ],
             [
              0.4444444444444444,
              "#bd3786"
             ],
             [
              0.5555555555555556,
              "#d8576b"
             ],
             [
              0.6666666666666666,
              "#ed7953"
             ],
             [
              0.7777777777777778,
              "#fb9f3a"
             ],
             [
              0.8888888888888888,
              "#fdca26"
             ],
             [
              1,
              "#f0f921"
             ]
            ],
            "type": "contour"
           }
          ],
          "contourcarpet": [
           {
            "colorbar": {
             "outlinewidth": 0,
             "ticks": ""
            },
            "type": "contourcarpet"
           }
          ],
          "heatmap": [
           {
            "colorbar": {
             "outlinewidth": 0,
             "ticks": ""
            },
            "colorscale": [
             [
              0,
              "#0d0887"
             ],
             [
              0.1111111111111111,
              "#46039f"
             ],
             [
              0.2222222222222222,
              "#7201a8"
             ],
             [
              0.3333333333333333,
              "#9c179e"
             ],
             [
              0.4444444444444444,
              "#bd3786"
             ],
             [
              0.5555555555555556,
              "#d8576b"
             ],
             [
              0.6666666666666666,
              "#ed7953"
             ],
             [
              0.7777777777777778,
              "#fb9f3a"
             ],
             [
              0.8888888888888888,
              "#fdca26"
             ],
             [
              1,
              "#f0f921"
             ]
            ],
            "type": "heatmap"
           }
          ],
          "heatmapgl": [
           {
            "colorbar": {
             "outlinewidth": 0,
             "ticks": ""
            },
            "colorscale": [
             [
              0,
              "#0d0887"
             ],
             [
              0.1111111111111111,
              "#46039f"
             ],
             [
              0.2222222222222222,
              "#7201a8"
             ],
             [
              0.3333333333333333,
              "#9c179e"
             ],
             [
              0.4444444444444444,
              "#bd3786"
             ],
             [
              0.5555555555555556,
              "#d8576b"
             ],
             [
              0.6666666666666666,
              "#ed7953"
             ],
             [
              0.7777777777777778,
              "#fb9f3a"
             ],
             [
              0.8888888888888888,
              "#fdca26"
             ],
             [
              1,
              "#f0f921"
             ]
            ],
            "type": "heatmapgl"
           }
          ],
          "histogram": [
           {
            "marker": {
             "colorbar": {
              "outlinewidth": 0,
              "ticks": ""
             }
            },
            "type": "histogram"
           }
          ],
          "histogram2d": [
           {
            "colorbar": {
             "outlinewidth": 0,
             "ticks": ""
            },
            "colorscale": [
             [
              0,
              "#0d0887"
             ],
             [
              0.1111111111111111,
              "#46039f"
             ],
             [
              0.2222222222222222,
              "#7201a8"
             ],
             [
              0.3333333333333333,
              "#9c179e"
             ],
             [
              0.4444444444444444,
              "#bd3786"
             ],
             [
              0.5555555555555556,
              "#d8576b"
             ],
             [
              0.6666666666666666,
              "#ed7953"
             ],
             [
              0.7777777777777778,
              "#fb9f3a"
             ],
             [
              0.8888888888888888,
              "#fdca26"
             ],
             [
              1,
              "#f0f921"
             ]
            ],
            "type": "histogram2d"
           }
          ],
          "histogram2dcontour": [
           {
            "colorbar": {
             "outlinewidth": 0,
             "ticks": ""
            },
            "colorscale": [
             [
              0,
              "#0d0887"
             ],
             [
              0.1111111111111111,
              "#46039f"
             ],
             [
              0.2222222222222222,
              "#7201a8"
             ],
             [
              0.3333333333333333,
              "#9c179e"
             ],
             [
              0.4444444444444444,
              "#bd3786"
             ],
             [
              0.5555555555555556,
              "#d8576b"
             ],
             [
              0.6666666666666666,
              "#ed7953"
             ],
             [
              0.7777777777777778,
              "#fb9f3a"
             ],
             [
              0.8888888888888888,
              "#fdca26"
             ],
             [
              1,
              "#f0f921"
             ]
            ],
            "type": "histogram2dcontour"
           }
          ],
          "mesh3d": [
           {
            "colorbar": {
             "outlinewidth": 0,
             "ticks": ""
            },
            "type": "mesh3d"
           }
          ],
          "parcoords": [
           {
            "line": {
             "colorbar": {
              "outlinewidth": 0,
              "ticks": ""
             }
            },
            "type": "parcoords"
           }
          ],
          "pie": [
           {
            "automargin": true,
            "type": "pie"
           }
          ],
          "scatter": [
           {
            "marker": {
             "colorbar": {
              "outlinewidth": 0,
              "ticks": ""
             }
            },
            "type": "scatter"
           }
          ],
          "scatter3d": [
           {
            "line": {
             "colorbar": {
              "outlinewidth": 0,
              "ticks": ""
             }
            },
            "marker": {
             "colorbar": {
              "outlinewidth": 0,
              "ticks": ""
             }
            },
            "type": "scatter3d"
           }
          ],
          "scattercarpet": [
           {
            "marker": {
             "colorbar": {
              "outlinewidth": 0,
              "ticks": ""
             }
            },
            "type": "scattercarpet"
           }
          ],
          "scattergeo": [
           {
            "marker": {
             "colorbar": {
              "outlinewidth": 0,
              "ticks": ""
             }
            },
            "type": "scattergeo"
           }
          ],
          "scattergl": [
           {
            "marker": {
             "colorbar": {
              "outlinewidth": 0,
              "ticks": ""
             }
            },
            "type": "scattergl"
           }
          ],
          "scattermapbox": [
           {
            "marker": {
             "colorbar": {
              "outlinewidth": 0,
              "ticks": ""
             }
            },
            "type": "scattermapbox"
           }
          ],
          "scatterpolar": [
           {
            "marker": {
             "colorbar": {
              "outlinewidth": 0,
              "ticks": ""
             }
            },
            "type": "scatterpolar"
           }
          ],
          "scatterpolargl": [
           {
            "marker": {
             "colorbar": {
              "outlinewidth": 0,
              "ticks": ""
             }
            },
            "type": "scatterpolargl"
           }
          ],
          "scatterternary": [
           {
            "marker": {
             "colorbar": {
              "outlinewidth": 0,
              "ticks": ""
             }
            },
            "type": "scatterternary"
           }
          ],
          "surface": [
           {
            "colorbar": {
             "outlinewidth": 0,
             "ticks": ""
            },
            "colorscale": [
             [
              0,
              "#0d0887"
             ],
             [
              0.1111111111111111,
              "#46039f"
             ],
             [
              0.2222222222222222,
              "#7201a8"
             ],
             [
              0.3333333333333333,
              "#9c179e"
             ],
             [
              0.4444444444444444,
              "#bd3786"
             ],
             [
              0.5555555555555556,
              "#d8576b"
             ],
             [
              0.6666666666666666,
              "#ed7953"
             ],
             [
              0.7777777777777778,
              "#fb9f3a"
             ],
             [
              0.8888888888888888,
              "#fdca26"
             ],
             [
              1,
              "#f0f921"
             ]
            ],
            "type": "surface"
           }
          ],
          "table": [
           {
            "cells": {
             "fill": {
              "color": "#EBF0F8"
             },
             "line": {
              "color": "white"
             }
            },
            "header": {
             "fill": {
              "color": "#C8D4E3"
             },
             "line": {
              "color": "white"
             }
            },
            "type": "table"
           }
          ]
         },
         "layout": {
          "annotationdefaults": {
           "arrowcolor": "#2a3f5f",
           "arrowhead": 0,
           "arrowwidth": 1
          },
          "coloraxis": {
           "colorbar": {
            "outlinewidth": 0,
            "ticks": ""
           }
          },
          "colorscale": {
           "diverging": [
            [
             0,
             "#8e0152"
            ],
            [
             0.1,
             "#c51b7d"
            ],
            [
             0.2,
             "#de77ae"
            ],
            [
             0.3,
             "#f1b6da"
            ],
            [
             0.4,
             "#fde0ef"
            ],
            [
             0.5,
             "#f7f7f7"
            ],
            [
             0.6,
             "#e6f5d0"
            ],
            [
             0.7,
             "#b8e186"
            ],
            [
             0.8,
             "#7fbc41"
            ],
            [
             0.9,
             "#4d9221"
            ],
            [
             1,
             "#276419"
            ]
           ],
           "sequential": [
            [
             0,
             "#0d0887"
            ],
            [
             0.1111111111111111,
             "#46039f"
            ],
            [
             0.2222222222222222,
             "#7201a8"
            ],
            [
             0.3333333333333333,
             "#9c179e"
            ],
            [
             0.4444444444444444,
             "#bd3786"
            ],
            [
             0.5555555555555556,
             "#d8576b"
            ],
            [
             0.6666666666666666,
             "#ed7953"
            ],
            [
             0.7777777777777778,
             "#fb9f3a"
            ],
            [
             0.8888888888888888,
             "#fdca26"
            ],
            [
             1,
             "#f0f921"
            ]
           ],
           "sequentialminus": [
            [
             0,
             "#0d0887"
            ],
            [
             0.1111111111111111,
             "#46039f"
            ],
            [
             0.2222222222222222,
             "#7201a8"
            ],
            [
             0.3333333333333333,
             "#9c179e"
            ],
            [
             0.4444444444444444,
             "#bd3786"
            ],
            [
             0.5555555555555556,
             "#d8576b"
            ],
            [
             0.6666666666666666,
             "#ed7953"
            ],
            [
             0.7777777777777778,
             "#fb9f3a"
            ],
            [
             0.8888888888888888,
             "#fdca26"
            ],
            [
             1,
             "#f0f921"
            ]
           ]
          },
          "colorway": [
           "#636efa",
           "#EF553B",
           "#00cc96",
           "#ab63fa",
           "#FFA15A",
           "#19d3f3",
           "#FF6692",
           "#B6E880",
           "#FF97FF",
           "#FECB52"
          ],
          "font": {
           "color": "#2a3f5f"
          },
          "geo": {
           "bgcolor": "white",
           "lakecolor": "white",
           "landcolor": "#E5ECF6",
           "showlakes": true,
           "showland": true,
           "subunitcolor": "white"
          },
          "hoverlabel": {
           "align": "left"
          },
          "hovermode": "closest",
          "mapbox": {
           "style": "light"
          },
          "paper_bgcolor": "white",
          "plot_bgcolor": "#E5ECF6",
          "polar": {
           "angularaxis": {
            "gridcolor": "white",
            "linecolor": "white",
            "ticks": ""
           },
           "bgcolor": "#E5ECF6",
           "radialaxis": {
            "gridcolor": "white",
            "linecolor": "white",
            "ticks": ""
           }
          },
          "scene": {
           "xaxis": {
            "backgroundcolor": "#E5ECF6",
            "gridcolor": "white",
            "gridwidth": 2,
            "linecolor": "white",
            "showbackground": true,
            "ticks": "",
            "zerolinecolor": "white"
           },
           "yaxis": {
            "backgroundcolor": "#E5ECF6",
            "gridcolor": "white",
            "gridwidth": 2,
            "linecolor": "white",
            "showbackground": true,
            "ticks": "",
            "zerolinecolor": "white"
           },
           "zaxis": {
            "backgroundcolor": "#E5ECF6",
            "gridcolor": "white",
            "gridwidth": 2,
            "linecolor": "white",
            "showbackground": true,
            "ticks": "",
            "zerolinecolor": "white"
           }
          },
          "shapedefaults": {
           "line": {
            "color": "#2a3f5f"
           }
          },
          "ternary": {
           "aaxis": {
            "gridcolor": "white",
            "linecolor": "white",
            "ticks": ""
           },
           "baxis": {
            "gridcolor": "white",
            "linecolor": "white",
            "ticks": ""
           },
           "bgcolor": "#E5ECF6",
           "caxis": {
            "gridcolor": "white",
            "linecolor": "white",
            "ticks": ""
           }
          },
          "title": {
           "x": 0.05
          },
          "xaxis": {
           "automargin": true,
           "gridcolor": "white",
           "linecolor": "white",
           "ticks": "",
           "title": {
            "standoff": 15
           },
           "zerolinecolor": "white",
           "zerolinewidth": 2
          },
          "yaxis": {
           "automargin": true,
           "gridcolor": "white",
           "linecolor": "white",
           "ticks": "",
           "title": {
            "standoff": 15
           },
           "zerolinecolor": "white",
           "zerolinewidth": 2
          }
         }
        },
        "xaxis": {
         "anchor": "y",
         "autorange": true,
         "domain": [
          0,
          1
         ],
         "range": [
          2008,
          2020
         ],
         "title": {
          "text": "Year"
         },
         "type": "linear"
        },
        "yaxis": {
         "anchor": "x",
         "autorange": true,
         "domain": [
          0,
          1
         ],
         "range": [
          -6.204353893947577,
          3.9033238982835954
         ],
         "title": {
          "text": "Conductivity [S/cm<sup>2</sup>]"
         },
         "type": "log"
        }
       }
      },
      "image/png": "[encoded data removed]",
      "text/html": [
       "<div>\n",
       "        \n",
       "        \n",
       "            <div id=\"58659633-93f1-44ac-9998-abf865d2be0f\" class=\"plotly-graph-div\" style=\"height:525px; width:100%;\"></div>\n",
       "            <script type=\"text/javascript\">\n",
       "                require([\"plotly\"], function(Plotly) {\n",
       "                    window.PLOTLYENV=window.PLOTLYENV || {};\n",
       "                    \n",
       "                if (document.getElementById(\"58659633-93f1-44ac-9998-abf865d2be0f\")) {\n",
       "                    Plotly.newPlot(\n",
       "                        '58659633-93f1-44ac-9998-abf865d2be0f',\n",
       "                        [{\"customdata\": [[\"3D\", 0.001], [\"3D\", 0.001], [\"3D\", 0.001], [\"3D\", 450.0], [\"3D\", 54.0], [\"3D\", 214.0], [\"3D\", 0.001], [\"3D\", 614.0], [\"3D\", 3.0]], \"hovertemplate\": \"<b>%{hovertext}</b><br><br>Dimensionality=%{customdata[0]}                                 <br>Year=%{x}<br>Value=%{y} S/cm<sup>2</sup>                                 <br>Porosity=%{customdata[1]} m<sup>2</sup>/g<extra></extra>\", \"hovertext\": [\"Pb3(BHT)\", \"Cu[Cu(pdt)2]\", \"I2@Zn3(lac)2(pybz)2\", \"Fe(1,2,3-triazolate) (oxidized)\", \"Fe2DSBDC\", \"TCNQ@Cu3(BTC)2\", \"Fe2(dhbq)3\", \"Fe2(BDT)3 (oxidized)\", \"Cu2(6-Hmna)(6-mn)\"], \"legendgroup\": \"3D\", \"line\": {\"color\": \"#636efa\", \"dash\": \"solid\"}, \"mode\": \"lines\", \"name\": \"3D\", \"orientation\": \"v\", \"showlegend\": true, \"type\": \"scatter\", \"x\": [2008, 2009, 2010, 2012, 2013, 2014, 2015, 2018, 2019], \"xaxis\": \"x\", \"y\": [2e-06, 0.0006, 0.0034, 7.7e-05, 3.9e-06, 0.07, 0.16, 1.2, 10.96], \"yaxis\": \"y\"}, {\"customdata\": [[\"2D layered\", 306.0], [\"2D layered\", 0.001], [\"2D layered\", 0.001], [\"2D layered\", 0.001], [\"2D layered\", 114.0], [\"2D layered\", 210.0], [\"2D layered\", 2298.0], [\"2D layered\", 280.0]], \"hovertemplate\": \"<b>%{hovertext}</b><br><br>Dimensionality=%{customdata[0]}                                 <br>Year=%{x}<br>Value=%{y} S/cm<sup>2</sup>                                 <br>Porosity=%{customdata[1]} m<sup>2</sup>/g<extra></extra>\", \"hovertext\": [\"Cu3(HOTP)2\", \"Ni3(BHT)2\", \"Ni3(BHT)2 oxidized\", \"Cu3(BHT)\", \"Cu3(HIB)2\", \"Fe3(PTC)\", \"(Mn/Fe)3(HIB)2\", \"Co3(HITP)2\"], \"legendgroup\": \"2D layered\", \"line\": {\"color\": \"#EF553B\", \"dash\": \"solid\"}, \"mode\": \"lines\", \"name\": \"2D layered\", \"orientation\": \"v\", \"showlegend\": true, \"type\": \"scatter\", \"x\": [2012, 2013, 2014, 2015, 2017, 2018, 2019, 2020], \"xaxis\": \"x\", \"y\": [0.1, 0.15, 150.0, 2500.0, 13.0, 10.0, 359.0, 11.5], \"yaxis\": \"y\"}],\n",
       "                        {\"legend\": {\"title\": {\"text\": \"Dimensionality\"}, \"tracegroupgap\": 0}, \"margin\": {\"t\": 60}, \"template\": {\"data\": {\"bar\": [{\"error_x\": {\"color\": \"#2a3f5f\"}, \"error_y\": {\"color\": \"#2a3f5f\"}, \"marker\": {\"line\": {\"color\": \"#E5ECF6\", \"width\": 0.5}}, \"type\": \"bar\"}], \"barpolar\": [{\"marker\": {\"line\": {\"color\": \"#E5ECF6\", \"width\": 0.5}}, \"type\": \"barpolar\"}], \"carpet\": [{\"aaxis\": {\"endlinecolor\": \"#2a3f5f\", \"gridcolor\": \"white\", \"linecolor\": \"white\", \"minorgridcolor\": \"white\", \"startlinecolor\": \"#2a3f5f\"}, \"baxis\": {\"endlinecolor\": \"#2a3f5f\", \"gridcolor\": \"white\", \"linecolor\": \"white\", \"minorgridcolor\": \"white\", \"startlinecolor\": \"#2a3f5f\"}, \"type\": \"carpet\"}], \"choropleth\": [{\"colorbar\": {\"outlinewidth\": 0, \"ticks\": \"\"}, \"type\": \"choropleth\"}], \"contour\": [{\"colorbar\": {\"outlinewidth\": 0, \"ticks\": \"\"}, \"colorscale\": [[0.0, \"#0d0887\"], [0.1111111111111111, \"#46039f\"], [0.2222222222222222, \"#7201a8\"], [0.3333333333333333, \"#9c179e\"], [0.4444444444444444, \"#bd3786\"], [0.5555555555555556, \"#d8576b\"], [0.6666666666666666, \"#ed7953\"], [0.7777777777777778, \"#fb9f3a\"], [0.8888888888888888, \"#fdca26\"], [1.0, \"#f0f921\"]], \"type\": \"contour\"}], \"contourcarpet\": [{\"colorbar\": {\"outlinewidth\": 0, \"ticks\": \"\"}, \"type\": \"contourcarpet\"}], \"heatmap\": [{\"colorbar\": {\"outlinewidth\": 0, \"ticks\": \"\"}, \"colorscale\": [[0.0, \"#0d0887\"], [0.1111111111111111, \"#46039f\"], [0.2222222222222222, \"#7201a8\"], [0.3333333333333333, \"#9c179e\"], [0.4444444444444444, \"#bd3786\"], [0.5555555555555556, \"#d8576b\"], [0.6666666666666666, \"#ed7953\"], [0.7777777777777778, \"#fb9f3a\"], [0.8888888888888888, \"#fdca26\"], [1.0, \"#f0f921\"]], \"type\": \"heatmap\"}], \"heatmapgl\": [{\"colorbar\": {\"outlinewidth\": 0, \"ticks\": \"\"}, \"colorscale\": [[0.0, \"#0d0887\"], [0.1111111111111111, \"#46039f\"], [0.2222222222222222, \"#7201a8\"], [0.3333333333333333, \"#9c179e\"], [0.4444444444444444, \"#bd3786\"], [0.5555555555555556, \"#d8576b\"], [0.6666666666666666, \"#ed7953\"], [0.7777777777777778, \"#fb9f3a\"], [0.8888888888888888, \"#fdca26\"], [1.0, \"#f0f921\"]], \"type\": \"heatmapgl\"}], \"histogram\": [{\"marker\": {\"colorbar\": {\"outlinewidth\": 0, \"ticks\": \"\"}}, \"type\": \"histogram\"}], \"histogram2d\": [{\"colorbar\": {\"outlinewidth\": 0, \"ticks\": \"\"}, \"colorscale\": [[0.0, \"#0d0887\"], [0.1111111111111111, \"#46039f\"], [0.2222222222222222, \"#7201a8\"], [0.3333333333333333, \"#9c179e\"], [0.4444444444444444, \"#bd3786\"], [0.5555555555555556, \"#d8576b\"], [0.6666666666666666, \"#ed7953\"], [0.7777777777777778, \"#fb9f3a\"], [0.8888888888888888, \"#fdca26\"], [1.0, \"#f0f921\"]], \"type\": \"histogram2d\"}], \"histogram2dcontour\": [{\"colorbar\": {\"outlinewidth\": 0, \"ticks\": \"\"}, \"colorscale\": [[0.0, \"#0d0887\"], [0.1111111111111111, \"#46039f\"], [0.2222222222222222, \"#7201a8\"], [0.3333333333333333, \"#9c179e\"], [0.4444444444444444, \"#bd3786\"], [0.5555555555555556, \"#d8576b\"], [0.6666666666666666, \"#ed7953\"], [0.7777777777777778, \"#fb9f3a\"], [0.8888888888888888, \"#fdca26\"], [1.0, \"#f0f921\"]], \"type\": \"histogram2dcontour\"}], \"mesh3d\": [{\"colorbar\": {\"outlinewidth\": 0, \"ticks\": \"\"}, \"type\": \"mesh3d\"}], \"parcoords\": [{\"line\": {\"colorbar\": {\"outlinewidth\": 0, \"ticks\": \"\"}}, \"type\": \"parcoords\"}], \"pie\": [{\"automargin\": true, \"type\": \"pie\"}], \"scatter\": [{\"marker\": {\"colorbar\": {\"outlinewidth\": 0, \"ticks\": \"\"}}, \"type\": \"scatter\"}], \"scatter3d\": [{\"line\": {\"colorbar\": {\"outlinewidth\": 0, \"ticks\": \"\"}}, \"marker\": {\"colorbar\": {\"outlinewidth\": 0, \"ticks\": \"\"}}, \"type\": \"scatter3d\"}], \"scattercarpet\": [{\"marker\": {\"colorbar\": {\"outlinewidth\": 0, \"ticks\": \"\"}}, \"type\": \"scattercarpet\"}], \"scattergeo\": [{\"marker\": {\"colorbar\": {\"outlinewidth\": 0, \"ticks\": \"\"}}, \"type\": \"scattergeo\"}], \"scattergl\": [{\"marker\": {\"colorbar\": {\"outlinewidth\": 0, \"ticks\": \"\"}}, \"type\": \"scattergl\"}], \"scattermapbox\": [{\"marker\": {\"colorbar\": {\"outlinewidth\": 0, \"ticks\": \"\"}}, \"type\": \"scattermapbox\"}], \"scatterpolar\": [{\"marker\": {\"colorbar\": {\"outlinewidth\": 0, \"ticks\": \"\"}}, \"type\": \"scatterpolar\"}], \"scatterpolargl\": [{\"marker\": {\"colorbar\": {\"outlinewidth\": 0, \"ticks\": \"\"}}, \"type\": \"scatterpolargl\"}], \"scatterternary\": [{\"marker\": {\"colorbar\": {\"outlinewidth\": 0, \"ticks\": \"\"}}, \"type\": \"scatterternary\"}], \"surface\": [{\"colorbar\": {\"outlinewidth\": 0, \"ticks\": \"\"}, \"colorscale\": [[0.0, \"#0d0887\"], [0.1111111111111111, \"#46039f\"], [0.2222222222222222, \"#7201a8\"], [0.3333333333333333, \"#9c179e\"], [0.4444444444444444, \"#bd3786\"], [0.5555555555555556, \"#d8576b\"], [0.6666666666666666, \"#ed7953\"], [0.7777777777777778, \"#fb9f3a\"], [0.8888888888888888, \"#fdca26\"], [1.0, \"#f0f921\"]], \"type\": \"surface\"}], \"table\": [{\"cells\": {\"fill\": {\"color\": \"#EBF0F8\"}, \"line\": {\"color\": \"white\"}}, \"header\": {\"fill\": {\"color\": \"#C8D4E3\"}, \"line\": {\"color\": \"white\"}}, \"type\": \"table\"}]}, \"layout\": {\"annotationdefaults\": {\"arrowcolor\": \"#2a3f5f\", \"arrowhead\": 0, \"arrowwidth\": 1}, \"coloraxis\": {\"colorbar\": {\"outlinewidth\": 0, \"ticks\": \"\"}}, \"colorscale\": {\"diverging\": [[0, \"#8e0152\"], [0.1, \"#c51b7d\"], [0.2, \"#de77ae\"], [0.3, \"#f1b6da\"], [0.4, \"#fde0ef\"], [0.5, \"#f7f7f7\"], [0.6, \"#e6f5d0\"], [0.7, \"#b8e186\"], [0.8, \"#7fbc41\"], [0.9, \"#4d9221\"], [1, \"#276419\"]], \"sequential\": [[0.0, \"#0d0887\"], [0.1111111111111111, \"#46039f\"], [0.2222222222222222, \"#7201a8\"], [0.3333333333333333, \"#9c179e\"], [0.4444444444444444, \"#bd3786\"], [0.5555555555555556, \"#d8576b\"], [0.6666666666666666, \"#ed7953\"], [0.7777777777777778, \"#fb9f3a\"], [0.8888888888888888, \"#fdca26\"], [1.0, \"#f0f921\"]], \"sequentialminus\": [[0.0, \"#0d0887\"], [0.1111111111111111, \"#46039f\"], [0.2222222222222222, \"#7201a8\"], [0.3333333333333333, \"#9c179e\"], [0.4444444444444444, \"#bd3786\"], [0.5555555555555556, \"#d8576b\"], [0.6666666666666666, \"#ed7953\"], [0.7777777777777778, \"#fb9f3a\"], [0.8888888888888888, \"#fdca26\"], [1.0, \"#f0f921\"]]}, \"colorway\": [\"#636efa\", \"#EF553B\", \"#00cc96\", \"#ab63fa\", \"#FFA15A\", \"#19d3f3\", \"#FF6692\", \"#B6E880\", \"#FF97FF\", \"#FECB52\"], \"font\": {\"color\": \"#2a3f5f\"}, \"geo\": {\"bgcolor\": \"white\", \"lakecolor\": \"white\", \"landcolor\": \"#E5ECF6\", \"showlakes\": true, \"showland\": true, \"subunitcolor\": \"white\"}, \"hoverlabel\": {\"align\": \"left\"}, \"hovermode\": \"closest\", \"mapbox\": {\"style\": \"light\"}, \"paper_bgcolor\": \"white\", \"plot_bgcolor\": \"#E5ECF6\", \"polar\": {\"angularaxis\": {\"gridcolor\": \"white\", \"linecolor\": \"white\", \"ticks\": \"\"}, \"bgcolor\": \"#E5ECF6\", \"radialaxis\": {\"gridcolor\": \"white\", \"linecolor\": \"white\", \"ticks\": \"\"}}, \"scene\": {\"xaxis\": {\"backgroundcolor\": \"#E5ECF6\", \"gridcolor\": \"white\", \"gridwidth\": 2, \"linecolor\": \"white\", \"showbackground\": true, \"ticks\": \"\", \"zerolinecolor\": \"white\"}, \"yaxis\": {\"backgroundcolor\": \"#E5ECF6\", \"gridcolor\": \"white\", \"gridwidth\": 2, \"linecolor\": \"white\", \"showbackground\": true, \"ticks\": \"\", \"zerolinecolor\": \"white\"}, \"zaxis\": {\"backgroundcolor\": \"#E5ECF6\", \"gridcolor\": \"white\", \"gridwidth\": 2, \"linecolor\": \"white\", \"showbackground\": true, \"ticks\": \"\", \"zerolinecolor\": \"white\"}}, \"shapedefaults\": {\"line\": {\"color\": \"#2a3f5f\"}}, \"ternary\": {\"aaxis\": {\"gridcolor\": \"white\", \"linecolor\": \"white\", \"ticks\": \"\"}, \"baxis\": {\"gridcolor\": \"white\", \"linecolor\": \"white\", \"ticks\": \"\"}, \"bgcolor\": \"#E5ECF6\", \"caxis\": {\"gridcolor\": \"white\", \"linecolor\": \"white\", \"ticks\": \"\"}}, \"title\": {\"x\": 0.05}, \"xaxis\": {\"automargin\": true, \"gridcolor\": \"white\", \"linecolor\": \"white\", \"ticks\": \"\", \"title\": {\"standoff\": 15}, \"zerolinecolor\": \"white\", \"zerolinewidth\": 2}, \"yaxis\": {\"automargin\": true, \"gridcolor\": \"white\", \"linecolor\": \"white\", \"ticks\": \"\", \"title\": {\"standoff\": 15}, \"zerolinecolor\": \"white\", \"zerolinewidth\": 2}}}, \"xaxis\": {\"anchor\": \"y\", \"domain\": [0.0, 1.0], \"title\": {\"text\": \"Year\"}}, \"yaxis\": {\"anchor\": \"x\", \"domain\": [0.0, 1.0], \"title\": {\"text\": \"Conductivity [S/cm<sup>2</sup>]\"}, \"type\": \"log\"}},\n",
       "                        {\"responsive\": true}\n",
       "                    ).then(function(){\n",
       "                            \n",
       "var gd = document.getElementById('58659633-93f1-44ac-9998-abf865d2be0f');\n",
       "var x = new MutationObserver(function (mutations, observer) {{\n",
       "        var display = window.getComputedStyle(gd).display;\n",
       "        if (!display || display === 'none') {{\n",
       "            console.log([gd, 'removed!']);\n",
       "            Plotly.purge(gd);\n",
       "            observer.disconnect();\n",
       "        }}\n",
       "}});\n",
       "\n",
       "// Listen for the removal of the full notebook cells\n",
       "var notebookContainer = gd.closest('#notebook-container');\n",
       "if (notebookContainer) {{\n",
       "    x.observe(notebookContainer, {childList: true});\n",
       "}}\n",
       "\n",
       "// Listen for the clearing of the current output cell\n",
       "var outputEl = gd.closest('.output');\n",
       "if (outputEl) {{\n",
       "    x.observe(outputEl, {childList: true});\n",
       "}}\n",
       "\n",
       "                        })\n",
       "                };\n",
       "                });\n",
       "            </script>\n",
       "        </div>"
      ]
     },
     "metadata": {},
     "output_type": "display_data"
    }
   ],
   "source": [
    "mofs_sorted_2D = mofs.loc[mofs[mofs['Dimensionality']=='2D layered'].groupby('Year')['Value'].idxmax()]\n",
    "mofs_sorted_3D = mofs.loc[mofs[mofs['Dimensionality']=='3D'].groupby('Year')['Value'].idxmax()]\n",
    "mofs_sorted = pd.concat([mofs_sorted_3D, mofs_sorted_2D], ignore_index=True)\n",
    "fig2 = px.line(mofs_sorted, x='Year', y='Value', color='Dimensionality', hover_data=['Dimensionality','Porosity'], \n",
    "                 labels={'Value': \"Conductivity [S/cm<sup>2</sup>]\"}, hover_name='Name')\n",
    "fig2.update_traces(hovertemplate='<b>%{hovertext}</b><br><br>Dimensionality=%{customdata[0]}\\\n",
    "                                 <br>Year=%{x}<br>Value=%{y} S/cm<sup>2</sup>\\\n",
    "                                 <br>Porosity=%{customdata[1]} m<sup>2</sup>/g<extra></extra>')\n",
    "fig2.update_layout(yaxis_type=\"log\")\n",
    "fig2.show()"
   ]
  },
  {
   "cell_type": "code",
   "execution_count": 21,
   "metadata": {},
   "outputs": [
    {
     "data": {
      "application/vnd.plotly.v1+json": {
       "config": {
        "plotlyServerURL": "https://plotly.com"
       },
       "data": [
        {
         "customdata": [
          [
           "3D",
           0.001
          ],
          [
           "3D",
           0.001
          ],
          [
           "3D",
           0.001
          ],
          [
           "3D",
           0.001
          ],
          [
           "3D",
           0.001
          ],
          [
           "3D",
           214
          ],
          [
           "3D",
           0.001
          ],
          [
           "3D",
           614
          ],
          [
           "3D",
           3
          ]
         ],
         "hovertemplate": "<b>%{hovertext}</b><br><br>Dimensionality=%{customdata[0]}                                 <br>Year=%{x}<br>Value=%{y} S/cm<sup>2</sup>                                 <br>Porosity=%{customdata[1]} m<sup>2</sup>/g<extra></extra>",
         "hovertext": [
          "Pb3(BHT)",
          "Cu[Cu(pdt)2]",
          "I2@Zn3(lac)2(pybz)2",
          "I2@Zn3(lac)2(pybz)2",
          "I2@Zn3(lac)2(pybz)2",
          "TCNQ@Cu3(BTC)2",
          "Fe2(dhbq)3",
          "Fe2(BDT)3 (oxidized)",
          "Cu2(6-Hmna)(6-mn)"
         ],
         "legendgroup": "3D",
         "line": {
          "color": "#636efa",
          "dash": "solid"
         },
         "mode": "lines",
         "name": "3D",
         "orientation": "v",
         "showlegend": true,
         "type": "scatter",
         "x": [
          2008,
          2009,
          2010,
          2012,
          2013,
          2014,
          2015,
          2018,
          2019
         ],
         "xaxis": "x",
         "y": [
          2e-06,
          0.0006,
          0.0034,
          0.0034,
          0.0034,
          0.07,
          0.16,
          1.2,
          10.96
         ],
         "yaxis": "y"
        },
        {
         "customdata": [
          [
           "2D layered",
           306
          ],
          [
           "2D layered",
           0.001
          ],
          [
           "2D layered",
           0.001
          ],
          [
           "2D layered",
           0.001
          ],
          [
           "2D layered",
           0.001
          ],
          [
           "2D layered",
           0.001
          ],
          [
           "2D layered",
           0.001
          ],
          [
           "2D layered",
           0.001
          ]
         ],
         "hovertemplate": "<b>%{hovertext}</b><br><br>Dimensionality=%{customdata[0]}                                 <br>Year=%{x}<br>Value=%{y} S/cm<sup>2</sup>                                 <br>Porosity=%{customdata[1]} m<sup>2</sup>/g<extra></extra>",
         "hovertext": [
          "Cu3(HOTP)2",
          "Ni3(BHT)2",
          "Ni3(BHT)2 oxidized",
          "Cu3(BHT)",
          "Cu3(BHT)",
          "Cu3(BHT)",
          "Cu3(BHT)",
          "Cu3(BHT)"
         ],
         "legendgroup": "2D layered",
         "line": {
          "color": "#EF553B",
          "dash": "solid"
         },
         "mode": "lines",
         "name": "2D layered",
         "orientation": "v",
         "showlegend": true,
         "type": "scatter",
         "x": [
          2012,
          2013,
          2014,
          2015,
          2017,
          2018,
          2019,
          2020
         ],
         "xaxis": "x",
         "y": [
          0.1,
          0.15,
          150,
          2500,
          2500,
          2500,
          2500,
          2500
         ],
         "yaxis": "y"
        }
       ],
       "layout": {
        "autosize": true,
        "legend": {
         "title": {
          "text": "Dimensionality"
         },
         "tracegroupgap": 0
        },
        "margin": {
         "t": 60
        },
        "template": {
         "data": {
          "bar": [
           {
            "error_x": {
             "color": "#2a3f5f"
            },
            "error_y": {
             "color": "#2a3f5f"
            },
            "marker": {
             "line": {
              "color": "#E5ECF6",
              "width": 0.5
             }
            },
            "type": "bar"
           }
          ],
          "barpolar": [
           {
            "marker": {
             "line": {
              "color": "#E5ECF6",
              "width": 0.5
             }
            },
            "type": "barpolar"
           }
          ],
          "carpet": [
           {
            "aaxis": {
             "endlinecolor": "#2a3f5f",
             "gridcolor": "white",
             "linecolor": "white",
             "minorgridcolor": "white",
             "startlinecolor": "#2a3f5f"
            },
            "baxis": {
             "endlinecolor": "#2a3f5f",
             "gridcolor": "white",
             "linecolor": "white",
             "minorgridcolor": "white",
             "startlinecolor": "#2a3f5f"
            },
            "type": "carpet"
           }
          ],
          "choropleth": [
           {
            "colorbar": {
             "outlinewidth": 0,
             "ticks": ""
            },
            "type": "choropleth"
           }
          ],
          "contour": [
           {
            "colorbar": {
             "outlinewidth": 0,
             "ticks": ""
            },
            "colorscale": [
             [
              0,
              "#0d0887"
             ],
             [
              0.1111111111111111,
              "#46039f"
             ],
             [
              0.2222222222222222,
              "#7201a8"
             ],
             [
              0.3333333333333333,
              "#9c179e"
             ],
             [
              0.4444444444444444,
              "#bd3786"
             ],
             [
              0.5555555555555556,
              "#d8576b"
             ],
             [
              0.6666666666666666,
              "#ed7953"
             ],
             [
              0.7777777777777778,
              "#fb9f3a"
             ],
             [
              0.8888888888888888,
              "#fdca26"
             ],
             [
              1,
              "#f0f921"
             ]
            ],
            "type": "contour"
           }
          ],
          "contourcarpet": [
           {
            "colorbar": {
             "outlinewidth": 0,
             "ticks": ""
            },
            "type": "contourcarpet"
           }
          ],
          "heatmap": [
           {
            "colorbar": {
             "outlinewidth": 0,
             "ticks": ""
            },
            "colorscale": [
             [
              0,
              "#0d0887"
             ],
             [
              0.1111111111111111,
              "#46039f"
             ],
             [
              0.2222222222222222,
              "#7201a8"
             ],
             [
              0.3333333333333333,
              "#9c179e"
             ],
             [
              0.4444444444444444,
              "#bd3786"
             ],
             [
              0.5555555555555556,
              "#d8576b"
             ],
             [
              0.6666666666666666,
              "#ed7953"
             ],
             [
              0.7777777777777778,
              "#fb9f3a"
             ],
             [
              0.8888888888888888,
              "#fdca26"
             ],
             [
              1,
              "#f0f921"
             ]
            ],
            "type": "heatmap"
           }
          ],
          "heatmapgl": [
           {
            "colorbar": {
             "outlinewidth": 0,
             "ticks": ""
            },
            "colorscale": [
             [
              0,
              "#0d0887"
             ],
             [
              0.1111111111111111,
              "#46039f"
             ],
             [
              0.2222222222222222,
              "#7201a8"
             ],
             [
              0.3333333333333333,
              "#9c179e"
             ],
             [
              0.4444444444444444,
              "#bd3786"
             ],
             [
              0.5555555555555556,
              "#d8576b"
             ],
             [
              0.6666666666666666,
              "#ed7953"
             ],
             [
              0.7777777777777778,
              "#fb9f3a"
             ],
             [
              0.8888888888888888,
              "#fdca26"
             ],
             [
              1,
              "#f0f921"
             ]
            ],
            "type": "heatmapgl"
           }
          ],
          "histogram": [
           {
            "marker": {
             "colorbar": {
              "outlinewidth": 0,
              "ticks": ""
             }
            },
            "type": "histogram"
           }
          ],
          "histogram2d": [
           {
            "colorbar": {
             "outlinewidth": 0,
             "ticks": ""
            },
            "colorscale": [
             [
              0,
              "#0d0887"
             ],
             [
              0.1111111111111111,
              "#46039f"
             ],
             [
              0.2222222222222222,
              "#7201a8"
             ],
             [
              0.3333333333333333,
              "#9c179e"
             ],
             [
              0.4444444444444444,
              "#bd3786"
             ],
             [
              0.5555555555555556,
              "#d8576b"
             ],
             [
              0.6666666666666666,
              "#ed7953"
             ],
             [
              0.7777777777777778,
              "#fb9f3a"
             ],
             [
              0.8888888888888888,
              "#fdca26"
             ],
             [
              1,
              "#f0f921"
             ]
            ],
            "type": "histogram2d"
           }
          ],
          "histogram2dcontour": [
           {
            "colorbar": {
             "outlinewidth": 0,
             "ticks": ""
            },
            "colorscale": [
             [
              0,
              "#0d0887"
             ],
             [
              0.1111111111111111,
              "#46039f"
             ],
             [
              0.2222222222222222,
              "#7201a8"
             ],
             [
              0.3333333333333333,
              "#9c179e"
             ],
             [
              0.4444444444444444,
              "#bd3786"
             ],
             [
              0.5555555555555556,
              "#d8576b"
             ],
             [
              0.6666666666666666,
              "#ed7953"
             ],
             [
              0.7777777777777778,
              "#fb9f3a"
             ],
             [
              0.8888888888888888,
              "#fdca26"
             ],
             [
              1,
              "#f0f921"
             ]
            ],
            "type": "histogram2dcontour"
           }
          ],
          "mesh3d": [
           {
            "colorbar": {
             "outlinewidth": 0,
             "ticks": ""
            },
            "type": "mesh3d"
           }
          ],
          "parcoords": [
           {
            "line": {
             "colorbar": {
              "outlinewidth": 0,
              "ticks": ""
             }
            },
            "type": "parcoords"
           }
          ],
          "pie": [
           {
            "automargin": true,
            "type": "pie"
           }
          ],
          "scatter": [
           {
            "marker": {
             "colorbar": {
              "outlinewidth": 0,
              "ticks": ""
             }
            },
            "type": "scatter"
           }
          ],
          "scatter3d": [
           {
            "line": {
             "colorbar": {
              "outlinewidth": 0,
              "ticks": ""
             }
            },
            "marker": {
             "colorbar": {
              "outlinewidth": 0,
              "ticks": ""
             }
            },
            "type": "scatter3d"
           }
          ],
          "scattercarpet": [
           {
            "marker": {
             "colorbar": {
              "outlinewidth": 0,
              "ticks": ""
             }
            },
            "type": "scattercarpet"
           }
          ],
          "scattergeo": [
           {
            "marker": {
             "colorbar": {
              "outlinewidth": 0,
              "ticks": ""
             }
            },
            "type": "scattergeo"
           }
          ],
          "scattergl": [
           {
            "marker": {
             "colorbar": {
              "outlinewidth": 0,
              "ticks": ""
             }
            },
            "type": "scattergl"
           }
          ],
          "scattermapbox": [
           {
            "marker": {
             "colorbar": {
              "outlinewidth": 0,
              "ticks": ""
             }
            },
            "type": "scattermapbox"
           }
          ],
          "scatterpolar": [
           {
            "marker": {
             "colorbar": {
              "outlinewidth": 0,
              "ticks": ""
             }
            },
            "type": "scatterpolar"
           }
          ],
          "scatterpolargl": [
           {
            "marker": {
             "colorbar": {
              "outlinewidth": 0,
              "ticks": ""
             }
            },
            "type": "scatterpolargl"
           }
          ],
          "scatterternary": [
           {
            "marker": {
             "colorbar": {
              "outlinewidth": 0,
              "ticks": ""
             }
            },
            "type": "scatterternary"
           }
          ],
          "surface": [
           {
            "colorbar": {
             "outlinewidth": 0,
             "ticks": ""
            },
            "colorscale": [
             [
              0,
              "#0d0887"
             ],
             [
              0.1111111111111111,
              "#46039f"
             ],
             [
              0.2222222222222222,
              "#7201a8"
             ],
             [
              0.3333333333333333,
              "#9c179e"
             ],
             [
              0.4444444444444444,
              "#bd3786"
             ],
             [
              0.5555555555555556,
              "#d8576b"
             ],
             [
              0.6666666666666666,
              "#ed7953"
             ],
             [
              0.7777777777777778,
              "#fb9f3a"
             ],
             [
              0.8888888888888888,
              "#fdca26"
             ],
             [
              1,
              "#f0f921"
             ]
            ],
            "type": "surface"
           }
          ],
          "table": [
           {
            "cells": {
             "fill": {
              "color": "#EBF0F8"
             },
             "line": {
              "color": "white"
             }
            },
            "header": {
             "fill": {
              "color": "#C8D4E3"
             },
             "line": {
              "color": "white"
             }
            },
            "type": "table"
           }
          ]
         },
         "layout": {
          "annotationdefaults": {
           "arrowcolor": "#2a3f5f",
           "arrowhead": 0,
           "arrowwidth": 1
          },
          "coloraxis": {
           "colorbar": {
            "outlinewidth": 0,
            "ticks": ""
           }
          },
          "colorscale": {
           "diverging": [
            [
             0,
             "#8e0152"
            ],
            [
             0.1,
             "#c51b7d"
            ],
            [
             0.2,
             "#de77ae"
            ],
            [
             0.3,
             "#f1b6da"
            ],
            [
             0.4,
             "#fde0ef"
            ],
            [
             0.5,
             "#f7f7f7"
            ],
            [
             0.6,
             "#e6f5d0"
            ],
            [
             0.7,
             "#b8e186"
            ],
            [
             0.8,
             "#7fbc41"
            ],
            [
             0.9,
             "#4d9221"
            ],
            [
             1,
             "#276419"
            ]
           ],
           "sequential": [
            [
             0,
             "#0d0887"
            ],
            [
             0.1111111111111111,
             "#46039f"
            ],
            [
             0.2222222222222222,
             "#7201a8"
            ],
            [
             0.3333333333333333,
             "#9c179e"
            ],
            [
             0.4444444444444444,
             "#bd3786"
            ],
            [
             0.5555555555555556,
             "#d8576b"
            ],
            [
             0.6666666666666666,
             "#ed7953"
            ],
            [
             0.7777777777777778,
             "#fb9f3a"
            ],
            [
             0.8888888888888888,
             "#fdca26"
            ],
            [
             1,
             "#f0f921"
            ]
           ],
           "sequentialminus": [
            [
             0,
             "#0d0887"
            ],
            [
             0.1111111111111111,
             "#46039f"
            ],
            [
             0.2222222222222222,
             "#7201a8"
            ],
            [
             0.3333333333333333,
             "#9c179e"
            ],
            [
             0.4444444444444444,
             "#bd3786"
            ],
            [
             0.5555555555555556,
             "#d8576b"
            ],
            [
             0.6666666666666666,
             "#ed7953"
            ],
            [
             0.7777777777777778,
             "#fb9f3a"
            ],
            [
             0.8888888888888888,
             "#fdca26"
            ],
            [
             1,
             "#f0f921"
            ]
           ]
          },
          "colorway": [
           "#636efa",
           "#EF553B",
           "#00cc96",
           "#ab63fa",
           "#FFA15A",
           "#19d3f3",
           "#FF6692",
           "#B6E880",
           "#FF97FF",
           "#FECB52"
          ],
          "font": {
           "color": "#2a3f5f"
          },
          "geo": {
           "bgcolor": "white",
           "lakecolor": "white",
           "landcolor": "#E5ECF6",
           "showlakes": true,
           "showland": true,
           "subunitcolor": "white"
          },
          "hoverlabel": {
           "align": "left"
          },
          "hovermode": "closest",
          "mapbox": {
           "style": "light"
          },
          "paper_bgcolor": "white",
          "plot_bgcolor": "#E5ECF6",
          "polar": {
           "angularaxis": {
            "gridcolor": "white",
            "linecolor": "white",
            "ticks": ""
           },
           "bgcolor": "#E5ECF6",
           "radialaxis": {
            "gridcolor": "white",
            "linecolor": "white",
            "ticks": ""
           }
          },
          "scene": {
           "xaxis": {
            "backgroundcolor": "#E5ECF6",
            "gridcolor": "white",
            "gridwidth": 2,
            "linecolor": "white",
            "showbackground": true,
            "ticks": "",
            "zerolinecolor": "white"
           },
           "yaxis": {
            "backgroundcolor": "#E5ECF6",
            "gridcolor": "white",
            "gridwidth": 2,
            "linecolor": "white",
            "showbackground": true,
            "ticks": "",
            "zerolinecolor": "white"
           },
           "zaxis": {
            "backgroundcolor": "#E5ECF6",
            "gridcolor": "white",
            "gridwidth": 2,
            "linecolor": "white",
            "showbackground": true,
            "ticks": "",
            "zerolinecolor": "white"
           }
          },
          "shapedefaults": {
           "line": {
            "color": "#2a3f5f"
           }
          },
          "ternary": {
           "aaxis": {
            "gridcolor": "white",
            "linecolor": "white",
            "ticks": ""
           },
           "baxis": {
            "gridcolor": "white",
            "linecolor": "white",
            "ticks": ""
           },
           "bgcolor": "#E5ECF6",
           "caxis": {
            "gridcolor": "white",
            "linecolor": "white",
            "ticks": ""
           }
          },
          "title": {
           "x": 0.05
          },
          "xaxis": {
           "automargin": true,
           "gridcolor": "white",
           "linecolor": "white",
           "ticks": "",
           "title": {
            "standoff": 15
           },
           "zerolinecolor": "white",
           "zerolinewidth": 2
          },
          "yaxis": {
           "automargin": true,
           "gridcolor": "white",
           "linecolor": "white",
           "ticks": "",
           "title": {
            "standoff": 15
           },
           "zerolinecolor": "white",
           "zerolinewidth": 2
          }
         }
        },
        "xaxis": {
         "anchor": "y",
         "autorange": true,
         "domain": [
          0,
          1
         ],
         "range": [
          2008,
          2020
         ],
         "title": {
          "text": "Year"
         },
         "type": "linear"
        },
        "yaxis": {
         "anchor": "x",
         "autorange": true,
         "domain": [
          0,
          1
         ],
         "range": [
          -6.204353893947577,
          3.9033238982835954
         ],
         "title": {
          "text": "Conductivity [S/cm<sup>2</sup>]"
         },
         "type": "log"
        }
       }
      },
      "image/png": "[encoded data removed]",
      "text/html": [
       "<div>\n",
       "        \n",
       "        \n",
       "            <div id=\"ecac8194-1332-49d7-9289-4c24b7a7f172\" class=\"plotly-graph-div\" style=\"height:525px; width:100%;\"></div>\n",
       "            <script type=\"text/javascript\">\n",
       "                require([\"plotly\"], function(Plotly) {\n",
       "                    window.PLOTLYENV=window.PLOTLYENV || {};\n",
       "                    \n",
       "                if (document.getElementById(\"ecac8194-1332-49d7-9289-4c24b7a7f172\")) {\n",
       "                    Plotly.newPlot(\n",
       "                        'ecac8194-1332-49d7-9289-4c24b7a7f172',\n",
       "                        [{\"customdata\": [[\"3D\", 0.001], [\"3D\", 0.001], [\"3D\", 0.001], [\"3D\", 0.001], [\"3D\", 0.001], [\"3D\", 214.0], [\"3D\", 0.001], [\"3D\", 614.0], [\"3D\", 3.0]], \"hovertemplate\": \"<b>%{hovertext}</b><br><br>Dimensionality=%{customdata[0]}                                 <br>Year=%{x}<br>Value=%{y} S/cm<sup>2</sup>                                 <br>Porosity=%{customdata[1]} m<sup>2</sup>/g<extra></extra>\", \"hovertext\": [\"Pb3(BHT)\", \"Cu[Cu(pdt)2]\", \"I2@Zn3(lac)2(pybz)2\", \"I2@Zn3(lac)2(pybz)2\", \"I2@Zn3(lac)2(pybz)2\", \"TCNQ@Cu3(BTC)2\", \"Fe2(dhbq)3\", \"Fe2(BDT)3 (oxidized)\", \"Cu2(6-Hmna)(6-mn)\"], \"legendgroup\": \"3D\", \"line\": {\"color\": \"#636efa\", \"dash\": \"solid\"}, \"mode\": \"lines\", \"name\": \"3D\", \"orientation\": \"v\", \"showlegend\": true, \"type\": \"scatter\", \"x\": [2008, 2009, 2010, 2012, 2013, 2014, 2015, 2018, 2019], \"xaxis\": \"x\", \"y\": [2e-06, 0.0006, 0.0034, 0.0034, 0.0034, 0.07, 0.16, 1.2, 10.96], \"yaxis\": \"y\"}, {\"customdata\": [[\"2D layered\", 306.0], [\"2D layered\", 0.001], [\"2D layered\", 0.001], [\"2D layered\", 0.001], [\"2D layered\", 0.001], [\"2D layered\", 0.001], [\"2D layered\", 0.001], [\"2D layered\", 0.001]], \"hovertemplate\": \"<b>%{hovertext}</b><br><br>Dimensionality=%{customdata[0]}                                 <br>Year=%{x}<br>Value=%{y} S/cm<sup>2</sup>                                 <br>Porosity=%{customdata[1]} m<sup>2</sup>/g<extra></extra>\", \"hovertext\": [\"Cu3(HOTP)2\", \"Ni3(BHT)2\", \"Ni3(BHT)2 oxidized\", \"Cu3(BHT)\", \"Cu3(BHT)\", \"Cu3(BHT)\", \"Cu3(BHT)\", \"Cu3(BHT)\"], \"legendgroup\": \"2D layered\", \"line\": {\"color\": \"#EF553B\", \"dash\": \"solid\"}, \"mode\": \"lines\", \"name\": \"2D layered\", \"orientation\": \"v\", \"showlegend\": true, \"type\": \"scatter\", \"x\": [2012, 2013, 2014, 2015, 2017, 2018, 2019, 2020], \"xaxis\": \"x\", \"y\": [0.1, 0.15, 150.0, 2500.0, 2500.0, 2500.0, 2500.0, 2500.0], \"yaxis\": \"y\"}],\n",
       "                        {\"legend\": {\"title\": {\"text\": \"Dimensionality\"}, \"tracegroupgap\": 0}, \"margin\": {\"t\": 60}, \"template\": {\"data\": {\"bar\": [{\"error_x\": {\"color\": \"#2a3f5f\"}, \"error_y\": {\"color\": \"#2a3f5f\"}, \"marker\": {\"line\": {\"color\": \"#E5ECF6\", \"width\": 0.5}}, \"type\": \"bar\"}], \"barpolar\": [{\"marker\": {\"line\": {\"color\": \"#E5ECF6\", \"width\": 0.5}}, \"type\": \"barpolar\"}], \"carpet\": [{\"aaxis\": {\"endlinecolor\": \"#2a3f5f\", \"gridcolor\": \"white\", \"linecolor\": \"white\", \"minorgridcolor\": \"white\", \"startlinecolor\": \"#2a3f5f\"}, \"baxis\": {\"endlinecolor\": \"#2a3f5f\", \"gridcolor\": \"white\", \"linecolor\": \"white\", \"minorgridcolor\": \"white\", \"startlinecolor\": \"#2a3f5f\"}, \"type\": \"carpet\"}], \"choropleth\": [{\"colorbar\": {\"outlinewidth\": 0, \"ticks\": \"\"}, \"type\": \"choropleth\"}], \"contour\": [{\"colorbar\": {\"outlinewidth\": 0, \"ticks\": \"\"}, \"colorscale\": [[0.0, \"#0d0887\"], [0.1111111111111111, \"#46039f\"], [0.2222222222222222, \"#7201a8\"], [0.3333333333333333, \"#9c179e\"], [0.4444444444444444, \"#bd3786\"], [0.5555555555555556, \"#d8576b\"], [0.6666666666666666, \"#ed7953\"], [0.7777777777777778, \"#fb9f3a\"], [0.8888888888888888, \"#fdca26\"], [1.0, \"#f0f921\"]], \"type\": \"contour\"}], \"contourcarpet\": [{\"colorbar\": {\"outlinewidth\": 0, \"ticks\": \"\"}, \"type\": \"contourcarpet\"}], \"heatmap\": [{\"colorbar\": {\"outlinewidth\": 0, \"ticks\": \"\"}, \"colorscale\": [[0.0, \"#0d0887\"], [0.1111111111111111, \"#46039f\"], [0.2222222222222222, \"#7201a8\"], [0.3333333333333333, \"#9c179e\"], [0.4444444444444444, \"#bd3786\"], [0.5555555555555556, \"#d8576b\"], [0.6666666666666666, \"#ed7953\"], [0.7777777777777778, \"#fb9f3a\"], [0.8888888888888888, \"#fdca26\"], [1.0, \"#f0f921\"]], \"type\": \"heatmap\"}], \"heatmapgl\": [{\"colorbar\": {\"outlinewidth\": 0, \"ticks\": \"\"}, \"colorscale\": [[0.0, \"#0d0887\"], [0.1111111111111111, \"#46039f\"], [0.2222222222222222, \"#7201a8\"], [0.3333333333333333, \"#9c179e\"], [0.4444444444444444, \"#bd3786\"], [0.5555555555555556, \"#d8576b\"], [0.6666666666666666, \"#ed7953\"], [0.7777777777777778, \"#fb9f3a\"], [0.8888888888888888, \"#fdca26\"], [1.0, \"#f0f921\"]], \"type\": \"heatmapgl\"}], \"histogram\": [{\"marker\": {\"colorbar\": {\"outlinewidth\": 0, \"ticks\": \"\"}}, \"type\": \"histogram\"}], \"histogram2d\": [{\"colorbar\": {\"outlinewidth\": 0, \"ticks\": \"\"}, \"colorscale\": [[0.0, \"#0d0887\"], [0.1111111111111111, \"#46039f\"], [0.2222222222222222, \"#7201a8\"], [0.3333333333333333, \"#9c179e\"], [0.4444444444444444, \"#bd3786\"], [0.5555555555555556, \"#d8576b\"], [0.6666666666666666, \"#ed7953\"], [0.7777777777777778, \"#fb9f3a\"], [0.8888888888888888, \"#fdca26\"], [1.0, \"#f0f921\"]], \"type\": \"histogram2d\"}], \"histogram2dcontour\": [{\"colorbar\": {\"outlinewidth\": 0, \"ticks\": \"\"}, \"colorscale\": [[0.0, \"#0d0887\"], [0.1111111111111111, \"#46039f\"], [0.2222222222222222, \"#7201a8\"], [0.3333333333333333, \"#9c179e\"], [0.4444444444444444, \"#bd3786\"], [0.5555555555555556, \"#d8576b\"], [0.6666666666666666, \"#ed7953\"], [0.7777777777777778, \"#fb9f3a\"], [0.8888888888888888, \"#fdca26\"], [1.0, \"#f0f921\"]], \"type\": \"histogram2dcontour\"}], \"mesh3d\": [{\"colorbar\": {\"outlinewidth\": 0, \"ticks\": \"\"}, \"type\": \"mesh3d\"}], \"parcoords\": [{\"line\": {\"colorbar\": {\"outlinewidth\": 0, \"ticks\": \"\"}}, \"type\": \"parcoords\"}], \"pie\": [{\"automargin\": true, \"type\": \"pie\"}], \"scatter\": [{\"marker\": {\"colorbar\": {\"outlinewidth\": 0, \"ticks\": \"\"}}, \"type\": \"scatter\"}], \"scatter3d\": [{\"line\": {\"colorbar\": {\"outlinewidth\": 0, \"ticks\": \"\"}}, \"marker\": {\"colorbar\": {\"outlinewidth\": 0, \"ticks\": \"\"}}, \"type\": \"scatter3d\"}], \"scattercarpet\": [{\"marker\": {\"colorbar\": {\"outlinewidth\": 0, \"ticks\": \"\"}}, \"type\": \"scattercarpet\"}], \"scattergeo\": [{\"marker\": {\"colorbar\": {\"outlinewidth\": 0, \"ticks\": \"\"}}, \"type\": \"scattergeo\"}], \"scattergl\": [{\"marker\": {\"colorbar\": {\"outlinewidth\": 0, \"ticks\": \"\"}}, \"type\": \"scattergl\"}], \"scattermapbox\": [{\"marker\": {\"colorbar\": {\"outlinewidth\": 0, \"ticks\": \"\"}}, \"type\": \"scattermapbox\"}], \"scatterpolar\": [{\"marker\": {\"colorbar\": {\"outlinewidth\": 0, \"ticks\": \"\"}}, \"type\": \"scatterpolar\"}], \"scatterpolargl\": [{\"marker\": {\"colorbar\": {\"outlinewidth\": 0, \"ticks\": \"\"}}, \"type\": \"scatterpolargl\"}], \"scatterternary\": [{\"marker\": {\"colorbar\": {\"outlinewidth\": 0, \"ticks\": \"\"}}, \"type\": \"scatterternary\"}], \"surface\": [{\"colorbar\": {\"outlinewidth\": 0, \"ticks\": \"\"}, \"colorscale\": [[0.0, \"#0d0887\"], [0.1111111111111111, \"#46039f\"], [0.2222222222222222, \"#7201a8\"], [0.3333333333333333, \"#9c179e\"], [0.4444444444444444, \"#bd3786\"], [0.5555555555555556, \"#d8576b\"], [0.6666666666666666, \"#ed7953\"], [0.7777777777777778, \"#fb9f3a\"], [0.8888888888888888, \"#fdca26\"], [1.0, \"#f0f921\"]], \"type\": \"surface\"}], \"table\": [{\"cells\": {\"fill\": {\"color\": \"#EBF0F8\"}, \"line\": {\"color\": \"white\"}}, \"header\": {\"fill\": {\"color\": \"#C8D4E3\"}, \"line\": {\"color\": \"white\"}}, \"type\": \"table\"}]}, \"layout\": {\"annotationdefaults\": {\"arrowcolor\": \"#2a3f5f\", \"arrowhead\": 0, \"arrowwidth\": 1}, \"coloraxis\": {\"colorbar\": {\"outlinewidth\": 0, \"ticks\": \"\"}}, \"colorscale\": {\"diverging\": [[0, \"#8e0152\"], [0.1, \"#c51b7d\"], [0.2, \"#de77ae\"], [0.3, \"#f1b6da\"], [0.4, \"#fde0ef\"], [0.5, \"#f7f7f7\"], [0.6, \"#e6f5d0\"], [0.7, \"#b8e186\"], [0.8, \"#7fbc41\"], [0.9, \"#4d9221\"], [1, \"#276419\"]], \"sequential\": [[0.0, \"#0d0887\"], [0.1111111111111111, \"#46039f\"], [0.2222222222222222, \"#7201a8\"], [0.3333333333333333, \"#9c179e\"], [0.4444444444444444, \"#bd3786\"], [0.5555555555555556, \"#d8576b\"], [0.6666666666666666, \"#ed7953\"], [0.7777777777777778, \"#fb9f3a\"], [0.8888888888888888, \"#fdca26\"], [1.0, \"#f0f921\"]], \"sequentialminus\": [[0.0, \"#0d0887\"], [0.1111111111111111, \"#46039f\"], [0.2222222222222222, \"#7201a8\"], [0.3333333333333333, \"#9c179e\"], [0.4444444444444444, \"#bd3786\"], [0.5555555555555556, \"#d8576b\"], [0.6666666666666666, \"#ed7953\"], [0.7777777777777778, \"#fb9f3a\"], [0.8888888888888888, \"#fdca26\"], [1.0, \"#f0f921\"]]}, \"colorway\": [\"#636efa\", \"#EF553B\", \"#00cc96\", \"#ab63fa\", \"#FFA15A\", \"#19d3f3\", \"#FF6692\", \"#B6E880\", \"#FF97FF\", \"#FECB52\"], \"font\": {\"color\": \"#2a3f5f\"}, \"geo\": {\"bgcolor\": \"white\", \"lakecolor\": \"white\", \"landcolor\": \"#E5ECF6\", \"showlakes\": true, \"showland\": true, \"subunitcolor\": \"white\"}, \"hoverlabel\": {\"align\": \"left\"}, \"hovermode\": \"closest\", \"mapbox\": {\"style\": \"light\"}, \"paper_bgcolor\": \"white\", \"plot_bgcolor\": \"#E5ECF6\", \"polar\": {\"angularaxis\": {\"gridcolor\": \"white\", \"linecolor\": \"white\", \"ticks\": \"\"}, \"bgcolor\": \"#E5ECF6\", \"radialaxis\": {\"gridcolor\": \"white\", \"linecolor\": \"white\", \"ticks\": \"\"}}, \"scene\": {\"xaxis\": {\"backgroundcolor\": \"#E5ECF6\", \"gridcolor\": \"white\", \"gridwidth\": 2, \"linecolor\": \"white\", \"showbackground\": true, \"ticks\": \"\", \"zerolinecolor\": \"white\"}, \"yaxis\": {\"backgroundcolor\": \"#E5ECF6\", \"gridcolor\": \"white\", \"gridwidth\": 2, \"linecolor\": \"white\", \"showbackground\": true, \"ticks\": \"\", \"zerolinecolor\": \"white\"}, \"zaxis\": {\"backgroundcolor\": \"#E5ECF6\", \"gridcolor\": \"white\", \"gridwidth\": 2, \"linecolor\": \"white\", \"showbackground\": true, \"ticks\": \"\", \"zerolinecolor\": \"white\"}}, \"shapedefaults\": {\"line\": {\"color\": \"#2a3f5f\"}}, \"ternary\": {\"aaxis\": {\"gridcolor\": \"white\", \"linecolor\": \"white\", \"ticks\": \"\"}, \"baxis\": {\"gridcolor\": \"white\", \"linecolor\": \"white\", \"ticks\": \"\"}, \"bgcolor\": \"#E5ECF6\", \"caxis\": {\"gridcolor\": \"white\", \"linecolor\": \"white\", \"ticks\": \"\"}}, \"title\": {\"x\": 0.05}, \"xaxis\": {\"automargin\": true, \"gridcolor\": \"white\", \"linecolor\": \"white\", \"ticks\": \"\", \"title\": {\"standoff\": 15}, \"zerolinecolor\": \"white\", \"zerolinewidth\": 2}, \"yaxis\": {\"automargin\": true, \"gridcolor\": \"white\", \"linecolor\": \"white\", \"ticks\": \"\", \"title\": {\"standoff\": 15}, \"zerolinecolor\": \"white\", \"zerolinewidth\": 2}}}, \"xaxis\": {\"anchor\": \"y\", \"domain\": [0.0, 1.0], \"title\": {\"text\": \"Year\"}}, \"yaxis\": {\"anchor\": \"x\", \"domain\": [0.0, 1.0], \"title\": {\"text\": \"Conductivity [S/cm<sup>2</sup>]\"}, \"type\": \"log\"}},\n",
       "                        {\"responsive\": true}\n",
       "                    ).then(function(){\n",
       "                            \n",
       "var gd = document.getElementById('ecac8194-1332-49d7-9289-4c24b7a7f172');\n",
       "var x = new MutationObserver(function (mutations, observer) {{\n",
       "        var display = window.getComputedStyle(gd).display;\n",
       "        if (!display || display === 'none') {{\n",
       "            console.log([gd, 'removed!']);\n",
       "            Plotly.purge(gd);\n",
       "            observer.disconnect();\n",
       "        }}\n",
       "}});\n",
       "\n",
       "// Listen for the removal of the full notebook cells\n",
       "var notebookContainer = gd.closest('#notebook-container');\n",
       "if (notebookContainer) {{\n",
       "    x.observe(notebookContainer, {childList: true});\n",
       "}}\n",
       "\n",
       "// Listen for the clearing of the current output cell\n",
       "var outputEl = gd.closest('.output');\n",
       "if (outputEl) {{\n",
       "    x.observe(outputEl, {childList: true});\n",
       "}}\n",
       "\n",
       "                        })\n",
       "                };\n",
       "                });\n",
       "            </script>\n",
       "        </div>"
      ]
     },
     "metadata": {},
     "output_type": "display_data"
    }
   ],
   "source": [
    "mofs_sorted_3D_cummax = mofs_sorted_3D\n",
    "mofs_sorted_3D_cummax['cummax_value'] = mofs_sorted_3D_cummax.Value.cummax()\n",
    "keep_3D = mofs_sorted_3D_cummax['cummax_value']<=mofs_sorted_3D_cummax.Value\n",
    "mofs_sorted_3D_cummax.loc[~keep_3D, ['Value', 'Name', 'DOI', 'Porosity']] = nan\n",
    "mofs_sorted_3D_cummax = mofs_sorted_3D_cummax.ffill()\n",
    "#mofs_sorted_3D_cummax = mofs_sorted_3D_cummax[keep_3D]\n",
    "\n",
    "mofs_sorted_2D_cummax = mofs_sorted_2D\n",
    "mofs_sorted_2D_cummax['cummax_value'] = mofs_sorted_2D_cummax.Value.cummax()\n",
    "keep_2D = mofs_sorted_2D_cummax['cummax_value']<=mofs_sorted_2D_cummax.Value\n",
    "mofs_sorted_2D_cummax.loc[~keep_2D, ['Value', 'Name', 'DOI', 'Porosity']] = nan\n",
    "mofs_sorted_2D_cummax = mofs_sorted_2D_cummax.ffill()\n",
    "#mofs_sorted_2D_cummax = mofs_sorted_2D_cummax[keep_2D]\n",
    "\n",
    "mofs_sorted_cummax = pd.concat([mofs_sorted_3D_cummax, mofs_sorted_2D_cummax], ignore_index=True)\n",
    "\n",
    "fig5 = px.line(mofs_sorted_cummax, x='Year', y='Value', color='Dimensionality', hover_data=['Dimensionality','Porosity'], \n",
    "                 labels={'Value': \"Conductivity [S/cm<sup>2</sup>]\"}, hover_name='Name')\n",
    "fig5.update_traces(hovertemplate='<b>%{hovertext}</b><br><br>Dimensionality=%{customdata[0]}\\\n",
    "                                 <br>Year=%{x}<br>Value=%{y} S/cm<sup>2</sup>\\\n",
    "                                 <br>Porosity=%{customdata[1]} m<sup>2</sup>/g<extra></extra>')\n",
    "fig5.update_layout(yaxis_type=\"log\")\n",
    "fig5.show()"
   ]
  },
  {
   "cell_type": "code",
   "execution_count": 22,
   "metadata": {},
   "outputs": [
    {
     "data": {
      "application/vnd.plotly.v1+json": {
       "config": {
        "plotlyServerURL": "https://plotly.com"
       },
       "data": [
        {
         "customdata": [
          [
           "3D",
           385
          ],
          [
           "3D",
           450
          ],
          [
           "3D",
           248
          ],
          [
           "3D",
           214
          ],
          [
           "3D",
           559
          ],
          [
           "3D",
           614
          ],
          [
           "3D",
           208
          ]
         ],
         "hovertemplate": "<b>%{hovertext}</b><br><br>Dimensionality=%{customdata[0]}                                 <br>Year=%{x}<br>Value=%{y} S/cm<sup>2</sup>                                 <br>Porosity=%{customdata[1]} m<sup>2</sup>/g<extra></extra>",
         "hovertext": [
          "Cu[Ni(pdt)2]",
          "Fe(1,2,3-triazolate) (oxidized)",
          "Fe2DOBDC",
          "TCNQ@Cu3(BTC)2",
          "Cd2(TTFTB)",
          "Fe2(BDT)3 (oxidized)",
          "Ho(1+x)(HOTP)"
         ],
         "legendgroup": "3D",
         "line": {
          "color": "#636efa",
          "dash": "solid"
         },
         "mode": "lines",
         "name": "3D",
         "orientation": "v",
         "showlegend": true,
         "type": "scatter",
         "x": [
          2010,
          2012,
          2013,
          2014,
          2015,
          2018,
          2019
         ],
         "xaxis": "x",
         "y": [
          1e-08,
          7.7e-05,
          3.2e-07,
          0.07,
          0.00029,
          1.2,
          0.05
         ],
         "yaxis": "y"
        },
        {
         "customdata": [
          [
           "2D layered",
           306
          ],
          [
           "2D layered",
           630
          ],
          [
           "2D layered",
           114
          ],
          [
           "2D layered",
           210
          ],
          [
           "2D layered",
           2298
          ],
          [
           "2D layered",
           280
          ]
         ],
         "hovertemplate": "<b>%{hovertext}</b><br><br>Dimensionality=%{customdata[0]}                                 <br>Year=%{x}<br>Value=%{y} S/cm<sup>2</sup>                                 <br>Porosity=%{customdata[1]} m<sup>2</sup>/g<extra></extra>",
         "hovertext": [
          "Cu3(HOTP)2",
          "Ni3(HITP)2",
          "Cu3(HIB)2",
          "Fe3(PTC)",
          "(Mn/Fe)3(HIB)2",
          "Co3(HITP)2"
         ],
         "legendgroup": "2D layered",
         "line": {
          "color": "#EF553B",
          "dash": "solid"
         },
         "mode": "lines",
         "name": "2D layered",
         "orientation": "v",
         "showlegend": true,
         "type": "scatter",
         "x": [
          2012,
          2014,
          2017,
          2018,
          2019,
          2020
         ],
         "xaxis": "x",
         "y": [
          0.1,
          150,
          13,
          10,
          359,
          11.5
         ],
         "yaxis": "y"
        }
       ],
       "layout": {
        "autosize": true,
        "legend": {
         "title": {
          "text": "Dimensionality"
         },
         "tracegroupgap": 0
        },
        "margin": {
         "t": 60
        },
        "template": {
         "data": {
          "bar": [
           {
            "error_x": {
             "color": "#2a3f5f"
            },
            "error_y": {
             "color": "#2a3f5f"
            },
            "marker": {
             "line": {
              "color": "#E5ECF6",
              "width": 0.5
             }
            },
            "type": "bar"
           }
          ],
          "barpolar": [
           {
            "marker": {
             "line": {
              "color": "#E5ECF6",
              "width": 0.5
             }
            },
            "type": "barpolar"
           }
          ],
          "carpet": [
           {
            "aaxis": {
             "endlinecolor": "#2a3f5f",
             "gridcolor": "white",
             "linecolor": "white",
             "minorgridcolor": "white",
             "startlinecolor": "#2a3f5f"
            },
            "baxis": {
             "endlinecolor": "#2a3f5f",
             "gridcolor": "white",
             "linecolor": "white",
             "minorgridcolor": "white",
             "startlinecolor": "#2a3f5f"
            },
            "type": "carpet"
           }
          ],
          "choropleth": [
           {
            "colorbar": {
             "outlinewidth": 0,
             "ticks": ""
            },
            "type": "choropleth"
           }
          ],
          "contour": [
           {
            "colorbar": {
             "outlinewidth": 0,
             "ticks": ""
            },
            "colorscale": [
             [
              0,
              "#0d0887"
             ],
             [
              0.1111111111111111,
              "#46039f"
             ],
             [
              0.2222222222222222,
              "#7201a8"
             ],
             [
              0.3333333333333333,
              "#9c179e"
             ],
             [
              0.4444444444444444,
              "#bd3786"
             ],
             [
              0.5555555555555556,
              "#d8576b"
             ],
             [
              0.6666666666666666,
              "#ed7953"
             ],
             [
              0.7777777777777778,
              "#fb9f3a"
             ],
             [
              0.8888888888888888,
              "#fdca26"
             ],
             [
              1,
              "#f0f921"
             ]
            ],
            "type": "contour"
           }
          ],
          "contourcarpet": [
           {
            "colorbar": {
             "outlinewidth": 0,
             "ticks": ""
            },
            "type": "contourcarpet"
           }
          ],
          "heatmap": [
           {
            "colorbar": {
             "outlinewidth": 0,
             "ticks": ""
            },
            "colorscale": [
             [
              0,
              "#0d0887"
             ],
             [
              0.1111111111111111,
              "#46039f"
             ],
             [
              0.2222222222222222,
              "#7201a8"
             ],
             [
              0.3333333333333333,
              "#9c179e"
             ],
             [
              0.4444444444444444,
              "#bd3786"
             ],
             [
              0.5555555555555556,
              "#d8576b"
             ],
             [
              0.6666666666666666,
              "#ed7953"
             ],
             [
              0.7777777777777778,
              "#fb9f3a"
             ],
             [
              0.8888888888888888,
              "#fdca26"
             ],
             [
              1,
              "#f0f921"
             ]
            ],
            "type": "heatmap"
           }
          ],
          "heatmapgl": [
           {
            "colorbar": {
             "outlinewidth": 0,
             "ticks": ""
            },
            "colorscale": [
             [
              0,
              "#0d0887"
             ],
             [
              0.1111111111111111,
              "#46039f"
             ],
             [
              0.2222222222222222,
              "#7201a8"
             ],
             [
              0.3333333333333333,
              "#9c179e"
             ],
             [
              0.4444444444444444,
              "#bd3786"
             ],
             [
              0.5555555555555556,
              "#d8576b"
             ],
             [
              0.6666666666666666,
              "#ed7953"
             ],
             [
              0.7777777777777778,
              "#fb9f3a"
             ],
             [
              0.8888888888888888,
              "#fdca26"
             ],
             [
              1,
              "#f0f921"
             ]
            ],
            "type": "heatmapgl"
           }
          ],
          "histogram": [
           {
            "marker": {
             "colorbar": {
              "outlinewidth": 0,
              "ticks": ""
             }
            },
            "type": "histogram"
           }
          ],
          "histogram2d": [
           {
            "colorbar": {
             "outlinewidth": 0,
             "ticks": ""
            },
            "colorscale": [
             [
              0,
              "#0d0887"
             ],
             [
              0.1111111111111111,
              "#46039f"
             ],
             [
              0.2222222222222222,
              "#7201a8"
             ],
             [
              0.3333333333333333,
              "#9c179e"
             ],
             [
              0.4444444444444444,
              "#bd3786"
             ],
             [
              0.5555555555555556,
              "#d8576b"
             ],
             [
              0.6666666666666666,
              "#ed7953"
             ],
             [
              0.7777777777777778,
              "#fb9f3a"
             ],
             [
              0.8888888888888888,
              "#fdca26"
             ],
             [
              1,
              "#f0f921"
             ]
            ],
            "type": "histogram2d"
           }
          ],
          "histogram2dcontour": [
           {
            "colorbar": {
             "outlinewidth": 0,
             "ticks": ""
            },
            "colorscale": [
             [
              0,
              "#0d0887"
             ],
             [
              0.1111111111111111,
              "#46039f"
             ],
             [
              0.2222222222222222,
              "#7201a8"
             ],
             [
              0.3333333333333333,
              "#9c179e"
             ],
             [
              0.4444444444444444,
              "#bd3786"
             ],
             [
              0.5555555555555556,
              "#d8576b"
             ],
             [
              0.6666666666666666,
              "#ed7953"
             ],
             [
              0.7777777777777778,
              "#fb9f3a"
             ],
             [
              0.8888888888888888,
              "#fdca26"
             ],
             [
              1,
              "#f0f921"
             ]
            ],
            "type": "histogram2dcontour"
           }
          ],
          "mesh3d": [
           {
            "colorbar": {
             "outlinewidth": 0,
             "ticks": ""
            },
            "type": "mesh3d"
           }
          ],
          "parcoords": [
           {
            "line": {
             "colorbar": {
              "outlinewidth": 0,
              "ticks": ""
             }
            },
            "type": "parcoords"
           }
          ],
          "pie": [
           {
            "automargin": true,
            "type": "pie"
           }
          ],
          "scatter": [
           {
            "marker": {
             "colorbar": {
              "outlinewidth": 0,
              "ticks": ""
             }
            },
            "type": "scatter"
           }
          ],
          "scatter3d": [
           {
            "line": {
             "colorbar": {
              "outlinewidth": 0,
              "ticks": ""
             }
            },
            "marker": {
             "colorbar": {
              "outlinewidth": 0,
              "ticks": ""
             }
            },
            "type": "scatter3d"
           }
          ],
          "scattercarpet": [
           {
            "marker": {
             "colorbar": {
              "outlinewidth": 0,
              "ticks": ""
             }
            },
            "type": "scattercarpet"
           }
          ],
          "scattergeo": [
           {
            "marker": {
             "colorbar": {
              "outlinewidth": 0,
              "ticks": ""
             }
            },
            "type": "scattergeo"
           }
          ],
          "scattergl": [
           {
            "marker": {
             "colorbar": {
              "outlinewidth": 0,
              "ticks": ""
             }
            },
            "type": "scattergl"
           }
          ],
          "scattermapbox": [
           {
            "marker": {
             "colorbar": {
              "outlinewidth": 0,
              "ticks": ""
             }
            },
            "type": "scattermapbox"
           }
          ],
          "scatterpolar": [
           {
            "marker": {
             "colorbar": {
              "outlinewidth": 0,
              "ticks": ""
             }
            },
            "type": "scatterpolar"
           }
          ],
          "scatterpolargl": [
           {
            "marker": {
             "colorbar": {
              "outlinewidth": 0,
              "ticks": ""
             }
            },
            "type": "scatterpolargl"
           }
          ],
          "scatterternary": [
           {
            "marker": {
             "colorbar": {
              "outlinewidth": 0,
              "ticks": ""
             }
            },
            "type": "scatterternary"
           }
          ],
          "surface": [
           {
            "colorbar": {
             "outlinewidth": 0,
             "ticks": ""
            },
            "colorscale": [
             [
              0,
              "#0d0887"
             ],
             [
              0.1111111111111111,
              "#46039f"
             ],
             [
              0.2222222222222222,
              "#7201a8"
             ],
             [
              0.3333333333333333,
              "#9c179e"
             ],
             [
              0.4444444444444444,
              "#bd3786"
             ],
             [
              0.5555555555555556,
              "#d8576b"
             ],
             [
              0.6666666666666666,
              "#ed7953"
             ],
             [
              0.7777777777777778,
              "#fb9f3a"
             ],
             [
              0.8888888888888888,
              "#fdca26"
             ],
             [
              1,
              "#f0f921"
             ]
            ],
            "type": "surface"
           }
          ],
          "table": [
           {
            "cells": {
             "fill": {
              "color": "#EBF0F8"
             },
             "line": {
              "color": "white"
             }
            },
            "header": {
             "fill": {
              "color": "#C8D4E3"
             },
             "line": {
              "color": "white"
             }
            },
            "type": "table"
           }
          ]
         },
         "layout": {
          "annotationdefaults": {
           "arrowcolor": "#2a3f5f",
           "arrowhead": 0,
           "arrowwidth": 1
          },
          "coloraxis": {
           "colorbar": {
            "outlinewidth": 0,
            "ticks": ""
           }
          },
          "colorscale": {
           "diverging": [
            [
             0,
             "#8e0152"
            ],
            [
             0.1,
             "#c51b7d"
            ],
            [
             0.2,
             "#de77ae"
            ],
            [
             0.3,
             "#f1b6da"
            ],
            [
             0.4,
             "#fde0ef"
            ],
            [
             0.5,
             "#f7f7f7"
            ],
            [
             0.6,
             "#e6f5d0"
            ],
            [
             0.7,
             "#b8e186"
            ],
            [
             0.8,
             "#7fbc41"
            ],
            [
             0.9,
             "#4d9221"
            ],
            [
             1,
             "#276419"
            ]
           ],
           "sequential": [
            [
             0,
             "#0d0887"
            ],
            [
             0.1111111111111111,
             "#46039f"
            ],
            [
             0.2222222222222222,
             "#7201a8"
            ],
            [
             0.3333333333333333,
             "#9c179e"
            ],
            [
             0.4444444444444444,
             "#bd3786"
            ],
            [
             0.5555555555555556,
             "#d8576b"
            ],
            [
             0.6666666666666666,
             "#ed7953"
            ],
            [
             0.7777777777777778,
             "#fb9f3a"
            ],
            [
             0.8888888888888888,
             "#fdca26"
            ],
            [
             1,
             "#f0f921"
            ]
           ],
           "sequentialminus": [
            [
             0,
             "#0d0887"
            ],
            [
             0.1111111111111111,
             "#46039f"
            ],
            [
             0.2222222222222222,
             "#7201a8"
            ],
            [
             0.3333333333333333,
             "#9c179e"
            ],
            [
             0.4444444444444444,
             "#bd3786"
            ],
            [
             0.5555555555555556,
             "#d8576b"
            ],
            [
             0.6666666666666666,
             "#ed7953"
            ],
            [
             0.7777777777777778,
             "#fb9f3a"
            ],
            [
             0.8888888888888888,
             "#fdca26"
            ],
            [
             1,
             "#f0f921"
            ]
           ]
          },
          "colorway": [
           "#636efa",
           "#EF553B",
           "#00cc96",
           "#ab63fa",
           "#FFA15A",
           "#19d3f3",
           "#FF6692",
           "#B6E880",
           "#FF97FF",
           "#FECB52"
          ],
          "font": {
           "color": "#2a3f5f"
          },
          "geo": {
           "bgcolor": "white",
           "lakecolor": "white",
           "landcolor": "#E5ECF6",
           "showlakes": true,
           "showland": true,
           "subunitcolor": "white"
          },
          "hoverlabel": {
           "align": "left"
          },
          "hovermode": "closest",
          "mapbox": {
           "style": "light"
          },
          "paper_bgcolor": "white",
          "plot_bgcolor": "#E5ECF6",
          "polar": {
           "angularaxis": {
            "gridcolor": "white",
            "linecolor": "white",
            "ticks": ""
           },
           "bgcolor": "#E5ECF6",
           "radialaxis": {
            "gridcolor": "white",
            "linecolor": "white",
            "ticks": ""
           }
          },
          "scene": {
           "xaxis": {
            "backgroundcolor": "#E5ECF6",
            "gridcolor": "white",
            "gridwidth": 2,
            "linecolor": "white",
            "showbackground": true,
            "ticks": "",
            "zerolinecolor": "white"
           },
           "yaxis": {
            "backgroundcolor": "#E5ECF6",
            "gridcolor": "white",
            "gridwidth": 2,
            "linecolor": "white",
            "showbackground": true,
            "ticks": "",
            "zerolinecolor": "white"
           },
           "zaxis": {
            "backgroundcolor": "#E5ECF6",
            "gridcolor": "white",
            "gridwidth": 2,
            "linecolor": "white",
            "showbackground": true,
            "ticks": "",
            "zerolinecolor": "white"
           }
          },
          "shapedefaults": {
           "line": {
            "color": "#2a3f5f"
           }
          },
          "ternary": {
           "aaxis": {
            "gridcolor": "white",
            "linecolor": "white",
            "ticks": ""
           },
           "baxis": {
            "gridcolor": "white",
            "linecolor": "white",
            "ticks": ""
           },
           "bgcolor": "#E5ECF6",
           "caxis": {
            "gridcolor": "white",
            "linecolor": "white",
            "ticks": ""
           }
          },
          "title": {
           "x": 0.05
          },
          "xaxis": {
           "automargin": true,
           "gridcolor": "white",
           "linecolor": "white",
           "ticks": "",
           "title": {
            "standoff": 15
           },
           "zerolinecolor": "white",
           "zerolinewidth": 2
          },
          "yaxis": {
           "automargin": true,
           "gridcolor": "white",
           "linecolor": "white",
           "ticks": "",
           "title": {
            "standoff": 15
           },
           "zerolinecolor": "white",
           "zerolinewidth": 2
          }
         }
        },
        "xaxis": {
         "anchor": "y",
         "autorange": true,
         "domain": [
          0,
          1
         ],
         "range": [
          2010,
          2020
         ],
         "title": {
          "text": "Year"
         },
         "type": "linear"
        },
        "yaxis": {
         "anchor": "x",
         "autorange": true,
         "domain": [
          0,
          1
         ],
         "range": [
          -8.586394136032128,
          3.141488584610448
         ],
         "title": {
          "text": "Conductivity [S/cm<sup>2</sup>]"
         },
         "type": "log"
        }
       }
      },
      "image/png": "[encoded data removed]",
      "text/html": [
       "<div>\n",
       "        \n",
       "        \n",
       "            <div id=\"f4028ac9-c9fb-46a3-8516-9e8e1a6e5768\" class=\"plotly-graph-div\" style=\"height:525px; width:100%;\"></div>\n",
       "            <script type=\"text/javascript\">\n",
       "                require([\"plotly\"], function(Plotly) {\n",
       "                    window.PLOTLYENV=window.PLOTLYENV || {};\n",
       "                    \n",
       "                if (document.getElementById(\"f4028ac9-c9fb-46a3-8516-9e8e1a6e5768\")) {\n",
       "                    Plotly.newPlot(\n",
       "                        'f4028ac9-c9fb-46a3-8516-9e8e1a6e5768',\n",
       "                        [{\"customdata\": [[\"3D\", 385.0], [\"3D\", 450.0], [\"3D\", 248.0], [\"3D\", 214.0], [\"3D\", 559.0], [\"3D\", 614.0], [\"3D\", 208.0]], \"hovertemplate\": \"<b>%{hovertext}</b><br><br>Dimensionality=%{customdata[0]}                                 <br>Year=%{x}<br>Value=%{y} S/cm<sup>2</sup>                                 <br>Porosity=%{customdata[1]} m<sup>2</sup>/g<extra></extra>\", \"hovertext\": [\"Cu[Ni(pdt)2]\", \"Fe(1,2,3-triazolate) (oxidized)\", \"Fe2DOBDC\", \"TCNQ@Cu3(BTC)2\", \"Cd2(TTFTB)\", \"Fe2(BDT)3 (oxidized)\", \"Ho(1+x)(HOTP)\"], \"legendgroup\": \"3D\", \"line\": {\"color\": \"#636efa\", \"dash\": \"solid\"}, \"mode\": \"lines\", \"name\": \"3D\", \"orientation\": \"v\", \"showlegend\": true, \"type\": \"scatter\", \"x\": [2010, 2012, 2013, 2014, 2015, 2018, 2019], \"xaxis\": \"x\", \"y\": [1e-08, 7.7e-05, 3.2e-07, 0.07, 0.00029, 1.2, 0.05], \"yaxis\": \"y\"}, {\"customdata\": [[\"2D layered\", 306.0], [\"2D layered\", 630.0], [\"2D layered\", 114.0], [\"2D layered\", 210.0], [\"2D layered\", 2298.0], [\"2D layered\", 280.0]], \"hovertemplate\": \"<b>%{hovertext}</b><br><br>Dimensionality=%{customdata[0]}                                 <br>Year=%{x}<br>Value=%{y} S/cm<sup>2</sup>                                 <br>Porosity=%{customdata[1]} m<sup>2</sup>/g<extra></extra>\", \"hovertext\": [\"Cu3(HOTP)2\", \"Ni3(HITP)2\", \"Cu3(HIB)2\", \"Fe3(PTC)\", \"(Mn/Fe)3(HIB)2\", \"Co3(HITP)2\"], \"legendgroup\": \"2D layered\", \"line\": {\"color\": \"#EF553B\", \"dash\": \"solid\"}, \"mode\": \"lines\", \"name\": \"2D layered\", \"orientation\": \"v\", \"showlegend\": true, \"type\": \"scatter\", \"x\": [2012, 2014, 2017, 2018, 2019, 2020], \"xaxis\": \"x\", \"y\": [0.1, 150.0, 13.0, 10.0, 359.0, 11.5], \"yaxis\": \"y\"}],\n",
       "                        {\"legend\": {\"title\": {\"text\": \"Dimensionality\"}, \"tracegroupgap\": 0}, \"margin\": {\"t\": 60}, \"template\": {\"data\": {\"bar\": [{\"error_x\": {\"color\": \"#2a3f5f\"}, \"error_y\": {\"color\": \"#2a3f5f\"}, \"marker\": {\"line\": {\"color\": \"#E5ECF6\", \"width\": 0.5}}, \"type\": \"bar\"}], \"barpolar\": [{\"marker\": {\"line\": {\"color\": \"#E5ECF6\", \"width\": 0.5}}, \"type\": \"barpolar\"}], \"carpet\": [{\"aaxis\": {\"endlinecolor\": \"#2a3f5f\", \"gridcolor\": \"white\", \"linecolor\": \"white\", \"minorgridcolor\": \"white\", \"startlinecolor\": \"#2a3f5f\"}, \"baxis\": {\"endlinecolor\": \"#2a3f5f\", \"gridcolor\": \"white\", \"linecolor\": \"white\", \"minorgridcolor\": \"white\", \"startlinecolor\": \"#2a3f5f\"}, \"type\": \"carpet\"}], \"choropleth\": [{\"colorbar\": {\"outlinewidth\": 0, \"ticks\": \"\"}, \"type\": \"choropleth\"}], \"contour\": [{\"colorbar\": {\"outlinewidth\": 0, \"ticks\": \"\"}, \"colorscale\": [[0.0, \"#0d0887\"], [0.1111111111111111, \"#46039f\"], [0.2222222222222222, \"#7201a8\"], [0.3333333333333333, \"#9c179e\"], [0.4444444444444444, \"#bd3786\"], [0.5555555555555556, \"#d8576b\"], [0.6666666666666666, \"#ed7953\"], [0.7777777777777778, \"#fb9f3a\"], [0.8888888888888888, \"#fdca26\"], [1.0, \"#f0f921\"]], \"type\": \"contour\"}], \"contourcarpet\": [{\"colorbar\": {\"outlinewidth\": 0, \"ticks\": \"\"}, \"type\": \"contourcarpet\"}], \"heatmap\": [{\"colorbar\": {\"outlinewidth\": 0, \"ticks\": \"\"}, \"colorscale\": [[0.0, \"#0d0887\"], [0.1111111111111111, \"#46039f\"], [0.2222222222222222, \"#7201a8\"], [0.3333333333333333, \"#9c179e\"], [0.4444444444444444, \"#bd3786\"], [0.5555555555555556, \"#d8576b\"], [0.6666666666666666, \"#ed7953\"], [0.7777777777777778, \"#fb9f3a\"], [0.8888888888888888, \"#fdca26\"], [1.0, \"#f0f921\"]], \"type\": \"heatmap\"}], \"heatmapgl\": [{\"colorbar\": {\"outlinewidth\": 0, \"ticks\": \"\"}, \"colorscale\": [[0.0, \"#0d0887\"], [0.1111111111111111, \"#46039f\"], [0.2222222222222222, \"#7201a8\"], [0.3333333333333333, \"#9c179e\"], [0.4444444444444444, \"#bd3786\"], [0.5555555555555556, \"#d8576b\"], [0.6666666666666666, \"#ed7953\"], [0.7777777777777778, \"#fb9f3a\"], [0.8888888888888888, \"#fdca26\"], [1.0, \"#f0f921\"]], \"type\": \"heatmapgl\"}], \"histogram\": [{\"marker\": {\"colorbar\": {\"outlinewidth\": 0, \"ticks\": \"\"}}, \"type\": \"histogram\"}], \"histogram2d\": [{\"colorbar\": {\"outlinewidth\": 0, \"ticks\": \"\"}, \"colorscale\": [[0.0, \"#0d0887\"], [0.1111111111111111, \"#46039f\"], [0.2222222222222222, \"#7201a8\"], [0.3333333333333333, \"#9c179e\"], [0.4444444444444444, \"#bd3786\"], [0.5555555555555556, \"#d8576b\"], [0.6666666666666666, \"#ed7953\"], [0.7777777777777778, \"#fb9f3a\"], [0.8888888888888888, \"#fdca26\"], [1.0, \"#f0f921\"]], \"type\": \"histogram2d\"}], \"histogram2dcontour\": [{\"colorbar\": {\"outlinewidth\": 0, \"ticks\": \"\"}, \"colorscale\": [[0.0, \"#0d0887\"], [0.1111111111111111, \"#46039f\"], [0.2222222222222222, \"#7201a8\"], [0.3333333333333333, \"#9c179e\"], [0.4444444444444444, \"#bd3786\"], [0.5555555555555556, \"#d8576b\"], [0.6666666666666666, \"#ed7953\"], [0.7777777777777778, \"#fb9f3a\"], [0.8888888888888888, \"#fdca26\"], [1.0, \"#f0f921\"]], \"type\": \"histogram2dcontour\"}], \"mesh3d\": [{\"colorbar\": {\"outlinewidth\": 0, \"ticks\": \"\"}, \"type\": \"mesh3d\"}], \"parcoords\": [{\"line\": {\"colorbar\": {\"outlinewidth\": 0, \"ticks\": \"\"}}, \"type\": \"parcoords\"}], \"pie\": [{\"automargin\": true, \"type\": \"pie\"}], \"scatter\": [{\"marker\": {\"colorbar\": {\"outlinewidth\": 0, \"ticks\": \"\"}}, \"type\": \"scatter\"}], \"scatter3d\": [{\"line\": {\"colorbar\": {\"outlinewidth\": 0, \"ticks\": \"\"}}, \"marker\": {\"colorbar\": {\"outlinewidth\": 0, \"ticks\": \"\"}}, \"type\": \"scatter3d\"}], \"scattercarpet\": [{\"marker\": {\"colorbar\": {\"outlinewidth\": 0, \"ticks\": \"\"}}, \"type\": \"scattercarpet\"}], \"scattergeo\": [{\"marker\": {\"colorbar\": {\"outlinewidth\": 0, \"ticks\": \"\"}}, \"type\": \"scattergeo\"}], \"scattergl\": [{\"marker\": {\"colorbar\": {\"outlinewidth\": 0, \"ticks\": \"\"}}, \"type\": \"scattergl\"}], \"scattermapbox\": [{\"marker\": {\"colorbar\": {\"outlinewidth\": 0, \"ticks\": \"\"}}, \"type\": \"scattermapbox\"}], \"scatterpolar\": [{\"marker\": {\"colorbar\": {\"outlinewidth\": 0, \"ticks\": \"\"}}, \"type\": \"scatterpolar\"}], \"scatterpolargl\": [{\"marker\": {\"colorbar\": {\"outlinewidth\": 0, \"ticks\": \"\"}}, \"type\": \"scatterpolargl\"}], \"scatterternary\": [{\"marker\": {\"colorbar\": {\"outlinewidth\": 0, \"ticks\": \"\"}}, \"type\": \"scatterternary\"}], \"surface\": [{\"colorbar\": {\"outlinewidth\": 0, \"ticks\": \"\"}, \"colorscale\": [[0.0, \"#0d0887\"], [0.1111111111111111, \"#46039f\"], [0.2222222222222222, \"#7201a8\"], [0.3333333333333333, \"#9c179e\"], [0.4444444444444444, \"#bd3786\"], [0.5555555555555556, \"#d8576b\"], [0.6666666666666666, \"#ed7953\"], [0.7777777777777778, \"#fb9f3a\"], [0.8888888888888888, \"#fdca26\"], [1.0, \"#f0f921\"]], \"type\": \"surface\"}], \"table\": [{\"cells\": {\"fill\": {\"color\": \"#EBF0F8\"}, \"line\": {\"color\": \"white\"}}, \"header\": {\"fill\": {\"color\": \"#C8D4E3\"}, \"line\": {\"color\": \"white\"}}, \"type\": \"table\"}]}, \"layout\": {\"annotationdefaults\": {\"arrowcolor\": \"#2a3f5f\", \"arrowhead\": 0, \"arrowwidth\": 1}, \"coloraxis\": {\"colorbar\": {\"outlinewidth\": 0, \"ticks\": \"\"}}, \"colorscale\": {\"diverging\": [[0, \"#8e0152\"], [0.1, \"#c51b7d\"], [0.2, \"#de77ae\"], [0.3, \"#f1b6da\"], [0.4, \"#fde0ef\"], [0.5, \"#f7f7f7\"], [0.6, \"#e6f5d0\"], [0.7, \"#b8e186\"], [0.8, \"#7fbc41\"], [0.9, \"#4d9221\"], [1, \"#276419\"]], \"sequential\": [[0.0, \"#0d0887\"], [0.1111111111111111, \"#46039f\"], [0.2222222222222222, \"#7201a8\"], [0.3333333333333333, \"#9c179e\"], [0.4444444444444444, \"#bd3786\"], [0.5555555555555556, \"#d8576b\"], [0.6666666666666666, \"#ed7953\"], [0.7777777777777778, \"#fb9f3a\"], [0.8888888888888888, \"#fdca26\"], [1.0, \"#f0f921\"]], \"sequentialminus\": [[0.0, \"#0d0887\"], [0.1111111111111111, \"#46039f\"], [0.2222222222222222, \"#7201a8\"], [0.3333333333333333, \"#9c179e\"], [0.4444444444444444, \"#bd3786\"], [0.5555555555555556, \"#d8576b\"], [0.6666666666666666, \"#ed7953\"], [0.7777777777777778, \"#fb9f3a\"], [0.8888888888888888, \"#fdca26\"], [1.0, \"#f0f921\"]]}, \"colorway\": [\"#636efa\", \"#EF553B\", \"#00cc96\", \"#ab63fa\", \"#FFA15A\", \"#19d3f3\", \"#FF6692\", \"#B6E880\", \"#FF97FF\", \"#FECB52\"], \"font\": {\"color\": \"#2a3f5f\"}, \"geo\": {\"bgcolor\": \"white\", \"lakecolor\": \"white\", \"landcolor\": \"#E5ECF6\", \"showlakes\": true, \"showland\": true, \"subunitcolor\": \"white\"}, \"hoverlabel\": {\"align\": \"left\"}, \"hovermode\": \"closest\", \"mapbox\": {\"style\": \"light\"}, \"paper_bgcolor\": \"white\", \"plot_bgcolor\": \"#E5ECF6\", \"polar\": {\"angularaxis\": {\"gridcolor\": \"white\", \"linecolor\": \"white\", \"ticks\": \"\"}, \"bgcolor\": \"#E5ECF6\", \"radialaxis\": {\"gridcolor\": \"white\", \"linecolor\": \"white\", \"ticks\": \"\"}}, \"scene\": {\"xaxis\": {\"backgroundcolor\": \"#E5ECF6\", \"gridcolor\": \"white\", \"gridwidth\": 2, \"linecolor\": \"white\", \"showbackground\": true, \"ticks\": \"\", \"zerolinecolor\": \"white\"}, \"yaxis\": {\"backgroundcolor\": \"#E5ECF6\", \"gridcolor\": \"white\", \"gridwidth\": 2, \"linecolor\": \"white\", \"showbackground\": true, \"ticks\": \"\", \"zerolinecolor\": \"white\"}, \"zaxis\": {\"backgroundcolor\": \"#E5ECF6\", \"gridcolor\": \"white\", \"gridwidth\": 2, \"linecolor\": \"white\", \"showbackground\": true, \"ticks\": \"\", \"zerolinecolor\": \"white\"}}, \"shapedefaults\": {\"line\": {\"color\": \"#2a3f5f\"}}, \"ternary\": {\"aaxis\": {\"gridcolor\": \"white\", \"linecolor\": \"white\", \"ticks\": \"\"}, \"baxis\": {\"gridcolor\": \"white\", \"linecolor\": \"white\", \"ticks\": \"\"}, \"bgcolor\": \"#E5ECF6\", \"caxis\": {\"gridcolor\": \"white\", \"linecolor\": \"white\", \"ticks\": \"\"}}, \"title\": {\"x\": 0.05}, \"xaxis\": {\"automargin\": true, \"gridcolor\": \"white\", \"linecolor\": \"white\", \"ticks\": \"\", \"title\": {\"standoff\": 15}, \"zerolinecolor\": \"white\", \"zerolinewidth\": 2}, \"yaxis\": {\"automargin\": true, \"gridcolor\": \"white\", \"linecolor\": \"white\", \"ticks\": \"\", \"title\": {\"standoff\": 15}, \"zerolinecolor\": \"white\", \"zerolinewidth\": 2}}}, \"xaxis\": {\"anchor\": \"y\", \"domain\": [0.0, 1.0], \"title\": {\"text\": \"Year\"}}, \"yaxis\": {\"anchor\": \"x\", \"domain\": [0.0, 1.0], \"title\": {\"text\": \"Conductivity [S/cm<sup>2</sup>]\"}, \"type\": \"log\"}},\n",
       "                        {\"responsive\": true}\n",
       "                    ).then(function(){\n",
       "                            \n",
       "var gd = document.getElementById('f4028ac9-c9fb-46a3-8516-9e8e1a6e5768');\n",
       "var x = new MutationObserver(function (mutations, observer) {{\n",
       "        var display = window.getComputedStyle(gd).display;\n",
       "        if (!display || display === 'none') {{\n",
       "            console.log([gd, 'removed!']);\n",
       "            Plotly.purge(gd);\n",
       "            observer.disconnect();\n",
       "        }}\n",
       "}});\n",
       "\n",
       "// Listen for the removal of the full notebook cells\n",
       "var notebookContainer = gd.closest('#notebook-container');\n",
       "if (notebookContainer) {{\n",
       "    x.observe(notebookContainer, {childList: true});\n",
       "}}\n",
       "\n",
       "// Listen for the clearing of the current output cell\n",
       "var outputEl = gd.closest('.output');\n",
       "if (outputEl) {{\n",
       "    x.observe(outputEl, {childList: true});\n",
       "}}\n",
       "\n",
       "                        })\n",
       "                };\n",
       "                });\n",
       "            </script>\n",
       "        </div>"
      ]
     },
     "metadata": {},
     "output_type": "display_data"
    }
   ],
   "source": [
    "mofs_sorted_3D_porous = mofs.loc[mofs[(mofs['Dimensionality']=='3D') & (mofs['Porosity']>100)].groupby('Year')['Value'].idxmax()]\n",
    "mofs_sorted_2D_porous = mofs.loc[mofs[(mofs['Dimensionality']=='2D layered') & (mofs['Porosity']>100)].groupby('Year')['Value'].idxmax()]\n",
    "mofs_sorted_porous = pd.concat([mofs_sorted_3D_porous, mofs_sorted_2D_porous], ignore_index=True)\n",
    "fig3 = px.line(mofs_sorted_porous, x='Year', y='Value', color='Dimensionality', hover_data=['Dimensionality','Porosity'], \n",
    "                 labels={'Value': \"Conductivity [S/cm<sup>2</sup>]\"}, hover_name='Name')\n",
    "fig3.update_traces(hovertemplate='<b>%{hovertext}</b><br><br>Dimensionality=%{customdata[0]}\\\n",
    "                                 <br>Year=%{x}<br>Value=%{y} S/cm<sup>2</sup>\\\n",
    "                                 <br>Porosity=%{customdata[1]} m<sup>2</sup>/g<extra></extra>')\n",
    "fig3.update_layout(yaxis_type=\"log\")\n",
    "fig3.show()"
   ]
  },
  {
   "cell_type": "code",
   "execution_count": 23,
   "metadata": {},
   "outputs": [
    {
     "data": {
      "application/vnd.plotly.v1+json": {
       "config": {
        "plotlyServerURL": "https://plotly.com"
       },
       "data": [
        {
         "customdata": [
          [
           "3D",
           385
          ],
          [
           "3D",
           450
          ],
          [
           "3D",
           450
          ],
          [
           "3D",
           214
          ],
          [
           "3D",
           214
          ],
          [
           "3D",
           614
          ],
          [
           "3D",
           614
          ]
         ],
         "hovertemplate": "<b>%{hovertext}</b><br><br>Dimensionality=%{customdata[0]}                                 <br>Year=%{x}<br>Value=%{y} S/cm<sup>2</sup>                                 <br>Porosity=%{customdata[1]} m<sup>2</sup>/g<extra></extra>",
         "hovertext": [
          "Cu[Ni(pdt)2]",
          "Fe(1,2,3-triazolate) (oxidized)",
          "Fe(1,2,3-triazolate) (oxidized)",
          "TCNQ@Cu3(BTC)2",
          "TCNQ@Cu3(BTC)2",
          "Fe2(BDT)3 (oxidized)",
          "Fe2(BDT)3 (oxidized)"
         ],
         "legendgroup": "3D",
         "line": {
          "color": "#636efa",
          "dash": "solid"
         },
         "mode": "lines",
         "name": "3D",
         "orientation": "v",
         "showlegend": true,
         "type": "scatter",
         "x": [
          2010,
          2012,
          2013,
          2014,
          2015,
          2018,
          2019
         ],
         "xaxis": "x",
         "y": [
          1e-08,
          7.7e-05,
          7.7e-05,
          0.07,
          0.07,
          1.2,
          1.2
         ],
         "yaxis": "y"
        },
        {
         "customdata": [
          [
           "2D layered",
           306
          ],
          [
           "2D layered",
           630
          ],
          [
           "2D layered",
           630
          ],
          [
           "2D layered",
           630
          ],
          [
           "2D layered",
           2298
          ],
          [
           "2D layered",
           2298
          ]
         ],
         "hovertemplate": "<b>%{hovertext}</b><br><br>Dimensionality=%{customdata[0]}                                 <br>Year=%{x}<br>Value=%{y} S/cm<sup>2</sup>                                 <br>Porosity=%{customdata[1]} m<sup>2</sup>/g<extra></extra>",
         "hovertext": [
          "Cu3(HOTP)2",
          "Ni3(HITP)2",
          "Ni3(HITP)2",
          "Ni3(HITP)2",
          "(Mn/Fe)3(HIB)2",
          "(Mn/Fe)3(HIB)2"
         ],
         "legendgroup": "2D layered",
         "line": {
          "color": "#EF553B",
          "dash": "solid"
         },
         "mode": "lines",
         "name": "2D layered",
         "orientation": "v",
         "showlegend": true,
         "type": "scatter",
         "x": [
          2012,
          2014,
          2017,
          2018,
          2019,
          2020
         ],
         "xaxis": "x",
         "y": [
          0.1,
          150,
          150,
          150,
          359,
          359
         ],
         "yaxis": "y"
        }
       ],
       "layout": {
        "autosize": true,
        "legend": {
         "title": {
          "text": "Dimensionality"
         },
         "tracegroupgap": 0
        },
        "margin": {
         "t": 60
        },
        "template": {
         "data": {
          "bar": [
           {
            "error_x": {
             "color": "#2a3f5f"
            },
            "error_y": {
             "color": "#2a3f5f"
            },
            "marker": {
             "line": {
              "color": "#E5ECF6",
              "width": 0.5
             }
            },
            "type": "bar"
           }
          ],
          "barpolar": [
           {
            "marker": {
             "line": {
              "color": "#E5ECF6",
              "width": 0.5
             }
            },
            "type": "barpolar"
           }
          ],
          "carpet": [
           {
            "aaxis": {
             "endlinecolor": "#2a3f5f",
             "gridcolor": "white",
             "linecolor": "white",
             "minorgridcolor": "white",
             "startlinecolor": "#2a3f5f"
            },
            "baxis": {
             "endlinecolor": "#2a3f5f",
             "gridcolor": "white",
             "linecolor": "white",
             "minorgridcolor": "white",
             "startlinecolor": "#2a3f5f"
            },
            "type": "carpet"
           }
          ],
          "choropleth": [
           {
            "colorbar": {
             "outlinewidth": 0,
             "ticks": ""
            },
            "type": "choropleth"
           }
          ],
          "contour": [
           {
            "colorbar": {
             "outlinewidth": 0,
             "ticks": ""
            },
            "colorscale": [
             [
              0,
              "#0d0887"
             ],
             [
              0.1111111111111111,
              "#46039f"
             ],
             [
              0.2222222222222222,
              "#7201a8"
             ],
             [
              0.3333333333333333,
              "#9c179e"
             ],
             [
              0.4444444444444444,
              "#bd3786"
             ],
             [
              0.5555555555555556,
              "#d8576b"
             ],
             [
              0.6666666666666666,
              "#ed7953"
             ],
             [
              0.7777777777777778,
              "#fb9f3a"
             ],
             [
              0.8888888888888888,
              "#fdca26"
             ],
             [
              1,
              "#f0f921"
             ]
            ],
            "type": "contour"
           }
          ],
          "contourcarpet": [
           {
            "colorbar": {
             "outlinewidth": 0,
             "ticks": ""
            },
            "type": "contourcarpet"
           }
          ],
          "heatmap": [
           {
            "colorbar": {
             "outlinewidth": 0,
             "ticks": ""
            },
            "colorscale": [
             [
              0,
              "#0d0887"
             ],
             [
              0.1111111111111111,
              "#46039f"
             ],
             [
              0.2222222222222222,
              "#7201a8"
             ],
             [
              0.3333333333333333,
              "#9c179e"
             ],
             [
              0.4444444444444444,
              "#bd3786"
             ],
             [
              0.5555555555555556,
              "#d8576b"
             ],
             [
              0.6666666666666666,
              "#ed7953"
             ],
             [
              0.7777777777777778,
              "#fb9f3a"
             ],
             [
              0.8888888888888888,
              "#fdca26"
             ],
             [
              1,
              "#f0f921"
             ]
            ],
            "type": "heatmap"
           }
          ],
          "heatmapgl": [
           {
            "colorbar": {
             "outlinewidth": 0,
             "ticks": ""
            },
            "colorscale": [
             [
              0,
              "#0d0887"
             ],
             [
              0.1111111111111111,
              "#46039f"
             ],
             [
              0.2222222222222222,
              "#7201a8"
             ],
             [
              0.3333333333333333,
              "#9c179e"
             ],
             [
              0.4444444444444444,
              "#bd3786"
             ],
             [
              0.5555555555555556,
              "#d8576b"
             ],
             [
              0.6666666666666666,
              "#ed7953"
             ],
             [
              0.7777777777777778,
              "#fb9f3a"
             ],
             [
              0.8888888888888888,
              "#fdca26"
             ],
             [
              1,
              "#f0f921"
             ]
            ],
            "type": "heatmapgl"
           }
          ],
          "histogram": [
           {
            "marker": {
             "colorbar": {
              "outlinewidth": 0,
              "ticks": ""
             }
            },
            "type": "histogram"
           }
          ],
          "histogram2d": [
           {
            "colorbar": {
             "outlinewidth": 0,
             "ticks": ""
            },
            "colorscale": [
             [
              0,
              "#0d0887"
             ],
             [
              0.1111111111111111,
              "#46039f"
             ],
             [
              0.2222222222222222,
              "#7201a8"
             ],
             [
              0.3333333333333333,
              "#9c179e"
             ],
             [
              0.4444444444444444,
              "#bd3786"
             ],
             [
              0.5555555555555556,
              "#d8576b"
             ],
             [
              0.6666666666666666,
              "#ed7953"
             ],
             [
              0.7777777777777778,
              "#fb9f3a"
             ],
             [
              0.8888888888888888,
              "#fdca26"
             ],
             [
              1,
              "#f0f921"
             ]
            ],
            "type": "histogram2d"
           }
          ],
          "histogram2dcontour": [
           {
            "colorbar": {
             "outlinewidth": 0,
             "ticks": ""
            },
            "colorscale": [
             [
              0,
              "#0d0887"
             ],
             [
              0.1111111111111111,
              "#46039f"
             ],
             [
              0.2222222222222222,
              "#7201a8"
             ],
             [
              0.3333333333333333,
              "#9c179e"
             ],
             [
              0.4444444444444444,
              "#bd3786"
             ],
             [
              0.5555555555555556,
              "#d8576b"
             ],
             [
              0.6666666666666666,
              "#ed7953"
             ],
             [
              0.7777777777777778,
              "#fb9f3a"
             ],
             [
              0.8888888888888888,
              "#fdca26"
             ],
             [
              1,
              "#f0f921"
             ]
            ],
            "type": "histogram2dcontour"
           }
          ],
          "mesh3d": [
           {
            "colorbar": {
             "outlinewidth": 0,
             "ticks": ""
            },
            "type": "mesh3d"
           }
          ],
          "parcoords": [
           {
            "line": {
             "colorbar": {
              "outlinewidth": 0,
              "ticks": ""
             }
            },
            "type": "parcoords"
           }
          ],
          "pie": [
           {
            "automargin": true,
            "type": "pie"
           }
          ],
          "scatter": [
           {
            "marker": {
             "colorbar": {
              "outlinewidth": 0,
              "ticks": ""
             }
            },
            "type": "scatter"
           }
          ],
          "scatter3d": [
           {
            "line": {
             "colorbar": {
              "outlinewidth": 0,
              "ticks": ""
             }
            },
            "marker": {
             "colorbar": {
              "outlinewidth": 0,
              "ticks": ""
             }
            },
            "type": "scatter3d"
           }
          ],
          "scattercarpet": [
           {
            "marker": {
             "colorbar": {
              "outlinewidth": 0,
              "ticks": ""
             }
            },
            "type": "scattercarpet"
           }
          ],
          "scattergeo": [
           {
            "marker": {
             "colorbar": {
              "outlinewidth": 0,
              "ticks": ""
             }
            },
            "type": "scattergeo"
           }
          ],
          "scattergl": [
           {
            "marker": {
             "colorbar": {
              "outlinewidth": 0,
              "ticks": ""
             }
            },
            "type": "scattergl"
           }
          ],
          "scattermapbox": [
           {
            "marker": {
             "colorbar": {
              "outlinewidth": 0,
              "ticks": ""
             }
            },
            "type": "scattermapbox"
           }
          ],
          "scatterpolar": [
           {
            "marker": {
             "colorbar": {
              "outlinewidth": 0,
              "ticks": ""
             }
            },
            "type": "scatterpolar"
           }
          ],
          "scatterpolargl": [
           {
            "marker": {
             "colorbar": {
              "outlinewidth": 0,
              "ticks": ""
             }
            },
            "type": "scatterpolargl"
           }
          ],
          "scatterternary": [
           {
            "marker": {
             "colorbar": {
              "outlinewidth": 0,
              "ticks": ""
             }
            },
            "type": "scatterternary"
           }
          ],
          "surface": [
           {
            "colorbar": {
             "outlinewidth": 0,
             "ticks": ""
            },
            "colorscale": [
             [
              0,
              "#0d0887"
             ],
             [
              0.1111111111111111,
              "#46039f"
             ],
             [
              0.2222222222222222,
              "#7201a8"
             ],
             [
              0.3333333333333333,
              "#9c179e"
             ],
             [
              0.4444444444444444,
              "#bd3786"
             ],
             [
              0.5555555555555556,
              "#d8576b"
             ],
             [
              0.6666666666666666,
              "#ed7953"
             ],
             [
              0.7777777777777778,
              "#fb9f3a"
             ],
             [
              0.8888888888888888,
              "#fdca26"
             ],
             [
              1,
              "#f0f921"
             ]
            ],
            "type": "surface"
           }
          ],
          "table": [
           {
            "cells": {
             "fill": {
              "color": "#EBF0F8"
             },
             "line": {
              "color": "white"
             }
            },
            "header": {
             "fill": {
              "color": "#C8D4E3"
             },
             "line": {
              "color": "white"
             }
            },
            "type": "table"
           }
          ]
         },
         "layout": {
          "annotationdefaults": {
           "arrowcolor": "#2a3f5f",
           "arrowhead": 0,
           "arrowwidth": 1
          },
          "coloraxis": {
           "colorbar": {
            "outlinewidth": 0,
            "ticks": ""
           }
          },
          "colorscale": {
           "diverging": [
            [
             0,
             "#8e0152"
            ],
            [
             0.1,
             "#c51b7d"
            ],
            [
             0.2,
             "#de77ae"
            ],
            [
             0.3,
             "#f1b6da"
            ],
            [
             0.4,
             "#fde0ef"
            ],
            [
             0.5,
             "#f7f7f7"
            ],
            [
             0.6,
             "#e6f5d0"
            ],
            [
             0.7,
             "#b8e186"
            ],
            [
             0.8,
             "#7fbc41"
            ],
            [
             0.9,
             "#4d9221"
            ],
            [
             1,
             "#276419"
            ]
           ],
           "sequential": [
            [
             0,
             "#0d0887"
            ],
            [
             0.1111111111111111,
             "#46039f"
            ],
            [
             0.2222222222222222,
             "#7201a8"
            ],
            [
             0.3333333333333333,
             "#9c179e"
            ],
            [
             0.4444444444444444,
             "#bd3786"
            ],
            [
             0.5555555555555556,
             "#d8576b"
            ],
            [
             0.6666666666666666,
             "#ed7953"
            ],
            [
             0.7777777777777778,
             "#fb9f3a"
            ],
            [
             0.8888888888888888,
             "#fdca26"
            ],
            [
             1,
             "#f0f921"
            ]
           ],
           "sequentialminus": [
            [
             0,
             "#0d0887"
            ],
            [
             0.1111111111111111,
             "#46039f"
            ],
            [
             0.2222222222222222,
             "#7201a8"
            ],
            [
             0.3333333333333333,
             "#9c179e"
            ],
            [
             0.4444444444444444,
             "#bd3786"
            ],
            [
             0.5555555555555556,
             "#d8576b"
            ],
            [
             0.6666666666666666,
             "#ed7953"
            ],
            [
             0.7777777777777778,
             "#fb9f3a"
            ],
            [
             0.8888888888888888,
             "#fdca26"
            ],
            [
             1,
             "#f0f921"
            ]
           ]
          },
          "colorway": [
           "#636efa",
           "#EF553B",
           "#00cc96",
           "#ab63fa",
           "#FFA15A",
           "#19d3f3",
           "#FF6692",
           "#B6E880",
           "#FF97FF",
           "#FECB52"
          ],
          "font": {
           "color": "#2a3f5f"
          },
          "geo": {
           "bgcolor": "white",
           "lakecolor": "white",
           "landcolor": "#E5ECF6",
           "showlakes": true,
           "showland": true,
           "subunitcolor": "white"
          },
          "hoverlabel": {
           "align": "left"
          },
          "hovermode": "closest",
          "mapbox": {
           "style": "light"
          },
          "paper_bgcolor": "white",
          "plot_bgcolor": "#E5ECF6",
          "polar": {
           "angularaxis": {
            "gridcolor": "white",
            "linecolor": "white",
            "ticks": ""
           },
           "bgcolor": "#E5ECF6",
           "radialaxis": {
            "gridcolor": "white",
            "linecolor": "white",
            "ticks": ""
           }
          },
          "scene": {
           "xaxis": {
            "backgroundcolor": "#E5ECF6",
            "gridcolor": "white",
            "gridwidth": 2,
            "linecolor": "white",
            "showbackground": true,
            "ticks": "",
            "zerolinecolor": "white"
           },
           "yaxis": {
            "backgroundcolor": "#E5ECF6",
            "gridcolor": "white",
            "gridwidth": 2,
            "linecolor": "white",
            "showbackground": true,
            "ticks": "",
            "zerolinecolor": "white"
           },
           "zaxis": {
            "backgroundcolor": "#E5ECF6",
            "gridcolor": "white",
            "gridwidth": 2,
            "linecolor": "white",
            "showbackground": true,
            "ticks": "",
            "zerolinecolor": "white"
           }
          },
          "shapedefaults": {
           "line": {
            "color": "#2a3f5f"
           }
          },
          "ternary": {
           "aaxis": {
            "gridcolor": "white",
            "linecolor": "white",
            "ticks": ""
           },
           "baxis": {
            "gridcolor": "white",
            "linecolor": "white",
            "ticks": ""
           },
           "bgcolor": "#E5ECF6",
           "caxis": {
            "gridcolor": "white",
            "linecolor": "white",
            "ticks": ""
           }
          },
          "title": {
           "x": 0.05
          },
          "xaxis": {
           "automargin": true,
           "gridcolor": "white",
           "linecolor": "white",
           "ticks": "",
           "title": {
            "standoff": 15
           },
           "zerolinecolor": "white",
           "zerolinewidth": 2
          },
          "yaxis": {
           "automargin": true,
           "gridcolor": "white",
           "linecolor": "white",
           "ticks": "",
           "title": {
            "standoff": 15
           },
           "zerolinecolor": "white",
           "zerolinewidth": 2
          }
         }
        },
        "xaxis": {
         "anchor": "y",
         "autorange": true,
         "domain": [
          0,
          1
         ],
         "range": [
          2010,
          2020
         ],
         "title": {
          "text": "Year"
         },
         "type": "linear"
        },
        "yaxis": {
         "anchor": "x",
         "autorange": true,
         "domain": [
          0,
          1
         ],
         "range": [
          -8.586394136032128,
          3.141488584610448
         ],
         "title": {
          "text": "Conductivity [S/cm<sup>2</sup>]"
         },
         "type": "log"
        }
       }
      },
      "image/png": "[encoded data removed]",
      "text/html": [
       "<div>\n",
       "        \n",
       "        \n",
       "            <div id=\"8872d683-e443-4cdb-84d9-fc441e1b3a52\" class=\"plotly-graph-div\" style=\"height:525px; width:100%;\"></div>\n",
       "            <script type=\"text/javascript\">\n",
       "                require([\"plotly\"], function(Plotly) {\n",
       "                    window.PLOTLYENV=window.PLOTLYENV || {};\n",
       "                    \n",
       "                if (document.getElementById(\"8872d683-e443-4cdb-84d9-fc441e1b3a52\")) {\n",
       "                    Plotly.newPlot(\n",
       "                        '8872d683-e443-4cdb-84d9-fc441e1b3a52',\n",
       "                        [{\"customdata\": [[\"3D\", 385.0], [\"3D\", 450.0], [\"3D\", 450.0], [\"3D\", 214.0], [\"3D\", 214.0], [\"3D\", 614.0], [\"3D\", 614.0]], \"hovertemplate\": \"<b>%{hovertext}</b><br><br>Dimensionality=%{customdata[0]}                                 <br>Year=%{x}<br>Value=%{y} S/cm<sup>2</sup>                                 <br>Porosity=%{customdata[1]} m<sup>2</sup>/g<extra></extra>\", \"hovertext\": [\"Cu[Ni(pdt)2]\", \"Fe(1,2,3-triazolate) (oxidized)\", \"Fe(1,2,3-triazolate) (oxidized)\", \"TCNQ@Cu3(BTC)2\", \"TCNQ@Cu3(BTC)2\", \"Fe2(BDT)3 (oxidized)\", \"Fe2(BDT)3 (oxidized)\"], \"legendgroup\": \"3D\", \"line\": {\"color\": \"#636efa\", \"dash\": \"solid\"}, \"mode\": \"lines\", \"name\": \"3D\", \"orientation\": \"v\", \"showlegend\": true, \"type\": \"scatter\", \"x\": [2010, 2012, 2013, 2014, 2015, 2018, 2019], \"xaxis\": \"x\", \"y\": [1e-08, 7.7e-05, 7.7e-05, 0.07, 0.07, 1.2, 1.2], \"yaxis\": \"y\"}, {\"customdata\": [[\"2D layered\", 306.0], [\"2D layered\", 630.0], [\"2D layered\", 630.0], [\"2D layered\", 630.0], [\"2D layered\", 2298.0], [\"2D layered\", 2298.0]], \"hovertemplate\": \"<b>%{hovertext}</b><br><br>Dimensionality=%{customdata[0]}                                 <br>Year=%{x}<br>Value=%{y} S/cm<sup>2</sup>                                 <br>Porosity=%{customdata[1]} m<sup>2</sup>/g<extra></extra>\", \"hovertext\": [\"Cu3(HOTP)2\", \"Ni3(HITP)2\", \"Ni3(HITP)2\", \"Ni3(HITP)2\", \"(Mn/Fe)3(HIB)2\", \"(Mn/Fe)3(HIB)2\"], \"legendgroup\": \"2D layered\", \"line\": {\"color\": \"#EF553B\", \"dash\": \"solid\"}, \"mode\": \"lines\", \"name\": \"2D layered\", \"orientation\": \"v\", \"showlegend\": true, \"type\": \"scatter\", \"x\": [2012, 2014, 2017, 2018, 2019, 2020], \"xaxis\": \"x\", \"y\": [0.1, 150.0, 150.0, 150.0, 359.0, 359.0], \"yaxis\": \"y\"}],\n",
       "                        {\"legend\": {\"title\": {\"text\": \"Dimensionality\"}, \"tracegroupgap\": 0}, \"margin\": {\"t\": 60}, \"template\": {\"data\": {\"bar\": [{\"error_x\": {\"color\": \"#2a3f5f\"}, \"error_y\": {\"color\": \"#2a3f5f\"}, \"marker\": {\"line\": {\"color\": \"#E5ECF6\", \"width\": 0.5}}, \"type\": \"bar\"}], \"barpolar\": [{\"marker\": {\"line\": {\"color\": \"#E5ECF6\", \"width\": 0.5}}, \"type\": \"barpolar\"}], \"carpet\": [{\"aaxis\": {\"endlinecolor\": \"#2a3f5f\", \"gridcolor\": \"white\", \"linecolor\": \"white\", \"minorgridcolor\": \"white\", \"startlinecolor\": \"#2a3f5f\"}, \"baxis\": {\"endlinecolor\": \"#2a3f5f\", \"gridcolor\": \"white\", \"linecolor\": \"white\", \"minorgridcolor\": \"white\", \"startlinecolor\": \"#2a3f5f\"}, \"type\": \"carpet\"}], \"choropleth\": [{\"colorbar\": {\"outlinewidth\": 0, \"ticks\": \"\"}, \"type\": \"choropleth\"}], \"contour\": [{\"colorbar\": {\"outlinewidth\": 0, \"ticks\": \"\"}, \"colorscale\": [[0.0, \"#0d0887\"], [0.1111111111111111, \"#46039f\"], [0.2222222222222222, \"#7201a8\"], [0.3333333333333333, \"#9c179e\"], [0.4444444444444444, \"#bd3786\"], [0.5555555555555556, \"#d8576b\"], [0.6666666666666666, \"#ed7953\"], [0.7777777777777778, \"#fb9f3a\"], [0.8888888888888888, \"#fdca26\"], [1.0, \"#f0f921\"]], \"type\": \"contour\"}], \"contourcarpet\": [{\"colorbar\": {\"outlinewidth\": 0, \"ticks\": \"\"}, \"type\": \"contourcarpet\"}], \"heatmap\": [{\"colorbar\": {\"outlinewidth\": 0, \"ticks\": \"\"}, \"colorscale\": [[0.0, \"#0d0887\"], [0.1111111111111111, \"#46039f\"], [0.2222222222222222, \"#7201a8\"], [0.3333333333333333, \"#9c179e\"], [0.4444444444444444, \"#bd3786\"], [0.5555555555555556, \"#d8576b\"], [0.6666666666666666, \"#ed7953\"], [0.7777777777777778, \"#fb9f3a\"], [0.8888888888888888, \"#fdca26\"], [1.0, \"#f0f921\"]], \"type\": \"heatmap\"}], \"heatmapgl\": [{\"colorbar\": {\"outlinewidth\": 0, \"ticks\": \"\"}, \"colorscale\": [[0.0, \"#0d0887\"], [0.1111111111111111, \"#46039f\"], [0.2222222222222222, \"#7201a8\"], [0.3333333333333333, \"#9c179e\"], [0.4444444444444444, \"#bd3786\"], [0.5555555555555556, \"#d8576b\"], [0.6666666666666666, \"#ed7953\"], [0.7777777777777778, \"#fb9f3a\"], [0.8888888888888888, \"#fdca26\"], [1.0, \"#f0f921\"]], \"type\": \"heatmapgl\"}], \"histogram\": [{\"marker\": {\"colorbar\": {\"outlinewidth\": 0, \"ticks\": \"\"}}, \"type\": \"histogram\"}], \"histogram2d\": [{\"colorbar\": {\"outlinewidth\": 0, \"ticks\": \"\"}, \"colorscale\": [[0.0, \"#0d0887\"], [0.1111111111111111, \"#46039f\"], [0.2222222222222222, \"#7201a8\"], [0.3333333333333333, \"#9c179e\"], [0.4444444444444444, \"#bd3786\"], [0.5555555555555556, \"#d8576b\"], [0.6666666666666666, \"#ed7953\"], [0.7777777777777778, \"#fb9f3a\"], [0.8888888888888888, \"#fdca26\"], [1.0, \"#f0f921\"]], \"type\": \"histogram2d\"}], \"histogram2dcontour\": [{\"colorbar\": {\"outlinewidth\": 0, \"ticks\": \"\"}, \"colorscale\": [[0.0, \"#0d0887\"], [0.1111111111111111, \"#46039f\"], [0.2222222222222222, \"#7201a8\"], [0.3333333333333333, \"#9c179e\"], [0.4444444444444444, \"#bd3786\"], [0.5555555555555556, \"#d8576b\"], [0.6666666666666666, \"#ed7953\"], [0.7777777777777778, \"#fb9f3a\"], [0.8888888888888888, \"#fdca26\"], [1.0, \"#f0f921\"]], \"type\": \"histogram2dcontour\"}], \"mesh3d\": [{\"colorbar\": {\"outlinewidth\": 0, \"ticks\": \"\"}, \"type\": \"mesh3d\"}], \"parcoords\": [{\"line\": {\"colorbar\": {\"outlinewidth\": 0, \"ticks\": \"\"}}, \"type\": \"parcoords\"}], \"pie\": [{\"automargin\": true, \"type\": \"pie\"}], \"scatter\": [{\"marker\": {\"colorbar\": {\"outlinewidth\": 0, \"ticks\": \"\"}}, \"type\": \"scatter\"}], \"scatter3d\": [{\"line\": {\"colorbar\": {\"outlinewidth\": 0, \"ticks\": \"\"}}, \"marker\": {\"colorbar\": {\"outlinewidth\": 0, \"ticks\": \"\"}}, \"type\": \"scatter3d\"}], \"scattercarpet\": [{\"marker\": {\"colorbar\": {\"outlinewidth\": 0, \"ticks\": \"\"}}, \"type\": \"scattercarpet\"}], \"scattergeo\": [{\"marker\": {\"colorbar\": {\"outlinewidth\": 0, \"ticks\": \"\"}}, \"type\": \"scattergeo\"}], \"scattergl\": [{\"marker\": {\"colorbar\": {\"outlinewidth\": 0, \"ticks\": \"\"}}, \"type\": \"scattergl\"}], \"scattermapbox\": [{\"marker\": {\"colorbar\": {\"outlinewidth\": 0, \"ticks\": \"\"}}, \"type\": \"scattermapbox\"}], \"scatterpolar\": [{\"marker\": {\"colorbar\": {\"outlinewidth\": 0, \"ticks\": \"\"}}, \"type\": \"scatterpolar\"}], \"scatterpolargl\": [{\"marker\": {\"colorbar\": {\"outlinewidth\": 0, \"ticks\": \"\"}}, \"type\": \"scatterpolargl\"}], \"scatterternary\": [{\"marker\": {\"colorbar\": {\"outlinewidth\": 0, \"ticks\": \"\"}}, \"type\": \"scatterternary\"}], \"surface\": [{\"colorbar\": {\"outlinewidth\": 0, \"ticks\": \"\"}, \"colorscale\": [[0.0, \"#0d0887\"], [0.1111111111111111, \"#46039f\"], [0.2222222222222222, \"#7201a8\"], [0.3333333333333333, \"#9c179e\"], [0.4444444444444444, \"#bd3786\"], [0.5555555555555556, \"#d8576b\"], [0.6666666666666666, \"#ed7953\"], [0.7777777777777778, \"#fb9f3a\"], [0.8888888888888888, \"#fdca26\"], [1.0, \"#f0f921\"]], \"type\": \"surface\"}], \"table\": [{\"cells\": {\"fill\": {\"color\": \"#EBF0F8\"}, \"line\": {\"color\": \"white\"}}, \"header\": {\"fill\": {\"color\": \"#C8D4E3\"}, \"line\": {\"color\": \"white\"}}, \"type\": \"table\"}]}, \"layout\": {\"annotationdefaults\": {\"arrowcolor\": \"#2a3f5f\", \"arrowhead\": 0, \"arrowwidth\": 1}, \"coloraxis\": {\"colorbar\": {\"outlinewidth\": 0, \"ticks\": \"\"}}, \"colorscale\": {\"diverging\": [[0, \"#8e0152\"], [0.1, \"#c51b7d\"], [0.2, \"#de77ae\"], [0.3, \"#f1b6da\"], [0.4, \"#fde0ef\"], [0.5, \"#f7f7f7\"], [0.6, \"#e6f5d0\"], [0.7, \"#b8e186\"], [0.8, \"#7fbc41\"], [0.9, \"#4d9221\"], [1, \"#276419\"]], \"sequential\": [[0.0, \"#0d0887\"], [0.1111111111111111, \"#46039f\"], [0.2222222222222222, \"#7201a8\"], [0.3333333333333333, \"#9c179e\"], [0.4444444444444444, \"#bd3786\"], [0.5555555555555556, \"#d8576b\"], [0.6666666666666666, \"#ed7953\"], [0.7777777777777778, \"#fb9f3a\"], [0.8888888888888888, \"#fdca26\"], [1.0, \"#f0f921\"]], \"sequentialminus\": [[0.0, \"#0d0887\"], [0.1111111111111111, \"#46039f\"], [0.2222222222222222, \"#7201a8\"], [0.3333333333333333, \"#9c179e\"], [0.4444444444444444, \"#bd3786\"], [0.5555555555555556, \"#d8576b\"], [0.6666666666666666, \"#ed7953\"], [0.7777777777777778, \"#fb9f3a\"], [0.8888888888888888, \"#fdca26\"], [1.0, \"#f0f921\"]]}, \"colorway\": [\"#636efa\", \"#EF553B\", \"#00cc96\", \"#ab63fa\", \"#FFA15A\", \"#19d3f3\", \"#FF6692\", \"#B6E880\", \"#FF97FF\", \"#FECB52\"], \"font\": {\"color\": \"#2a3f5f\"}, \"geo\": {\"bgcolor\": \"white\", \"lakecolor\": \"white\", \"landcolor\": \"#E5ECF6\", \"showlakes\": true, \"showland\": true, \"subunitcolor\": \"white\"}, \"hoverlabel\": {\"align\": \"left\"}, \"hovermode\": \"closest\", \"mapbox\": {\"style\": \"light\"}, \"paper_bgcolor\": \"white\", \"plot_bgcolor\": \"#E5ECF6\", \"polar\": {\"angularaxis\": {\"gridcolor\": \"white\", \"linecolor\": \"white\", \"ticks\": \"\"}, \"bgcolor\": \"#E5ECF6\", \"radialaxis\": {\"gridcolor\": \"white\", \"linecolor\": \"white\", \"ticks\": \"\"}}, \"scene\": {\"xaxis\": {\"backgroundcolor\": \"#E5ECF6\", \"gridcolor\": \"white\", \"gridwidth\": 2, \"linecolor\": \"white\", \"showbackground\": true, \"ticks\": \"\", \"zerolinecolor\": \"white\"}, \"yaxis\": {\"backgroundcolor\": \"#E5ECF6\", \"gridcolor\": \"white\", \"gridwidth\": 2, \"linecolor\": \"white\", \"showbackground\": true, \"ticks\": \"\", \"zerolinecolor\": \"white\"}, \"zaxis\": {\"backgroundcolor\": \"#E5ECF6\", \"gridcolor\": \"white\", \"gridwidth\": 2, \"linecolor\": \"white\", \"showbackground\": true, \"ticks\": \"\", \"zerolinecolor\": \"white\"}}, \"shapedefaults\": {\"line\": {\"color\": \"#2a3f5f\"}}, \"ternary\": {\"aaxis\": {\"gridcolor\": \"white\", \"linecolor\": \"white\", \"ticks\": \"\"}, \"baxis\": {\"gridcolor\": \"white\", \"linecolor\": \"white\", \"ticks\": \"\"}, \"bgcolor\": \"#E5ECF6\", \"caxis\": {\"gridcolor\": \"white\", \"linecolor\": \"white\", \"ticks\": \"\"}}, \"title\": {\"x\": 0.05}, \"xaxis\": {\"automargin\": true, \"gridcolor\": \"white\", \"linecolor\": \"white\", \"ticks\": \"\", \"title\": {\"standoff\": 15}, \"zerolinecolor\": \"white\", \"zerolinewidth\": 2}, \"yaxis\": {\"automargin\": true, \"gridcolor\": \"white\", \"linecolor\": \"white\", \"ticks\": \"\", \"title\": {\"standoff\": 15}, \"zerolinecolor\": \"white\", \"zerolinewidth\": 2}}}, \"xaxis\": {\"anchor\": \"y\", \"domain\": [0.0, 1.0], \"title\": {\"text\": \"Year\"}}, \"yaxis\": {\"anchor\": \"x\", \"domain\": [0.0, 1.0], \"title\": {\"text\": \"Conductivity [S/cm<sup>2</sup>]\"}, \"type\": \"log\"}},\n",
       "                        {\"responsive\": true}\n",
       "                    ).then(function(){\n",
       "                            \n",
       "var gd = document.getElementById('8872d683-e443-4cdb-84d9-fc441e1b3a52');\n",
       "var x = new MutationObserver(function (mutations, observer) {{\n",
       "        var display = window.getComputedStyle(gd).display;\n",
       "        if (!display || display === 'none') {{\n",
       "            console.log([gd, 'removed!']);\n",
       "            Plotly.purge(gd);\n",
       "            observer.disconnect();\n",
       "        }}\n",
       "}});\n",
       "\n",
       "// Listen for the removal of the full notebook cells\n",
       "var notebookContainer = gd.closest('#notebook-container');\n",
       "if (notebookContainer) {{\n",
       "    x.observe(notebookContainer, {childList: true});\n",
       "}}\n",
       "\n",
       "// Listen for the clearing of the current output cell\n",
       "var outputEl = gd.closest('.output');\n",
       "if (outputEl) {{\n",
       "    x.observe(outputEl, {childList: true});\n",
       "}}\n",
       "\n",
       "                        })\n",
       "                };\n",
       "                });\n",
       "            </script>\n",
       "        </div>"
      ]
     },
     "metadata": {},
     "output_type": "display_data"
    }
   ],
   "source": [
    "#mofs_sorted_3D_porous['cummax_value'] = mofs_sorted_3D_porous.Value.cummax()\n",
    "#mofs_sorted_3D_porous.merge(mofs_sorted_3D_porous.groupby('cummax_value')[['Name', 'Porosity']].first(), on='cummax_value')\n",
    "mofs_sorted_3D_porous_cummax = mofs_sorted_3D_porous\n",
    "mofs_sorted_3D_porous_cummax['cummax_value'] = mofs_sorted_3D_porous_cummax.Value.cummax()\n",
    "keep_3D_porous = mofs_sorted_3D_porous_cummax['cummax_value']<=mofs_sorted_3D_porous_cummax.Value\n",
    "mofs_sorted_3D_porous_cummax.loc[~keep_3D_porous, ['Value', 'Name', 'DOI', 'Porosity']] = nan\n",
    "mofs_sorted_3D_porous_cummax = mofs_sorted_3D_porous_cummax.ffill()\n",
    "#mofs_sorted_3D_porous_cummax = mofs_sorted_3D_porous_cummax[keep_3D_porous]\n",
    "\n",
    "mofs_sorted_2D_porous_cummax = mofs_sorted_2D_porous\n",
    "mofs_sorted_2D_porous_cummax['cummax_value'] = mofs_sorted_2D_porous_cummax.Value.cummax()\n",
    "keep_2D_porous = mofs_sorted_2D_porous_cummax['cummax_value']<=mofs_sorted_2D_porous_cummax.Value\n",
    "mofs_sorted_2D_porous_cummax.loc[~keep_2D_porous, ['Value', 'Name', 'DOI', 'Porosity']] = nan\n",
    "mofs_sorted_2D_porous_cummax = mofs_sorted_2D_porous_cummax.ffill()\n",
    "#mofs_sorted_2D_porous_cummax = mofs_sorted_2D_porous_cummax[keep_2D_porous]\n",
    "\n",
    "mofs_sorted_porous_cummax = pd.concat([mofs_sorted_3D_porous_cummax, mofs_sorted_2D_porous_cummax], ignore_index=True)\n",
    "fig4 = px.line(mofs_sorted_porous_cummax, x='Year', y='Value', color='Dimensionality', hover_data=['Dimensionality','Porosity'], \n",
    "                 labels={'Value': \"Conductivity [S/cm<sup>2</sup>]\"}, hover_name='Name')\n",
    "fig4.update_traces(hovertemplate='<b>%{hovertext}</b><br><br>Dimensionality=%{customdata[0]}\\\n",
    "                                 <br>Year=%{x}<br>Value=%{y} S/cm<sup>2</sup>\\\n",
    "                                 <br>Porosity=%{customdata[1]} m<sup>2</sup>/g<extra></extra>')\n",
    "fig4.update_layout(yaxis_type=\"log\")\n",
    "fig4.show()"
   ]
  },
  {
   "cell_type": "code",
   "execution_count": 88,
   "metadata": {},
   "outputs": [
    {
     "data": {
      "application/vnd.plotly.v1+json": {
       "config": {
        "plotlyServerURL": "https://plotly.com"
       },
       "data": [
        {
         "customdata": [
          [
           "3D",
           248
          ],
          [
           "3D",
           54
          ],
          [
           "3D",
           370
          ],
          [
           "3D",
           450
          ],
          [
           "3D",
           50
          ],
          [
           "3D",
           614
          ],
          [
           "3D",
           1230
          ],
          [
           "3D",
           610
          ],
          [
           "3D",
           3
          ],
          [
           "3D",
           208
          ],
          [
           "3D",
           559
          ],
          [
           "3D",
           385
          ],
          [
           "3D",
           69.6
          ],
          [
           "3D",
           214
          ],
          [
           "3D",
           1550
          ]
         ],
         "hovertemplate": "<b>%{hovertext}</b><br><br>Dimensionality: %{customdata[0]}                                 <br>Year: %{x}<br>Value: %{y} S/cm                                 <br>BET: %{customdata[1]} m<sup>2</sup>/g<extra></extra>",
         "hovertext": [
          "Fe2DOBDC",
          "Fe2DSBDC",
          "Fe(1,2,3-triazolate)",
          "Fe(1,2,3-triazolate) (oxidized)",
          "Fe(1,2,3-triazolate)(BF4)0.33",
          "Fe2(BDT)3 (oxidized)",
          "Fe2(BDP)3",
          "K(0.98)Fe2(BDP)3",
          "Cu2(6-Hmna)(6-mn)",
          "Ho(1+x)(HOTP)",
          "Cd2(TTFTB)",
          "Cu[Ni(pdt)2]",
          "I2@Eu4(BPT)4",
          "TCNQ@Cu3(BTC)2",
          "C60@Zr6(OH)16(TBAPy)2"
         ],
         "legendgroup": "3D",
         "marker": {
          "color": "#636efa",
          "size": [
           248,
           54,
           370,
           450,
           50,
           614,
           1230,
           610,
           3,
           208,
           559,
           385,
           69.6,
           214,
           1550
          ],
          "sizemin": 4,
          "sizemode": "area",
          "sizeref": 8,
          "symbol": "circle"
         },
         "mode": "markers",
         "name": "3D",
         "orientation": "v",
         "showlegend": true,
         "type": "scatter",
         "x": [
          2013,
          2013,
          2018,
          2012,
          2018,
          2018,
          2018,
          2018,
          2019,
          2019,
          2015,
          2010,
          2014,
          2014,
          2018
         ],
         "xaxis": "x",
         "y": [
          3.2e-07,
          3.9e-06,
          7e-09,
          7.7e-05,
          0.3,
          1.2,
          3.5e-07,
          0.025,
          10.96,
          0.05,
          0.00029,
          1e-08,
          8.2e-07,
          0.07,
          0.001
         ],
         "yaxis": "y"
        },
        {
         "customdata": [
          [
           "2D layered",
           1175
          ],
          [
           "2D layered",
           306
          ],
          [
           "2D layered",
           300
          ],
          [
           "2D layered",
           526
          ],
          [
           "2D layered",
           210
          ],
          [
           "2D layered",
           630
          ],
          [
           "2D layered",
           114
          ],
          [
           "2D layered",
           2298
          ],
          [
           "2D layered",
           280
          ]
         ],
         "hovertemplate": "<b>%{hovertext}</b><br><br>Dimensionality: %{customdata[0]}                                 <br>Year: %{x}<br>Value: %{y} S/cm                                 <br>BET: %{customdata[1]} m<sup>2</sup>/g<extra></extra>",
         "hovertext": [
          "Fe2(dhbq)3",
          "Cu3(HOTP)2",
          "Pt3(THT)2",
          "Fe3(THT)2",
          "Fe3(PTC)",
          "Ni3(HITP)2",
          "Cu3(HIB)2",
          "(Mn/Fe)3(HIB)2",
          "Co3(HITP)2"
         ],
         "legendgroup": "2D layered",
         "marker": {
          "color": "#EF553B",
          "size": [
           1175,
           306,
           300,
           526,
           210,
           630,
           114,
           2298,
           280
          ],
          "sizemin": 4,
          "sizemode": "area",
          "sizeref": 8,
          "symbol": "circle"
         },
         "mode": "markers",
         "name": "2D layered",
         "orientation": "v",
         "showlegend": true,
         "type": "scatter",
         "x": [
          2017,
          2012,
          2014,
          2018,
          2018,
          2014,
          2017,
          2019,
          2020
         ],
         "xaxis": "x",
         "y": [
          0.014,
          0.1,
          1.4e-06,
          0.034,
          10,
          150,
          13,
          359,
          11.5
         ],
         "yaxis": "y"
        },
        {
         "customdata": [
          [
           "Cd(DPNDI)",
           "3D"
          ],
          [
           "Cu[Cu(pdt)2]",
           "3D"
          ],
          [
           "Zn4O(NDC)3",
           "3D"
          ],
          [
           "I2@Zn3(lac)2(pybz)2",
           "3D"
          ],
          [
           "TCNQ@(TATAB)3",
           "3D"
          ]
         ],
         "hovertemplate": "<b>%{customdata[0]}</b><br><br>Dimensionality: %{customdata[1]}                                 <br>Year: %{x}<br>Value: %{y} S/cm                                 <br>BET: unknown <extra></extra>",
         "marker": {
          "color": "#636efa",
          "opacity": 0.7,
          "size": 5
         },
         "mode": "markers",
         "showlegend": false,
         "type": "scatter",
         "x": [
          2019,
          2009,
          2019,
          2010,
          2019
         ],
         "y": [
          0.033,
          0.0006,
          0.04,
          0.0034,
          2.7e-07
         ]
        },
        {
         "customdata": [
          [
           "V2(dhbq)3",
           "2D layered"
          ],
          [
           "Ni3(BHT)2",
           "2D layered"
          ],
          [
           "Ni3(BHT)2 oxidized",
           "2D layered"
          ],
          [
           "Cu3(HITP)2",
           "2D layered"
          ]
         ],
         "hovertemplate": "<b>%{customdata[0]}</b><br><br>Dimensionality: %{customdata[1]}                                 <br>Year: %{x}<br>Value: %{y} S/cm                                 <br>BET: unknown <extra></extra>",
         "marker": {
          "color": "#EF553B",
          "opacity": 0.7,
          "size": 5
         },
         "mode": "markers",
         "showlegend": false,
         "type": "scatter",
         "x": [
          2018,
          2013,
          2014,
          2015
         ],
         "y": [
          0.45,
          0.15,
          150,
          0.2
         ]
        },
        {
         "customdata": [
          [
           "Fe2(dhbq)3",
           "3D"
          ],
          [
           "Pb3(BHT)",
           "3D"
          ]
         ],
         "hovertemplate": "<b>%{customdata[0]}</b><br><br>Dimensionality: %{customdata[1]}                                 <br>Year: %{x}<br>Value: %{y} S/cm                                 <br>Dense <extra></extra>",
         "marker": {
          "color": "#636efa",
          "opacity": 0.7,
          "size": 5,
          "symbol": "circle-open"
         },
         "mode": "markers",
         "showlegend": false,
         "type": "scatter",
         "x": [
          2015,
          2008
         ],
         "y": [
          0.16,
          2e-06
         ]
        },
        {
         "customdata": [
          [
           "Cu3(BHT)",
           "2D layered"
          ],
          [
           "Cu3(BHSe)",
           "2D layered"
          ]
         ],
         "hovertemplate": "<b>%{customdata[0]}</b><br><br>Dimensionality: %{customdata[1]}                                 <br>Year: %{x}<br>Value: %{y} S/cm                                 <br>Dense <extra></extra>",
         "marker": {
          "color": "#EF553B",
          "opacity": 0.7,
          "size": 5,
          "symbol": "circle-open"
         },
         "mode": "markers",
         "showlegend": false,
         "type": "scatter",
         "x": [
          2015,
          2019
         ],
         "y": [
          2500,
          110
         ]
        },
        {
         "hoverinfo": "skip",
         "line": {
          "color": "blue",
          "width": 2
         },
         "mode": "lines",
         "name": "Champion porous 3D MOF",
         "type": "scatter",
         "x": [
          2010,
          2012,
          2013,
          2014,
          2015,
          2018,
          2019
         ],
         "y": [
          1e-08,
          7.7e-05,
          7.7e-05,
          0.07,
          0.07,
          1.2,
          1.2
         ]
        },
        {
         "hoverinfo": "skip",
         "line": {
          "color": "red",
          "width": 2
         },
         "mode": "lines",
         "name": "Champion porous 2D layered MOF",
         "type": "scatter",
         "x": [
          2012,
          2014,
          2017,
          2018,
          2019,
          2020
         ],
         "y": [
          0.1,
          150,
          150,
          150,
          359,
          359
         ]
        },
        {
         "hoverinfo": "skip",
         "line": {
          "color": "blue",
          "dash": "dash",
          "width": 1
         },
         "mode": "lines",
         "name": "Champion 3D MOF",
         "type": "scatter",
         "visible": "legendonly",
         "x": [
          2008,
          2009,
          2010,
          2012,
          2013,
          2014,
          2015,
          2018,
          2019
         ],
         "y": [
          2e-06,
          0.0006,
          0.0034,
          0.0034,
          0.0034,
          0.07,
          0.16,
          1.2,
          10.96
         ]
        },
        {
         "hoverinfo": "skip",
         "line": {
          "color": "red",
          "dash": "dash",
          "width": 1
         },
         "mode": "lines",
         "name": "Champion 2D layered MOF",
         "type": "scatter",
         "visible": "legendonly",
         "x": [
          2012,
          2013,
          2014,
          2015,
          2017,
          2018,
          2019,
          2020
         ],
         "y": [
          0.1,
          0.15,
          150,
          2500,
          2500,
          2500,
          2500,
          2500
         ]
        }
       ],
       "layout": {
        "autosize": true,
        "legend": {
         "itemsizing": "trace",
         "title": {},
         "tracegroupgap": 0
        },
        "template": {
         "data": {
          "bar": [
           {
            "error_x": {
             "color": "#2a3f5f"
            },
            "error_y": {
             "color": "#2a3f5f"
            },
            "marker": {
             "line": {
              "color": "white",
              "width": 0.5
             }
            },
            "type": "bar"
           }
          ],
          "barpolar": [
           {
            "marker": {
             "line": {
              "color": "white",
              "width": 0.5
             }
            },
            "type": "barpolar"
           }
          ],
          "carpet": [
           {
            "aaxis": {
             "endlinecolor": "#2a3f5f",
             "gridcolor": "#C8D4E3",
             "linecolor": "#C8D4E3",
             "minorgridcolor": "#C8D4E3",
             "startlinecolor": "#2a3f5f"
            },
            "baxis": {
             "endlinecolor": "#2a3f5f",
             "gridcolor": "#C8D4E3",
             "linecolor": "#C8D4E3",
             "minorgridcolor": "#C8D4E3",
             "startlinecolor": "#2a3f5f"
            },
            "type": "carpet"
           }
          ],
          "choropleth": [
           {
            "colorbar": {
             "outlinewidth": 0,
             "ticks": ""
            },
            "type": "choropleth"
           }
          ],
          "contour": [
           {
            "colorbar": {
             "outlinewidth": 0,
             "ticks": ""
            },
            "colorscale": [
             [
              0,
              "#0d0887"
             ],
             [
              0.1111111111111111,
              "#46039f"
             ],
             [
              0.2222222222222222,
              "#7201a8"
             ],
             [
              0.3333333333333333,
              "#9c179e"
             ],
             [
              0.4444444444444444,
              "#bd3786"
             ],
             [
              0.5555555555555556,
              "#d8576b"
             ],
             [
              0.6666666666666666,
              "#ed7953"
             ],
             [
              0.7777777777777778,
              "#fb9f3a"
             ],
             [
              0.8888888888888888,
              "#fdca26"
             ],
             [
              1,
              "#f0f921"
             ]
            ],
            "type": "contour"
           }
          ],
          "contourcarpet": [
           {
            "colorbar": {
             "outlinewidth": 0,
             "ticks": ""
            },
            "type": "contourcarpet"
           }
          ],
          "heatmap": [
           {
            "colorbar": {
             "outlinewidth": 0,
             "ticks": ""
            },
            "colorscale": [
             [
              0,
              "#0d0887"
             ],
             [
              0.1111111111111111,
              "#46039f"
             ],
             [
              0.2222222222222222,
              "#7201a8"
             ],
             [
              0.3333333333333333,
              "#9c179e"
             ],
             [
              0.4444444444444444,
              "#bd3786"
             ],
             [
              0.5555555555555556,
              "#d8576b"
             ],
             [
              0.6666666666666666,
              "#ed7953"
             ],
             [
              0.7777777777777778,
              "#fb9f3a"
             ],
             [
              0.8888888888888888,
              "#fdca26"
             ],
             [
              1,
              "#f0f921"
             ]
            ],
            "type": "heatmap"
           }
          ],
          "heatmapgl": [
           {
            "colorbar": {
             "outlinewidth": 0,
             "ticks": ""
            },
            "colorscale": [
             [
              0,
              "#0d0887"
             ],
             [
              0.1111111111111111,
              "#46039f"
             ],
             [
              0.2222222222222222,
              "#7201a8"
             ],
             [
              0.3333333333333333,
              "#9c179e"
             ],
             [
              0.4444444444444444,
              "#bd3786"
             ],
             [
              0.5555555555555556,
              "#d8576b"
             ],
             [
              0.6666666666666666,
              "#ed7953"
             ],
             [
              0.7777777777777778,
              "#fb9f3a"
             ],
             [
              0.8888888888888888,
              "#fdca26"
             ],
             [
              1,
              "#f0f921"
             ]
            ],
            "type": "heatmapgl"
           }
          ],
          "histogram": [
           {
            "marker": {
             "colorbar": {
              "outlinewidth": 0,
              "ticks": ""
             }
            },
            "type": "histogram"
           }
          ],
          "histogram2d": [
           {
            "colorbar": {
             "outlinewidth": 0,
             "ticks": ""
            },
            "colorscale": [
             [
              0,
              "#0d0887"
             ],
             [
              0.1111111111111111,
              "#46039f"
             ],
             [
              0.2222222222222222,
              "#7201a8"
             ],
             [
              0.3333333333333333,
              "#9c179e"
             ],
             [
              0.4444444444444444,
              "#bd3786"
             ],
             [
              0.5555555555555556,
              "#d8576b"
             ],
             [
              0.6666666666666666,
              "#ed7953"
             ],
             [
              0.7777777777777778,
              "#fb9f3a"
             ],
             [
              0.8888888888888888,
              "#fdca26"
             ],
             [
              1,
              "#f0f921"
             ]
            ],
            "type": "histogram2d"
           }
          ],
          "histogram2dcontour": [
           {
            "colorbar": {
             "outlinewidth": 0,
             "ticks": ""
            },
            "colorscale": [
             [
              0,
              "#0d0887"
             ],
             [
              0.1111111111111111,
              "#46039f"
             ],
             [
              0.2222222222222222,
              "#7201a8"
             ],
             [
              0.3333333333333333,
              "#9c179e"
             ],
             [
              0.4444444444444444,
              "#bd3786"
             ],
             [
              0.5555555555555556,
              "#d8576b"
             ],
             [
              0.6666666666666666,
              "#ed7953"
             ],
             [
              0.7777777777777778,
              "#fb9f3a"
             ],
             [
              0.8888888888888888,
              "#fdca26"
             ],
             [
              1,
              "#f0f921"
             ]
            ],
            "type": "histogram2dcontour"
           }
          ],
          "mesh3d": [
           {
            "colorbar": {
             "outlinewidth": 0,
             "ticks": ""
            },
            "type": "mesh3d"
           }
          ],
          "parcoords": [
           {
            "line": {
             "colorbar": {
              "outlinewidth": 0,
              "ticks": ""
             }
            },
            "type": "parcoords"
           }
          ],
          "pie": [
           {
            "automargin": true,
            "type": "pie"
           }
          ],
          "scatter": [
           {
            "marker": {
             "colorbar": {
              "outlinewidth": 0,
              "ticks": ""
             }
            },
            "type": "scatter"
           }
          ],
          "scatter3d": [
           {
            "line": {
             "colorbar": {
              "outlinewidth": 0,
              "ticks": ""
             }
            },
            "marker": {
             "colorbar": {
              "outlinewidth": 0,
              "ticks": ""
             }
            },
            "type": "scatter3d"
           }
          ],
          "scattercarpet": [
           {
            "marker": {
             "colorbar": {
              "outlinewidth": 0,
              "ticks": ""
             }
            },
            "type": "scattercarpet"
           }
          ],
          "scattergeo": [
           {
            "marker": {
             "colorbar": {
              "outlinewidth": 0,
              "ticks": ""
             }
            },
            "type": "scattergeo"
           }
          ],
          "scattergl": [
           {
            "marker": {
             "colorbar": {
              "outlinewidth": 0,
              "ticks": ""
             }
            },
            "type": "scattergl"
           }
          ],
          "scattermapbox": [
           {
            "marker": {
             "colorbar": {
              "outlinewidth": 0,
              "ticks": ""
             }
            },
            "type": "scattermapbox"
           }
          ],
          "scatterpolar": [
           {
            "marker": {
             "colorbar": {
              "outlinewidth": 0,
              "ticks": ""
             }
            },
            "type": "scatterpolar"
           }
          ],
          "scatterpolargl": [
           {
            "marker": {
             "colorbar": {
              "outlinewidth": 0,
              "ticks": ""
             }
            },
            "type": "scatterpolargl"
           }
          ],
          "scatterternary": [
           {
            "marker": {
             "colorbar": {
              "outlinewidth": 0,
              "ticks": ""
             }
            },
            "type": "scatterternary"
           }
          ],
          "surface": [
           {
            "colorbar": {
             "outlinewidth": 0,
             "ticks": ""
            },
            "colorscale": [
             [
              0,
              "#0d0887"
             ],
             [
              0.1111111111111111,
              "#46039f"
             ],
             [
              0.2222222222222222,
              "#7201a8"
             ],
             [
              0.3333333333333333,
              "#9c179e"
             ],
             [
              0.4444444444444444,
              "#bd3786"
             ],
             [
              0.5555555555555556,
              "#d8576b"
             ],
             [
              0.6666666666666666,
              "#ed7953"
             ],
             [
              0.7777777777777778,
              "#fb9f3a"
             ],
             [
              0.8888888888888888,
              "#fdca26"
             ],
             [
              1,
              "#f0f921"
             ]
            ],
            "type": "surface"
           }
          ],
          "table": [
           {
            "cells": {
             "fill": {
              "color": "#EBF0F8"
             },
             "line": {
              "color": "white"
             }
            },
            "header": {
             "fill": {
              "color": "#C8D4E3"
             },
             "line": {
              "color": "white"
             }
            },
            "type": "table"
           }
          ]
         },
         "layout": {
          "annotationdefaults": {
           "arrowcolor": "#2a3f5f",
           "arrowhead": 0,
           "arrowwidth": 1
          },
          "coloraxis": {
           "colorbar": {
            "outlinewidth": 0,
            "ticks": ""
           }
          },
          "colorscale": {
           "diverging": [
            [
             0,
             "#8e0152"
            ],
            [
             0.1,
             "#c51b7d"
            ],
            [
             0.2,
             "#de77ae"
            ],
            [
             0.3,
             "#f1b6da"
            ],
            [
             0.4,
             "#fde0ef"
            ],
            [
             0.5,
             "#f7f7f7"
            ],
            [
             0.6,
             "#e6f5d0"
            ],
            [
             0.7,
             "#b8e186"
            ],
            [
             0.8,
             "#7fbc41"
            ],
            [
             0.9,
             "#4d9221"
            ],
            [
             1,
             "#276419"
            ]
           ],
           "sequential": [
            [
             0,
             "#0d0887"
            ],
            [
             0.1111111111111111,
             "#46039f"
            ],
            [
             0.2222222222222222,
             "#7201a8"
            ],
            [
             0.3333333333333333,
             "#9c179e"
            ],
            [
             0.4444444444444444,
             "#bd3786"
            ],
            [
             0.5555555555555556,
             "#d8576b"
            ],
            [
             0.6666666666666666,
             "#ed7953"
            ],
            [
             0.7777777777777778,
             "#fb9f3a"
            ],
            [
             0.8888888888888888,
             "#fdca26"
            ],
            [
             1,
             "#f0f921"
            ]
           ],
           "sequentialminus": [
            [
             0,
             "#0d0887"
            ],
            [
             0.1111111111111111,
             "#46039f"
            ],
            [
             0.2222222222222222,
             "#7201a8"
            ],
            [
             0.3333333333333333,
             "#9c179e"
            ],
            [
             0.4444444444444444,
             "#bd3786"
            ],
            [
             0.5555555555555556,
             "#d8576b"
            ],
            [
             0.6666666666666666,
             "#ed7953"
            ],
            [
             0.7777777777777778,
             "#fb9f3a"
            ],
            [
             0.8888888888888888,
             "#fdca26"
            ],
            [
             1,
             "#f0f921"
            ]
           ]
          },
          "colorway": [
           "#636efa",
           "#EF553B",
           "#00cc96",
           "#ab63fa",
           "#FFA15A",
           "#19d3f3",
           "#FF6692",
           "#B6E880",
           "#FF97FF",
           "#FECB52"
          ],
          "font": {
           "color": "#2a3f5f"
          },
          "geo": {
           "bgcolor": "white",
           "lakecolor": "white",
           "landcolor": "white",
           "showlakes": true,
           "showland": true,
           "subunitcolor": "#C8D4E3"
          },
          "hoverlabel": {
           "align": "left"
          },
          "hovermode": "closest",
          "mapbox": {
           "style": "light"
          },
          "paper_bgcolor": "white",
          "plot_bgcolor": "white",
          "polar": {
           "angularaxis": {
            "gridcolor": "#EBF0F8",
            "linecolor": "#EBF0F8",
            "ticks": ""
           },
           "bgcolor": "white",
           "radialaxis": {
            "gridcolor": "#EBF0F8",
            "linecolor": "#EBF0F8",
            "ticks": ""
           }
          },
          "scene": {
           "xaxis": {
            "backgroundcolor": "white",
            "gridcolor": "#DFE8F3",
            "gridwidth": 2,
            "linecolor": "#EBF0F8",
            "showbackground": true,
            "ticks": "",
            "zerolinecolor": "#EBF0F8"
           },
           "yaxis": {
            "backgroundcolor": "white",
            "gridcolor": "#DFE8F3",
            "gridwidth": 2,
            "linecolor": "#EBF0F8",
            "showbackground": true,
            "ticks": "",
            "zerolinecolor": "#EBF0F8"
           },
           "zaxis": {
            "backgroundcolor": "white",
            "gridcolor": "#DFE8F3",
            "gridwidth": 2,
            "linecolor": "#EBF0F8",
            "showbackground": true,
            "ticks": "",
            "zerolinecolor": "#EBF0F8"
           }
          },
          "shapedefaults": {
           "line": {
            "color": "#2a3f5f"
           }
          },
          "ternary": {
           "aaxis": {
            "gridcolor": "#DFE8F3",
            "linecolor": "#A2B1C6",
            "ticks": ""
           },
           "baxis": {
            "gridcolor": "#DFE8F3",
            "linecolor": "#A2B1C6",
            "ticks": ""
           },
           "bgcolor": "white",
           "caxis": {
            "gridcolor": "#DFE8F3",
            "linecolor": "#A2B1C6",
            "ticks": ""
           }
          },
          "title": {
           "x": 0.05
          },
          "xaxis": {
           "automargin": true,
           "gridcolor": "#EBF0F8",
           "linecolor": "#EBF0F8",
           "ticks": "",
           "title": {
            "standoff": 15
           },
           "zerolinecolor": "#EBF0F8",
           "zerolinewidth": 2
          },
          "yaxis": {
           "automargin": true,
           "gridcolor": "#EBF0F8",
           "linecolor": "#EBF0F8",
           "ticks": "",
           "title": {
            "standoff": 15
           },
           "zerolinecolor": "#EBF0F8",
           "zerolinewidth": 2
          }
         }
        },
        "title": {
         "text": "Conductivity performance of Metal-organic Frameworks"
        },
        "xaxis": {
         "anchor": "y",
         "autorange": true,
         "domain": [
          0,
          1
         ],
         "range": [
          2007.2552112275816,
          2020.7788629242555
         ],
         "title": {
          "text": "Year"
         },
         "type": "linear"
        },
        "yaxis": {
         "anchor": "x",
         "autorange": true,
         "domain": [
          0,
          1
         ],
         "range": [
          -9.084872251364775,
          4.216989851091818
         ],
         "title": {
          "text": "Conductivity [S/cm]"
         },
         "type": "log"
        }
       }
      },
      "image/png": "[encoded data removed]",
      "text/html": [
       "<div>\n",
       "        \n",
       "        \n",
       "            <div id=\"bb5acab6-6d3b-4b57-b40d-7744320e86c0\" class=\"plotly-graph-div\" style=\"height:525px; width:100%;\"></div>\n",
       "            <script type=\"text/javascript\">\n",
       "                require([\"plotly\"], function(Plotly) {\n",
       "                    window.PLOTLYENV=window.PLOTLYENV || {};\n",
       "                    \n",
       "                if (document.getElementById(\"bb5acab6-6d3b-4b57-b40d-7744320e86c0\")) {\n",
       "                    Plotly.newPlot(\n",
       "                        'bb5acab6-6d3b-4b57-b40d-7744320e86c0',\n",
       "                        [{\"customdata\": [[\"3D\", 248.0], [\"3D\", 54.0], [\"3D\", 370.0], [\"3D\", 450.0], [\"3D\", 50.0], [\"3D\", 614.0], [\"3D\", 1230.0], [\"3D\", 610.0], [\"3D\", 3.0], [\"3D\", 208.0], [\"3D\", 559.0], [\"3D\", 385.0], [\"3D\", 69.6], [\"3D\", 214.0], [\"3D\", 1550.0]], \"hovertemplate\": \"<b>%{hovertext}</b><br><br>Dimensionality: %{customdata[0]}                                 <br>Year: %{x}<br>Value: %{y} S/cm                                 <br>BET: %{customdata[1]} m<sup>2</sup>/g<extra></extra>\", \"hovertext\": [\"Fe2DOBDC\", \"Fe2DSBDC\", \"Fe(1,2,3-triazolate)\", \"Fe(1,2,3-triazolate) (oxidized)\", \"Fe(1,2,3-triazolate)(BF4)0.33\", \"Fe2(BDT)3 (oxidized)\", \"Fe2(BDP)3\", \"K(0.98)Fe2(BDP)3\", \"Cu2(6-Hmna)(6-mn)\", \"Ho(1+x)(HOTP)\", \"Cd2(TTFTB)\", \"Cu[Ni(pdt)2]\", \"I2@Eu4(BPT)4\", \"TCNQ@Cu3(BTC)2\", \"C60@Zr6(OH)16(TBAPy)2\"], \"legendgroup\": \"3D\", \"marker\": {\"color\": \"#636efa\", \"size\": [248.0, 54.0, 370.0, 450.0, 50.0, 614.0, 1230.0, 610.0, 3.0, 208.0, 559.0, 385.0, 69.6, 214.0, 1550.0], \"sizemin\": 4, \"sizemode\": \"area\", \"sizeref\": 8, \"symbol\": \"circle\"}, \"mode\": \"markers\", \"name\": \"3D\", \"orientation\": \"v\", \"showlegend\": true, \"type\": \"scatter\", \"x\": [2013, 2013, 2018, 2012, 2018, 2018, 2018, 2018, 2019, 2019, 2015, 2010, 2014, 2014, 2018], \"xaxis\": \"x\", \"y\": [3.2e-07, 3.9e-06, 7e-09, 7.7e-05, 0.3, 1.2, 3.5e-07, 0.025, 10.96, 0.05, 0.00029, 1e-08, 8.2e-07, 0.07, 0.001], \"yaxis\": \"y\"}, {\"customdata\": [[\"2D layered\", 1175.0], [\"2D layered\", 306.0], [\"2D layered\", 300.0], [\"2D layered\", 526.0], [\"2D layered\", 210.0], [\"2D layered\", 630.0], [\"2D layered\", 114.0], [\"2D layered\", 2298.0], [\"2D layered\", 280.0]], \"hovertemplate\": \"<b>%{hovertext}</b><br><br>Dimensionality: %{customdata[0]}                                 <br>Year: %{x}<br>Value: %{y} S/cm                                 <br>BET: %{customdata[1]} m<sup>2</sup>/g<extra></extra>\", \"hovertext\": [\"Fe2(dhbq)3\", \"Cu3(HOTP)2\", \"Pt3(THT)2\", \"Fe3(THT)2\", \"Fe3(PTC)\", \"Ni3(HITP)2\", \"Cu3(HIB)2\", \"(Mn/Fe)3(HIB)2\", \"Co3(HITP)2\"], \"legendgroup\": \"2D layered\", \"marker\": {\"color\": \"#EF553B\", \"size\": [1175.0, 306.0, 300.0, 526.0, 210.0, 630.0, 114.0, 2298.0, 280.0], \"sizemin\": 4, \"sizemode\": \"area\", \"sizeref\": 8, \"symbol\": \"circle\"}, \"mode\": \"markers\", \"name\": \"2D layered\", \"orientation\": \"v\", \"showlegend\": true, \"type\": \"scatter\", \"x\": [2017, 2012, 2014, 2018, 2018, 2014, 2017, 2019, 2020], \"xaxis\": \"x\", \"y\": [0.014, 0.1, 1.4e-06, 0.034, 10.0, 150.0, 13.0, 359.0, 11.5], \"yaxis\": \"y\"}, {\"customdata\": [[\"Cd(DPNDI)\", \"3D\"], [\"Cu[Cu(pdt)2]\", \"3D\"], [\"Zn4O(NDC)3\", \"3D\"], [\"I2@Zn3(lac)2(pybz)2\", \"3D\"], [\"TCNQ@(TATAB)3\", \"3D\"]], \"hovertemplate\": \"<b>%{customdata[0]}</b><br><br>Dimensionality: %{customdata[1]}                                 <br>Year: %{x}<br>Value: %{y} S/cm                                 <br>BET: unknown <extra></extra>\", \"marker\": {\"color\": \"#636efa\", \"opacity\": 0.7, \"size\": 5}, \"mode\": \"markers\", \"showlegend\": false, \"type\": \"scatter\", \"x\": [2019, 2009, 2019, 2010, 2019], \"y\": [0.033, 0.0006, 0.04, 0.0034, 2.7e-07]}, {\"customdata\": [[\"V2(dhbq)3\", \"2D layered\"], [\"Ni3(BHT)2\", \"2D layered\"], [\"Ni3(BHT)2 oxidized\", \"2D layered\"], [\"Cu3(HITP)2\", \"2D layered\"]], \"hovertemplate\": \"<b>%{customdata[0]}</b><br><br>Dimensionality: %{customdata[1]}                                 <br>Year: %{x}<br>Value: %{y} S/cm                                 <br>BET: unknown <extra></extra>\", \"marker\": {\"color\": \"#EF553B\", \"opacity\": 0.7, \"size\": 5}, \"mode\": \"markers\", \"showlegend\": false, \"type\": \"scatter\", \"x\": [2018, 2013, 2014, 2015], \"y\": [0.45, 0.15, 150.0, 0.2]}, {\"customdata\": [[\"Fe2(dhbq)3\", \"3D\"], [\"Pb3(BHT)\", \"3D\"]], \"hovertemplate\": \"<b>%{customdata[0]}</b><br><br>Dimensionality: %{customdata[1]}                                 <br>Year: %{x}<br>Value: %{y} S/cm                                 <br>Dense <extra></extra>\", \"marker\": {\"color\": \"#636efa\", \"opacity\": 0.7, \"size\": 5, \"symbol\": \"circle-open\"}, \"mode\": \"markers\", \"showlegend\": false, \"type\": \"scatter\", \"x\": [2015, 2008], \"y\": [0.16, 2e-06]}, {\"customdata\": [[\"Cu3(BHT)\", \"2D layered\"], [\"Cu3(BHSe)\", \"2D layered\"]], \"hovertemplate\": \"<b>%{customdata[0]}</b><br><br>Dimensionality: %{customdata[1]}                                 <br>Year: %{x}<br>Value: %{y} S/cm                                 <br>Dense <extra></extra>\", \"marker\": {\"color\": \"#EF553B\", \"opacity\": 0.7, \"size\": 5, \"symbol\": \"circle-open\"}, \"mode\": \"markers\", \"showlegend\": false, \"type\": \"scatter\", \"x\": [2015, 2019], \"y\": [2500.0, 110.0]}, {\"hoverinfo\": \"skip\", \"line\": {\"color\": \"blue\", \"width\": 2}, \"mode\": \"lines\", \"name\": \"Champion porous 3D MOF\", \"type\": \"scatter\", \"x\": [2010, 2012, 2013, 2014, 2015, 2018, 2019], \"y\": [1e-08, 7.7e-05, 7.7e-05, 0.07, 0.07, 1.2, 1.2]}, {\"hoverinfo\": \"skip\", \"line\": {\"color\": \"red\", \"width\": 2}, \"mode\": \"lines\", \"name\": \"Champion porous 2D layered MOF\", \"type\": \"scatter\", \"x\": [2012, 2014, 2017, 2018, 2019, 2020], \"y\": [0.1, 150.0, 150.0, 150.0, 359.0, 359.0]}, {\"hoverinfo\": \"skip\", \"line\": {\"color\": \"blue\", \"dash\": \"dash\", \"width\": 1}, \"mode\": \"lines\", \"name\": \"Champion 3D MOF\", \"type\": \"scatter\", \"visible\": \"legendonly\", \"x\": [2008, 2009, 2010, 2012, 2013, 2014, 2015, 2018, 2019], \"y\": [2e-06, 0.0006, 0.0034, 0.0034, 0.0034, 0.07, 0.16, 1.2, 10.96]}, {\"hoverinfo\": \"skip\", \"line\": {\"color\": \"red\", \"dash\": \"dash\", \"width\": 1}, \"mode\": \"lines\", \"name\": \"Champion 2D layered MOF\", \"type\": \"scatter\", \"visible\": \"legendonly\", \"x\": [2012, 2013, 2014, 2015, 2017, 2018, 2019, 2020], \"y\": [0.1, 0.15, 150.0, 2500.0, 2500.0, 2500.0, 2500.0, 2500.0]}],\n",
       "                        {\"legend\": {\"itemsizing\": \"trace\", \"title\": {}, \"tracegroupgap\": 0}, \"template\": {\"data\": {\"bar\": [{\"error_x\": {\"color\": \"#2a3f5f\"}, \"error_y\": {\"color\": \"#2a3f5f\"}, \"marker\": {\"line\": {\"color\": \"white\", \"width\": 0.5}}, \"type\": \"bar\"}], \"barpolar\": [{\"marker\": {\"line\": {\"color\": \"white\", \"width\": 0.5}}, \"type\": \"barpolar\"}], \"carpet\": [{\"aaxis\": {\"endlinecolor\": \"#2a3f5f\", \"gridcolor\": \"#C8D4E3\", \"linecolor\": \"#C8D4E3\", \"minorgridcolor\": \"#C8D4E3\", \"startlinecolor\": \"#2a3f5f\"}, \"baxis\": {\"endlinecolor\": \"#2a3f5f\", \"gridcolor\": \"#C8D4E3\", \"linecolor\": \"#C8D4E3\", \"minorgridcolor\": \"#C8D4E3\", \"startlinecolor\": \"#2a3f5f\"}, \"type\": \"carpet\"}], \"choropleth\": [{\"colorbar\": {\"outlinewidth\": 0, \"ticks\": \"\"}, \"type\": \"choropleth\"}], \"contour\": [{\"colorbar\": {\"outlinewidth\": 0, \"ticks\": \"\"}, \"colorscale\": [[0.0, \"#0d0887\"], [0.1111111111111111, \"#46039f\"], [0.2222222222222222, \"#7201a8\"], [0.3333333333333333, \"#9c179e\"], [0.4444444444444444, \"#bd3786\"], [0.5555555555555556, \"#d8576b\"], [0.6666666666666666, \"#ed7953\"], [0.7777777777777778, \"#fb9f3a\"], [0.8888888888888888, \"#fdca26\"], [1.0, \"#f0f921\"]], \"type\": \"contour\"}], \"contourcarpet\": [{\"colorbar\": {\"outlinewidth\": 0, \"ticks\": \"\"}, \"type\": \"contourcarpet\"}], \"heatmap\": [{\"colorbar\": {\"outlinewidth\": 0, \"ticks\": \"\"}, \"colorscale\": [[0.0, \"#0d0887\"], [0.1111111111111111, \"#46039f\"], [0.2222222222222222, \"#7201a8\"], [0.3333333333333333, \"#9c179e\"], [0.4444444444444444, \"#bd3786\"], [0.5555555555555556, \"#d8576b\"], [0.6666666666666666, \"#ed7953\"], [0.7777777777777778, \"#fb9f3a\"], [0.8888888888888888, \"#fdca26\"], [1.0, \"#f0f921\"]], \"type\": \"heatmap\"}], \"heatmapgl\": [{\"colorbar\": {\"outlinewidth\": 0, \"ticks\": \"\"}, \"colorscale\": [[0.0, \"#0d0887\"], [0.1111111111111111, \"#46039f\"], [0.2222222222222222, \"#7201a8\"], [0.3333333333333333, \"#9c179e\"], [0.4444444444444444, \"#bd3786\"], [0.5555555555555556, \"#d8576b\"], [0.6666666666666666, \"#ed7953\"], [0.7777777777777778, \"#fb9f3a\"], [0.8888888888888888, \"#fdca26\"], [1.0, \"#f0f921\"]], \"type\": \"heatmapgl\"}], \"histogram\": [{\"marker\": {\"colorbar\": {\"outlinewidth\": 0, \"ticks\": \"\"}}, \"type\": \"histogram\"}], \"histogram2d\": [{\"colorbar\": {\"outlinewidth\": 0, \"ticks\": \"\"}, \"colorscale\": [[0.0, \"#0d0887\"], [0.1111111111111111, \"#46039f\"], [0.2222222222222222, \"#7201a8\"], [0.3333333333333333, \"#9c179e\"], [0.4444444444444444, \"#bd3786\"], [0.5555555555555556, \"#d8576b\"], [0.6666666666666666, \"#ed7953\"], [0.7777777777777778, \"#fb9f3a\"], [0.8888888888888888, \"#fdca26\"], [1.0, \"#f0f921\"]], \"type\": \"histogram2d\"}], \"histogram2dcontour\": [{\"colorbar\": {\"outlinewidth\": 0, \"ticks\": \"\"}, \"colorscale\": [[0.0, \"#0d0887\"], [0.1111111111111111, \"#46039f\"], [0.2222222222222222, \"#7201a8\"], [0.3333333333333333, \"#9c179e\"], [0.4444444444444444, \"#bd3786\"], [0.5555555555555556, \"#d8576b\"], [0.6666666666666666, \"#ed7953\"], [0.7777777777777778, \"#fb9f3a\"], [0.8888888888888888, \"#fdca26\"], [1.0, \"#f0f921\"]], \"type\": \"histogram2dcontour\"}], \"mesh3d\": [{\"colorbar\": {\"outlinewidth\": 0, \"ticks\": \"\"}, \"type\": \"mesh3d\"}], \"parcoords\": [{\"line\": {\"colorbar\": {\"outlinewidth\": 0, \"ticks\": \"\"}}, \"type\": \"parcoords\"}], \"pie\": [{\"automargin\": true, \"type\": \"pie\"}], \"scatter\": [{\"marker\": {\"colorbar\": {\"outlinewidth\": 0, \"ticks\": \"\"}}, \"type\": \"scatter\"}], \"scatter3d\": [{\"line\": {\"colorbar\": {\"outlinewidth\": 0, \"ticks\": \"\"}}, \"marker\": {\"colorbar\": {\"outlinewidth\": 0, \"ticks\": \"\"}}, \"type\": \"scatter3d\"}], \"scattercarpet\": [{\"marker\": {\"colorbar\": {\"outlinewidth\": 0, \"ticks\": \"\"}}, \"type\": \"scattercarpet\"}], \"scattergeo\": [{\"marker\": {\"colorbar\": {\"outlinewidth\": 0, \"ticks\": \"\"}}, \"type\": \"scattergeo\"}], \"scattergl\": [{\"marker\": {\"colorbar\": {\"outlinewidth\": 0, \"ticks\": \"\"}}, \"type\": \"scattergl\"}], \"scattermapbox\": [{\"marker\": {\"colorbar\": {\"outlinewidth\": 0, \"ticks\": \"\"}}, \"type\": \"scattermapbox\"}], \"scatterpolar\": [{\"marker\": {\"colorbar\": {\"outlinewidth\": 0, \"ticks\": \"\"}}, \"type\": \"scatterpolar\"}], \"scatterpolargl\": [{\"marker\": {\"colorbar\": {\"outlinewidth\": 0, \"ticks\": \"\"}}, \"type\": \"scatterpolargl\"}], \"scatterternary\": [{\"marker\": {\"colorbar\": {\"outlinewidth\": 0, \"ticks\": \"\"}}, \"type\": \"scatterternary\"}], \"surface\": [{\"colorbar\": {\"outlinewidth\": 0, \"ticks\": \"\"}, \"colorscale\": [[0.0, \"#0d0887\"], [0.1111111111111111, \"#46039f\"], [0.2222222222222222, \"#7201a8\"], [0.3333333333333333, \"#9c179e\"], [0.4444444444444444, \"#bd3786\"], [0.5555555555555556, \"#d8576b\"], [0.6666666666666666, \"#ed7953\"], [0.7777777777777778, \"#fb9f3a\"], [0.8888888888888888, \"#fdca26\"], [1.0, \"#f0f921\"]], \"type\": \"surface\"}], \"table\": [{\"cells\": {\"fill\": {\"color\": \"#EBF0F8\"}, \"line\": {\"color\": \"white\"}}, \"header\": {\"fill\": {\"color\": \"#C8D4E3\"}, \"line\": {\"color\": \"white\"}}, \"type\": \"table\"}]}, \"layout\": {\"annotationdefaults\": {\"arrowcolor\": \"#2a3f5f\", \"arrowhead\": 0, \"arrowwidth\": 1}, \"coloraxis\": {\"colorbar\": {\"outlinewidth\": 0, \"ticks\": \"\"}}, \"colorscale\": {\"diverging\": [[0, \"#8e0152\"], [0.1, \"#c51b7d\"], [0.2, \"#de77ae\"], [0.3, \"#f1b6da\"], [0.4, \"#fde0ef\"], [0.5, \"#f7f7f7\"], [0.6, \"#e6f5d0\"], [0.7, \"#b8e186\"], [0.8, \"#7fbc41\"], [0.9, \"#4d9221\"], [1, \"#276419\"]], \"sequential\": [[0.0, \"#0d0887\"], [0.1111111111111111, \"#46039f\"], [0.2222222222222222, \"#7201a8\"], [0.3333333333333333, \"#9c179e\"], [0.4444444444444444, \"#bd3786\"], [0.5555555555555556, \"#d8576b\"], [0.6666666666666666, \"#ed7953\"], [0.7777777777777778, \"#fb9f3a\"], [0.8888888888888888, \"#fdca26\"], [1.0, \"#f0f921\"]], \"sequentialminus\": [[0.0, \"#0d0887\"], [0.1111111111111111, \"#46039f\"], [0.2222222222222222, \"#7201a8\"], [0.3333333333333333, \"#9c179e\"], [0.4444444444444444, \"#bd3786\"], [0.5555555555555556, \"#d8576b\"], [0.6666666666666666, \"#ed7953\"], [0.7777777777777778, \"#fb9f3a\"], [0.8888888888888888, \"#fdca26\"], [1.0, \"#f0f921\"]]}, \"colorway\": [\"#636efa\", \"#EF553B\", \"#00cc96\", \"#ab63fa\", \"#FFA15A\", \"#19d3f3\", \"#FF6692\", \"#B6E880\", \"#FF97FF\", \"#FECB52\"], \"font\": {\"color\": \"#2a3f5f\"}, \"geo\": {\"bgcolor\": \"white\", \"lakecolor\": \"white\", \"landcolor\": \"white\", \"showlakes\": true, \"showland\": true, \"subunitcolor\": \"#C8D4E3\"}, \"hoverlabel\": {\"align\": \"left\"}, \"hovermode\": \"closest\", \"mapbox\": {\"style\": \"light\"}, \"paper_bgcolor\": \"white\", \"plot_bgcolor\": \"white\", \"polar\": {\"angularaxis\": {\"gridcolor\": \"#EBF0F8\", \"linecolor\": \"#EBF0F8\", \"ticks\": \"\"}, \"bgcolor\": \"white\", \"radialaxis\": {\"gridcolor\": \"#EBF0F8\", \"linecolor\": \"#EBF0F8\", \"ticks\": \"\"}}, \"scene\": {\"xaxis\": {\"backgroundcolor\": \"white\", \"gridcolor\": \"#DFE8F3\", \"gridwidth\": 2, \"linecolor\": \"#EBF0F8\", \"showbackground\": true, \"ticks\": \"\", \"zerolinecolor\": \"#EBF0F8\"}, \"yaxis\": {\"backgroundcolor\": \"white\", \"gridcolor\": \"#DFE8F3\", \"gridwidth\": 2, \"linecolor\": \"#EBF0F8\", \"showbackground\": true, \"ticks\": \"\", \"zerolinecolor\": \"#EBF0F8\"}, \"zaxis\": {\"backgroundcolor\": \"white\", \"gridcolor\": \"#DFE8F3\", \"gridwidth\": 2, \"linecolor\": \"#EBF0F8\", \"showbackground\": true, \"ticks\": \"\", \"zerolinecolor\": \"#EBF0F8\"}}, \"shapedefaults\": {\"line\": {\"color\": \"#2a3f5f\"}}, \"ternary\": {\"aaxis\": {\"gridcolor\": \"#DFE8F3\", \"linecolor\": \"#A2B1C6\", \"ticks\": \"\"}, \"baxis\": {\"gridcolor\": \"#DFE8F3\", \"linecolor\": \"#A2B1C6\", \"ticks\": \"\"}, \"bgcolor\": \"white\", \"caxis\": {\"gridcolor\": \"#DFE8F3\", \"linecolor\": \"#A2B1C6\", \"ticks\": \"\"}}, \"title\": {\"x\": 0.05}, \"xaxis\": {\"automargin\": true, \"gridcolor\": \"#EBF0F8\", \"linecolor\": \"#EBF0F8\", \"ticks\": \"\", \"title\": {\"standoff\": 15}, \"zerolinecolor\": \"#EBF0F8\", \"zerolinewidth\": 2}, \"yaxis\": {\"automargin\": true, \"gridcolor\": \"#EBF0F8\", \"linecolor\": \"#EBF0F8\", \"ticks\": \"\", \"title\": {\"standoff\": 15}, \"zerolinecolor\": \"#EBF0F8\", \"zerolinewidth\": 2}}}, \"title\": {\"text\": \"Conductivity performance of Metal-organic Frameworks\"}, \"xaxis\": {\"anchor\": \"y\", \"domain\": [0.0, 1.0], \"title\": {\"text\": \"Year\"}}, \"yaxis\": {\"anchor\": \"x\", \"domain\": [0.0, 1.0], \"title\": {\"text\": \"Conductivity [S/cm]\"}, \"type\": \"log\"}},\n",
       "                        {\"responsive\": true}\n",
       "                    ).then(function(){\n",
       "                            \n",
       "var gd = document.getElementById('bb5acab6-6d3b-4b57-b40d-7744320e86c0');\n",
       "var x = new MutationObserver(function (mutations, observer) {{\n",
       "        var display = window.getComputedStyle(gd).display;\n",
       "        if (!display || display === 'none') {{\n",
       "            console.log([gd, 'removed!']);\n",
       "            Plotly.purge(gd);\n",
       "            observer.disconnect();\n",
       "        }}\n",
       "}});\n",
       "\n",
       "// Listen for the removal of the full notebook cells\n",
       "var notebookContainer = gd.closest('#notebook-container');\n",
       "if (notebookContainer) {{\n",
       "    x.observe(notebookContainer, {childList: true});\n",
       "}}\n",
       "\n",
       "// Listen for the clearing of the current output cell\n",
       "var outputEl = gd.closest('.output');\n",
       "if (outputEl) {{\n",
       "    x.observe(outputEl, {childList: true});\n",
       "}}\n",
       "\n",
       "                        })\n",
       "                };\n",
       "                });\n",
       "            </script>\n",
       "        </div>"
      ]
     },
     "metadata": {},
     "output_type": "display_data"
    }
   ],
   "source": [
    "fig = px.scatter(mofs[mofs['BET']>1], x='Year', y='Value',\n",
    "                 hover_name='Name', color='Dimensionality', size='Porosity', hover_data=['Dimensionality','Porosity'], \n",
    "                 labels={'Value': \"Conductivity [S/cm]\"}, template='plotly_white', \n",
    "                 title='Conductivity performance of Metal-organic Frameworks')\n",
    "\n",
    "fig.update_traces(marker=dict(sizemin=4, sizeref=8))\n",
    "fig.update_layout(yaxis_type=\"log\")\n",
    "fig.update_traces(hovertemplate='<b>%{hovertext}</b><br><br>Dimensionality: %{customdata[0]}\\\n",
    "                                 <br>Year: %{x}<br>Value: %{y} S/cm\\\n",
    "                                 <br>BET: %{customdata[1]} m<sup>2</sup>/g<extra></extra>')\n",
    "\n",
    "fig.add_trace(go.Scatter(x=mofs[(mofs['Porous']=='Yes') & (mofs['Porosity']<1) & (mofs['Dimensionality']=='3D')]['Year'], \n",
    "                         y=mofs[(mofs['Porous']=='Yes') & (mofs['Porosity']<1) & (mofs['Dimensionality']=='3D')]['Value'], \n",
    "                         mode='markers', marker=dict(color='#636efa', size=5, opacity=0.7),  \n",
    "                         customdata=np.stack((mofs[(mofs['Porous']=='Yes') & (mofs['Porosity']<1) & (mofs['Dimensionality']=='3D')]['Name'], \n",
    "                                              mofs[(mofs['Porous']=='Yes') & (mofs['Porosity']<1) & (mofs['Dimensionality']=='3D')]['Dimensionality']), \n",
    "                                              axis=-1), \n",
    "                         hovertemplate='<b>%{customdata[0]}</b><br><br>Dimensionality: %{customdata[1]}\\\n",
    "                                 <br>Year: %{x}<br>Value: %{y} S/cm\\\n",
    "                                 <br>BET: unknown <extra></extra>', \n",
    "                         showlegend=False))\n",
    "\n",
    "fig.add_trace(go.Scatter(x=mofs[(mofs['Porous']=='Yes') & (mofs['Porosity']<1) & (mofs['Dimensionality']=='2D layered')]['Year'], \n",
    "                         y=mofs[(mofs['Porous']=='Yes') & (mofs['Porosity']<1) & (mofs['Dimensionality']=='2D layered')]['Value'], \n",
    "                         mode='markers', marker=dict(color='#EF553B', size=5, opacity=0.7),  \n",
    "                         customdata=np.stack((mofs[(mofs['Porous']=='Yes') & (mofs['Porosity']<1) & (mofs['Dimensionality']=='2D layered')]['Name'], \n",
    "                                              mofs[(mofs['Porous']=='Yes') & (mofs['Porosity']<1) & (mofs['Dimensionality']=='2D layered')]['Dimensionality']), \n",
    "                                              axis=-1), \n",
    "                         hovertemplate='<b>%{customdata[0]}</b><br><br>Dimensionality: %{customdata[1]}\\\n",
    "                                 <br>Year: %{x}<br>Value: %{y} S/cm\\\n",
    "                                 <br>BET: unknown <extra></extra>', \n",
    "                         showlegend=False))\n",
    "\n",
    "fig.add_trace(go.Scatter(x=mofs[(mofs['Porous']=='No') & (mofs['Porosity']<1) & (mofs['Dimensionality']=='3D')]['Year'], \n",
    "                         y=mofs[(mofs['Porous']=='No') & (mofs['Porosity']<1) & (mofs['Dimensionality']=='3D')]['Value'], \n",
    "                         mode='markers', marker=dict(color='#636efa', size=5, opacity=0.7, symbol='circle-open'),  \n",
    "                         customdata=np.stack((mofs[(mofs['Porous']=='No') & (mofs['Porosity']<1) & (mofs['Dimensionality']=='3D')]['Name'], \n",
    "                                              mofs[(mofs['Porous']=='No') & (mofs['Porosity']<1) & (mofs['Dimensionality']=='3D')]['Dimensionality']), \n",
    "                                              axis=-1), \n",
    "                         hovertemplate='<b>%{customdata[0]}</b><br><br>Dimensionality: %{customdata[1]}\\\n",
    "                                 <br>Year: %{x}<br>Value: %{y} S/cm\\\n",
    "                                 <br>Dense <extra></extra>', \n",
    "                         showlegend=False))\n",
    "\n",
    "fig.add_trace(go.Scatter(x=mofs[(mofs['Porous']=='No') & (mofs['Porosity']<1) & (mofs['Dimensionality']=='2D layered')]['Year'], \n",
    "                         y=mofs[(mofs['Porous']=='No') & (mofs['Porosity']<1) & (mofs['Dimensionality']=='2D layered')]['Value'], \n",
    "                         mode='markers', marker=dict(color='#EF553B', size=5, opacity=0.7, symbol='circle-open'),  \n",
    "                         customdata=np.stack((mofs[(mofs['Porous']=='No') & (mofs['Porosity']<1) & (mofs['Dimensionality']=='2D layered')]['Name'], \n",
    "                                              mofs[(mofs['Porous']=='No') & (mofs['Porosity']<1) & (mofs['Dimensionality']=='2D layered')]['Dimensionality']), \n",
    "                                              axis=-1), \n",
    "                         hovertemplate='<b>%{customdata[0]}</b><br><br>Dimensionality: %{customdata[1]}\\\n",
    "                                 <br>Year: %{x}<br>Value: %{y} S/cm\\\n",
    "                                 <br>Dense <extra></extra>', \n",
    "                         showlegend=False))\n",
    "\n",
    "fig.add_trace(go.Scatter(x=mofs_sorted_3D_porous_cummax['Year'], y=mofs_sorted_3D_porous_cummax['Value'], \n",
    "                         name='Champion porous 3D MOF', line=dict(color='blue', width=2), hoverinfo='skip', mode='lines'))\n",
    "\n",
    "fig.add_trace(go.Scatter(x=mofs_sorted_2D_porous_cummax['Year'], y=mofs_sorted_2D_porous_cummax['Value'], \n",
    "                         name='Champion porous 2D layered MOF', line=dict(color='red', width=2), hoverinfo='skip', mode='lines'))\n",
    "\n",
    "\n",
    "fig.add_trace(go.Scatter(x=mofs_sorted_3D_cummax['Year'], y=mofs_sorted_3D_cummax['Value'], \n",
    "                         name='Champion 3D MOF', line=dict(color='blue', width=1, dash='dash'), hoverinfo='skip', \n",
    "                         mode='lines', visible='legendonly'))\n",
    "\n",
    "fig.add_trace(go.Scatter(x=mofs_sorted_2D_cummax['Year'], y=mofs_sorted_2D_cummax['Value'], \n",
    "                         name='Champion 2D layered MOF', line=dict(color='red', width=1, dash='dash'), hoverinfo='skip', \n",
    "                         mode='lines', visible='legendonly'))\n",
    "\n",
    "fig.update_layout(legend={'itemsizing': 'trace'}, legend_title_text=None)\n",
    "\n",
    "fig.show()"
   ]
  },
  {
   "cell_type": "code",
   "execution_count": 89,
   "metadata": {},
   "outputs": [
    {
     "data": {
      "text/plain": [
       "'https://plotly.com/~MatG92/1/'"
      ]
     },
     "execution_count": 89,
     "metadata": {},
     "output_type": "execute_result"
    }
   ],
   "source": [
    "import chart_studio.plotly as py\n",
    "py.plot(fig, filename = 'test', auto_open=True)"
   ]
  },
  {
   "cell_type": "code",
   "execution_count": 90,
   "metadata": {},
   "outputs": [],
   "source": [
    "import plotly.io as pio\n",
    "pio.write_html(fig, file='index.html')"
   ]
  }
 ],
 "metadata": {
  "kernelspec": {
   "display_name": "Python 3",
   "language": "python",
   "name": "python3"
  },
  "language_info": {
   "codemirror_mode": {
    "name": "ipython",
    "version": 3
   },
   "file_extension": ".py",
   "mimetype": "text/x-python",
   "name": "python",
   "nbconvert_exporter": "python",
   "pygments_lexer": "ipython3",
   "version": "3.7.7"
  }
 },
 "nbformat": 4,
 "nbformat_minor": 4
}
