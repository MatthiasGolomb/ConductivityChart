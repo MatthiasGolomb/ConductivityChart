{
 "cells": [
  {
   "cell_type": "code",
   "execution_count": 1,
   "metadata": {},
   "outputs": [],
   "source": [
    "import pandas as pd\n",
    "import plotly.graph_objects as go\n",
    "import numpy as np\n",
    "from numpy import nan\n",
    "import plotly.express as px\n",
    "import chart_studio"
   ]
  },
  {
   "cell_type": "code",
   "execution_count": 2,
   "metadata": {},
   "outputs": [],
   "source": [
    "mofs = pd.read_excel('Conductivites_Data.xlsx')\n",
    "mofs['Porosity'] = [row if row>0 else 0.001 for row in mofs['BET']]"
   ]
  },
  {
   "cell_type": "code",
   "execution_count": 17,
   "metadata": {},
   "outputs": [
    {
     "data": {
      "text/html": [
       "<div>\n",
       "<style scoped>\n",
       "    .dataframe tbody tr th:only-of-type {\n",
       "        vertical-align: middle;\n",
       "    }\n",
       "\n",
       "    .dataframe tbody tr th {\n",
       "        vertical-align: top;\n",
       "    }\n",
       "\n",
       "    .dataframe thead th {\n",
       "        text-align: right;\n",
       "    }\n",
       "</style>\n",
       "<table border=\"1\" class=\"dataframe\">\n",
       "  <thead>\n",
       "    <tr style=\"text-align: right;\">\n",
       "      <th></th>\n",
       "      <th>Name</th>\n",
       "      <th>Dimensionality</th>\n",
       "      <th>BET</th>\n",
       "      <th>Porous</th>\n",
       "      <th>Year</th>\n",
       "      <th>Value</th>\n",
       "      <th>DOI</th>\n",
       "      <th>Porosity</th>\n",
       "    </tr>\n",
       "  </thead>\n",
       "  <tbody>\n",
       "    <tr>\n",
       "      <th>0</th>\n",
       "      <td>Pb3(BHT)</td>\n",
       "      <td>3D</td>\n",
       "      <td>NaN</td>\n",
       "      <td>No</td>\n",
       "      <td>2008</td>\n",
       "      <td>2.000000e-06</td>\n",
       "      <td>10.1021/ja0770983</td>\n",
       "      <td>0.001</td>\n",
       "    </tr>\n",
       "    <tr>\n",
       "      <th>1</th>\n",
       "      <td>Cu[Cu(pdt)2]</td>\n",
       "      <td>3D</td>\n",
       "      <td>NaN</td>\n",
       "      <td>Yes</td>\n",
       "      <td>2009</td>\n",
       "      <td>6.000000e-04</td>\n",
       "      <td>10.1021/ic802117q</td>\n",
       "      <td>0.001</td>\n",
       "    </tr>\n",
       "    <tr>\n",
       "      <th>2</th>\n",
       "      <td>Cu[Ni(pdt)2]</td>\n",
       "      <td>3D</td>\n",
       "      <td>385.0</td>\n",
       "      <td>Yes</td>\n",
       "      <td>2010</td>\n",
       "      <td>1.000000e-08</td>\n",
       "      <td>10.1021/cm101238m</td>\n",
       "      <td>385.000</td>\n",
       "    </tr>\n",
       "    <tr>\n",
       "      <th>3</th>\n",
       "      <td>I2@Zn3(lac)2(pybz)2</td>\n",
       "      <td>3D</td>\n",
       "      <td>NaN</td>\n",
       "      <td>Yes</td>\n",
       "      <td>2010</td>\n",
       "      <td>3.400000e-03</td>\n",
       "      <td>10.1021/ja908293n</td>\n",
       "      <td>0.001</td>\n",
       "    </tr>\n",
       "    <tr>\n",
       "      <th>4</th>\n",
       "      <td>Fe(1,2,3-triazolate) (oxidized)</td>\n",
       "      <td>3D</td>\n",
       "      <td>450.0</td>\n",
       "      <td>Yes</td>\n",
       "      <td>2012</td>\n",
       "      <td>7.700000e-05</td>\n",
       "      <td>10.1002/chem.201103433</td>\n",
       "      <td>450.000</td>\n",
       "    </tr>\n",
       "    <tr>\n",
       "      <th>5</th>\n",
       "      <td>Cu3(HOTP)2</td>\n",
       "      <td>2D layered</td>\n",
       "      <td>306.0</td>\n",
       "      <td>Yes</td>\n",
       "      <td>2012</td>\n",
       "      <td>1.000000e-01</td>\n",
       "      <td>10.1021/cm301194a</td>\n",
       "      <td>306.000</td>\n",
       "    </tr>\n",
       "    <tr>\n",
       "      <th>6</th>\n",
       "      <td>Ni3(BHT)2</td>\n",
       "      <td>2D layered</td>\n",
       "      <td>NaN</td>\n",
       "      <td>Yes</td>\n",
       "      <td>2013</td>\n",
       "      <td>1.500000e-01</td>\n",
       "      <td>10.1021/ja312380b</td>\n",
       "      <td>0.001</td>\n",
       "    </tr>\n",
       "    <tr>\n",
       "      <th>7</th>\n",
       "      <td>Pt3(THT)2</td>\n",
       "      <td>2D layered</td>\n",
       "      <td>300.0</td>\n",
       "      <td>Yes</td>\n",
       "      <td>2014</td>\n",
       "      <td>1.400000e-06</td>\n",
       "      <td>10.1039/C4CC00408F</td>\n",
       "      <td>300.000</td>\n",
       "    </tr>\n",
       "    <tr>\n",
       "      <th>8</th>\n",
       "      <td>Ni3(BHT)2 oxidized</td>\n",
       "      <td>2D layered</td>\n",
       "      <td>NaN</td>\n",
       "      <td>Yes</td>\n",
       "      <td>2014</td>\n",
       "      <td>1.500000e+02</td>\n",
       "      <td>10.1021/ja507619d</td>\n",
       "      <td>0.001</td>\n",
       "    </tr>\n",
       "    <tr>\n",
       "      <th>9</th>\n",
       "      <td>Ni3(HITP)2</td>\n",
       "      <td>2D layered</td>\n",
       "      <td>630.0</td>\n",
       "      <td>Yes</td>\n",
       "      <td>2014</td>\n",
       "      <td>4.000000e+01</td>\n",
       "      <td>10.1021/ja502765n</td>\n",
       "      <td>630.000</td>\n",
       "    </tr>\n",
       "    <tr>\n",
       "      <th>10</th>\n",
       "      <td>I2@Eu4(BPT)4</td>\n",
       "      <td>3D</td>\n",
       "      <td>69.6</td>\n",
       "      <td>No</td>\n",
       "      <td>2014</td>\n",
       "      <td>8.200000e-07</td>\n",
       "      <td>10.1039/C3TA13179C</td>\n",
       "      <td>69.600</td>\n",
       "    </tr>\n",
       "    <tr>\n",
       "      <th>11</th>\n",
       "      <td>TCNQ@Cu3(BTC)2</td>\n",
       "      <td>3D</td>\n",
       "      <td>214.0</td>\n",
       "      <td>Yes</td>\n",
       "      <td>2014</td>\n",
       "      <td>7.000000e-02</td>\n",
       "      <td>10.1126/science.1246738</td>\n",
       "      <td>214.000</td>\n",
       "    </tr>\n",
       "    <tr>\n",
       "      <th>12</th>\n",
       "      <td>Fe2DOBDC</td>\n",
       "      <td>3D</td>\n",
       "      <td>248.0</td>\n",
       "      <td>Yes</td>\n",
       "      <td>2015</td>\n",
       "      <td>3.200000e-07</td>\n",
       "      <td>10.1021/jacs.5b02897</td>\n",
       "      <td>248.000</td>\n",
       "    </tr>\n",
       "    <tr>\n",
       "      <th>13</th>\n",
       "      <td>Fe2DSBDC</td>\n",
       "      <td>3D</td>\n",
       "      <td>54.0</td>\n",
       "      <td>No</td>\n",
       "      <td>2015</td>\n",
       "      <td>3.900000e-06</td>\n",
       "      <td>10.1021/jacs.5b02897</td>\n",
       "      <td>54.000</td>\n",
       "    </tr>\n",
       "    <tr>\n",
       "      <th>14</th>\n",
       "      <td>Fe2(dhbq)3</td>\n",
       "      <td>3D</td>\n",
       "      <td>NaN</td>\n",
       "      <td>No</td>\n",
       "      <td>2015</td>\n",
       "      <td>1.600000e-01</td>\n",
       "      <td>10.1021/jacs.5b10385</td>\n",
       "      <td>0.001</td>\n",
       "    </tr>\n",
       "    <tr>\n",
       "      <th>15</th>\n",
       "      <td>Cu3(BHT)</td>\n",
       "      <td>2D layered</td>\n",
       "      <td>NaN</td>\n",
       "      <td>No</td>\n",
       "      <td>2015</td>\n",
       "      <td>2.500000e+03</td>\n",
       "      <td>10.1038/ncomms8408</td>\n",
       "      <td>0.001</td>\n",
       "    </tr>\n",
       "    <tr>\n",
       "      <th>16</th>\n",
       "      <td>Cu3(HITP)2</td>\n",
       "      <td>2D layered</td>\n",
       "      <td>NaN</td>\n",
       "      <td>Yes</td>\n",
       "      <td>2015</td>\n",
       "      <td>2.000000e-01</td>\n",
       "      <td>10.1002/anie.201411854</td>\n",
       "      <td>0.001</td>\n",
       "    </tr>\n",
       "    <tr>\n",
       "      <th>17</th>\n",
       "      <td>Cd2(TTFTB)</td>\n",
       "      <td>3D</td>\n",
       "      <td>559.0</td>\n",
       "      <td>Yes</td>\n",
       "      <td>2015</td>\n",
       "      <td>2.900000e-04</td>\n",
       "      <td>10.1021/ja512437u</td>\n",
       "      <td>559.000</td>\n",
       "    </tr>\n",
       "    <tr>\n",
       "      <th>18</th>\n",
       "      <td>Fe2(dhbq)3</td>\n",
       "      <td>2D layered</td>\n",
       "      <td>1175.0</td>\n",
       "      <td>Yes</td>\n",
       "      <td>2017</td>\n",
       "      <td>1.400000e-02</td>\n",
       "      <td>10.1021/jacs.7b00705</td>\n",
       "      <td>1175.000</td>\n",
       "    </tr>\n",
       "    <tr>\n",
       "      <th>19</th>\n",
       "      <td>Cu3(HIB)2</td>\n",
       "      <td>2D layered</td>\n",
       "      <td>114.0</td>\n",
       "      <td>Yes</td>\n",
       "      <td>2017</td>\n",
       "      <td>1.300000e+01</td>\n",
       "      <td>10.1021/jacs.7b07234</td>\n",
       "      <td>114.000</td>\n",
       "    </tr>\n",
       "    <tr>\n",
       "      <th>20</th>\n",
       "      <td>Fe(1,2,3-triazolate)</td>\n",
       "      <td>3D</td>\n",
       "      <td>370.0</td>\n",
       "      <td>Yes</td>\n",
       "      <td>2018</td>\n",
       "      <td>7.000000e-09</td>\n",
       "      <td>10.1021/jacs.8b03696</td>\n",
       "      <td>370.000</td>\n",
       "    </tr>\n",
       "    <tr>\n",
       "      <th>21</th>\n",
       "      <td>Fe(1,2,3-triazolate)(BF4)0.33</td>\n",
       "      <td>3D</td>\n",
       "      <td>50.0</td>\n",
       "      <td>No</td>\n",
       "      <td>2018</td>\n",
       "      <td>3.000000e-01</td>\n",
       "      <td>10.1021/jacs.8b03696</td>\n",
       "      <td>50.000</td>\n",
       "    </tr>\n",
       "    <tr>\n",
       "      <th>22</th>\n",
       "      <td>Fe2(BDT)3 (oxidized)</td>\n",
       "      <td>3D</td>\n",
       "      <td>614.0</td>\n",
       "      <td>Yes</td>\n",
       "      <td>2018</td>\n",
       "      <td>1.200000e+00</td>\n",
       "      <td>10.1021/jacs.8b03604</td>\n",
       "      <td>614.000</td>\n",
       "    </tr>\n",
       "    <tr>\n",
       "      <th>23</th>\n",
       "      <td>Fe2(BDP)3</td>\n",
       "      <td>3D</td>\n",
       "      <td>1230.0</td>\n",
       "      <td>Yes</td>\n",
       "      <td>2018</td>\n",
       "      <td>3.500000e-07</td>\n",
       "      <td>10.1038/s41563-018-0098-1</td>\n",
       "      <td>1230.000</td>\n",
       "    </tr>\n",
       "    <tr>\n",
       "      <th>24</th>\n",
       "      <td>K(0.98)Fe2(BDP)3</td>\n",
       "      <td>3D</td>\n",
       "      <td>610.0</td>\n",
       "      <td>Yes</td>\n",
       "      <td>2018</td>\n",
       "      <td>2.500000e-02</td>\n",
       "      <td>10.1038/s41563-018-0098-1</td>\n",
       "      <td>610.000</td>\n",
       "    </tr>\n",
       "    <tr>\n",
       "      <th>25</th>\n",
       "      <td>V2(dhbq)3</td>\n",
       "      <td>2D layered</td>\n",
       "      <td>NaN</td>\n",
       "      <td>Yes</td>\n",
       "      <td>2018</td>\n",
       "      <td>4.500000e-01</td>\n",
       "      <td>10.1021/jacs.7b13510</td>\n",
       "      <td>0.001</td>\n",
       "    </tr>\n",
       "    <tr>\n",
       "      <th>26</th>\n",
       "      <td>Fe3(THT)2</td>\n",
       "      <td>2D layered</td>\n",
       "      <td>526.0</td>\n",
       "      <td>Yes</td>\n",
       "      <td>2018</td>\n",
       "      <td>3.400000e-02</td>\n",
       "      <td>10.1038/s41563-018-0189-z</td>\n",
       "      <td>526.000</td>\n",
       "    </tr>\n",
       "    <tr>\n",
       "      <th>27</th>\n",
       "      <td>Fe3(PTC)</td>\n",
       "      <td>2D layered</td>\n",
       "      <td>210.0</td>\n",
       "      <td>Yes</td>\n",
       "      <td>2018</td>\n",
       "      <td>1.000000e+01</td>\n",
       "      <td>10.1038/s41467-018-05141-4</td>\n",
       "      <td>210.000</td>\n",
       "    </tr>\n",
       "    <tr>\n",
       "      <th>28</th>\n",
       "      <td>C60@Zr6(OH)16(TBAPy)2</td>\n",
       "      <td>3D</td>\n",
       "      <td>1550.0</td>\n",
       "      <td>Yes</td>\n",
       "      <td>2018</td>\n",
       "      <td>1.000000e-03</td>\n",
       "      <td>10.1039/C8SC00961A</td>\n",
       "      <td>1550.000</td>\n",
       "    </tr>\n",
       "    <tr>\n",
       "      <th>29</th>\n",
       "      <td>Cu2(6-Hmna)(6-mn)</td>\n",
       "      <td>3D</td>\n",
       "      <td>3.0</td>\n",
       "      <td>No</td>\n",
       "      <td>2019</td>\n",
       "      <td>1.096000e+01</td>\n",
       "      <td>10.1038/s41467-019-09682-0</td>\n",
       "      <td>3.000</td>\n",
       "    </tr>\n",
       "    <tr>\n",
       "      <th>30</th>\n",
       "      <td>Ho(1+x)(HOTP)</td>\n",
       "      <td>3D</td>\n",
       "      <td>208.0</td>\n",
       "      <td>Yes</td>\n",
       "      <td>2020</td>\n",
       "      <td>5.000000e-02</td>\n",
       "      <td>10.1038/s41557-019-0372-0</td>\n",
       "      <td>208.000</td>\n",
       "    </tr>\n",
       "    <tr>\n",
       "      <th>31</th>\n",
       "      <td>Cu3(BHSe)</td>\n",
       "      <td>2D layered</td>\n",
       "      <td>NaN</td>\n",
       "      <td>No</td>\n",
       "      <td>2019</td>\n",
       "      <td>1.100000e+02</td>\n",
       "      <td>10.1002/advs.201802235</td>\n",
       "      <td>0.001</td>\n",
       "    </tr>\n",
       "    <tr>\n",
       "      <th>32</th>\n",
       "      <td>(Mn/Fe)3(HIB)2</td>\n",
       "      <td>2D layered</td>\n",
       "      <td>2298.0</td>\n",
       "      <td>Yes</td>\n",
       "      <td>2019</td>\n",
       "      <td>3.590000e+02</td>\n",
       "      <td>10.1039/c8ee02679c</td>\n",
       "      <td>2298.000</td>\n",
       "    </tr>\n",
       "    <tr>\n",
       "      <th>33</th>\n",
       "      <td>Cd(DPNDI)</td>\n",
       "      <td>3D</td>\n",
       "      <td>NaN</td>\n",
       "      <td>Yes</td>\n",
       "      <td>2019</td>\n",
       "      <td>3.300000e-02</td>\n",
       "      <td>10.1021/jacs.9b01717</td>\n",
       "      <td>0.001</td>\n",
       "    </tr>\n",
       "    <tr>\n",
       "      <th>34</th>\n",
       "      <td>Zn4O(NDC)3</td>\n",
       "      <td>3D</td>\n",
       "      <td>NaN</td>\n",
       "      <td>Yes</td>\n",
       "      <td>2019</td>\n",
       "      <td>4.000000e-02</td>\n",
       "      <td>10.1016/j.synthmet.2019.04.018</td>\n",
       "      <td>0.001</td>\n",
       "    </tr>\n",
       "    <tr>\n",
       "      <th>35</th>\n",
       "      <td>TCNQ@(TATAB)3</td>\n",
       "      <td>3D</td>\n",
       "      <td>NaN</td>\n",
       "      <td>Yes</td>\n",
       "      <td>2019</td>\n",
       "      <td>2.700000e-07</td>\n",
       "      <td>10.1016/j.inoche.2019.04.037</td>\n",
       "      <td>0.001</td>\n",
       "    </tr>\n",
       "    <tr>\n",
       "      <th>36</th>\n",
       "      <td>Co3(HITP)2</td>\n",
       "      <td>2D layered</td>\n",
       "      <td>280.0</td>\n",
       "      <td>Yes</td>\n",
       "      <td>2020</td>\n",
       "      <td>1.150000e+01</td>\n",
       "      <td>10.1016/j.apcatb.2020.119295</td>\n",
       "      <td>280.000</td>\n",
       "    </tr>\n",
       "    <tr>\n",
       "      <th>37</th>\n",
       "      <td>Cu(H2O)(2,6-NDPA)0.5</td>\n",
       "      <td>3D</td>\n",
       "      <td>NaN</td>\n",
       "      <td>Yes</td>\n",
       "      <td>2020</td>\n",
       "      <td>2.000000e+00</td>\n",
       "      <td>10.1002/adfm.202007294</td>\n",
       "      <td>0.001</td>\n",
       "    </tr>\n",
       "    <tr>\n",
       "      <th>38</th>\n",
       "      <td>Cu-BDC</td>\n",
       "      <td>3D</td>\n",
       "      <td>271.0</td>\n",
       "      <td>Yes</td>\n",
       "      <td>2020</td>\n",
       "      <td>1.000000e-02</td>\n",
       "      <td>10.1002/anie.201912642</td>\n",
       "      <td>271.000</td>\n",
       "    </tr>\n",
       "    <tr>\n",
       "      <th>39</th>\n",
       "      <td>HoHTTP</td>\n",
       "      <td>3D</td>\n",
       "      <td>208.0</td>\n",
       "      <td>Yes</td>\n",
       "      <td>2020</td>\n",
       "      <td>5.000000e-02</td>\n",
       "      <td>10.1038/s41557-019-0372-0</td>\n",
       "      <td>208.000</td>\n",
       "    </tr>\n",
       "    <tr>\n",
       "      <th>40</th>\n",
       "      <td>Cr(tri)2(CF3SO3)0.33</td>\n",
       "      <td>3D</td>\n",
       "      <td>80.0</td>\n",
       "      <td>No</td>\n",
       "      <td>2021</td>\n",
       "      <td>1.400000e-02</td>\n",
       "      <td>10.1038/s41557-021-00666-6</td>\n",
       "      <td>80.000</td>\n",
       "    </tr>\n",
       "    <tr>\n",
       "      <th>41</th>\n",
       "      <td>Fe-HHTP</td>\n",
       "      <td>3D</td>\n",
       "      <td>1400.0</td>\n",
       "      <td>Yes</td>\n",
       "      <td>2021</td>\n",
       "      <td>1.000000e-03</td>\n",
       "      <td>10.1002/anie.202102670</td>\n",
       "      <td>1400.000</td>\n",
       "    </tr>\n",
       "    <tr>\n",
       "      <th>42</th>\n",
       "      <td>Ni3(HAB)2</td>\n",
       "      <td>2D layered</td>\n",
       "      <td>133.0</td>\n",
       "      <td>Yes</td>\n",
       "      <td>2021</td>\n",
       "      <td>5.200000e-01</td>\n",
       "      <td>10.1021/acsaem.0c02758</td>\n",
       "      <td>133.000</td>\n",
       "    </tr>\n",
       "    <tr>\n",
       "      <th>43</th>\n",
       "      <td>MnHHB</td>\n",
       "      <td>2D layered</td>\n",
       "      <td>44.7</td>\n",
       "      <td>No</td>\n",
       "      <td>2022</td>\n",
       "      <td>5.000000e-03</td>\n",
       "      <td>10.1039/D1CC06407J</td>\n",
       "      <td>44.700</td>\n",
       "    </tr>\n",
       "    <tr>\n",
       "      <th>44</th>\n",
       "      <td>La1.5(2,3,6,7,10,11-hexaoxytriphenylene)</td>\n",
       "      <td>2D layered</td>\n",
       "      <td>NaN</td>\n",
       "      <td>Yes</td>\n",
       "      <td>2022</td>\n",
       "      <td>9.000000e+02</td>\n",
       "      <td>10.1073/pnas.2205127119</td>\n",
       "      <td>0.001</td>\n",
       "    </tr>\n",
       "    <tr>\n",
       "      <th>45</th>\n",
       "      <td>Nd1.5(2,3,6,7,10,11-hexaoxytriphenylene)</td>\n",
       "      <td>2D layered</td>\n",
       "      <td>NaN</td>\n",
       "      <td>Yes</td>\n",
       "      <td>2022</td>\n",
       "      <td>1.080000e+03</td>\n",
       "      <td>10.1073/pnas.2205127119</td>\n",
       "      <td>0.001</td>\n",
       "    </tr>\n",
       "    <tr>\n",
       "      <th>46</th>\n",
       "      <td>Ni3(HATI_C1)2</td>\n",
       "      <td>2D layered</td>\n",
       "      <td>480.0</td>\n",
       "      <td>Yes</td>\n",
       "      <td>2022</td>\n",
       "      <td>1.000000e-02</td>\n",
       "      <td>10.1038/s41467-022-34820-6</td>\n",
       "      <td>480.000</td>\n",
       "    </tr>\n",
       "    <tr>\n",
       "      <th>47</th>\n",
       "      <td>NiTAHQ-3D-ox</td>\n",
       "      <td>3D</td>\n",
       "      <td>120.0</td>\n",
       "      <td>Yes</td>\n",
       "      <td>2022</td>\n",
       "      <td>3.000000e-05</td>\n",
       "      <td>10.1021/jacs.2c00614</td>\n",
       "      <td>120.000</td>\n",
       "    </tr>\n",
       "  </tbody>\n",
       "</table>\n",
       "</div>"
      ],
      "text/plain": [
       "                                        Name Dimensionality     BET Porous  \\\n",
       "0                                   Pb3(BHT)             3D     NaN     No   \n",
       "1                               Cu[Cu(pdt)2]             3D     NaN    Yes   \n",
       "2                               Cu[Ni(pdt)2]             3D   385.0    Yes   \n",
       "3                        I2@Zn3(lac)2(pybz)2             3D     NaN    Yes   \n",
       "4            Fe(1,2,3-triazolate) (oxidized)             3D   450.0    Yes   \n",
       "5                                 Cu3(HOTP)2     2D layered   306.0    Yes   \n",
       "6                                  Ni3(BHT)2     2D layered     NaN    Yes   \n",
       "7                                  Pt3(THT)2     2D layered   300.0    Yes   \n",
       "8                         Ni3(BHT)2 oxidized     2D layered     NaN    Yes   \n",
       "9                                 Ni3(HITP)2     2D layered   630.0    Yes   \n",
       "10                              I2@Eu4(BPT)4             3D    69.6     No   \n",
       "11                            TCNQ@Cu3(BTC)2             3D   214.0    Yes   \n",
       "12                                  Fe2DOBDC             3D   248.0    Yes   \n",
       "13                                  Fe2DSBDC             3D    54.0     No   \n",
       "14                                Fe2(dhbq)3             3D     NaN     No   \n",
       "15                                  Cu3(BHT)     2D layered     NaN     No   \n",
       "16                                Cu3(HITP)2     2D layered     NaN    Yes   \n",
       "17                                Cd2(TTFTB)             3D   559.0    Yes   \n",
       "18                                Fe2(dhbq)3     2D layered  1175.0    Yes   \n",
       "19                                 Cu3(HIB)2     2D layered   114.0    Yes   \n",
       "20                      Fe(1,2,3-triazolate)             3D   370.0    Yes   \n",
       "21             Fe(1,2,3-triazolate)(BF4)0.33             3D    50.0     No   \n",
       "22                      Fe2(BDT)3 (oxidized)             3D   614.0    Yes   \n",
       "23                                 Fe2(BDP)3             3D  1230.0    Yes   \n",
       "24                          K(0.98)Fe2(BDP)3             3D   610.0    Yes   \n",
       "25                                 V2(dhbq)3     2D layered     NaN    Yes   \n",
       "26                                 Fe3(THT)2     2D layered   526.0    Yes   \n",
       "27                                  Fe3(PTC)     2D layered   210.0    Yes   \n",
       "28                     C60@Zr6(OH)16(TBAPy)2             3D  1550.0    Yes   \n",
       "29                         Cu2(6-Hmna)(6-mn)             3D     3.0     No   \n",
       "30                             Ho(1+x)(HOTP)             3D   208.0    Yes   \n",
       "31                                 Cu3(BHSe)     2D layered     NaN     No   \n",
       "32                            (Mn/Fe)3(HIB)2     2D layered  2298.0    Yes   \n",
       "33                                 Cd(DPNDI)             3D     NaN    Yes   \n",
       "34                                Zn4O(NDC)3             3D     NaN    Yes   \n",
       "35                             TCNQ@(TATAB)3             3D     NaN    Yes   \n",
       "36                                Co3(HITP)2     2D layered   280.0    Yes   \n",
       "37                      Cu(H2O)(2,6-NDPA)0.5             3D     NaN    Yes   \n",
       "38                                    Cu-BDC             3D   271.0    Yes   \n",
       "39                                    HoHTTP             3D   208.0    Yes   \n",
       "40                      Cr(tri)2(CF3SO3)0.33             3D    80.0     No   \n",
       "41                                   Fe-HHTP             3D  1400.0    Yes   \n",
       "42                                 Ni3(HAB)2     2D layered   133.0    Yes   \n",
       "43                                     MnHHB     2D layered    44.7     No   \n",
       "44  La1.5(2,3,6,7,10,11-hexaoxytriphenylene)     2D layered     NaN    Yes   \n",
       "45  Nd1.5(2,3,6,7,10,11-hexaoxytriphenylene)     2D layered     NaN    Yes   \n",
       "46                             Ni3(HATI_C1)2     2D layered   480.0    Yes   \n",
       "47                              NiTAHQ-3D-ox             3D   120.0    Yes   \n",
       "\n",
       "    Year         Value                             DOI  Porosity  \n",
       "0   2008  2.000000e-06               10.1021/ja0770983     0.001  \n",
       "1   2009  6.000000e-04              10.1021/ic802117q      0.001  \n",
       "2   2010  1.000000e-08               10.1021/cm101238m   385.000  \n",
       "3   2010  3.400000e-03               10.1021/ja908293n     0.001  \n",
       "4   2012  7.700000e-05          10.1002/chem.201103433   450.000  \n",
       "5   2012  1.000000e-01               10.1021/cm301194a   306.000  \n",
       "6   2013  1.500000e-01               10.1021/ja312380b     0.001  \n",
       "7   2014  1.400000e-06              10.1039/C4CC00408F   300.000  \n",
       "8   2014  1.500000e+02               10.1021/ja507619d     0.001  \n",
       "9   2014  4.000000e+01              10.1021/ja502765n    630.000  \n",
       "10  2014  8.200000e-07              10.1039/C3TA13179C    69.600  \n",
       "11  2014  7.000000e-02        10.1126/science.1246738    214.000  \n",
       "12  2015  3.200000e-07            10.1021/jacs.5b02897   248.000  \n",
       "13  2015  3.900000e-06            10.1021/jacs.5b02897    54.000  \n",
       "14  2015  1.600000e-01            10.1021/jacs.5b10385     0.001  \n",
       "15  2015  2.500000e+03              10.1038/ncomms8408     0.001  \n",
       "16  2015  2.000000e-01          10.1002/anie.201411854     0.001  \n",
       "17  2015  2.900000e-04               10.1021/ja512437u   559.000  \n",
       "18  2017  1.400000e-02           10.1021/jacs.7b00705   1175.000  \n",
       "19  2017  1.300000e+01           10.1021/jacs.7b07234    114.000  \n",
       "20  2018  7.000000e-09           10.1021/jacs.8b03696    370.000  \n",
       "21  2018  3.000000e-01           10.1021/jacs.8b03696     50.000  \n",
       "22  2018  1.200000e+00           10.1021/jacs.8b03604    614.000  \n",
       "23  2018  3.500000e-07      10.1038/s41563-018-0098-1   1230.000  \n",
       "24  2018  2.500000e-02      10.1038/s41563-018-0098-1    610.000  \n",
       "25  2018  4.500000e-01           10.1021/jacs.7b13510      0.001  \n",
       "26  2018  3.400000e-02      10.1038/s41563-018-0189-z    526.000  \n",
       "27  2018  1.000000e+01      10.1038/s41467-018-05141-4   210.000  \n",
       "28  2018  1.000000e-03              10.1039/C8SC00961A  1550.000  \n",
       "29  2019  1.096000e+01     10.1038/s41467-019-09682-0      3.000  \n",
       "30  2020  5.000000e-02      10.1038/s41557-019-0372-0    208.000  \n",
       "31  2019  1.100000e+02          10.1002/advs.201802235     0.001  \n",
       "32  2019  3.590000e+02             10.1039/c8ee02679c   2298.000  \n",
       "33  2019  3.300000e-02            10.1021/jacs.9b01717     0.001  \n",
       "34  2019  4.000000e-02  10.1016/j.synthmet.2019.04.018     0.001  \n",
       "35  2019  2.700000e-07   10.1016/j.inoche.2019.04.037      0.001  \n",
       "36  2020  1.150000e+01    10.1016/j.apcatb.2020.119295   280.000  \n",
       "37  2020  2.000000e+00          10.1002/adfm.202007294     0.001  \n",
       "38  2020  1.000000e-02         10.1002/anie.201912642    271.000  \n",
       "39  2020  5.000000e-02      10.1038/s41557-019-0372-0    208.000  \n",
       "40  2021  1.400000e-02     10.1038/s41557-021-00666-6     80.000  \n",
       "41  2021  1.000000e-03         10.1002/anie.202102670   1400.000  \n",
       "42  2021  5.200000e-01         10.1021/acsaem.0c02758    133.000  \n",
       "43  2022  5.000000e-03              10.1039/D1CC06407J    44.700  \n",
       "44  2022  9.000000e+02         10.1073/pnas.2205127119     0.001  \n",
       "45  2022  1.080000e+03         10.1073/pnas.2205127119     0.001  \n",
       "46  2022  1.000000e-02      10.1038/s41467-022-34820-6   480.000  \n",
       "47  2022  3.000000e-05            10.1021/jacs.2c00614   120.000  "
      ]
     },
     "execution_count": 17,
     "metadata": {},
     "output_type": "execute_result"
    }
   ],
   "source": [
    "mofs"
   ]
  },
  {
   "cell_type": "code",
   "execution_count": 18,
   "metadata": {},
   "outputs": [
    {
     "data": {
      "application/vnd.plotly.v1+json": {
       "config": {
        "plotlyServerURL": "https://plotly.com"
       },
       "data": [
        {
         "customdata": [
          [
           "3D",
           0.001
          ],
          [
           "3D",
           0.001
          ],
          [
           "3D",
           0.001
          ],
          [
           "3D",
           450
          ],
          [
           "3D",
           214
          ],
          [
           "3D",
           0.001
          ],
          [
           "3D",
           614
          ],
          [
           "3D",
           3
          ],
          [
           "3D",
           0.001
          ],
          [
           "3D",
           80
          ],
          [
           "3D",
           120
          ]
         ],
         "hovertemplate": "<b>%{hovertext}</b><br><br>Dimensionality=%{customdata[0]}                                 <br>Year=%{x}<br>Value=%{y} S/cm<sup>2</sup>                                 <br>Porosity=%{customdata[1]} m<sup>2</sup>/g<extra></extra>",
         "hovertext": [
          "Pb3(BHT)",
          "Cu[Cu(pdt)2]",
          "I2@Zn3(lac)2(pybz)2",
          "Fe(1,2,3-triazolate) (oxidized)",
          "TCNQ@Cu3(BTC)2",
          "Fe2(dhbq)3",
          "Fe2(BDT)3 (oxidized)",
          "Cu2(6-Hmna)(6-mn)",
          "Cu(H2O)(2,6-NDPA)0.5",
          "Cr(tri)2(CF3SO3)0.33",
          "NiTAHQ-3D-ox"
         ],
         "legendgroup": "3D",
         "line": {
          "color": "#636efa",
          "dash": "solid"
         },
         "marker": {
          "symbol": "circle"
         },
         "mode": "lines",
         "name": "3D",
         "orientation": "v",
         "showlegend": true,
         "type": "scatter",
         "x": [
          2008,
          2009,
          2010,
          2012,
          2014,
          2015,
          2018,
          2019,
          2020,
          2021,
          2022
         ],
         "xaxis": "x",
         "y": [
          2e-06,
          0.0006,
          0.0034,
          7.7e-05,
          0.07,
          0.16,
          1.2,
          10.96,
          2,
          0.014,
          3e-05
         ],
         "yaxis": "y"
        },
        {
         "customdata": [
          [
           "2D layered",
           306
          ],
          [
           "2D layered",
           0.001
          ],
          [
           "2D layered",
           0.001
          ],
          [
           "2D layered",
           0.001
          ],
          [
           "2D layered",
           114
          ],
          [
           "2D layered",
           210
          ],
          [
           "2D layered",
           2298
          ],
          [
           "2D layered",
           280
          ],
          [
           "2D layered",
           133
          ],
          [
           "2D layered",
           0.001
          ]
         ],
         "hovertemplate": "<b>%{hovertext}</b><br><br>Dimensionality=%{customdata[0]}                                 <br>Year=%{x}<br>Value=%{y} S/cm<sup>2</sup>                                 <br>Porosity=%{customdata[1]} m<sup>2</sup>/g<extra></extra>",
         "hovertext": [
          "Cu3(HOTP)2",
          "Ni3(BHT)2",
          "Ni3(BHT)2 oxidized",
          "Cu3(BHT)",
          "Cu3(HIB)2",
          "Fe3(PTC)",
          "(Mn/Fe)3(HIB)2",
          "Co3(HITP)2",
          "Ni3(HAB)2",
          "Nd1.5(2,3,6,7,10,11-hexaoxytriphenylene)"
         ],
         "legendgroup": "2D layered",
         "line": {
          "color": "#EF553B",
          "dash": "solid"
         },
         "marker": {
          "symbol": "circle"
         },
         "mode": "lines",
         "name": "2D layered",
         "orientation": "v",
         "showlegend": true,
         "type": "scatter",
         "x": [
          2012,
          2013,
          2014,
          2015,
          2017,
          2018,
          2019,
          2020,
          2021,
          2022
         ],
         "xaxis": "x",
         "y": [
          0.1,
          0.15,
          150,
          2500,
          13,
          10,
          359,
          11.5,
          0.52,
          1080
         ],
         "yaxis": "y"
        }
       ],
       "layout": {
        "autosize": true,
        "legend": {
         "title": {
          "text": "Dimensionality"
         },
         "tracegroupgap": 0
        },
        "margin": {
         "t": 60
        },
        "template": {
         "data": {
          "bar": [
           {
            "error_x": {
             "color": "#2a3f5f"
            },
            "error_y": {
             "color": "#2a3f5f"
            },
            "marker": {
             "line": {
              "color": "#E5ECF6",
              "width": 0.5
             },
             "pattern": {
              "fillmode": "overlay",
              "size": 10,
              "solidity": 0.2
             }
            },
            "type": "bar"
           }
          ],
          "barpolar": [
           {
            "marker": {
             "line": {
              "color": "#E5ECF6",
              "width": 0.5
             },
             "pattern": {
              "fillmode": "overlay",
              "size": 10,
              "solidity": 0.2
             }
            },
            "type": "barpolar"
           }
          ],
          "carpet": [
           {
            "aaxis": {
             "endlinecolor": "#2a3f5f",
             "gridcolor": "white",
             "linecolor": "white",
             "minorgridcolor": "white",
             "startlinecolor": "#2a3f5f"
            },
            "baxis": {
             "endlinecolor": "#2a3f5f",
             "gridcolor": "white",
             "linecolor": "white",
             "minorgridcolor": "white",
             "startlinecolor": "#2a3f5f"
            },
            "type": "carpet"
           }
          ],
          "choropleth": [
           {
            "colorbar": {
             "outlinewidth": 0,
             "ticks": ""
            },
            "type": "choropleth"
           }
          ],
          "contour": [
           {
            "colorbar": {
             "outlinewidth": 0,
             "ticks": ""
            },
            "colorscale": [
             [
              0,
              "#0d0887"
             ],
             [
              0.1111111111111111,
              "#46039f"
             ],
             [
              0.2222222222222222,
              "#7201a8"
             ],
             [
              0.3333333333333333,
              "#9c179e"
             ],
             [
              0.4444444444444444,
              "#bd3786"
             ],
             [
              0.5555555555555556,
              "#d8576b"
             ],
             [
              0.6666666666666666,
              "#ed7953"
             ],
             [
              0.7777777777777778,
              "#fb9f3a"
             ],
             [
              0.8888888888888888,
              "#fdca26"
             ],
             [
              1,
              "#f0f921"
             ]
            ],
            "type": "contour"
           }
          ],
          "contourcarpet": [
           {
            "colorbar": {
             "outlinewidth": 0,
             "ticks": ""
            },
            "type": "contourcarpet"
           }
          ],
          "heatmap": [
           {
            "colorbar": {
             "outlinewidth": 0,
             "ticks": ""
            },
            "colorscale": [
             [
              0,
              "#0d0887"
             ],
             [
              0.1111111111111111,
              "#46039f"
             ],
             [
              0.2222222222222222,
              "#7201a8"
             ],
             [
              0.3333333333333333,
              "#9c179e"
             ],
             [
              0.4444444444444444,
              "#bd3786"
             ],
             [
              0.5555555555555556,
              "#d8576b"
             ],
             [
              0.6666666666666666,
              "#ed7953"
             ],
             [
              0.7777777777777778,
              "#fb9f3a"
             ],
             [
              0.8888888888888888,
              "#fdca26"
             ],
             [
              1,
              "#f0f921"
             ]
            ],
            "type": "heatmap"
           }
          ],
          "heatmapgl": [
           {
            "colorbar": {
             "outlinewidth": 0,
             "ticks": ""
            },
            "colorscale": [
             [
              0,
              "#0d0887"
             ],
             [
              0.1111111111111111,
              "#46039f"
             ],
             [
              0.2222222222222222,
              "#7201a8"
             ],
             [
              0.3333333333333333,
              "#9c179e"
             ],
             [
              0.4444444444444444,
              "#bd3786"
             ],
             [
              0.5555555555555556,
              "#d8576b"
             ],
             [
              0.6666666666666666,
              "#ed7953"
             ],
             [
              0.7777777777777778,
              "#fb9f3a"
             ],
             [
              0.8888888888888888,
              "#fdca26"
             ],
             [
              1,
              "#f0f921"
             ]
            ],
            "type": "heatmapgl"
           }
          ],
          "histogram": [
           {
            "marker": {
             "pattern": {
              "fillmode": "overlay",
              "size": 10,
              "solidity": 0.2
             }
            },
            "type": "histogram"
           }
          ],
          "histogram2d": [
           {
            "colorbar": {
             "outlinewidth": 0,
             "ticks": ""
            },
            "colorscale": [
             [
              0,
              "#0d0887"
             ],
             [
              0.1111111111111111,
              "#46039f"
             ],
             [
              0.2222222222222222,
              "#7201a8"
             ],
             [
              0.3333333333333333,
              "#9c179e"
             ],
             [
              0.4444444444444444,
              "#bd3786"
             ],
             [
              0.5555555555555556,
              "#d8576b"
             ],
             [
              0.6666666666666666,
              "#ed7953"
             ],
             [
              0.7777777777777778,
              "#fb9f3a"
             ],
             [
              0.8888888888888888,
              "#fdca26"
             ],
             [
              1,
              "#f0f921"
             ]
            ],
            "type": "histogram2d"
           }
          ],
          "histogram2dcontour": [
           {
            "colorbar": {
             "outlinewidth": 0,
             "ticks": ""
            },
            "colorscale": [
             [
              0,
              "#0d0887"
             ],
             [
              0.1111111111111111,
              "#46039f"
             ],
             [
              0.2222222222222222,
              "#7201a8"
             ],
             [
              0.3333333333333333,
              "#9c179e"
             ],
             [
              0.4444444444444444,
              "#bd3786"
             ],
             [
              0.5555555555555556,
              "#d8576b"
             ],
             [
              0.6666666666666666,
              "#ed7953"
             ],
             [
              0.7777777777777778,
              "#fb9f3a"
             ],
             [
              0.8888888888888888,
              "#fdca26"
             ],
             [
              1,
              "#f0f921"
             ]
            ],
            "type": "histogram2dcontour"
           }
          ],
          "mesh3d": [
           {
            "colorbar": {
             "outlinewidth": 0,
             "ticks": ""
            },
            "type": "mesh3d"
           }
          ],
          "parcoords": [
           {
            "line": {
             "colorbar": {
              "outlinewidth": 0,
              "ticks": ""
             }
            },
            "type": "parcoords"
           }
          ],
          "pie": [
           {
            "automargin": true,
            "type": "pie"
           }
          ],
          "scatter": [
           {
            "fillpattern": {
             "fillmode": "overlay",
             "size": 10,
             "solidity": 0.2
            },
            "type": "scatter"
           }
          ],
          "scatter3d": [
           {
            "line": {
             "colorbar": {
              "outlinewidth": 0,
              "ticks": ""
             }
            },
            "marker": {
             "colorbar": {
              "outlinewidth": 0,
              "ticks": ""
             }
            },
            "type": "scatter3d"
           }
          ],
          "scattercarpet": [
           {
            "marker": {
             "colorbar": {
              "outlinewidth": 0,
              "ticks": ""
             }
            },
            "type": "scattercarpet"
           }
          ],
          "scattergeo": [
           {
            "marker": {
             "colorbar": {
              "outlinewidth": 0,
              "ticks": ""
             }
            },
            "type": "scattergeo"
           }
          ],
          "scattergl": [
           {
            "marker": {
             "colorbar": {
              "outlinewidth": 0,
              "ticks": ""
             }
            },
            "type": "scattergl"
           }
          ],
          "scattermapbox": [
           {
            "marker": {
             "colorbar": {
              "outlinewidth": 0,
              "ticks": ""
             }
            },
            "type": "scattermapbox"
           }
          ],
          "scatterpolar": [
           {
            "marker": {
             "colorbar": {
              "outlinewidth": 0,
              "ticks": ""
             }
            },
            "type": "scatterpolar"
           }
          ],
          "scatterpolargl": [
           {
            "marker": {
             "colorbar": {
              "outlinewidth": 0,
              "ticks": ""
             }
            },
            "type": "scatterpolargl"
           }
          ],
          "scatterternary": [
           {
            "marker": {
             "colorbar": {
              "outlinewidth": 0,
              "ticks": ""
             }
            },
            "type": "scatterternary"
           }
          ],
          "surface": [
           {
            "colorbar": {
             "outlinewidth": 0,
             "ticks": ""
            },
            "colorscale": [
             [
              0,
              "#0d0887"
             ],
             [
              0.1111111111111111,
              "#46039f"
             ],
             [
              0.2222222222222222,
              "#7201a8"
             ],
             [
              0.3333333333333333,
              "#9c179e"
             ],
             [
              0.4444444444444444,
              "#bd3786"
             ],
             [
              0.5555555555555556,
              "#d8576b"
             ],
             [
              0.6666666666666666,
              "#ed7953"
             ],
             [
              0.7777777777777778,
              "#fb9f3a"
             ],
             [
              0.8888888888888888,
              "#fdca26"
             ],
             [
              1,
              "#f0f921"
             ]
            ],
            "type": "surface"
           }
          ],
          "table": [
           {
            "cells": {
             "fill": {
              "color": "#EBF0F8"
             },
             "line": {
              "color": "white"
             }
            },
            "header": {
             "fill": {
              "color": "#C8D4E3"
             },
             "line": {
              "color": "white"
             }
            },
            "type": "table"
           }
          ]
         },
         "layout": {
          "annotationdefaults": {
           "arrowcolor": "#2a3f5f",
           "arrowhead": 0,
           "arrowwidth": 1
          },
          "autotypenumbers": "strict",
          "coloraxis": {
           "colorbar": {
            "outlinewidth": 0,
            "ticks": ""
           }
          },
          "colorscale": {
           "diverging": [
            [
             0,
             "#8e0152"
            ],
            [
             0.1,
             "#c51b7d"
            ],
            [
             0.2,
             "#de77ae"
            ],
            [
             0.3,
             "#f1b6da"
            ],
            [
             0.4,
             "#fde0ef"
            ],
            [
             0.5,
             "#f7f7f7"
            ],
            [
             0.6,
             "#e6f5d0"
            ],
            [
             0.7,
             "#b8e186"
            ],
            [
             0.8,
             "#7fbc41"
            ],
            [
             0.9,
             "#4d9221"
            ],
            [
             1,
             "#276419"
            ]
           ],
           "sequential": [
            [
             0,
             "#0d0887"
            ],
            [
             0.1111111111111111,
             "#46039f"
            ],
            [
             0.2222222222222222,
             "#7201a8"
            ],
            [
             0.3333333333333333,
             "#9c179e"
            ],
            [
             0.4444444444444444,
             "#bd3786"
            ],
            [
             0.5555555555555556,
             "#d8576b"
            ],
            [
             0.6666666666666666,
             "#ed7953"
            ],
            [
             0.7777777777777778,
             "#fb9f3a"
            ],
            [
             0.8888888888888888,
             "#fdca26"
            ],
            [
             1,
             "#f0f921"
            ]
           ],
           "sequentialminus": [
            [
             0,
             "#0d0887"
            ],
            [
             0.1111111111111111,
             "#46039f"
            ],
            [
             0.2222222222222222,
             "#7201a8"
            ],
            [
             0.3333333333333333,
             "#9c179e"
            ],
            [
             0.4444444444444444,
             "#bd3786"
            ],
            [
             0.5555555555555556,
             "#d8576b"
            ],
            [
             0.6666666666666666,
             "#ed7953"
            ],
            [
             0.7777777777777778,
             "#fb9f3a"
            ],
            [
             0.8888888888888888,
             "#fdca26"
            ],
            [
             1,
             "#f0f921"
            ]
           ]
          },
          "colorway": [
           "#636efa",
           "#EF553B",
           "#00cc96",
           "#ab63fa",
           "#FFA15A",
           "#19d3f3",
           "#FF6692",
           "#B6E880",
           "#FF97FF",
           "#FECB52"
          ],
          "font": {
           "color": "#2a3f5f"
          },
          "geo": {
           "bgcolor": "white",
           "lakecolor": "white",
           "landcolor": "#E5ECF6",
           "showlakes": true,
           "showland": true,
           "subunitcolor": "white"
          },
          "hoverlabel": {
           "align": "left"
          },
          "hovermode": "closest",
          "mapbox": {
           "style": "light"
          },
          "paper_bgcolor": "white",
          "plot_bgcolor": "#E5ECF6",
          "polar": {
           "angularaxis": {
            "gridcolor": "white",
            "linecolor": "white",
            "ticks": ""
           },
           "bgcolor": "#E5ECF6",
           "radialaxis": {
            "gridcolor": "white",
            "linecolor": "white",
            "ticks": ""
           }
          },
          "scene": {
           "xaxis": {
            "backgroundcolor": "#E5ECF6",
            "gridcolor": "white",
            "gridwidth": 2,
            "linecolor": "white",
            "showbackground": true,
            "ticks": "",
            "zerolinecolor": "white"
           },
           "yaxis": {
            "backgroundcolor": "#E5ECF6",
            "gridcolor": "white",
            "gridwidth": 2,
            "linecolor": "white",
            "showbackground": true,
            "ticks": "",
            "zerolinecolor": "white"
           },
           "zaxis": {
            "backgroundcolor": "#E5ECF6",
            "gridcolor": "white",
            "gridwidth": 2,
            "linecolor": "white",
            "showbackground": true,
            "ticks": "",
            "zerolinecolor": "white"
           }
          },
          "shapedefaults": {
           "line": {
            "color": "#2a3f5f"
           }
          },
          "ternary": {
           "aaxis": {
            "gridcolor": "white",
            "linecolor": "white",
            "ticks": ""
           },
           "baxis": {
            "gridcolor": "white",
            "linecolor": "white",
            "ticks": ""
           },
           "bgcolor": "#E5ECF6",
           "caxis": {
            "gridcolor": "white",
            "linecolor": "white",
            "ticks": ""
           }
          },
          "title": {
           "x": 0.05
          },
          "xaxis": {
           "automargin": true,
           "gridcolor": "white",
           "linecolor": "white",
           "ticks": "",
           "title": {
            "standoff": 15
           },
           "zerolinecolor": "white",
           "zerolinewidth": 2
          },
          "yaxis": {
           "automargin": true,
           "gridcolor": "white",
           "linecolor": "white",
           "ticks": "",
           "title": {
            "standoff": 15
           },
           "zerolinecolor": "white",
           "zerolinewidth": 2
          }
         }
        },
        "xaxis": {
         "anchor": "y",
         "autorange": true,
         "domain": [
          0,
          1
         ],
         "range": [
          2008,
          2022
         ],
         "title": {
          "text": "Year"
         },
         "type": "linear"
        },
        "yaxis": {
         "anchor": "x",
         "autorange": true,
         "domain": [
          0,
          1
         ],
         "range": [
          -6.204353893947577,
          3.903323898283596
         ],
         "title": {
          "text": "Conductivity [S/cm<sup>2</sup>]"
         },
         "type": "log"
        }
       }
      },
      "image/png": "[encoded data removed]",
      "text/html": [
       "<div>                            <div id=\"7b96fd61-478c-4441-b7ca-a7f216846860\" class=\"plotly-graph-div\" style=\"height:525px; width:100%;\"></div>            <script type=\"text/javascript\">                require([\"plotly\"], function(Plotly) {                    window.PLOTLYENV=window.PLOTLYENV || {};                                    if (document.getElementById(\"7b96fd61-478c-4441-b7ca-a7f216846860\")) {                    Plotly.newPlot(                        \"7b96fd61-478c-4441-b7ca-a7f216846860\",                        [{\"customdata\":[[\"3D\",0.001],[\"3D\",0.001],[\"3D\",0.001],[\"3D\",450.0],[\"3D\",214.0],[\"3D\",0.001],[\"3D\",614.0],[\"3D\",3.0],[\"3D\",0.001],[\"3D\",80.0],[\"3D\",120.0]],\"hovertemplate\":\"<b>%{hovertext}</b><br><br>Dimensionality=%{customdata[0]}                                 <br>Year=%{x}<br>Value=%{y} S/cm<sup>2</sup>                                 <br>Porosity=%{customdata[1]} m<sup>2</sup>/g<extra></extra>\",\"hovertext\":[\"Pb3(BHT)\",\"Cu[Cu(pdt)2]\",\"I2@Zn3(lac)2(pybz)2\",\"Fe(1,2,3-triazolate) (oxidized)\",\"TCNQ@Cu3(BTC)2\",\"Fe2(dhbq)3\",\"Fe2(BDT)3 (oxidized)\",\"Cu2(6-Hmna)(6-mn)\",\"Cu(H2O)(2,6-NDPA)0.5\",\"Cr(tri)2(CF3SO3)0.33\",\"NiTAHQ-3D-ox\"],\"legendgroup\":\"3D\",\"line\":{\"color\":\"#636efa\",\"dash\":\"solid\"},\"marker\":{\"symbol\":\"circle\"},\"mode\":\"lines\",\"name\":\"3D\",\"orientation\":\"v\",\"showlegend\":true,\"x\":[2008,2009,2010,2012,2014,2015,2018,2019,2020,2021,2022],\"xaxis\":\"x\",\"y\":[2e-06,0.0006,0.0034,7.7e-05,0.07,0.16,1.2,10.96,2.0,0.014,3e-05],\"yaxis\":\"y\",\"type\":\"scatter\"},{\"customdata\":[[\"2D layered\",306.0],[\"2D layered\",0.001],[\"2D layered\",0.001],[\"2D layered\",0.001],[\"2D layered\",114.0],[\"2D layered\",210.0],[\"2D layered\",2298.0],[\"2D layered\",280.0],[\"2D layered\",133.0],[\"2D layered\",0.001]],\"hovertemplate\":\"<b>%{hovertext}</b><br><br>Dimensionality=%{customdata[0]}                                 <br>Year=%{x}<br>Value=%{y} S/cm<sup>2</sup>                                 <br>Porosity=%{customdata[1]} m<sup>2</sup>/g<extra></extra>\",\"hovertext\":[\"Cu3(HOTP)2\",\"Ni3(BHT)2\",\"Ni3(BHT)2 oxidized\",\"Cu3(BHT)\",\"Cu3(HIB)2\",\"Fe3(PTC)\",\"(Mn/Fe)3(HIB)2\",\"Co3(HITP)2\",\"Ni3(HAB)2\",\"Nd1.5(2,3,6,7,10,11-hexaoxytriphenylene)\"],\"legendgroup\":\"2D layered\",\"line\":{\"color\":\"#EF553B\",\"dash\":\"solid\"},\"marker\":{\"symbol\":\"circle\"},\"mode\":\"lines\",\"name\":\"2D layered\",\"orientation\":\"v\",\"showlegend\":true,\"x\":[2012,2013,2014,2015,2017,2018,2019,2020,2021,2022],\"xaxis\":\"x\",\"y\":[0.1,0.15,150.0,2500.0,13.0,10.0,359.0,11.5,0.52,1080.0],\"yaxis\":\"y\",\"type\":\"scatter\"}],                        {\"template\":{\"data\":{\"histogram2dcontour\":[{\"type\":\"histogram2dcontour\",\"colorbar\":{\"outlinewidth\":0,\"ticks\":\"\"},\"colorscale\":[[0.0,\"#0d0887\"],[0.1111111111111111,\"#46039f\"],[0.2222222222222222,\"#7201a8\"],[0.3333333333333333,\"#9c179e\"],[0.4444444444444444,\"#bd3786\"],[0.5555555555555556,\"#d8576b\"],[0.6666666666666666,\"#ed7953\"],[0.7777777777777778,\"#fb9f3a\"],[0.8888888888888888,\"#fdca26\"],[1.0,\"#f0f921\"]]}],\"choropleth\":[{\"type\":\"choropleth\",\"colorbar\":{\"outlinewidth\":0,\"ticks\":\"\"}}],\"histogram2d\":[{\"type\":\"histogram2d\",\"colorbar\":{\"outlinewidth\":0,\"ticks\":\"\"},\"colorscale\":[[0.0,\"#0d0887\"],[0.1111111111111111,\"#46039f\"],[0.2222222222222222,\"#7201a8\"],[0.3333333333333333,\"#9c179e\"],[0.4444444444444444,\"#bd3786\"],[0.5555555555555556,\"#d8576b\"],[0.6666666666666666,\"#ed7953\"],[0.7777777777777778,\"#fb9f3a\"],[0.8888888888888888,\"#fdca26\"],[1.0,\"#f0f921\"]]}],\"heatmap\":[{\"type\":\"heatmap\",\"colorbar\":{\"outlinewidth\":0,\"ticks\":\"\"},\"colorscale\":[[0.0,\"#0d0887\"],[0.1111111111111111,\"#46039f\"],[0.2222222222222222,\"#7201a8\"],[0.3333333333333333,\"#9c179e\"],[0.4444444444444444,\"#bd3786\"],[0.5555555555555556,\"#d8576b\"],[0.6666666666666666,\"#ed7953\"],[0.7777777777777778,\"#fb9f3a\"],[0.8888888888888888,\"#fdca26\"],[1.0,\"#f0f921\"]]}],\"heatmapgl\":[{\"type\":\"heatmapgl\",\"colorbar\":{\"outlinewidth\":0,\"ticks\":\"\"},\"colorscale\":[[0.0,\"#0d0887\"],[0.1111111111111111,\"#46039f\"],[0.2222222222222222,\"#7201a8\"],[0.3333333333333333,\"#9c179e\"],[0.4444444444444444,\"#bd3786\"],[0.5555555555555556,\"#d8576b\"],[0.6666666666666666,\"#ed7953\"],[0.7777777777777778,\"#fb9f3a\"],[0.8888888888888888,\"#fdca26\"],[1.0,\"#f0f921\"]]}],\"contourcarpet\":[{\"type\":\"contourcarpet\",\"colorbar\":{\"outlinewidth\":0,\"ticks\":\"\"}}],\"contour\":[{\"type\":\"contour\",\"colorbar\":{\"outlinewidth\":0,\"ticks\":\"\"},\"colorscale\":[[0.0,\"#0d0887\"],[0.1111111111111111,\"#46039f\"],[0.2222222222222222,\"#7201a8\"],[0.3333333333333333,\"#9c179e\"],[0.4444444444444444,\"#bd3786\"],[0.5555555555555556,\"#d8576b\"],[0.6666666666666666,\"#ed7953\"],[0.7777777777777778,\"#fb9f3a\"],[0.8888888888888888,\"#fdca26\"],[1.0,\"#f0f921\"]]}],\"surface\":[{\"type\":\"surface\",\"colorbar\":{\"outlinewidth\":0,\"ticks\":\"\"},\"colorscale\":[[0.0,\"#0d0887\"],[0.1111111111111111,\"#46039f\"],[0.2222222222222222,\"#7201a8\"],[0.3333333333333333,\"#9c179e\"],[0.4444444444444444,\"#bd3786\"],[0.5555555555555556,\"#d8576b\"],[0.6666666666666666,\"#ed7953\"],[0.7777777777777778,\"#fb9f3a\"],[0.8888888888888888,\"#fdca26\"],[1.0,\"#f0f921\"]]}],\"mesh3d\":[{\"type\":\"mesh3d\",\"colorbar\":{\"outlinewidth\":0,\"ticks\":\"\"}}],\"scatter\":[{\"fillpattern\":{\"fillmode\":\"overlay\",\"size\":10,\"solidity\":0.2},\"type\":\"scatter\"}],\"parcoords\":[{\"type\":\"parcoords\",\"line\":{\"colorbar\":{\"outlinewidth\":0,\"ticks\":\"\"}}}],\"scatterpolargl\":[{\"type\":\"scatterpolargl\",\"marker\":{\"colorbar\":{\"outlinewidth\":0,\"ticks\":\"\"}}}],\"bar\":[{\"error_x\":{\"color\":\"#2a3f5f\"},\"error_y\":{\"color\":\"#2a3f5f\"},\"marker\":{\"line\":{\"color\":\"#E5ECF6\",\"width\":0.5},\"pattern\":{\"fillmode\":\"overlay\",\"size\":10,\"solidity\":0.2}},\"type\":\"bar\"}],\"scattergeo\":[{\"type\":\"scattergeo\",\"marker\":{\"colorbar\":{\"outlinewidth\":0,\"ticks\":\"\"}}}],\"scatterpolar\":[{\"type\":\"scatterpolar\",\"marker\":{\"colorbar\":{\"outlinewidth\":0,\"ticks\":\"\"}}}],\"histogram\":[{\"marker\":{\"pattern\":{\"fillmode\":\"overlay\",\"size\":10,\"solidity\":0.2}},\"type\":\"histogram\"}],\"scattergl\":[{\"type\":\"scattergl\",\"marker\":{\"colorbar\":{\"outlinewidth\":0,\"ticks\":\"\"}}}],\"scatter3d\":[{\"type\":\"scatter3d\",\"line\":{\"colorbar\":{\"outlinewidth\":0,\"ticks\":\"\"}},\"marker\":{\"colorbar\":{\"outlinewidth\":0,\"ticks\":\"\"}}}],\"scattermapbox\":[{\"type\":\"scattermapbox\",\"marker\":{\"colorbar\":{\"outlinewidth\":0,\"ticks\":\"\"}}}],\"scatterternary\":[{\"type\":\"scatterternary\",\"marker\":{\"colorbar\":{\"outlinewidth\":0,\"ticks\":\"\"}}}],\"scattercarpet\":[{\"type\":\"scattercarpet\",\"marker\":{\"colorbar\":{\"outlinewidth\":0,\"ticks\":\"\"}}}],\"carpet\":[{\"aaxis\":{\"endlinecolor\":\"#2a3f5f\",\"gridcolor\":\"white\",\"linecolor\":\"white\",\"minorgridcolor\":\"white\",\"startlinecolor\":\"#2a3f5f\"},\"baxis\":{\"endlinecolor\":\"#2a3f5f\",\"gridcolor\":\"white\",\"linecolor\":\"white\",\"minorgridcolor\":\"white\",\"startlinecolor\":\"#2a3f5f\"},\"type\":\"carpet\"}],\"table\":[{\"cells\":{\"fill\":{\"color\":\"#EBF0F8\"},\"line\":{\"color\":\"white\"}},\"header\":{\"fill\":{\"color\":\"#C8D4E3\"},\"line\":{\"color\":\"white\"}},\"type\":\"table\"}],\"barpolar\":[{\"marker\":{\"line\":{\"color\":\"#E5ECF6\",\"width\":0.5},\"pattern\":{\"fillmode\":\"overlay\",\"size\":10,\"solidity\":0.2}},\"type\":\"barpolar\"}],\"pie\":[{\"automargin\":true,\"type\":\"pie\"}]},\"layout\":{\"autotypenumbers\":\"strict\",\"colorway\":[\"#636efa\",\"#EF553B\",\"#00cc96\",\"#ab63fa\",\"#FFA15A\",\"#19d3f3\",\"#FF6692\",\"#B6E880\",\"#FF97FF\",\"#FECB52\"],\"font\":{\"color\":\"#2a3f5f\"},\"hovermode\":\"closest\",\"hoverlabel\":{\"align\":\"left\"},\"paper_bgcolor\":\"white\",\"plot_bgcolor\":\"#E5ECF6\",\"polar\":{\"bgcolor\":\"#E5ECF6\",\"angularaxis\":{\"gridcolor\":\"white\",\"linecolor\":\"white\",\"ticks\":\"\"},\"radialaxis\":{\"gridcolor\":\"white\",\"linecolor\":\"white\",\"ticks\":\"\"}},\"ternary\":{\"bgcolor\":\"#E5ECF6\",\"aaxis\":{\"gridcolor\":\"white\",\"linecolor\":\"white\",\"ticks\":\"\"},\"baxis\":{\"gridcolor\":\"white\",\"linecolor\":\"white\",\"ticks\":\"\"},\"caxis\":{\"gridcolor\":\"white\",\"linecolor\":\"white\",\"ticks\":\"\"}},\"coloraxis\":{\"colorbar\":{\"outlinewidth\":0,\"ticks\":\"\"}},\"colorscale\":{\"sequential\":[[0.0,\"#0d0887\"],[0.1111111111111111,\"#46039f\"],[0.2222222222222222,\"#7201a8\"],[0.3333333333333333,\"#9c179e\"],[0.4444444444444444,\"#bd3786\"],[0.5555555555555556,\"#d8576b\"],[0.6666666666666666,\"#ed7953\"],[0.7777777777777778,\"#fb9f3a\"],[0.8888888888888888,\"#fdca26\"],[1.0,\"#f0f921\"]],\"sequentialminus\":[[0.0,\"#0d0887\"],[0.1111111111111111,\"#46039f\"],[0.2222222222222222,\"#7201a8\"],[0.3333333333333333,\"#9c179e\"],[0.4444444444444444,\"#bd3786\"],[0.5555555555555556,\"#d8576b\"],[0.6666666666666666,\"#ed7953\"],[0.7777777777777778,\"#fb9f3a\"],[0.8888888888888888,\"#fdca26\"],[1.0,\"#f0f921\"]],\"diverging\":[[0,\"#8e0152\"],[0.1,\"#c51b7d\"],[0.2,\"#de77ae\"],[0.3,\"#f1b6da\"],[0.4,\"#fde0ef\"],[0.5,\"#f7f7f7\"],[0.6,\"#e6f5d0\"],[0.7,\"#b8e186\"],[0.8,\"#7fbc41\"],[0.9,\"#4d9221\"],[1,\"#276419\"]]},\"xaxis\":{\"gridcolor\":\"white\",\"linecolor\":\"white\",\"ticks\":\"\",\"title\":{\"standoff\":15},\"zerolinecolor\":\"white\",\"automargin\":true,\"zerolinewidth\":2},\"yaxis\":{\"gridcolor\":\"white\",\"linecolor\":\"white\",\"ticks\":\"\",\"title\":{\"standoff\":15},\"zerolinecolor\":\"white\",\"automargin\":true,\"zerolinewidth\":2},\"scene\":{\"xaxis\":{\"backgroundcolor\":\"#E5ECF6\",\"gridcolor\":\"white\",\"linecolor\":\"white\",\"showbackground\":true,\"ticks\":\"\",\"zerolinecolor\":\"white\",\"gridwidth\":2},\"yaxis\":{\"backgroundcolor\":\"#E5ECF6\",\"gridcolor\":\"white\",\"linecolor\":\"white\",\"showbackground\":true,\"ticks\":\"\",\"zerolinecolor\":\"white\",\"gridwidth\":2},\"zaxis\":{\"backgroundcolor\":\"#E5ECF6\",\"gridcolor\":\"white\",\"linecolor\":\"white\",\"showbackground\":true,\"ticks\":\"\",\"zerolinecolor\":\"white\",\"gridwidth\":2}},\"shapedefaults\":{\"line\":{\"color\":\"#2a3f5f\"}},\"annotationdefaults\":{\"arrowcolor\":\"#2a3f5f\",\"arrowhead\":0,\"arrowwidth\":1},\"geo\":{\"bgcolor\":\"white\",\"landcolor\":\"#E5ECF6\",\"subunitcolor\":\"white\",\"showland\":true,\"showlakes\":true,\"lakecolor\":\"white\"},\"title\":{\"x\":0.05},\"mapbox\":{\"style\":\"light\"}}},\"xaxis\":{\"anchor\":\"y\",\"domain\":[0.0,1.0],\"title\":{\"text\":\"Year\"}},\"yaxis\":{\"anchor\":\"x\",\"domain\":[0.0,1.0],\"title\":{\"text\":\"Conductivity [S/cm<sup>2</sup>]\"},\"type\":\"log\"},\"legend\":{\"title\":{\"text\":\"Dimensionality\"},\"tracegroupgap\":0},\"margin\":{\"t\":60}},                        {\"responsive\": true}                    ).then(function(){\n",
       "                            \n",
       "var gd = document.getElementById('7b96fd61-478c-4441-b7ca-a7f216846860');\n",
       "var x = new MutationObserver(function (mutations, observer) {{\n",
       "        var display = window.getComputedStyle(gd).display;\n",
       "        if (!display || display === 'none') {{\n",
       "            console.log([gd, 'removed!']);\n",
       "            Plotly.purge(gd);\n",
       "            observer.disconnect();\n",
       "        }}\n",
       "}});\n",
       "\n",
       "// Listen for the removal of the full notebook cells\n",
       "var notebookContainer = gd.closest('#notebook-container');\n",
       "if (notebookContainer) {{\n",
       "    x.observe(notebookContainer, {childList: true});\n",
       "}}\n",
       "\n",
       "// Listen for the clearing of the current output cell\n",
       "var outputEl = gd.closest('.output');\n",
       "if (outputEl) {{\n",
       "    x.observe(outputEl, {childList: true});\n",
       "}}\n",
       "\n",
       "                        })                };                });            </script>        </div>"
      ]
     },
     "metadata": {},
     "output_type": "display_data"
    }
   ],
   "source": [
    "mofs_sorted_2D = mofs.loc[mofs[mofs['Dimensionality']=='2D layered'].groupby('Year')['Value'].idxmax()]\n",
    "mofs_sorted_3D = mofs.loc[mofs[mofs['Dimensionality']=='3D'].groupby('Year')['Value'].idxmax()]\n",
    "mofs_sorted = pd.concat([mofs_sorted_3D, mofs_sorted_2D], ignore_index=True)\n",
    "fig2 = px.line(mofs_sorted, x='Year', y='Value', color='Dimensionality', hover_data=['Dimensionality','Porosity'], \n",
    "                 labels={'Value': \"Conductivity [S/cm<sup>2</sup>]\"}, hover_name='Name')\n",
    "fig2.update_traces(hovertemplate='<b>%{hovertext}</b><br><br>Dimensionality=%{customdata[0]}\\\n",
    "                                 <br>Year=%{x}<br>Value=%{y} S/cm<sup>2</sup>\\\n",
    "                                 <br>Porosity=%{customdata[1]} m<sup>2</sup>/g<extra></extra>')\n",
    "fig2.update_layout(yaxis_type=\"log\")\n",
    "fig2.show()"
   ]
  },
  {
   "cell_type": "code",
   "execution_count": 19,
   "metadata": {},
   "outputs": [
    {
     "data": {
      "application/vnd.plotly.v1+json": {
       "config": {
        "plotlyServerURL": "https://plotly.com"
       },
       "data": [
        {
         "customdata": [
          [
           "3D",
           0.001
          ],
          [
           "3D",
           0.001
          ],
          [
           "3D",
           0.001
          ],
          [
           "3D",
           0.001
          ],
          [
           "3D",
           214
          ],
          [
           "3D",
           0.001
          ],
          [
           "3D",
           614
          ],
          [
           "3D",
           3
          ],
          [
           "3D",
           3
          ],
          [
           "3D",
           3
          ],
          [
           "3D",
           3
          ]
         ],
         "hovertemplate": "<b>%{hovertext}</b><br><br>Dimensionality=%{customdata[0]}                                 <br>Year=%{x}<br>Value=%{y} S/cm<sup>2</sup>                                 <br>Porosity=%{customdata[1]} m<sup>2</sup>/g<extra></extra>",
         "hovertext": [
          "Pb3(BHT)",
          "Cu[Cu(pdt)2]",
          "I2@Zn3(lac)2(pybz)2",
          "I2@Zn3(lac)2(pybz)2",
          "TCNQ@Cu3(BTC)2",
          "Fe2(dhbq)3",
          "Fe2(BDT)3 (oxidized)",
          "Cu2(6-Hmna)(6-mn)",
          "Cu2(6-Hmna)(6-mn)",
          "Cu2(6-Hmna)(6-mn)",
          "Cu2(6-Hmna)(6-mn)"
         ],
         "legendgroup": "3D",
         "line": {
          "color": "#636efa",
          "dash": "solid"
         },
         "marker": {
          "symbol": "circle"
         },
         "mode": "lines",
         "name": "3D",
         "orientation": "v",
         "showlegend": true,
         "type": "scatter",
         "x": [
          2008,
          2009,
          2010,
          2012,
          2014,
          2015,
          2018,
          2019,
          2020,
          2021,
          2022
         ],
         "xaxis": "x",
         "y": [
          2e-06,
          0.0006,
          0.0034,
          0.0034,
          0.07,
          0.16,
          1.2,
          10.96,
          10.96,
          10.96,
          10.96
         ],
         "yaxis": "y"
        },
        {
         "customdata": [
          [
           "2D layered",
           306
          ],
          [
           "2D layered",
           0.001
          ],
          [
           "2D layered",
           0.001
          ],
          [
           "2D layered",
           0.001
          ],
          [
           "2D layered",
           0.001
          ],
          [
           "2D layered",
           0.001
          ],
          [
           "2D layered",
           0.001
          ],
          [
           "2D layered",
           0.001
          ],
          [
           "2D layered",
           0.001
          ],
          [
           "2D layered",
           0.001
          ]
         ],
         "hovertemplate": "<b>%{hovertext}</b><br><br>Dimensionality=%{customdata[0]}                                 <br>Year=%{x}<br>Value=%{y} S/cm<sup>2</sup>                                 <br>Porosity=%{customdata[1]} m<sup>2</sup>/g<extra></extra>",
         "hovertext": [
          "Cu3(HOTP)2",
          "Ni3(BHT)2",
          "Ni3(BHT)2 oxidized",
          "Cu3(BHT)",
          "Cu3(BHT)",
          "Cu3(BHT)",
          "Cu3(BHT)",
          "Cu3(BHT)",
          "Cu3(BHT)",
          "Cu3(BHT)"
         ],
         "legendgroup": "2D layered",
         "line": {
          "color": "#EF553B",
          "dash": "solid"
         },
         "marker": {
          "symbol": "circle"
         },
         "mode": "lines",
         "name": "2D layered",
         "orientation": "v",
         "showlegend": true,
         "type": "scatter",
         "x": [
          2012,
          2013,
          2014,
          2015,
          2017,
          2018,
          2019,
          2020,
          2021,
          2022
         ],
         "xaxis": "x",
         "y": [
          0.1,
          0.15,
          150,
          2500,
          2500,
          2500,
          2500,
          2500,
          2500,
          2500
         ],
         "yaxis": "y"
        }
       ],
       "layout": {
        "autosize": true,
        "legend": {
         "title": {
          "text": "Dimensionality"
         },
         "tracegroupgap": 0
        },
        "margin": {
         "t": 60
        },
        "template": {
         "data": {
          "bar": [
           {
            "error_x": {
             "color": "#2a3f5f"
            },
            "error_y": {
             "color": "#2a3f5f"
            },
            "marker": {
             "line": {
              "color": "#E5ECF6",
              "width": 0.5
             },
             "pattern": {
              "fillmode": "overlay",
              "size": 10,
              "solidity": 0.2
             }
            },
            "type": "bar"
           }
          ],
          "barpolar": [
           {
            "marker": {
             "line": {
              "color": "#E5ECF6",
              "width": 0.5
             },
             "pattern": {
              "fillmode": "overlay",
              "size": 10,
              "solidity": 0.2
             }
            },
            "type": "barpolar"
           }
          ],
          "carpet": [
           {
            "aaxis": {
             "endlinecolor": "#2a3f5f",
             "gridcolor": "white",
             "linecolor": "white",
             "minorgridcolor": "white",
             "startlinecolor": "#2a3f5f"
            },
            "baxis": {
             "endlinecolor": "#2a3f5f",
             "gridcolor": "white",
             "linecolor": "white",
             "minorgridcolor": "white",
             "startlinecolor": "#2a3f5f"
            },
            "type": "carpet"
           }
          ],
          "choropleth": [
           {
            "colorbar": {
             "outlinewidth": 0,
             "ticks": ""
            },
            "type": "choropleth"
           }
          ],
          "contour": [
           {
            "colorbar": {
             "outlinewidth": 0,
             "ticks": ""
            },
            "colorscale": [
             [
              0,
              "#0d0887"
             ],
             [
              0.1111111111111111,
              "#46039f"
             ],
             [
              0.2222222222222222,
              "#7201a8"
             ],
             [
              0.3333333333333333,
              "#9c179e"
             ],
             [
              0.4444444444444444,
              "#bd3786"
             ],
             [
              0.5555555555555556,
              "#d8576b"
             ],
             [
              0.6666666666666666,
              "#ed7953"
             ],
             [
              0.7777777777777778,
              "#fb9f3a"
             ],
             [
              0.8888888888888888,
              "#fdca26"
             ],
             [
              1,
              "#f0f921"
             ]
            ],
            "type": "contour"
           }
          ],
          "contourcarpet": [
           {
            "colorbar": {
             "outlinewidth": 0,
             "ticks": ""
            },
            "type": "contourcarpet"
           }
          ],
          "heatmap": [
           {
            "colorbar": {
             "outlinewidth": 0,
             "ticks": ""
            },
            "colorscale": [
             [
              0,
              "#0d0887"
             ],
             [
              0.1111111111111111,
              "#46039f"
             ],
             [
              0.2222222222222222,
              "#7201a8"
             ],
             [
              0.3333333333333333,
              "#9c179e"
             ],
             [
              0.4444444444444444,
              "#bd3786"
             ],
             [
              0.5555555555555556,
              "#d8576b"
             ],
             [
              0.6666666666666666,
              "#ed7953"
             ],
             [
              0.7777777777777778,
              "#fb9f3a"
             ],
             [
              0.8888888888888888,
              "#fdca26"
             ],
             [
              1,
              "#f0f921"
             ]
            ],
            "type": "heatmap"
           }
          ],
          "heatmapgl": [
           {
            "colorbar": {
             "outlinewidth": 0,
             "ticks": ""
            },
            "colorscale": [
             [
              0,
              "#0d0887"
             ],
             [
              0.1111111111111111,
              "#46039f"
             ],
             [
              0.2222222222222222,
              "#7201a8"
             ],
             [
              0.3333333333333333,
              "#9c179e"
             ],
             [
              0.4444444444444444,
              "#bd3786"
             ],
             [
              0.5555555555555556,
              "#d8576b"
             ],
             [
              0.6666666666666666,
              "#ed7953"
             ],
             [
              0.7777777777777778,
              "#fb9f3a"
             ],
             [
              0.8888888888888888,
              "#fdca26"
             ],
             [
              1,
              "#f0f921"
             ]
            ],
            "type": "heatmapgl"
           }
          ],
          "histogram": [
           {
            "marker": {
             "pattern": {
              "fillmode": "overlay",
              "size": 10,
              "solidity": 0.2
             }
            },
            "type": "histogram"
           }
          ],
          "histogram2d": [
           {
            "colorbar": {
             "outlinewidth": 0,
             "ticks": ""
            },
            "colorscale": [
             [
              0,
              "#0d0887"
             ],
             [
              0.1111111111111111,
              "#46039f"
             ],
             [
              0.2222222222222222,
              "#7201a8"
             ],
             [
              0.3333333333333333,
              "#9c179e"
             ],
             [
              0.4444444444444444,
              "#bd3786"
             ],
             [
              0.5555555555555556,
              "#d8576b"
             ],
             [
              0.6666666666666666,
              "#ed7953"
             ],
             [
              0.7777777777777778,
              "#fb9f3a"
             ],
             [
              0.8888888888888888,
              "#fdca26"
             ],
             [
              1,
              "#f0f921"
             ]
            ],
            "type": "histogram2d"
           }
          ],
          "histogram2dcontour": [
           {
            "colorbar": {
             "outlinewidth": 0,
             "ticks": ""
            },
            "colorscale": [
             [
              0,
              "#0d0887"
             ],
             [
              0.1111111111111111,
              "#46039f"
             ],
             [
              0.2222222222222222,
              "#7201a8"
             ],
             [
              0.3333333333333333,
              "#9c179e"
             ],
             [
              0.4444444444444444,
              "#bd3786"
             ],
             [
              0.5555555555555556,
              "#d8576b"
             ],
             [
              0.6666666666666666,
              "#ed7953"
             ],
             [
              0.7777777777777778,
              "#fb9f3a"
             ],
             [
              0.8888888888888888,
              "#fdca26"
             ],
             [
              1,
              "#f0f921"
             ]
            ],
            "type": "histogram2dcontour"
           }
          ],
          "mesh3d": [
           {
            "colorbar": {
             "outlinewidth": 0,
             "ticks": ""
            },
            "type": "mesh3d"
           }
          ],
          "parcoords": [
           {
            "line": {
             "colorbar": {
              "outlinewidth": 0,
              "ticks": ""
             }
            },
            "type": "parcoords"
           }
          ],
          "pie": [
           {
            "automargin": true,
            "type": "pie"
           }
          ],
          "scatter": [
           {
            "fillpattern": {
             "fillmode": "overlay",
             "size": 10,
             "solidity": 0.2
            },
            "type": "scatter"
           }
          ],
          "scatter3d": [
           {
            "line": {
             "colorbar": {
              "outlinewidth": 0,
              "ticks": ""
             }
            },
            "marker": {
             "colorbar": {
              "outlinewidth": 0,
              "ticks": ""
             }
            },
            "type": "scatter3d"
           }
          ],
          "scattercarpet": [
           {
            "marker": {
             "colorbar": {
              "outlinewidth": 0,
              "ticks": ""
             }
            },
            "type": "scattercarpet"
           }
          ],
          "scattergeo": [
           {
            "marker": {
             "colorbar": {
              "outlinewidth": 0,
              "ticks": ""
             }
            },
            "type": "scattergeo"
           }
          ],
          "scattergl": [
           {
            "marker": {
             "colorbar": {
              "outlinewidth": 0,
              "ticks": ""
             }
            },
            "type": "scattergl"
           }
          ],
          "scattermapbox": [
           {
            "marker": {
             "colorbar": {
              "outlinewidth": 0,
              "ticks": ""
             }
            },
            "type": "scattermapbox"
           }
          ],
          "scatterpolar": [
           {
            "marker": {
             "colorbar": {
              "outlinewidth": 0,
              "ticks": ""
             }
            },
            "type": "scatterpolar"
           }
          ],
          "scatterpolargl": [
           {
            "marker": {
             "colorbar": {
              "outlinewidth": 0,
              "ticks": ""
             }
            },
            "type": "scatterpolargl"
           }
          ],
          "scatterternary": [
           {
            "marker": {
             "colorbar": {
              "outlinewidth": 0,
              "ticks": ""
             }
            },
            "type": "scatterternary"
           }
          ],
          "surface": [
           {
            "colorbar": {
             "outlinewidth": 0,
             "ticks": ""
            },
            "colorscale": [
             [
              0,
              "#0d0887"
             ],
             [
              0.1111111111111111,
              "#46039f"
             ],
             [
              0.2222222222222222,
              "#7201a8"
             ],
             [
              0.3333333333333333,
              "#9c179e"
             ],
             [
              0.4444444444444444,
              "#bd3786"
             ],
             [
              0.5555555555555556,
              "#d8576b"
             ],
             [
              0.6666666666666666,
              "#ed7953"
             ],
             [
              0.7777777777777778,
              "#fb9f3a"
             ],
             [
              0.8888888888888888,
              "#fdca26"
             ],
             [
              1,
              "#f0f921"
             ]
            ],
            "type": "surface"
           }
          ],
          "table": [
           {
            "cells": {
             "fill": {
              "color": "#EBF0F8"
             },
             "line": {
              "color": "white"
             }
            },
            "header": {
             "fill": {
              "color": "#C8D4E3"
             },
             "line": {
              "color": "white"
             }
            },
            "type": "table"
           }
          ]
         },
         "layout": {
          "annotationdefaults": {
           "arrowcolor": "#2a3f5f",
           "arrowhead": 0,
           "arrowwidth": 1
          },
          "autotypenumbers": "strict",
          "coloraxis": {
           "colorbar": {
            "outlinewidth": 0,
            "ticks": ""
           }
          },
          "colorscale": {
           "diverging": [
            [
             0,
             "#8e0152"
            ],
            [
             0.1,
             "#c51b7d"
            ],
            [
             0.2,
             "#de77ae"
            ],
            [
             0.3,
             "#f1b6da"
            ],
            [
             0.4,
             "#fde0ef"
            ],
            [
             0.5,
             "#f7f7f7"
            ],
            [
             0.6,
             "#e6f5d0"
            ],
            [
             0.7,
             "#b8e186"
            ],
            [
             0.8,
             "#7fbc41"
            ],
            [
             0.9,
             "#4d9221"
            ],
            [
             1,
             "#276419"
            ]
           ],
           "sequential": [
            [
             0,
             "#0d0887"
            ],
            [
             0.1111111111111111,
             "#46039f"
            ],
            [
             0.2222222222222222,
             "#7201a8"
            ],
            [
             0.3333333333333333,
             "#9c179e"
            ],
            [
             0.4444444444444444,
             "#bd3786"
            ],
            [
             0.5555555555555556,
             "#d8576b"
            ],
            [
             0.6666666666666666,
             "#ed7953"
            ],
            [
             0.7777777777777778,
             "#fb9f3a"
            ],
            [
             0.8888888888888888,
             "#fdca26"
            ],
            [
             1,
             "#f0f921"
            ]
           ],
           "sequentialminus": [
            [
             0,
             "#0d0887"
            ],
            [
             0.1111111111111111,
             "#46039f"
            ],
            [
             0.2222222222222222,
             "#7201a8"
            ],
            [
             0.3333333333333333,
             "#9c179e"
            ],
            [
             0.4444444444444444,
             "#bd3786"
            ],
            [
             0.5555555555555556,
             "#d8576b"
            ],
            [
             0.6666666666666666,
             "#ed7953"
            ],
            [
             0.7777777777777778,
             "#fb9f3a"
            ],
            [
             0.8888888888888888,
             "#fdca26"
            ],
            [
             1,
             "#f0f921"
            ]
           ]
          },
          "colorway": [
           "#636efa",
           "#EF553B",
           "#00cc96",
           "#ab63fa",
           "#FFA15A",
           "#19d3f3",
           "#FF6692",
           "#B6E880",
           "#FF97FF",
           "#FECB52"
          ],
          "font": {
           "color": "#2a3f5f"
          },
          "geo": {
           "bgcolor": "white",
           "lakecolor": "white",
           "landcolor": "#E5ECF6",
           "showlakes": true,
           "showland": true,
           "subunitcolor": "white"
          },
          "hoverlabel": {
           "align": "left"
          },
          "hovermode": "closest",
          "mapbox": {
           "style": "light"
          },
          "paper_bgcolor": "white",
          "plot_bgcolor": "#E5ECF6",
          "polar": {
           "angularaxis": {
            "gridcolor": "white",
            "linecolor": "white",
            "ticks": ""
           },
           "bgcolor": "#E5ECF6",
           "radialaxis": {
            "gridcolor": "white",
            "linecolor": "white",
            "ticks": ""
           }
          },
          "scene": {
           "xaxis": {
            "backgroundcolor": "#E5ECF6",
            "gridcolor": "white",
            "gridwidth": 2,
            "linecolor": "white",
            "showbackground": true,
            "ticks": "",
            "zerolinecolor": "white"
           },
           "yaxis": {
            "backgroundcolor": "#E5ECF6",
            "gridcolor": "white",
            "gridwidth": 2,
            "linecolor": "white",
            "showbackground": true,
            "ticks": "",
            "zerolinecolor": "white"
           },
           "zaxis": {
            "backgroundcolor": "#E5ECF6",
            "gridcolor": "white",
            "gridwidth": 2,
            "linecolor": "white",
            "showbackground": true,
            "ticks": "",
            "zerolinecolor": "white"
           }
          },
          "shapedefaults": {
           "line": {
            "color": "#2a3f5f"
           }
          },
          "ternary": {
           "aaxis": {
            "gridcolor": "white",
            "linecolor": "white",
            "ticks": ""
           },
           "baxis": {
            "gridcolor": "white",
            "linecolor": "white",
            "ticks": ""
           },
           "bgcolor": "#E5ECF6",
           "caxis": {
            "gridcolor": "white",
            "linecolor": "white",
            "ticks": ""
           }
          },
          "title": {
           "x": 0.05
          },
          "xaxis": {
           "automargin": true,
           "gridcolor": "white",
           "linecolor": "white",
           "ticks": "",
           "title": {
            "standoff": 15
           },
           "zerolinecolor": "white",
           "zerolinewidth": 2
          },
          "yaxis": {
           "automargin": true,
           "gridcolor": "white",
           "linecolor": "white",
           "ticks": "",
           "title": {
            "standoff": 15
           },
           "zerolinecolor": "white",
           "zerolinewidth": 2
          }
         }
        },
        "xaxis": {
         "anchor": "y",
         "autorange": true,
         "domain": [
          0,
          1
         ],
         "range": [
          2008,
          2022
         ],
         "title": {
          "text": "Year"
         },
         "type": "linear"
        },
        "yaxis": {
         "anchor": "x",
         "autorange": true,
         "domain": [
          0,
          1
         ],
         "range": [
          -6.204353893947577,
          3.903323898283596
         ],
         "title": {
          "text": "Conductivity [S/cm<sup>2</sup>]"
         },
         "type": "log"
        }
       }
      },
      "image/png": "[encoded data removed]",
      "text/html": [
       "<div>                            <div id=\"fa7f24f5-92da-4f46-9567-172a78b68910\" class=\"plotly-graph-div\" style=\"height:525px; width:100%;\"></div>            <script type=\"text/javascript\">                require([\"plotly\"], function(Plotly) {                    window.PLOTLYENV=window.PLOTLYENV || {};                                    if (document.getElementById(\"fa7f24f5-92da-4f46-9567-172a78b68910\")) {                    Plotly.newPlot(                        \"fa7f24f5-92da-4f46-9567-172a78b68910\",                        [{\"customdata\":[[\"3D\",0.001],[\"3D\",0.001],[\"3D\",0.001],[\"3D\",0.001],[\"3D\",214.0],[\"3D\",0.001],[\"3D\",614.0],[\"3D\",3.0],[\"3D\",3.0],[\"3D\",3.0],[\"3D\",3.0]],\"hovertemplate\":\"<b>%{hovertext}</b><br><br>Dimensionality=%{customdata[0]}                                 <br>Year=%{x}<br>Value=%{y} S/cm<sup>2</sup>                                 <br>Porosity=%{customdata[1]} m<sup>2</sup>/g<extra></extra>\",\"hovertext\":[\"Pb3(BHT)\",\"Cu[Cu(pdt)2]\",\"I2@Zn3(lac)2(pybz)2\",\"I2@Zn3(lac)2(pybz)2\",\"TCNQ@Cu3(BTC)2\",\"Fe2(dhbq)3\",\"Fe2(BDT)3 (oxidized)\",\"Cu2(6-Hmna)(6-mn)\",\"Cu2(6-Hmna)(6-mn)\",\"Cu2(6-Hmna)(6-mn)\",\"Cu2(6-Hmna)(6-mn)\"],\"legendgroup\":\"3D\",\"line\":{\"color\":\"#636efa\",\"dash\":\"solid\"},\"marker\":{\"symbol\":\"circle\"},\"mode\":\"lines\",\"name\":\"3D\",\"orientation\":\"v\",\"showlegend\":true,\"x\":[2008,2009,2010,2012,2014,2015,2018,2019,2020,2021,2022],\"xaxis\":\"x\",\"y\":[2e-06,0.0006,0.0034,0.0034,0.07,0.16,1.2,10.96,10.96,10.96,10.96],\"yaxis\":\"y\",\"type\":\"scatter\"},{\"customdata\":[[\"2D layered\",306.0],[\"2D layered\",0.001],[\"2D layered\",0.001],[\"2D layered\",0.001],[\"2D layered\",0.001],[\"2D layered\",0.001],[\"2D layered\",0.001],[\"2D layered\",0.001],[\"2D layered\",0.001],[\"2D layered\",0.001]],\"hovertemplate\":\"<b>%{hovertext}</b><br><br>Dimensionality=%{customdata[0]}                                 <br>Year=%{x}<br>Value=%{y} S/cm<sup>2</sup>                                 <br>Porosity=%{customdata[1]} m<sup>2</sup>/g<extra></extra>\",\"hovertext\":[\"Cu3(HOTP)2\",\"Ni3(BHT)2\",\"Ni3(BHT)2 oxidized\",\"Cu3(BHT)\",\"Cu3(BHT)\",\"Cu3(BHT)\",\"Cu3(BHT)\",\"Cu3(BHT)\",\"Cu3(BHT)\",\"Cu3(BHT)\"],\"legendgroup\":\"2D layered\",\"line\":{\"color\":\"#EF553B\",\"dash\":\"solid\"},\"marker\":{\"symbol\":\"circle\"},\"mode\":\"lines\",\"name\":\"2D layered\",\"orientation\":\"v\",\"showlegend\":true,\"x\":[2012,2013,2014,2015,2017,2018,2019,2020,2021,2022],\"xaxis\":\"x\",\"y\":[0.1,0.15,150.0,2500.0,2500.0,2500.0,2500.0,2500.0,2500.0,2500.0],\"yaxis\":\"y\",\"type\":\"scatter\"}],                        {\"template\":{\"data\":{\"histogram2dcontour\":[{\"type\":\"histogram2dcontour\",\"colorbar\":{\"outlinewidth\":0,\"ticks\":\"\"},\"colorscale\":[[0.0,\"#0d0887\"],[0.1111111111111111,\"#46039f\"],[0.2222222222222222,\"#7201a8\"],[0.3333333333333333,\"#9c179e\"],[0.4444444444444444,\"#bd3786\"],[0.5555555555555556,\"#d8576b\"],[0.6666666666666666,\"#ed7953\"],[0.7777777777777778,\"#fb9f3a\"],[0.8888888888888888,\"#fdca26\"],[1.0,\"#f0f921\"]]}],\"choropleth\":[{\"type\":\"choropleth\",\"colorbar\":{\"outlinewidth\":0,\"ticks\":\"\"}}],\"histogram2d\":[{\"type\":\"histogram2d\",\"colorbar\":{\"outlinewidth\":0,\"ticks\":\"\"},\"colorscale\":[[0.0,\"#0d0887\"],[0.1111111111111111,\"#46039f\"],[0.2222222222222222,\"#7201a8\"],[0.3333333333333333,\"#9c179e\"],[0.4444444444444444,\"#bd3786\"],[0.5555555555555556,\"#d8576b\"],[0.6666666666666666,\"#ed7953\"],[0.7777777777777778,\"#fb9f3a\"],[0.8888888888888888,\"#fdca26\"],[1.0,\"#f0f921\"]]}],\"heatmap\":[{\"type\":\"heatmap\",\"colorbar\":{\"outlinewidth\":0,\"ticks\":\"\"},\"colorscale\":[[0.0,\"#0d0887\"],[0.1111111111111111,\"#46039f\"],[0.2222222222222222,\"#7201a8\"],[0.3333333333333333,\"#9c179e\"],[0.4444444444444444,\"#bd3786\"],[0.5555555555555556,\"#d8576b\"],[0.6666666666666666,\"#ed7953\"],[0.7777777777777778,\"#fb9f3a\"],[0.8888888888888888,\"#fdca26\"],[1.0,\"#f0f921\"]]}],\"heatmapgl\":[{\"type\":\"heatmapgl\",\"colorbar\":{\"outlinewidth\":0,\"ticks\":\"\"},\"colorscale\":[[0.0,\"#0d0887\"],[0.1111111111111111,\"#46039f\"],[0.2222222222222222,\"#7201a8\"],[0.3333333333333333,\"#9c179e\"],[0.4444444444444444,\"#bd3786\"],[0.5555555555555556,\"#d8576b\"],[0.6666666666666666,\"#ed7953\"],[0.7777777777777778,\"#fb9f3a\"],[0.8888888888888888,\"#fdca26\"],[1.0,\"#f0f921\"]]}],\"contourcarpet\":[{\"type\":\"contourcarpet\",\"colorbar\":{\"outlinewidth\":0,\"ticks\":\"\"}}],\"contour\":[{\"type\":\"contour\",\"colorbar\":{\"outlinewidth\":0,\"ticks\":\"\"},\"colorscale\":[[0.0,\"#0d0887\"],[0.1111111111111111,\"#46039f\"],[0.2222222222222222,\"#7201a8\"],[0.3333333333333333,\"#9c179e\"],[0.4444444444444444,\"#bd3786\"],[0.5555555555555556,\"#d8576b\"],[0.6666666666666666,\"#ed7953\"],[0.7777777777777778,\"#fb9f3a\"],[0.8888888888888888,\"#fdca26\"],[1.0,\"#f0f921\"]]}],\"surface\":[{\"type\":\"surface\",\"colorbar\":{\"outlinewidth\":0,\"ticks\":\"\"},\"colorscale\":[[0.0,\"#0d0887\"],[0.1111111111111111,\"#46039f\"],[0.2222222222222222,\"#7201a8\"],[0.3333333333333333,\"#9c179e\"],[0.4444444444444444,\"#bd3786\"],[0.5555555555555556,\"#d8576b\"],[0.6666666666666666,\"#ed7953\"],[0.7777777777777778,\"#fb9f3a\"],[0.8888888888888888,\"#fdca26\"],[1.0,\"#f0f921\"]]}],\"mesh3d\":[{\"type\":\"mesh3d\",\"colorbar\":{\"outlinewidth\":0,\"ticks\":\"\"}}],\"scatter\":[{\"fillpattern\":{\"fillmode\":\"overlay\",\"size\":10,\"solidity\":0.2},\"type\":\"scatter\"}],\"parcoords\":[{\"type\":\"parcoords\",\"line\":{\"colorbar\":{\"outlinewidth\":0,\"ticks\":\"\"}}}],\"scatterpolargl\":[{\"type\":\"scatterpolargl\",\"marker\":{\"colorbar\":{\"outlinewidth\":0,\"ticks\":\"\"}}}],\"bar\":[{\"error_x\":{\"color\":\"#2a3f5f\"},\"error_y\":{\"color\":\"#2a3f5f\"},\"marker\":{\"line\":{\"color\":\"#E5ECF6\",\"width\":0.5},\"pattern\":{\"fillmode\":\"overlay\",\"size\":10,\"solidity\":0.2}},\"type\":\"bar\"}],\"scattergeo\":[{\"type\":\"scattergeo\",\"marker\":{\"colorbar\":{\"outlinewidth\":0,\"ticks\":\"\"}}}],\"scatterpolar\":[{\"type\":\"scatterpolar\",\"marker\":{\"colorbar\":{\"outlinewidth\":0,\"ticks\":\"\"}}}],\"histogram\":[{\"marker\":{\"pattern\":{\"fillmode\":\"overlay\",\"size\":10,\"solidity\":0.2}},\"type\":\"histogram\"}],\"scattergl\":[{\"type\":\"scattergl\",\"marker\":{\"colorbar\":{\"outlinewidth\":0,\"ticks\":\"\"}}}],\"scatter3d\":[{\"type\":\"scatter3d\",\"line\":{\"colorbar\":{\"outlinewidth\":0,\"ticks\":\"\"}},\"marker\":{\"colorbar\":{\"outlinewidth\":0,\"ticks\":\"\"}}}],\"scattermapbox\":[{\"type\":\"scattermapbox\",\"marker\":{\"colorbar\":{\"outlinewidth\":0,\"ticks\":\"\"}}}],\"scatterternary\":[{\"type\":\"scatterternary\",\"marker\":{\"colorbar\":{\"outlinewidth\":0,\"ticks\":\"\"}}}],\"scattercarpet\":[{\"type\":\"scattercarpet\",\"marker\":{\"colorbar\":{\"outlinewidth\":0,\"ticks\":\"\"}}}],\"carpet\":[{\"aaxis\":{\"endlinecolor\":\"#2a3f5f\",\"gridcolor\":\"white\",\"linecolor\":\"white\",\"minorgridcolor\":\"white\",\"startlinecolor\":\"#2a3f5f\"},\"baxis\":{\"endlinecolor\":\"#2a3f5f\",\"gridcolor\":\"white\",\"linecolor\":\"white\",\"minorgridcolor\":\"white\",\"startlinecolor\":\"#2a3f5f\"},\"type\":\"carpet\"}],\"table\":[{\"cells\":{\"fill\":{\"color\":\"#EBF0F8\"},\"line\":{\"color\":\"white\"}},\"header\":{\"fill\":{\"color\":\"#C8D4E3\"},\"line\":{\"color\":\"white\"}},\"type\":\"table\"}],\"barpolar\":[{\"marker\":{\"line\":{\"color\":\"#E5ECF6\",\"width\":0.5},\"pattern\":{\"fillmode\":\"overlay\",\"size\":10,\"solidity\":0.2}},\"type\":\"barpolar\"}],\"pie\":[{\"automargin\":true,\"type\":\"pie\"}]},\"layout\":{\"autotypenumbers\":\"strict\",\"colorway\":[\"#636efa\",\"#EF553B\",\"#00cc96\",\"#ab63fa\",\"#FFA15A\",\"#19d3f3\",\"#FF6692\",\"#B6E880\",\"#FF97FF\",\"#FECB52\"],\"font\":{\"color\":\"#2a3f5f\"},\"hovermode\":\"closest\",\"hoverlabel\":{\"align\":\"left\"},\"paper_bgcolor\":\"white\",\"plot_bgcolor\":\"#E5ECF6\",\"polar\":{\"bgcolor\":\"#E5ECF6\",\"angularaxis\":{\"gridcolor\":\"white\",\"linecolor\":\"white\",\"ticks\":\"\"},\"radialaxis\":{\"gridcolor\":\"white\",\"linecolor\":\"white\",\"ticks\":\"\"}},\"ternary\":{\"bgcolor\":\"#E5ECF6\",\"aaxis\":{\"gridcolor\":\"white\",\"linecolor\":\"white\",\"ticks\":\"\"},\"baxis\":{\"gridcolor\":\"white\",\"linecolor\":\"white\",\"ticks\":\"\"},\"caxis\":{\"gridcolor\":\"white\",\"linecolor\":\"white\",\"ticks\":\"\"}},\"coloraxis\":{\"colorbar\":{\"outlinewidth\":0,\"ticks\":\"\"}},\"colorscale\":{\"sequential\":[[0.0,\"#0d0887\"],[0.1111111111111111,\"#46039f\"],[0.2222222222222222,\"#7201a8\"],[0.3333333333333333,\"#9c179e\"],[0.4444444444444444,\"#bd3786\"],[0.5555555555555556,\"#d8576b\"],[0.6666666666666666,\"#ed7953\"],[0.7777777777777778,\"#fb9f3a\"],[0.8888888888888888,\"#fdca26\"],[1.0,\"#f0f921\"]],\"sequentialminus\":[[0.0,\"#0d0887\"],[0.1111111111111111,\"#46039f\"],[0.2222222222222222,\"#7201a8\"],[0.3333333333333333,\"#9c179e\"],[0.4444444444444444,\"#bd3786\"],[0.5555555555555556,\"#d8576b\"],[0.6666666666666666,\"#ed7953\"],[0.7777777777777778,\"#fb9f3a\"],[0.8888888888888888,\"#fdca26\"],[1.0,\"#f0f921\"]],\"diverging\":[[0,\"#8e0152\"],[0.1,\"#c51b7d\"],[0.2,\"#de77ae\"],[0.3,\"#f1b6da\"],[0.4,\"#fde0ef\"],[0.5,\"#f7f7f7\"],[0.6,\"#e6f5d0\"],[0.7,\"#b8e186\"],[0.8,\"#7fbc41\"],[0.9,\"#4d9221\"],[1,\"#276419\"]]},\"xaxis\":{\"gridcolor\":\"white\",\"linecolor\":\"white\",\"ticks\":\"\",\"title\":{\"standoff\":15},\"zerolinecolor\":\"white\",\"automargin\":true,\"zerolinewidth\":2},\"yaxis\":{\"gridcolor\":\"white\",\"linecolor\":\"white\",\"ticks\":\"\",\"title\":{\"standoff\":15},\"zerolinecolor\":\"white\",\"automargin\":true,\"zerolinewidth\":2},\"scene\":{\"xaxis\":{\"backgroundcolor\":\"#E5ECF6\",\"gridcolor\":\"white\",\"linecolor\":\"white\",\"showbackground\":true,\"ticks\":\"\",\"zerolinecolor\":\"white\",\"gridwidth\":2},\"yaxis\":{\"backgroundcolor\":\"#E5ECF6\",\"gridcolor\":\"white\",\"linecolor\":\"white\",\"showbackground\":true,\"ticks\":\"\",\"zerolinecolor\":\"white\",\"gridwidth\":2},\"zaxis\":{\"backgroundcolor\":\"#E5ECF6\",\"gridcolor\":\"white\",\"linecolor\":\"white\",\"showbackground\":true,\"ticks\":\"\",\"zerolinecolor\":\"white\",\"gridwidth\":2}},\"shapedefaults\":{\"line\":{\"color\":\"#2a3f5f\"}},\"annotationdefaults\":{\"arrowcolor\":\"#2a3f5f\",\"arrowhead\":0,\"arrowwidth\":1},\"geo\":{\"bgcolor\":\"white\",\"landcolor\":\"#E5ECF6\",\"subunitcolor\":\"white\",\"showland\":true,\"showlakes\":true,\"lakecolor\":\"white\"},\"title\":{\"x\":0.05},\"mapbox\":{\"style\":\"light\"}}},\"xaxis\":{\"anchor\":\"y\",\"domain\":[0.0,1.0],\"title\":{\"text\":\"Year\"}},\"yaxis\":{\"anchor\":\"x\",\"domain\":[0.0,1.0],\"title\":{\"text\":\"Conductivity [S/cm<sup>2</sup>]\"},\"type\":\"log\"},\"legend\":{\"title\":{\"text\":\"Dimensionality\"},\"tracegroupgap\":0},\"margin\":{\"t\":60}},                        {\"responsive\": true}                    ).then(function(){\n",
       "                            \n",
       "var gd = document.getElementById('fa7f24f5-92da-4f46-9567-172a78b68910');\n",
       "var x = new MutationObserver(function (mutations, observer) {{\n",
       "        var display = window.getComputedStyle(gd).display;\n",
       "        if (!display || display === 'none') {{\n",
       "            console.log([gd, 'removed!']);\n",
       "            Plotly.purge(gd);\n",
       "            observer.disconnect();\n",
       "        }}\n",
       "}});\n",
       "\n",
       "// Listen for the removal of the full notebook cells\n",
       "var notebookContainer = gd.closest('#notebook-container');\n",
       "if (notebookContainer) {{\n",
       "    x.observe(notebookContainer, {childList: true});\n",
       "}}\n",
       "\n",
       "// Listen for the clearing of the current output cell\n",
       "var outputEl = gd.closest('.output');\n",
       "if (outputEl) {{\n",
       "    x.observe(outputEl, {childList: true});\n",
       "}}\n",
       "\n",
       "                        })                };                });            </script>        </div>"
      ]
     },
     "metadata": {},
     "output_type": "display_data"
    }
   ],
   "source": [
    "mofs_sorted_3D_cummax = mofs_sorted_3D\n",
    "mofs_sorted_3D_cummax['cummax_value'] = mofs_sorted_3D_cummax.Value.cummax()\n",
    "keep_3D = mofs_sorted_3D_cummax['cummax_value']<=mofs_sorted_3D_cummax.Value\n",
    "mofs_sorted_3D_cummax.loc[~keep_3D, ['Value', 'Name', 'DOI', 'Porosity']] = nan\n",
    "mofs_sorted_3D_cummax = mofs_sorted_3D_cummax.ffill()\n",
    "#mofs_sorted_3D_cummax = mofs_sorted_3D_cummax[keep_3D]\n",
    "\n",
    "mofs_sorted_2D_cummax = mofs_sorted_2D\n",
    "mofs_sorted_2D_cummax['cummax_value'] = mofs_sorted_2D_cummax.Value.cummax()\n",
    "keep_2D = mofs_sorted_2D_cummax['cummax_value']<=mofs_sorted_2D_cummax.Value\n",
    "mofs_sorted_2D_cummax.loc[~keep_2D, ['Value', 'Name', 'DOI', 'Porosity']] = nan\n",
    "mofs_sorted_2D_cummax = mofs_sorted_2D_cummax.ffill()\n",
    "#mofs_sorted_2D_cummax = mofs_sorted_2D_cummax[keep_2D]\n",
    "\n",
    "mofs_sorted_cummax = pd.concat([mofs_sorted_3D_cummax, mofs_sorted_2D_cummax], ignore_index=True)\n",
    "\n",
    "fig5 = px.line(mofs_sorted_cummax, x='Year', y='Value', color='Dimensionality', hover_data=['Dimensionality','Porosity'], \n",
    "                 labels={'Value': \"Conductivity [S/cm<sup>2</sup>]\"}, hover_name='Name')\n",
    "fig5.update_traces(hovertemplate='<b>%{hovertext}</b><br><br>Dimensionality=%{customdata[0]}\\\n",
    "                                 <br>Year=%{x}<br>Value=%{y} S/cm<sup>2</sup>\\\n",
    "                                 <br>Porosity=%{customdata[1]} m<sup>2</sup>/g<extra></extra>')\n",
    "fig5.update_layout(yaxis_type=\"log\")\n",
    "fig5.show()"
   ]
  },
  {
   "cell_type": "code",
   "execution_count": 20,
   "metadata": {},
   "outputs": [
    {
     "data": {
      "application/vnd.plotly.v1+json": {
       "config": {
        "plotlyServerURL": "https://plotly.com"
       },
       "data": [
        {
         "customdata": [
          [
           "3D",
           385
          ],
          [
           "3D",
           450
          ],
          [
           "3D",
           214
          ],
          [
           "3D",
           559
          ],
          [
           "3D",
           614
          ],
          [
           "3D",
           208
          ],
          [
           "3D",
           1400
          ],
          [
           "3D",
           120
          ]
         ],
         "hovertemplate": "<b>%{hovertext}</b><br><br>Dimensionality=%{customdata[0]}                                 <br>Year=%{x}<br>Value=%{y} S/cm<sup>2</sup>                                 <br>Porosity=%{customdata[1]} m<sup>2</sup>/g<extra></extra>",
         "hovertext": [
          "Cu[Ni(pdt)2]",
          "Fe(1,2,3-triazolate) (oxidized)",
          "TCNQ@Cu3(BTC)2",
          "Cd2(TTFTB)",
          "Fe2(BDT)3 (oxidized)",
          "Ho(1+x)(HOTP)",
          "Fe-HHTP",
          "NiTAHQ-3D-ox"
         ],
         "legendgroup": "3D",
         "line": {
          "color": "#636efa",
          "dash": "solid"
         },
         "marker": {
          "symbol": "circle"
         },
         "mode": "lines",
         "name": "3D",
         "orientation": "v",
         "showlegend": true,
         "type": "scatter",
         "x": [
          2010,
          2012,
          2014,
          2015,
          2018,
          2020,
          2021,
          2022
         ],
         "xaxis": "x",
         "y": [
          1e-08,
          7.7e-05,
          0.07,
          0.00029,
          1.2,
          0.05,
          0.001,
          3e-05
         ],
         "yaxis": "y"
        },
        {
         "customdata": [
          [
           "2D layered",
           306
          ],
          [
           "2D layered",
           630
          ],
          [
           "2D layered",
           114
          ],
          [
           "2D layered",
           210
          ],
          [
           "2D layered",
           2298
          ],
          [
           "2D layered",
           280
          ],
          [
           "2D layered",
           133
          ],
          [
           "2D layered",
           480
          ]
         ],
         "hovertemplate": "<b>%{hovertext}</b><br><br>Dimensionality=%{customdata[0]}                                 <br>Year=%{x}<br>Value=%{y} S/cm<sup>2</sup>                                 <br>Porosity=%{customdata[1]} m<sup>2</sup>/g<extra></extra>",
         "hovertext": [
          "Cu3(HOTP)2",
          "Ni3(HITP)2",
          "Cu3(HIB)2",
          "Fe3(PTC)",
          "(Mn/Fe)3(HIB)2",
          "Co3(HITP)2",
          "Ni3(HAB)2",
          "Ni3(HATI_C1)2"
         ],
         "legendgroup": "2D layered",
         "line": {
          "color": "#EF553B",
          "dash": "solid"
         },
         "marker": {
          "symbol": "circle"
         },
         "mode": "lines",
         "name": "2D layered",
         "orientation": "v",
         "showlegend": true,
         "type": "scatter",
         "x": [
          2012,
          2014,
          2017,
          2018,
          2019,
          2020,
          2021,
          2022
         ],
         "xaxis": "x",
         "y": [
          0.1,
          40,
          13,
          10,
          359,
          11.5,
          0.52,
          0.01
         ],
         "yaxis": "y"
        }
       ],
       "layout": {
        "autosize": true,
        "legend": {
         "title": {
          "text": "Dimensionality"
         },
         "tracegroupgap": 0
        },
        "margin": {
         "t": 60
        },
        "template": {
         "data": {
          "bar": [
           {
            "error_x": {
             "color": "#2a3f5f"
            },
            "error_y": {
             "color": "#2a3f5f"
            },
            "marker": {
             "line": {
              "color": "#E5ECF6",
              "width": 0.5
             },
             "pattern": {
              "fillmode": "overlay",
              "size": 10,
              "solidity": 0.2
             }
            },
            "type": "bar"
           }
          ],
          "barpolar": [
           {
            "marker": {
             "line": {
              "color": "#E5ECF6",
              "width": 0.5
             },
             "pattern": {
              "fillmode": "overlay",
              "size": 10,
              "solidity": 0.2
             }
            },
            "type": "barpolar"
           }
          ],
          "carpet": [
           {
            "aaxis": {
             "endlinecolor": "#2a3f5f",
             "gridcolor": "white",
             "linecolor": "white",
             "minorgridcolor": "white",
             "startlinecolor": "#2a3f5f"
            },
            "baxis": {
             "endlinecolor": "#2a3f5f",
             "gridcolor": "white",
             "linecolor": "white",
             "minorgridcolor": "white",
             "startlinecolor": "#2a3f5f"
            },
            "type": "carpet"
           }
          ],
          "choropleth": [
           {
            "colorbar": {
             "outlinewidth": 0,
             "ticks": ""
            },
            "type": "choropleth"
           }
          ],
          "contour": [
           {
            "colorbar": {
             "outlinewidth": 0,
             "ticks": ""
            },
            "colorscale": [
             [
              0,
              "#0d0887"
             ],
             [
              0.1111111111111111,
              "#46039f"
             ],
             [
              0.2222222222222222,
              "#7201a8"
             ],
             [
              0.3333333333333333,
              "#9c179e"
             ],
             [
              0.4444444444444444,
              "#bd3786"
             ],
             [
              0.5555555555555556,
              "#d8576b"
             ],
             [
              0.6666666666666666,
              "#ed7953"
             ],
             [
              0.7777777777777778,
              "#fb9f3a"
             ],
             [
              0.8888888888888888,
              "#fdca26"
             ],
             [
              1,
              "#f0f921"
             ]
            ],
            "type": "contour"
           }
          ],
          "contourcarpet": [
           {
            "colorbar": {
             "outlinewidth": 0,
             "ticks": ""
            },
            "type": "contourcarpet"
           }
          ],
          "heatmap": [
           {
            "colorbar": {
             "outlinewidth": 0,
             "ticks": ""
            },
            "colorscale": [
             [
              0,
              "#0d0887"
             ],
             [
              0.1111111111111111,
              "#46039f"
             ],
             [
              0.2222222222222222,
              "#7201a8"
             ],
             [
              0.3333333333333333,
              "#9c179e"
             ],
             [
              0.4444444444444444,
              "#bd3786"
             ],
             [
              0.5555555555555556,
              "#d8576b"
             ],
             [
              0.6666666666666666,
              "#ed7953"
             ],
             [
              0.7777777777777778,
              "#fb9f3a"
             ],
             [
              0.8888888888888888,
              "#fdca26"
             ],
             [
              1,
              "#f0f921"
             ]
            ],
            "type": "heatmap"
           }
          ],
          "heatmapgl": [
           {
            "colorbar": {
             "outlinewidth": 0,
             "ticks": ""
            },
            "colorscale": [
             [
              0,
              "#0d0887"
             ],
             [
              0.1111111111111111,
              "#46039f"
             ],
             [
              0.2222222222222222,
              "#7201a8"
             ],
             [
              0.3333333333333333,
              "#9c179e"
             ],
             [
              0.4444444444444444,
              "#bd3786"
             ],
             [
              0.5555555555555556,
              "#d8576b"
             ],
             [
              0.6666666666666666,
              "#ed7953"
             ],
             [
              0.7777777777777778,
              "#fb9f3a"
             ],
             [
              0.8888888888888888,
              "#fdca26"
             ],
             [
              1,
              "#f0f921"
             ]
            ],
            "type": "heatmapgl"
           }
          ],
          "histogram": [
           {
            "marker": {
             "pattern": {
              "fillmode": "overlay",
              "size": 10,
              "solidity": 0.2
             }
            },
            "type": "histogram"
           }
          ],
          "histogram2d": [
           {
            "colorbar": {
             "outlinewidth": 0,
             "ticks": ""
            },
            "colorscale": [
             [
              0,
              "#0d0887"
             ],
             [
              0.1111111111111111,
              "#46039f"
             ],
             [
              0.2222222222222222,
              "#7201a8"
             ],
             [
              0.3333333333333333,
              "#9c179e"
             ],
             [
              0.4444444444444444,
              "#bd3786"
             ],
             [
              0.5555555555555556,
              "#d8576b"
             ],
             [
              0.6666666666666666,
              "#ed7953"
             ],
             [
              0.7777777777777778,
              "#fb9f3a"
             ],
             [
              0.8888888888888888,
              "#fdca26"
             ],
             [
              1,
              "#f0f921"
             ]
            ],
            "type": "histogram2d"
           }
          ],
          "histogram2dcontour": [
           {
            "colorbar": {
             "outlinewidth": 0,
             "ticks": ""
            },
            "colorscale": [
             [
              0,
              "#0d0887"
             ],
             [
              0.1111111111111111,
              "#46039f"
             ],
             [
              0.2222222222222222,
              "#7201a8"
             ],
             [
              0.3333333333333333,
              "#9c179e"
             ],
             [
              0.4444444444444444,
              "#bd3786"
             ],
             [
              0.5555555555555556,
              "#d8576b"
             ],
             [
              0.6666666666666666,
              "#ed7953"
             ],
             [
              0.7777777777777778,
              "#fb9f3a"
             ],
             [
              0.8888888888888888,
              "#fdca26"
             ],
             [
              1,
              "#f0f921"
             ]
            ],
            "type": "histogram2dcontour"
           }
          ],
          "mesh3d": [
           {
            "colorbar": {
             "outlinewidth": 0,
             "ticks": ""
            },
            "type": "mesh3d"
           }
          ],
          "parcoords": [
           {
            "line": {
             "colorbar": {
              "outlinewidth": 0,
              "ticks": ""
             }
            },
            "type": "parcoords"
           }
          ],
          "pie": [
           {
            "automargin": true,
            "type": "pie"
           }
          ],
          "scatter": [
           {
            "fillpattern": {
             "fillmode": "overlay",
             "size": 10,
             "solidity": 0.2
            },
            "type": "scatter"
           }
          ],
          "scatter3d": [
           {
            "line": {
             "colorbar": {
              "outlinewidth": 0,
              "ticks": ""
             }
            },
            "marker": {
             "colorbar": {
              "outlinewidth": 0,
              "ticks": ""
             }
            },
            "type": "scatter3d"
           }
          ],
          "scattercarpet": [
           {
            "marker": {
             "colorbar": {
              "outlinewidth": 0,
              "ticks": ""
             }
            },
            "type": "scattercarpet"
           }
          ],
          "scattergeo": [
           {
            "marker": {
             "colorbar": {
              "outlinewidth": 0,
              "ticks": ""
             }
            },
            "type": "scattergeo"
           }
          ],
          "scattergl": [
           {
            "marker": {
             "colorbar": {
              "outlinewidth": 0,
              "ticks": ""
             }
            },
            "type": "scattergl"
           }
          ],
          "scattermapbox": [
           {
            "marker": {
             "colorbar": {
              "outlinewidth": 0,
              "ticks": ""
             }
            },
            "type": "scattermapbox"
           }
          ],
          "scatterpolar": [
           {
            "marker": {
             "colorbar": {
              "outlinewidth": 0,
              "ticks": ""
             }
            },
            "type": "scatterpolar"
           }
          ],
          "scatterpolargl": [
           {
            "marker": {
             "colorbar": {
              "outlinewidth": 0,
              "ticks": ""
             }
            },
            "type": "scatterpolargl"
           }
          ],
          "scatterternary": [
           {
            "marker": {
             "colorbar": {
              "outlinewidth": 0,
              "ticks": ""
             }
            },
            "type": "scatterternary"
           }
          ],
          "surface": [
           {
            "colorbar": {
             "outlinewidth": 0,
             "ticks": ""
            },
            "colorscale": [
             [
              0,
              "#0d0887"
             ],
             [
              0.1111111111111111,
              "#46039f"
             ],
             [
              0.2222222222222222,
              "#7201a8"
             ],
             [
              0.3333333333333333,
              "#9c179e"
             ],
             [
              0.4444444444444444,
              "#bd3786"
             ],
             [
              0.5555555555555556,
              "#d8576b"
             ],
             [
              0.6666666666666666,
              "#ed7953"
             ],
             [
              0.7777777777777778,
              "#fb9f3a"
             ],
             [
              0.8888888888888888,
              "#fdca26"
             ],
             [
              1,
              "#f0f921"
             ]
            ],
            "type": "surface"
           }
          ],
          "table": [
           {
            "cells": {
             "fill": {
              "color": "#EBF0F8"
             },
             "line": {
              "color": "white"
             }
            },
            "header": {
             "fill": {
              "color": "#C8D4E3"
             },
             "line": {
              "color": "white"
             }
            },
            "type": "table"
           }
          ]
         },
         "layout": {
          "annotationdefaults": {
           "arrowcolor": "#2a3f5f",
           "arrowhead": 0,
           "arrowwidth": 1
          },
          "autotypenumbers": "strict",
          "coloraxis": {
           "colorbar": {
            "outlinewidth": 0,
            "ticks": ""
           }
          },
          "colorscale": {
           "diverging": [
            [
             0,
             "#8e0152"
            ],
            [
             0.1,
             "#c51b7d"
            ],
            [
             0.2,
             "#de77ae"
            ],
            [
             0.3,
             "#f1b6da"
            ],
            [
             0.4,
             "#fde0ef"
            ],
            [
             0.5,
             "#f7f7f7"
            ],
            [
             0.6,
             "#e6f5d0"
            ],
            [
             0.7,
             "#b8e186"
            ],
            [
             0.8,
             "#7fbc41"
            ],
            [
             0.9,
             "#4d9221"
            ],
            [
             1,
             "#276419"
            ]
           ],
           "sequential": [
            [
             0,
             "#0d0887"
            ],
            [
             0.1111111111111111,
             "#46039f"
            ],
            [
             0.2222222222222222,
             "#7201a8"
            ],
            [
             0.3333333333333333,
             "#9c179e"
            ],
            [
             0.4444444444444444,
             "#bd3786"
            ],
            [
             0.5555555555555556,
             "#d8576b"
            ],
            [
             0.6666666666666666,
             "#ed7953"
            ],
            [
             0.7777777777777778,
             "#fb9f3a"
            ],
            [
             0.8888888888888888,
             "#fdca26"
            ],
            [
             1,
             "#f0f921"
            ]
           ],
           "sequentialminus": [
            [
             0,
             "#0d0887"
            ],
            [
             0.1111111111111111,
             "#46039f"
            ],
            [
             0.2222222222222222,
             "#7201a8"
            ],
            [
             0.3333333333333333,
             "#9c179e"
            ],
            [
             0.4444444444444444,
             "#bd3786"
            ],
            [
             0.5555555555555556,
             "#d8576b"
            ],
            [
             0.6666666666666666,
             "#ed7953"
            ],
            [
             0.7777777777777778,
             "#fb9f3a"
            ],
            [
             0.8888888888888888,
             "#fdca26"
            ],
            [
             1,
             "#f0f921"
            ]
           ]
          },
          "colorway": [
           "#636efa",
           "#EF553B",
           "#00cc96",
           "#ab63fa",
           "#FFA15A",
           "#19d3f3",
           "#FF6692",
           "#B6E880",
           "#FF97FF",
           "#FECB52"
          ],
          "font": {
           "color": "#2a3f5f"
          },
          "geo": {
           "bgcolor": "white",
           "lakecolor": "white",
           "landcolor": "#E5ECF6",
           "showlakes": true,
           "showland": true,
           "subunitcolor": "white"
          },
          "hoverlabel": {
           "align": "left"
          },
          "hovermode": "closest",
          "mapbox": {
           "style": "light"
          },
          "paper_bgcolor": "white",
          "plot_bgcolor": "#E5ECF6",
          "polar": {
           "angularaxis": {
            "gridcolor": "white",
            "linecolor": "white",
            "ticks": ""
           },
           "bgcolor": "#E5ECF6",
           "radialaxis": {
            "gridcolor": "white",
            "linecolor": "white",
            "ticks": ""
           }
          },
          "scene": {
           "xaxis": {
            "backgroundcolor": "#E5ECF6",
            "gridcolor": "white",
            "gridwidth": 2,
            "linecolor": "white",
            "showbackground": true,
            "ticks": "",
            "zerolinecolor": "white"
           },
           "yaxis": {
            "backgroundcolor": "#E5ECF6",
            "gridcolor": "white",
            "gridwidth": 2,
            "linecolor": "white",
            "showbackground": true,
            "ticks": "",
            "zerolinecolor": "white"
           },
           "zaxis": {
            "backgroundcolor": "#E5ECF6",
            "gridcolor": "white",
            "gridwidth": 2,
            "linecolor": "white",
            "showbackground": true,
            "ticks": "",
            "zerolinecolor": "white"
           }
          },
          "shapedefaults": {
           "line": {
            "color": "#2a3f5f"
           }
          },
          "ternary": {
           "aaxis": {
            "gridcolor": "white",
            "linecolor": "white",
            "ticks": ""
           },
           "baxis": {
            "gridcolor": "white",
            "linecolor": "white",
            "ticks": ""
           },
           "bgcolor": "#E5ECF6",
           "caxis": {
            "gridcolor": "white",
            "linecolor": "white",
            "ticks": ""
           }
          },
          "title": {
           "x": 0.05
          },
          "xaxis": {
           "automargin": true,
           "gridcolor": "white",
           "linecolor": "white",
           "ticks": "",
           "title": {
            "standoff": 15
           },
           "zerolinecolor": "white",
           "zerolinewidth": 2
          },
          "yaxis": {
           "automargin": true,
           "gridcolor": "white",
           "linecolor": "white",
           "ticks": "",
           "title": {
            "standoff": 15
           },
           "zerolinecolor": "white",
           "zerolinewidth": 2
          }
         }
        },
        "xaxis": {
         "anchor": "y",
         "autorange": true,
         "domain": [
          0,
          1
         ],
         "range": [
          2010,
          2022
         ],
         "title": {
          "text": "Year"
         },
         "type": "linear"
        },
        "yaxis": {
         "anchor": "x",
         "autorange": true,
         "domain": [
          0,
          1
         ],
         "range": [
          -8.586394136032128,
          3.141488584610448
         ],
         "title": {
          "text": "Conductivity [S/cm<sup>2</sup>]"
         },
         "type": "log"
        }
       }
      },
      "image/png": "[encoded data removed]",
      "text/html": [
       "<div>                            <div id=\"0d6b065e-41b0-412d-8eee-c31a7a9a68ed\" class=\"plotly-graph-div\" style=\"height:525px; width:100%;\"></div>            <script type=\"text/javascript\">                require([\"plotly\"], function(Plotly) {                    window.PLOTLYENV=window.PLOTLYENV || {};                                    if (document.getElementById(\"0d6b065e-41b0-412d-8eee-c31a7a9a68ed\")) {                    Plotly.newPlot(                        \"0d6b065e-41b0-412d-8eee-c31a7a9a68ed\",                        [{\"customdata\":[[\"3D\",385.0],[\"3D\",450.0],[\"3D\",214.0],[\"3D\",559.0],[\"3D\",614.0],[\"3D\",208.0],[\"3D\",1400.0],[\"3D\",120.0]],\"hovertemplate\":\"<b>%{hovertext}</b><br><br>Dimensionality=%{customdata[0]}                                 <br>Year=%{x}<br>Value=%{y} S/cm<sup>2</sup>                                 <br>Porosity=%{customdata[1]} m<sup>2</sup>/g<extra></extra>\",\"hovertext\":[\"Cu[Ni(pdt)2]\",\"Fe(1,2,3-triazolate) (oxidized)\",\"TCNQ@Cu3(BTC)2\",\"Cd2(TTFTB)\",\"Fe2(BDT)3 (oxidized)\",\"Ho(1+x)(HOTP)\",\"Fe-HHTP\",\"NiTAHQ-3D-ox\"],\"legendgroup\":\"3D\",\"line\":{\"color\":\"#636efa\",\"dash\":\"solid\"},\"marker\":{\"symbol\":\"circle\"},\"mode\":\"lines\",\"name\":\"3D\",\"orientation\":\"v\",\"showlegend\":true,\"x\":[2010,2012,2014,2015,2018,2020,2021,2022],\"xaxis\":\"x\",\"y\":[1e-08,7.7e-05,0.07,0.00029,1.2,0.05,0.001,3e-05],\"yaxis\":\"y\",\"type\":\"scatter\"},{\"customdata\":[[\"2D layered\",306.0],[\"2D layered\",630.0],[\"2D layered\",114.0],[\"2D layered\",210.0],[\"2D layered\",2298.0],[\"2D layered\",280.0],[\"2D layered\",133.0],[\"2D layered\",480.0]],\"hovertemplate\":\"<b>%{hovertext}</b><br><br>Dimensionality=%{customdata[0]}                                 <br>Year=%{x}<br>Value=%{y} S/cm<sup>2</sup>                                 <br>Porosity=%{customdata[1]} m<sup>2</sup>/g<extra></extra>\",\"hovertext\":[\"Cu3(HOTP)2\",\"Ni3(HITP)2\",\"Cu3(HIB)2\",\"Fe3(PTC)\",\"(Mn/Fe)3(HIB)2\",\"Co3(HITP)2\",\"Ni3(HAB)2\",\"Ni3(HATI_C1)2\"],\"legendgroup\":\"2D layered\",\"line\":{\"color\":\"#EF553B\",\"dash\":\"solid\"},\"marker\":{\"symbol\":\"circle\"},\"mode\":\"lines\",\"name\":\"2D layered\",\"orientation\":\"v\",\"showlegend\":true,\"x\":[2012,2014,2017,2018,2019,2020,2021,2022],\"xaxis\":\"x\",\"y\":[0.1,40.0,13.0,10.0,359.0,11.5,0.52,0.01],\"yaxis\":\"y\",\"type\":\"scatter\"}],                        {\"template\":{\"data\":{\"histogram2dcontour\":[{\"type\":\"histogram2dcontour\",\"colorbar\":{\"outlinewidth\":0,\"ticks\":\"\"},\"colorscale\":[[0.0,\"#0d0887\"],[0.1111111111111111,\"#46039f\"],[0.2222222222222222,\"#7201a8\"],[0.3333333333333333,\"#9c179e\"],[0.4444444444444444,\"#bd3786\"],[0.5555555555555556,\"#d8576b\"],[0.6666666666666666,\"#ed7953\"],[0.7777777777777778,\"#fb9f3a\"],[0.8888888888888888,\"#fdca26\"],[1.0,\"#f0f921\"]]}],\"choropleth\":[{\"type\":\"choropleth\",\"colorbar\":{\"outlinewidth\":0,\"ticks\":\"\"}}],\"histogram2d\":[{\"type\":\"histogram2d\",\"colorbar\":{\"outlinewidth\":0,\"ticks\":\"\"},\"colorscale\":[[0.0,\"#0d0887\"],[0.1111111111111111,\"#46039f\"],[0.2222222222222222,\"#7201a8\"],[0.3333333333333333,\"#9c179e\"],[0.4444444444444444,\"#bd3786\"],[0.5555555555555556,\"#d8576b\"],[0.6666666666666666,\"#ed7953\"],[0.7777777777777778,\"#fb9f3a\"],[0.8888888888888888,\"#fdca26\"],[1.0,\"#f0f921\"]]}],\"heatmap\":[{\"type\":\"heatmap\",\"colorbar\":{\"outlinewidth\":0,\"ticks\":\"\"},\"colorscale\":[[0.0,\"#0d0887\"],[0.1111111111111111,\"#46039f\"],[0.2222222222222222,\"#7201a8\"],[0.3333333333333333,\"#9c179e\"],[0.4444444444444444,\"#bd3786\"],[0.5555555555555556,\"#d8576b\"],[0.6666666666666666,\"#ed7953\"],[0.7777777777777778,\"#fb9f3a\"],[0.8888888888888888,\"#fdca26\"],[1.0,\"#f0f921\"]]}],\"heatmapgl\":[{\"type\":\"heatmapgl\",\"colorbar\":{\"outlinewidth\":0,\"ticks\":\"\"},\"colorscale\":[[0.0,\"#0d0887\"],[0.1111111111111111,\"#46039f\"],[0.2222222222222222,\"#7201a8\"],[0.3333333333333333,\"#9c179e\"],[0.4444444444444444,\"#bd3786\"],[0.5555555555555556,\"#d8576b\"],[0.6666666666666666,\"#ed7953\"],[0.7777777777777778,\"#fb9f3a\"],[0.8888888888888888,\"#fdca26\"],[1.0,\"#f0f921\"]]}],\"contourcarpet\":[{\"type\":\"contourcarpet\",\"colorbar\":{\"outlinewidth\":0,\"ticks\":\"\"}}],\"contour\":[{\"type\":\"contour\",\"colorbar\":{\"outlinewidth\":0,\"ticks\":\"\"},\"colorscale\":[[0.0,\"#0d0887\"],[0.1111111111111111,\"#46039f\"],[0.2222222222222222,\"#7201a8\"],[0.3333333333333333,\"#9c179e\"],[0.4444444444444444,\"#bd3786\"],[0.5555555555555556,\"#d8576b\"],[0.6666666666666666,\"#ed7953\"],[0.7777777777777778,\"#fb9f3a\"],[0.8888888888888888,\"#fdca26\"],[1.0,\"#f0f921\"]]}],\"surface\":[{\"type\":\"surface\",\"colorbar\":{\"outlinewidth\":0,\"ticks\":\"\"},\"colorscale\":[[0.0,\"#0d0887\"],[0.1111111111111111,\"#46039f\"],[0.2222222222222222,\"#7201a8\"],[0.3333333333333333,\"#9c179e\"],[0.4444444444444444,\"#bd3786\"],[0.5555555555555556,\"#d8576b\"],[0.6666666666666666,\"#ed7953\"],[0.7777777777777778,\"#fb9f3a\"],[0.8888888888888888,\"#fdca26\"],[1.0,\"#f0f921\"]]}],\"mesh3d\":[{\"type\":\"mesh3d\",\"colorbar\":{\"outlinewidth\":0,\"ticks\":\"\"}}],\"scatter\":[{\"fillpattern\":{\"fillmode\":\"overlay\",\"size\":10,\"solidity\":0.2},\"type\":\"scatter\"}],\"parcoords\":[{\"type\":\"parcoords\",\"line\":{\"colorbar\":{\"outlinewidth\":0,\"ticks\":\"\"}}}],\"scatterpolargl\":[{\"type\":\"scatterpolargl\",\"marker\":{\"colorbar\":{\"outlinewidth\":0,\"ticks\":\"\"}}}],\"bar\":[{\"error_x\":{\"color\":\"#2a3f5f\"},\"error_y\":{\"color\":\"#2a3f5f\"},\"marker\":{\"line\":{\"color\":\"#E5ECF6\",\"width\":0.5},\"pattern\":{\"fillmode\":\"overlay\",\"size\":10,\"solidity\":0.2}},\"type\":\"bar\"}],\"scattergeo\":[{\"type\":\"scattergeo\",\"marker\":{\"colorbar\":{\"outlinewidth\":0,\"ticks\":\"\"}}}],\"scatterpolar\":[{\"type\":\"scatterpolar\",\"marker\":{\"colorbar\":{\"outlinewidth\":0,\"ticks\":\"\"}}}],\"histogram\":[{\"marker\":{\"pattern\":{\"fillmode\":\"overlay\",\"size\":10,\"solidity\":0.2}},\"type\":\"histogram\"}],\"scattergl\":[{\"type\":\"scattergl\",\"marker\":{\"colorbar\":{\"outlinewidth\":0,\"ticks\":\"\"}}}],\"scatter3d\":[{\"type\":\"scatter3d\",\"line\":{\"colorbar\":{\"outlinewidth\":0,\"ticks\":\"\"}},\"marker\":{\"colorbar\":{\"outlinewidth\":0,\"ticks\":\"\"}}}],\"scattermapbox\":[{\"type\":\"scattermapbox\",\"marker\":{\"colorbar\":{\"outlinewidth\":0,\"ticks\":\"\"}}}],\"scatterternary\":[{\"type\":\"scatterternary\",\"marker\":{\"colorbar\":{\"outlinewidth\":0,\"ticks\":\"\"}}}],\"scattercarpet\":[{\"type\":\"scattercarpet\",\"marker\":{\"colorbar\":{\"outlinewidth\":0,\"ticks\":\"\"}}}],\"carpet\":[{\"aaxis\":{\"endlinecolor\":\"#2a3f5f\",\"gridcolor\":\"white\",\"linecolor\":\"white\",\"minorgridcolor\":\"white\",\"startlinecolor\":\"#2a3f5f\"},\"baxis\":{\"endlinecolor\":\"#2a3f5f\",\"gridcolor\":\"white\",\"linecolor\":\"white\",\"minorgridcolor\":\"white\",\"startlinecolor\":\"#2a3f5f\"},\"type\":\"carpet\"}],\"table\":[{\"cells\":{\"fill\":{\"color\":\"#EBF0F8\"},\"line\":{\"color\":\"white\"}},\"header\":{\"fill\":{\"color\":\"#C8D4E3\"},\"line\":{\"color\":\"white\"}},\"type\":\"table\"}],\"barpolar\":[{\"marker\":{\"line\":{\"color\":\"#E5ECF6\",\"width\":0.5},\"pattern\":{\"fillmode\":\"overlay\",\"size\":10,\"solidity\":0.2}},\"type\":\"barpolar\"}],\"pie\":[{\"automargin\":true,\"type\":\"pie\"}]},\"layout\":{\"autotypenumbers\":\"strict\",\"colorway\":[\"#636efa\",\"#EF553B\",\"#00cc96\",\"#ab63fa\",\"#FFA15A\",\"#19d3f3\",\"#FF6692\",\"#B6E880\",\"#FF97FF\",\"#FECB52\"],\"font\":{\"color\":\"#2a3f5f\"},\"hovermode\":\"closest\",\"hoverlabel\":{\"align\":\"left\"},\"paper_bgcolor\":\"white\",\"plot_bgcolor\":\"#E5ECF6\",\"polar\":{\"bgcolor\":\"#E5ECF6\",\"angularaxis\":{\"gridcolor\":\"white\",\"linecolor\":\"white\",\"ticks\":\"\"},\"radialaxis\":{\"gridcolor\":\"white\",\"linecolor\":\"white\",\"ticks\":\"\"}},\"ternary\":{\"bgcolor\":\"#E5ECF6\",\"aaxis\":{\"gridcolor\":\"white\",\"linecolor\":\"white\",\"ticks\":\"\"},\"baxis\":{\"gridcolor\":\"white\",\"linecolor\":\"white\",\"ticks\":\"\"},\"caxis\":{\"gridcolor\":\"white\",\"linecolor\":\"white\",\"ticks\":\"\"}},\"coloraxis\":{\"colorbar\":{\"outlinewidth\":0,\"ticks\":\"\"}},\"colorscale\":{\"sequential\":[[0.0,\"#0d0887\"],[0.1111111111111111,\"#46039f\"],[0.2222222222222222,\"#7201a8\"],[0.3333333333333333,\"#9c179e\"],[0.4444444444444444,\"#bd3786\"],[0.5555555555555556,\"#d8576b\"],[0.6666666666666666,\"#ed7953\"],[0.7777777777777778,\"#fb9f3a\"],[0.8888888888888888,\"#fdca26\"],[1.0,\"#f0f921\"]],\"sequentialminus\":[[0.0,\"#0d0887\"],[0.1111111111111111,\"#46039f\"],[0.2222222222222222,\"#7201a8\"],[0.3333333333333333,\"#9c179e\"],[0.4444444444444444,\"#bd3786\"],[0.5555555555555556,\"#d8576b\"],[0.6666666666666666,\"#ed7953\"],[0.7777777777777778,\"#fb9f3a\"],[0.8888888888888888,\"#fdca26\"],[1.0,\"#f0f921\"]],\"diverging\":[[0,\"#8e0152\"],[0.1,\"#c51b7d\"],[0.2,\"#de77ae\"],[0.3,\"#f1b6da\"],[0.4,\"#fde0ef\"],[0.5,\"#f7f7f7\"],[0.6,\"#e6f5d0\"],[0.7,\"#b8e186\"],[0.8,\"#7fbc41\"],[0.9,\"#4d9221\"],[1,\"#276419\"]]},\"xaxis\":{\"gridcolor\":\"white\",\"linecolor\":\"white\",\"ticks\":\"\",\"title\":{\"standoff\":15},\"zerolinecolor\":\"white\",\"automargin\":true,\"zerolinewidth\":2},\"yaxis\":{\"gridcolor\":\"white\",\"linecolor\":\"white\",\"ticks\":\"\",\"title\":{\"standoff\":15},\"zerolinecolor\":\"white\",\"automargin\":true,\"zerolinewidth\":2},\"scene\":{\"xaxis\":{\"backgroundcolor\":\"#E5ECF6\",\"gridcolor\":\"white\",\"linecolor\":\"white\",\"showbackground\":true,\"ticks\":\"\",\"zerolinecolor\":\"white\",\"gridwidth\":2},\"yaxis\":{\"backgroundcolor\":\"#E5ECF6\",\"gridcolor\":\"white\",\"linecolor\":\"white\",\"showbackground\":true,\"ticks\":\"\",\"zerolinecolor\":\"white\",\"gridwidth\":2},\"zaxis\":{\"backgroundcolor\":\"#E5ECF6\",\"gridcolor\":\"white\",\"linecolor\":\"white\",\"showbackground\":true,\"ticks\":\"\",\"zerolinecolor\":\"white\",\"gridwidth\":2}},\"shapedefaults\":{\"line\":{\"color\":\"#2a3f5f\"}},\"annotationdefaults\":{\"arrowcolor\":\"#2a3f5f\",\"arrowhead\":0,\"arrowwidth\":1},\"geo\":{\"bgcolor\":\"white\",\"landcolor\":\"#E5ECF6\",\"subunitcolor\":\"white\",\"showland\":true,\"showlakes\":true,\"lakecolor\":\"white\"},\"title\":{\"x\":0.05},\"mapbox\":{\"style\":\"light\"}}},\"xaxis\":{\"anchor\":\"y\",\"domain\":[0.0,1.0],\"title\":{\"text\":\"Year\"}},\"yaxis\":{\"anchor\":\"x\",\"domain\":[0.0,1.0],\"title\":{\"text\":\"Conductivity [S/cm<sup>2</sup>]\"},\"type\":\"log\"},\"legend\":{\"title\":{\"text\":\"Dimensionality\"},\"tracegroupgap\":0},\"margin\":{\"t\":60}},                        {\"responsive\": true}                    ).then(function(){\n",
       "                            \n",
       "var gd = document.getElementById('0d6b065e-41b0-412d-8eee-c31a7a9a68ed');\n",
       "var x = new MutationObserver(function (mutations, observer) {{\n",
       "        var display = window.getComputedStyle(gd).display;\n",
       "        if (!display || display === 'none') {{\n",
       "            console.log([gd, 'removed!']);\n",
       "            Plotly.purge(gd);\n",
       "            observer.disconnect();\n",
       "        }}\n",
       "}});\n",
       "\n",
       "// Listen for the removal of the full notebook cells\n",
       "var notebookContainer = gd.closest('#notebook-container');\n",
       "if (notebookContainer) {{\n",
       "    x.observe(notebookContainer, {childList: true});\n",
       "}}\n",
       "\n",
       "// Listen for the clearing of the current output cell\n",
       "var outputEl = gd.closest('.output');\n",
       "if (outputEl) {{\n",
       "    x.observe(outputEl, {childList: true});\n",
       "}}\n",
       "\n",
       "                        })                };                });            </script>        </div>"
      ]
     },
     "metadata": {},
     "output_type": "display_data"
    }
   ],
   "source": [
    "mofs_sorted_3D_porous = mofs.loc[mofs[(mofs['Dimensionality']=='3D') & (mofs['Porosity']>100)].groupby('Year')['Value'].idxmax()]\n",
    "mofs_sorted_2D_porous = mofs.loc[mofs[(mofs['Dimensionality']=='2D layered') & (mofs['Porosity']>100)].groupby('Year')['Value'].idxmax()]\n",
    "mofs_sorted_porous = pd.concat([mofs_sorted_3D_porous, mofs_sorted_2D_porous], ignore_index=True)\n",
    "fig3 = px.line(mofs_sorted_porous, x='Year', y='Value', color='Dimensionality', hover_data=['Dimensionality','Porosity'], \n",
    "                 labels={'Value': \"Conductivity [S/cm<sup>2</sup>]\"}, hover_name='Name')\n",
    "fig3.update_traces(hovertemplate='<b>%{hovertext}</b><br><br>Dimensionality=%{customdata[0]}\\\n",
    "                                 <br>Year=%{x}<br>Value=%{y} S/cm<sup>2</sup>\\\n",
    "                                 <br>Porosity=%{customdata[1]} m<sup>2</sup>/g<extra></extra>')\n",
    "fig3.update_layout(yaxis_type=\"log\")\n",
    "fig3.show()"
   ]
  },
  {
   "cell_type": "code",
   "execution_count": 21,
   "metadata": {},
   "outputs": [
    {
     "data": {
      "application/vnd.plotly.v1+json": {
       "config": {
        "plotlyServerURL": "https://plotly.com"
       },
       "data": [
        {
         "customdata": [
          [
           "3D",
           385
          ],
          [
           "3D",
           450
          ],
          [
           "3D",
           214
          ],
          [
           "3D",
           214
          ],
          [
           "3D",
           614
          ],
          [
           "3D",
           614
          ],
          [
           "3D",
           614
          ],
          [
           "3D",
           614
          ]
         ],
         "hovertemplate": "<b>%{hovertext}</b><br><br>Dimensionality=%{customdata[0]}                                 <br>Year=%{x}<br>Value=%{y} S/cm<sup>2</sup>                                 <br>Porosity=%{customdata[1]} m<sup>2</sup>/g<extra></extra>",
         "hovertext": [
          "Cu[Ni(pdt)2]",
          "Fe(1,2,3-triazolate) (oxidized)",
          "TCNQ@Cu3(BTC)2",
          "TCNQ@Cu3(BTC)2",
          "Fe2(BDT)3 (oxidized)",
          "Fe2(BDT)3 (oxidized)",
          "Fe2(BDT)3 (oxidized)",
          "Fe2(BDT)3 (oxidized)"
         ],
         "legendgroup": "3D",
         "line": {
          "color": "#636efa",
          "dash": "solid"
         },
         "marker": {
          "symbol": "circle"
         },
         "mode": "lines",
         "name": "3D",
         "orientation": "v",
         "showlegend": true,
         "type": "scatter",
         "x": [
          2010,
          2012,
          2014,
          2015,
          2018,
          2020,
          2021,
          2022
         ],
         "xaxis": "x",
         "y": [
          1e-08,
          7.7e-05,
          0.07,
          0.07,
          1.2,
          1.2,
          1.2,
          1.2
         ],
         "yaxis": "y"
        },
        {
         "customdata": [
          [
           "2D layered",
           306
          ],
          [
           "2D layered",
           630
          ],
          [
           "2D layered",
           630
          ],
          [
           "2D layered",
           630
          ],
          [
           "2D layered",
           2298
          ],
          [
           "2D layered",
           2298
          ],
          [
           "2D layered",
           2298
          ],
          [
           "2D layered",
           2298
          ]
         ],
         "hovertemplate": "<b>%{hovertext}</b><br><br>Dimensionality=%{customdata[0]}                                 <br>Year=%{x}<br>Value=%{y} S/cm<sup>2</sup>                                 <br>Porosity=%{customdata[1]} m<sup>2</sup>/g<extra></extra>",
         "hovertext": [
          "Cu3(HOTP)2",
          "Ni3(HITP)2",
          "Ni3(HITP)2",
          "Ni3(HITP)2",
          "(Mn/Fe)3(HIB)2",
          "(Mn/Fe)3(HIB)2",
          "(Mn/Fe)3(HIB)2",
          "(Mn/Fe)3(HIB)2"
         ],
         "legendgroup": "2D layered",
         "line": {
          "color": "#EF553B",
          "dash": "solid"
         },
         "marker": {
          "symbol": "circle"
         },
         "mode": "lines",
         "name": "2D layered",
         "orientation": "v",
         "showlegend": true,
         "type": "scatter",
         "x": [
          2012,
          2014,
          2017,
          2018,
          2019,
          2020,
          2021,
          2022
         ],
         "xaxis": "x",
         "y": [
          0.1,
          40,
          40,
          40,
          359,
          359,
          359,
          359
         ],
         "yaxis": "y"
        }
       ],
       "layout": {
        "autosize": true,
        "legend": {
         "title": {
          "text": "Dimensionality"
         },
         "tracegroupgap": 0
        },
        "margin": {
         "t": 60
        },
        "template": {
         "data": {
          "bar": [
           {
            "error_x": {
             "color": "#2a3f5f"
            },
            "error_y": {
             "color": "#2a3f5f"
            },
            "marker": {
             "line": {
              "color": "#E5ECF6",
              "width": 0.5
             },
             "pattern": {
              "fillmode": "overlay",
              "size": 10,
              "solidity": 0.2
             }
            },
            "type": "bar"
           }
          ],
          "barpolar": [
           {
            "marker": {
             "line": {
              "color": "#E5ECF6",
              "width": 0.5
             },
             "pattern": {
              "fillmode": "overlay",
              "size": 10,
              "solidity": 0.2
             }
            },
            "type": "barpolar"
           }
          ],
          "carpet": [
           {
            "aaxis": {
             "endlinecolor": "#2a3f5f",
             "gridcolor": "white",
             "linecolor": "white",
             "minorgridcolor": "white",
             "startlinecolor": "#2a3f5f"
            },
            "baxis": {
             "endlinecolor": "#2a3f5f",
             "gridcolor": "white",
             "linecolor": "white",
             "minorgridcolor": "white",
             "startlinecolor": "#2a3f5f"
            },
            "type": "carpet"
           }
          ],
          "choropleth": [
           {
            "colorbar": {
             "outlinewidth": 0,
             "ticks": ""
            },
            "type": "choropleth"
           }
          ],
          "contour": [
           {
            "colorbar": {
             "outlinewidth": 0,
             "ticks": ""
            },
            "colorscale": [
             [
              0,
              "#0d0887"
             ],
             [
              0.1111111111111111,
              "#46039f"
             ],
             [
              0.2222222222222222,
              "#7201a8"
             ],
             [
              0.3333333333333333,
              "#9c179e"
             ],
             [
              0.4444444444444444,
              "#bd3786"
             ],
             [
              0.5555555555555556,
              "#d8576b"
             ],
             [
              0.6666666666666666,
              "#ed7953"
             ],
             [
              0.7777777777777778,
              "#fb9f3a"
             ],
             [
              0.8888888888888888,
              "#fdca26"
             ],
             [
              1,
              "#f0f921"
             ]
            ],
            "type": "contour"
           }
          ],
          "contourcarpet": [
           {
            "colorbar": {
             "outlinewidth": 0,
             "ticks": ""
            },
            "type": "contourcarpet"
           }
          ],
          "heatmap": [
           {
            "colorbar": {
             "outlinewidth": 0,
             "ticks": ""
            },
            "colorscale": [
             [
              0,
              "#0d0887"
             ],
             [
              0.1111111111111111,
              "#46039f"
             ],
             [
              0.2222222222222222,
              "#7201a8"
             ],
             [
              0.3333333333333333,
              "#9c179e"
             ],
             [
              0.4444444444444444,
              "#bd3786"
             ],
             [
              0.5555555555555556,
              "#d8576b"
             ],
             [
              0.6666666666666666,
              "#ed7953"
             ],
             [
              0.7777777777777778,
              "#fb9f3a"
             ],
             [
              0.8888888888888888,
              "#fdca26"
             ],
             [
              1,
              "#f0f921"
             ]
            ],
            "type": "heatmap"
           }
          ],
          "heatmapgl": [
           {
            "colorbar": {
             "outlinewidth": 0,
             "ticks": ""
            },
            "colorscale": [
             [
              0,
              "#0d0887"
             ],
             [
              0.1111111111111111,
              "#46039f"
             ],
             [
              0.2222222222222222,
              "#7201a8"
             ],
             [
              0.3333333333333333,
              "#9c179e"
             ],
             [
              0.4444444444444444,
              "#bd3786"
             ],
             [
              0.5555555555555556,
              "#d8576b"
             ],
             [
              0.6666666666666666,
              "#ed7953"
             ],
             [
              0.7777777777777778,
              "#fb9f3a"
             ],
             [
              0.8888888888888888,
              "#fdca26"
             ],
             [
              1,
              "#f0f921"
             ]
            ],
            "type": "heatmapgl"
           }
          ],
          "histogram": [
           {
            "marker": {
             "pattern": {
              "fillmode": "overlay",
              "size": 10,
              "solidity": 0.2
             }
            },
            "type": "histogram"
           }
          ],
          "histogram2d": [
           {
            "colorbar": {
             "outlinewidth": 0,
             "ticks": ""
            },
            "colorscale": [
             [
              0,
              "#0d0887"
             ],
             [
              0.1111111111111111,
              "#46039f"
             ],
             [
              0.2222222222222222,
              "#7201a8"
             ],
             [
              0.3333333333333333,
              "#9c179e"
             ],
             [
              0.4444444444444444,
              "#bd3786"
             ],
             [
              0.5555555555555556,
              "#d8576b"
             ],
             [
              0.6666666666666666,
              "#ed7953"
             ],
             [
              0.7777777777777778,
              "#fb9f3a"
             ],
             [
              0.8888888888888888,
              "#fdca26"
             ],
             [
              1,
              "#f0f921"
             ]
            ],
            "type": "histogram2d"
           }
          ],
          "histogram2dcontour": [
           {
            "colorbar": {
             "outlinewidth": 0,
             "ticks": ""
            },
            "colorscale": [
             [
              0,
              "#0d0887"
             ],
             [
              0.1111111111111111,
              "#46039f"
             ],
             [
              0.2222222222222222,
              "#7201a8"
             ],
             [
              0.3333333333333333,
              "#9c179e"
             ],
             [
              0.4444444444444444,
              "#bd3786"
             ],
             [
              0.5555555555555556,
              "#d8576b"
             ],
             [
              0.6666666666666666,
              "#ed7953"
             ],
             [
              0.7777777777777778,
              "#fb9f3a"
             ],
             [
              0.8888888888888888,
              "#fdca26"
             ],
             [
              1,
              "#f0f921"
             ]
            ],
            "type": "histogram2dcontour"
           }
          ],
          "mesh3d": [
           {
            "colorbar": {
             "outlinewidth": 0,
             "ticks": ""
            },
            "type": "mesh3d"
           }
          ],
          "parcoords": [
           {
            "line": {
             "colorbar": {
              "outlinewidth": 0,
              "ticks": ""
             }
            },
            "type": "parcoords"
           }
          ],
          "pie": [
           {
            "automargin": true,
            "type": "pie"
           }
          ],
          "scatter": [
           {
            "fillpattern": {
             "fillmode": "overlay",
             "size": 10,
             "solidity": 0.2
            },
            "type": "scatter"
           }
          ],
          "scatter3d": [
           {
            "line": {
             "colorbar": {
              "outlinewidth": 0,
              "ticks": ""
             }
            },
            "marker": {
             "colorbar": {
              "outlinewidth": 0,
              "ticks": ""
             }
            },
            "type": "scatter3d"
           }
          ],
          "scattercarpet": [
           {
            "marker": {
             "colorbar": {
              "outlinewidth": 0,
              "ticks": ""
             }
            },
            "type": "scattercarpet"
           }
          ],
          "scattergeo": [
           {
            "marker": {
             "colorbar": {
              "outlinewidth": 0,
              "ticks": ""
             }
            },
            "type": "scattergeo"
           }
          ],
          "scattergl": [
           {
            "marker": {
             "colorbar": {
              "outlinewidth": 0,
              "ticks": ""
             }
            },
            "type": "scattergl"
           }
          ],
          "scattermapbox": [
           {
            "marker": {
             "colorbar": {
              "outlinewidth": 0,
              "ticks": ""
             }
            },
            "type": "scattermapbox"
           }
          ],
          "scatterpolar": [
           {
            "marker": {
             "colorbar": {
              "outlinewidth": 0,
              "ticks": ""
             }
            },
            "type": "scatterpolar"
           }
          ],
          "scatterpolargl": [
           {
            "marker": {
             "colorbar": {
              "outlinewidth": 0,
              "ticks": ""
             }
            },
            "type": "scatterpolargl"
           }
          ],
          "scatterternary": [
           {
            "marker": {
             "colorbar": {
              "outlinewidth": 0,
              "ticks": ""
             }
            },
            "type": "scatterternary"
           }
          ],
          "surface": [
           {
            "colorbar": {
             "outlinewidth": 0,
             "ticks": ""
            },
            "colorscale": [
             [
              0,
              "#0d0887"
             ],
             [
              0.1111111111111111,
              "#46039f"
             ],
             [
              0.2222222222222222,
              "#7201a8"
             ],
             [
              0.3333333333333333,
              "#9c179e"
             ],
             [
              0.4444444444444444,
              "#bd3786"
             ],
             [
              0.5555555555555556,
              "#d8576b"
             ],
             [
              0.6666666666666666,
              "#ed7953"
             ],
             [
              0.7777777777777778,
              "#fb9f3a"
             ],
             [
              0.8888888888888888,
              "#fdca26"
             ],
             [
              1,
              "#f0f921"
             ]
            ],
            "type": "surface"
           }
          ],
          "table": [
           {
            "cells": {
             "fill": {
              "color": "#EBF0F8"
             },
             "line": {
              "color": "white"
             }
            },
            "header": {
             "fill": {
              "color": "#C8D4E3"
             },
             "line": {
              "color": "white"
             }
            },
            "type": "table"
           }
          ]
         },
         "layout": {
          "annotationdefaults": {
           "arrowcolor": "#2a3f5f",
           "arrowhead": 0,
           "arrowwidth": 1
          },
          "autotypenumbers": "strict",
          "coloraxis": {
           "colorbar": {
            "outlinewidth": 0,
            "ticks": ""
           }
          },
          "colorscale": {
           "diverging": [
            [
             0,
             "#8e0152"
            ],
            [
             0.1,
             "#c51b7d"
            ],
            [
             0.2,
             "#de77ae"
            ],
            [
             0.3,
             "#f1b6da"
            ],
            [
             0.4,
             "#fde0ef"
            ],
            [
             0.5,
             "#f7f7f7"
            ],
            [
             0.6,
             "#e6f5d0"
            ],
            [
             0.7,
             "#b8e186"
            ],
            [
             0.8,
             "#7fbc41"
            ],
            [
             0.9,
             "#4d9221"
            ],
            [
             1,
             "#276419"
            ]
           ],
           "sequential": [
            [
             0,
             "#0d0887"
            ],
            [
             0.1111111111111111,
             "#46039f"
            ],
            [
             0.2222222222222222,
             "#7201a8"
            ],
            [
             0.3333333333333333,
             "#9c179e"
            ],
            [
             0.4444444444444444,
             "#bd3786"
            ],
            [
             0.5555555555555556,
             "#d8576b"
            ],
            [
             0.6666666666666666,
             "#ed7953"
            ],
            [
             0.7777777777777778,
             "#fb9f3a"
            ],
            [
             0.8888888888888888,
             "#fdca26"
            ],
            [
             1,
             "#f0f921"
            ]
           ],
           "sequentialminus": [
            [
             0,
             "#0d0887"
            ],
            [
             0.1111111111111111,
             "#46039f"
            ],
            [
             0.2222222222222222,
             "#7201a8"
            ],
            [
             0.3333333333333333,
             "#9c179e"
            ],
            [
             0.4444444444444444,
             "#bd3786"
            ],
            [
             0.5555555555555556,
             "#d8576b"
            ],
            [
             0.6666666666666666,
             "#ed7953"
            ],
            [
             0.7777777777777778,
             "#fb9f3a"
            ],
            [
             0.8888888888888888,
             "#fdca26"
            ],
            [
             1,
             "#f0f921"
            ]
           ]
          },
          "colorway": [
           "#636efa",
           "#EF553B",
           "#00cc96",
           "#ab63fa",
           "#FFA15A",
           "#19d3f3",
           "#FF6692",
           "#B6E880",
           "#FF97FF",
           "#FECB52"
          ],
          "font": {
           "color": "#2a3f5f"
          },
          "geo": {
           "bgcolor": "white",
           "lakecolor": "white",
           "landcolor": "#E5ECF6",
           "showlakes": true,
           "showland": true,
           "subunitcolor": "white"
          },
          "hoverlabel": {
           "align": "left"
          },
          "hovermode": "closest",
          "mapbox": {
           "style": "light"
          },
          "paper_bgcolor": "white",
          "plot_bgcolor": "#E5ECF6",
          "polar": {
           "angularaxis": {
            "gridcolor": "white",
            "linecolor": "white",
            "ticks": ""
           },
           "bgcolor": "#E5ECF6",
           "radialaxis": {
            "gridcolor": "white",
            "linecolor": "white",
            "ticks": ""
           }
          },
          "scene": {
           "xaxis": {
            "backgroundcolor": "#E5ECF6",
            "gridcolor": "white",
            "gridwidth": 2,
            "linecolor": "white",
            "showbackground": true,
            "ticks": "",
            "zerolinecolor": "white"
           },
           "yaxis": {
            "backgroundcolor": "#E5ECF6",
            "gridcolor": "white",
            "gridwidth": 2,
            "linecolor": "white",
            "showbackground": true,
            "ticks": "",
            "zerolinecolor": "white"
           },
           "zaxis": {
            "backgroundcolor": "#E5ECF6",
            "gridcolor": "white",
            "gridwidth": 2,
            "linecolor": "white",
            "showbackground": true,
            "ticks": "",
            "zerolinecolor": "white"
           }
          },
          "shapedefaults": {
           "line": {
            "color": "#2a3f5f"
           }
          },
          "ternary": {
           "aaxis": {
            "gridcolor": "white",
            "linecolor": "white",
            "ticks": ""
           },
           "baxis": {
            "gridcolor": "white",
            "linecolor": "white",
            "ticks": ""
           },
           "bgcolor": "#E5ECF6",
           "caxis": {
            "gridcolor": "white",
            "linecolor": "white",
            "ticks": ""
           }
          },
          "title": {
           "x": 0.05
          },
          "xaxis": {
           "automargin": true,
           "gridcolor": "white",
           "linecolor": "white",
           "ticks": "",
           "title": {
            "standoff": 15
           },
           "zerolinecolor": "white",
           "zerolinewidth": 2
          },
          "yaxis": {
           "automargin": true,
           "gridcolor": "white",
           "linecolor": "white",
           "ticks": "",
           "title": {
            "standoff": 15
           },
           "zerolinecolor": "white",
           "zerolinewidth": 2
          }
         }
        },
        "xaxis": {
         "anchor": "y",
         "autorange": true,
         "domain": [
          0,
          1
         ],
         "range": [
          2010,
          2022
         ],
         "title": {
          "text": "Year"
         },
         "type": "linear"
        },
        "yaxis": {
         "anchor": "x",
         "autorange": true,
         "domain": [
          0,
          1
         ],
         "range": [
          -8.586394136032128,
          3.141488584610448
         ],
         "title": {
          "text": "Conductivity [S/cm<sup>2</sup>]"
         },
         "type": "log"
        }
       }
      },
      "image/png": "[encoded data removed]",
      "text/html": [
       "<div>                            <div id=\"3b2afc31-dccf-46aa-b598-4153b5bc3b92\" class=\"plotly-graph-div\" style=\"height:525px; width:100%;\"></div>            <script type=\"text/javascript\">                require([\"plotly\"], function(Plotly) {                    window.PLOTLYENV=window.PLOTLYENV || {};                                    if (document.getElementById(\"3b2afc31-dccf-46aa-b598-4153b5bc3b92\")) {                    Plotly.newPlot(                        \"3b2afc31-dccf-46aa-b598-4153b5bc3b92\",                        [{\"customdata\":[[\"3D\",385.0],[\"3D\",450.0],[\"3D\",214.0],[\"3D\",214.0],[\"3D\",614.0],[\"3D\",614.0],[\"3D\",614.0],[\"3D\",614.0]],\"hovertemplate\":\"<b>%{hovertext}</b><br><br>Dimensionality=%{customdata[0]}                                 <br>Year=%{x}<br>Value=%{y} S/cm<sup>2</sup>                                 <br>Porosity=%{customdata[1]} m<sup>2</sup>/g<extra></extra>\",\"hovertext\":[\"Cu[Ni(pdt)2]\",\"Fe(1,2,3-triazolate) (oxidized)\",\"TCNQ@Cu3(BTC)2\",\"TCNQ@Cu3(BTC)2\",\"Fe2(BDT)3 (oxidized)\",\"Fe2(BDT)3 (oxidized)\",\"Fe2(BDT)3 (oxidized)\",\"Fe2(BDT)3 (oxidized)\"],\"legendgroup\":\"3D\",\"line\":{\"color\":\"#636efa\",\"dash\":\"solid\"},\"marker\":{\"symbol\":\"circle\"},\"mode\":\"lines\",\"name\":\"3D\",\"orientation\":\"v\",\"showlegend\":true,\"x\":[2010,2012,2014,2015,2018,2020,2021,2022],\"xaxis\":\"x\",\"y\":[1e-08,7.7e-05,0.07,0.07,1.2,1.2,1.2,1.2],\"yaxis\":\"y\",\"type\":\"scatter\"},{\"customdata\":[[\"2D layered\",306.0],[\"2D layered\",630.0],[\"2D layered\",630.0],[\"2D layered\",630.0],[\"2D layered\",2298.0],[\"2D layered\",2298.0],[\"2D layered\",2298.0],[\"2D layered\",2298.0]],\"hovertemplate\":\"<b>%{hovertext}</b><br><br>Dimensionality=%{customdata[0]}                                 <br>Year=%{x}<br>Value=%{y} S/cm<sup>2</sup>                                 <br>Porosity=%{customdata[1]} m<sup>2</sup>/g<extra></extra>\",\"hovertext\":[\"Cu3(HOTP)2\",\"Ni3(HITP)2\",\"Ni3(HITP)2\",\"Ni3(HITP)2\",\"(Mn/Fe)3(HIB)2\",\"(Mn/Fe)3(HIB)2\",\"(Mn/Fe)3(HIB)2\",\"(Mn/Fe)3(HIB)2\"],\"legendgroup\":\"2D layered\",\"line\":{\"color\":\"#EF553B\",\"dash\":\"solid\"},\"marker\":{\"symbol\":\"circle\"},\"mode\":\"lines\",\"name\":\"2D layered\",\"orientation\":\"v\",\"showlegend\":true,\"x\":[2012,2014,2017,2018,2019,2020,2021,2022],\"xaxis\":\"x\",\"y\":[0.1,40.0,40.0,40.0,359.0,359.0,359.0,359.0],\"yaxis\":\"y\",\"type\":\"scatter\"}],                        {\"template\":{\"data\":{\"histogram2dcontour\":[{\"type\":\"histogram2dcontour\",\"colorbar\":{\"outlinewidth\":0,\"ticks\":\"\"},\"colorscale\":[[0.0,\"#0d0887\"],[0.1111111111111111,\"#46039f\"],[0.2222222222222222,\"#7201a8\"],[0.3333333333333333,\"#9c179e\"],[0.4444444444444444,\"#bd3786\"],[0.5555555555555556,\"#d8576b\"],[0.6666666666666666,\"#ed7953\"],[0.7777777777777778,\"#fb9f3a\"],[0.8888888888888888,\"#fdca26\"],[1.0,\"#f0f921\"]]}],\"choropleth\":[{\"type\":\"choropleth\",\"colorbar\":{\"outlinewidth\":0,\"ticks\":\"\"}}],\"histogram2d\":[{\"type\":\"histogram2d\",\"colorbar\":{\"outlinewidth\":0,\"ticks\":\"\"},\"colorscale\":[[0.0,\"#0d0887\"],[0.1111111111111111,\"#46039f\"],[0.2222222222222222,\"#7201a8\"],[0.3333333333333333,\"#9c179e\"],[0.4444444444444444,\"#bd3786\"],[0.5555555555555556,\"#d8576b\"],[0.6666666666666666,\"#ed7953\"],[0.7777777777777778,\"#fb9f3a\"],[0.8888888888888888,\"#fdca26\"],[1.0,\"#f0f921\"]]}],\"heatmap\":[{\"type\":\"heatmap\",\"colorbar\":{\"outlinewidth\":0,\"ticks\":\"\"},\"colorscale\":[[0.0,\"#0d0887\"],[0.1111111111111111,\"#46039f\"],[0.2222222222222222,\"#7201a8\"],[0.3333333333333333,\"#9c179e\"],[0.4444444444444444,\"#bd3786\"],[0.5555555555555556,\"#d8576b\"],[0.6666666666666666,\"#ed7953\"],[0.7777777777777778,\"#fb9f3a\"],[0.8888888888888888,\"#fdca26\"],[1.0,\"#f0f921\"]]}],\"heatmapgl\":[{\"type\":\"heatmapgl\",\"colorbar\":{\"outlinewidth\":0,\"ticks\":\"\"},\"colorscale\":[[0.0,\"#0d0887\"],[0.1111111111111111,\"#46039f\"],[0.2222222222222222,\"#7201a8\"],[0.3333333333333333,\"#9c179e\"],[0.4444444444444444,\"#bd3786\"],[0.5555555555555556,\"#d8576b\"],[0.6666666666666666,\"#ed7953\"],[0.7777777777777778,\"#fb9f3a\"],[0.8888888888888888,\"#fdca26\"],[1.0,\"#f0f921\"]]}],\"contourcarpet\":[{\"type\":\"contourcarpet\",\"colorbar\":{\"outlinewidth\":0,\"ticks\":\"\"}}],\"contour\":[{\"type\":\"contour\",\"colorbar\":{\"outlinewidth\":0,\"ticks\":\"\"},\"colorscale\":[[0.0,\"#0d0887\"],[0.1111111111111111,\"#46039f\"],[0.2222222222222222,\"#7201a8\"],[0.3333333333333333,\"#9c179e\"],[0.4444444444444444,\"#bd3786\"],[0.5555555555555556,\"#d8576b\"],[0.6666666666666666,\"#ed7953\"],[0.7777777777777778,\"#fb9f3a\"],[0.8888888888888888,\"#fdca26\"],[1.0,\"#f0f921\"]]}],\"surface\":[{\"type\":\"surface\",\"colorbar\":{\"outlinewidth\":0,\"ticks\":\"\"},\"colorscale\":[[0.0,\"#0d0887\"],[0.1111111111111111,\"#46039f\"],[0.2222222222222222,\"#7201a8\"],[0.3333333333333333,\"#9c179e\"],[0.4444444444444444,\"#bd3786\"],[0.5555555555555556,\"#d8576b\"],[0.6666666666666666,\"#ed7953\"],[0.7777777777777778,\"#fb9f3a\"],[0.8888888888888888,\"#fdca26\"],[1.0,\"#f0f921\"]]}],\"mesh3d\":[{\"type\":\"mesh3d\",\"colorbar\":{\"outlinewidth\":0,\"ticks\":\"\"}}],\"scatter\":[{\"fillpattern\":{\"fillmode\":\"overlay\",\"size\":10,\"solidity\":0.2},\"type\":\"scatter\"}],\"parcoords\":[{\"type\":\"parcoords\",\"line\":{\"colorbar\":{\"outlinewidth\":0,\"ticks\":\"\"}}}],\"scatterpolargl\":[{\"type\":\"scatterpolargl\",\"marker\":{\"colorbar\":{\"outlinewidth\":0,\"ticks\":\"\"}}}],\"bar\":[{\"error_x\":{\"color\":\"#2a3f5f\"},\"error_y\":{\"color\":\"#2a3f5f\"},\"marker\":{\"line\":{\"color\":\"#E5ECF6\",\"width\":0.5},\"pattern\":{\"fillmode\":\"overlay\",\"size\":10,\"solidity\":0.2}},\"type\":\"bar\"}],\"scattergeo\":[{\"type\":\"scattergeo\",\"marker\":{\"colorbar\":{\"outlinewidth\":0,\"ticks\":\"\"}}}],\"scatterpolar\":[{\"type\":\"scatterpolar\",\"marker\":{\"colorbar\":{\"outlinewidth\":0,\"ticks\":\"\"}}}],\"histogram\":[{\"marker\":{\"pattern\":{\"fillmode\":\"overlay\",\"size\":10,\"solidity\":0.2}},\"type\":\"histogram\"}],\"scattergl\":[{\"type\":\"scattergl\",\"marker\":{\"colorbar\":{\"outlinewidth\":0,\"ticks\":\"\"}}}],\"scatter3d\":[{\"type\":\"scatter3d\",\"line\":{\"colorbar\":{\"outlinewidth\":0,\"ticks\":\"\"}},\"marker\":{\"colorbar\":{\"outlinewidth\":0,\"ticks\":\"\"}}}],\"scattermapbox\":[{\"type\":\"scattermapbox\",\"marker\":{\"colorbar\":{\"outlinewidth\":0,\"ticks\":\"\"}}}],\"scatterternary\":[{\"type\":\"scatterternary\",\"marker\":{\"colorbar\":{\"outlinewidth\":0,\"ticks\":\"\"}}}],\"scattercarpet\":[{\"type\":\"scattercarpet\",\"marker\":{\"colorbar\":{\"outlinewidth\":0,\"ticks\":\"\"}}}],\"carpet\":[{\"aaxis\":{\"endlinecolor\":\"#2a3f5f\",\"gridcolor\":\"white\",\"linecolor\":\"white\",\"minorgridcolor\":\"white\",\"startlinecolor\":\"#2a3f5f\"},\"baxis\":{\"endlinecolor\":\"#2a3f5f\",\"gridcolor\":\"white\",\"linecolor\":\"white\",\"minorgridcolor\":\"white\",\"startlinecolor\":\"#2a3f5f\"},\"type\":\"carpet\"}],\"table\":[{\"cells\":{\"fill\":{\"color\":\"#EBF0F8\"},\"line\":{\"color\":\"white\"}},\"header\":{\"fill\":{\"color\":\"#C8D4E3\"},\"line\":{\"color\":\"white\"}},\"type\":\"table\"}],\"barpolar\":[{\"marker\":{\"line\":{\"color\":\"#E5ECF6\",\"width\":0.5},\"pattern\":{\"fillmode\":\"overlay\",\"size\":10,\"solidity\":0.2}},\"type\":\"barpolar\"}],\"pie\":[{\"automargin\":true,\"type\":\"pie\"}]},\"layout\":{\"autotypenumbers\":\"strict\",\"colorway\":[\"#636efa\",\"#EF553B\",\"#00cc96\",\"#ab63fa\",\"#FFA15A\",\"#19d3f3\",\"#FF6692\",\"#B6E880\",\"#FF97FF\",\"#FECB52\"],\"font\":{\"color\":\"#2a3f5f\"},\"hovermode\":\"closest\",\"hoverlabel\":{\"align\":\"left\"},\"paper_bgcolor\":\"white\",\"plot_bgcolor\":\"#E5ECF6\",\"polar\":{\"bgcolor\":\"#E5ECF6\",\"angularaxis\":{\"gridcolor\":\"white\",\"linecolor\":\"white\",\"ticks\":\"\"},\"radialaxis\":{\"gridcolor\":\"white\",\"linecolor\":\"white\",\"ticks\":\"\"}},\"ternary\":{\"bgcolor\":\"#E5ECF6\",\"aaxis\":{\"gridcolor\":\"white\",\"linecolor\":\"white\",\"ticks\":\"\"},\"baxis\":{\"gridcolor\":\"white\",\"linecolor\":\"white\",\"ticks\":\"\"},\"caxis\":{\"gridcolor\":\"white\",\"linecolor\":\"white\",\"ticks\":\"\"}},\"coloraxis\":{\"colorbar\":{\"outlinewidth\":0,\"ticks\":\"\"}},\"colorscale\":{\"sequential\":[[0.0,\"#0d0887\"],[0.1111111111111111,\"#46039f\"],[0.2222222222222222,\"#7201a8\"],[0.3333333333333333,\"#9c179e\"],[0.4444444444444444,\"#bd3786\"],[0.5555555555555556,\"#d8576b\"],[0.6666666666666666,\"#ed7953\"],[0.7777777777777778,\"#fb9f3a\"],[0.8888888888888888,\"#fdca26\"],[1.0,\"#f0f921\"]],\"sequentialminus\":[[0.0,\"#0d0887\"],[0.1111111111111111,\"#46039f\"],[0.2222222222222222,\"#7201a8\"],[0.3333333333333333,\"#9c179e\"],[0.4444444444444444,\"#bd3786\"],[0.5555555555555556,\"#d8576b\"],[0.6666666666666666,\"#ed7953\"],[0.7777777777777778,\"#fb9f3a\"],[0.8888888888888888,\"#fdca26\"],[1.0,\"#f0f921\"]],\"diverging\":[[0,\"#8e0152\"],[0.1,\"#c51b7d\"],[0.2,\"#de77ae\"],[0.3,\"#f1b6da\"],[0.4,\"#fde0ef\"],[0.5,\"#f7f7f7\"],[0.6,\"#e6f5d0\"],[0.7,\"#b8e186\"],[0.8,\"#7fbc41\"],[0.9,\"#4d9221\"],[1,\"#276419\"]]},\"xaxis\":{\"gridcolor\":\"white\",\"linecolor\":\"white\",\"ticks\":\"\",\"title\":{\"standoff\":15},\"zerolinecolor\":\"white\",\"automargin\":true,\"zerolinewidth\":2},\"yaxis\":{\"gridcolor\":\"white\",\"linecolor\":\"white\",\"ticks\":\"\",\"title\":{\"standoff\":15},\"zerolinecolor\":\"white\",\"automargin\":true,\"zerolinewidth\":2},\"scene\":{\"xaxis\":{\"backgroundcolor\":\"#E5ECF6\",\"gridcolor\":\"white\",\"linecolor\":\"white\",\"showbackground\":true,\"ticks\":\"\",\"zerolinecolor\":\"white\",\"gridwidth\":2},\"yaxis\":{\"backgroundcolor\":\"#E5ECF6\",\"gridcolor\":\"white\",\"linecolor\":\"white\",\"showbackground\":true,\"ticks\":\"\",\"zerolinecolor\":\"white\",\"gridwidth\":2},\"zaxis\":{\"backgroundcolor\":\"#E5ECF6\",\"gridcolor\":\"white\",\"linecolor\":\"white\",\"showbackground\":true,\"ticks\":\"\",\"zerolinecolor\":\"white\",\"gridwidth\":2}},\"shapedefaults\":{\"line\":{\"color\":\"#2a3f5f\"}},\"annotationdefaults\":{\"arrowcolor\":\"#2a3f5f\",\"arrowhead\":0,\"arrowwidth\":1},\"geo\":{\"bgcolor\":\"white\",\"landcolor\":\"#E5ECF6\",\"subunitcolor\":\"white\",\"showland\":true,\"showlakes\":true,\"lakecolor\":\"white\"},\"title\":{\"x\":0.05},\"mapbox\":{\"style\":\"light\"}}},\"xaxis\":{\"anchor\":\"y\",\"domain\":[0.0,1.0],\"title\":{\"text\":\"Year\"}},\"yaxis\":{\"anchor\":\"x\",\"domain\":[0.0,1.0],\"title\":{\"text\":\"Conductivity [S/cm<sup>2</sup>]\"},\"type\":\"log\"},\"legend\":{\"title\":{\"text\":\"Dimensionality\"},\"tracegroupgap\":0},\"margin\":{\"t\":60}},                        {\"responsive\": true}                    ).then(function(){\n",
       "                            \n",
       "var gd = document.getElementById('3b2afc31-dccf-46aa-b598-4153b5bc3b92');\n",
       "var x = new MutationObserver(function (mutations, observer) {{\n",
       "        var display = window.getComputedStyle(gd).display;\n",
       "        if (!display || display === 'none') {{\n",
       "            console.log([gd, 'removed!']);\n",
       "            Plotly.purge(gd);\n",
       "            observer.disconnect();\n",
       "        }}\n",
       "}});\n",
       "\n",
       "// Listen for the removal of the full notebook cells\n",
       "var notebookContainer = gd.closest('#notebook-container');\n",
       "if (notebookContainer) {{\n",
       "    x.observe(notebookContainer, {childList: true});\n",
       "}}\n",
       "\n",
       "// Listen for the clearing of the current output cell\n",
       "var outputEl = gd.closest('.output');\n",
       "if (outputEl) {{\n",
       "    x.observe(outputEl, {childList: true});\n",
       "}}\n",
       "\n",
       "                        })                };                });            </script>        </div>"
      ]
     },
     "metadata": {},
     "output_type": "display_data"
    }
   ],
   "source": [
    "#mofs_sorted_3D_porous['cummax_value'] = mofs_sorted_3D_porous.Value.cummax()\n",
    "#mofs_sorted_3D_porous.merge(mofs_sorted_3D_porous.groupby('cummax_value')[['Name', 'Porosity']].first(), on='cummax_value')\n",
    "mofs_sorted_3D_porous_cummax = mofs_sorted_3D_porous\n",
    "mofs_sorted_3D_porous_cummax['cummax_value'] = mofs_sorted_3D_porous_cummax.Value.cummax()\n",
    "keep_3D_porous = mofs_sorted_3D_porous_cummax['cummax_value']<=mofs_sorted_3D_porous_cummax.Value\n",
    "mofs_sorted_3D_porous_cummax.loc[~keep_3D_porous, ['Value', 'Name', 'DOI', 'Porosity']] = nan\n",
    "mofs_sorted_3D_porous_cummax = mofs_sorted_3D_porous_cummax.ffill()\n",
    "#mofs_sorted_3D_porous_cummax = mofs_sorted_3D_porous_cummax[keep_3D_porous]\n",
    "\n",
    "mofs_sorted_2D_porous_cummax = mofs_sorted_2D_porous\n",
    "mofs_sorted_2D_porous_cummax['cummax_value'] = mofs_sorted_2D_porous_cummax.Value.cummax()\n",
    "keep_2D_porous = mofs_sorted_2D_porous_cummax['cummax_value']<=mofs_sorted_2D_porous_cummax.Value\n",
    "mofs_sorted_2D_porous_cummax.loc[~keep_2D_porous, ['Value', 'Name', 'DOI', 'Porosity']] = nan\n",
    "mofs_sorted_2D_porous_cummax = mofs_sorted_2D_porous_cummax.ffill()\n",
    "#mofs_sorted_2D_porous_cummax = mofs_sorted_2D_porous_cummax[keep_2D_porous]\n",
    "\n",
    "mofs_sorted_porous_cummax = pd.concat([mofs_sorted_3D_porous_cummax, mofs_sorted_2D_porous_cummax], ignore_index=True)\n",
    "fig4 = px.line(mofs_sorted_porous_cummax, x='Year', y='Value', color='Dimensionality', hover_data=['Dimensionality','Porosity'], \n",
    "                 labels={'Value': \"Conductivity [S/cm<sup>2</sup>]\"}, hover_name='Name')\n",
    "fig4.update_traces(hovertemplate='<b>%{hovertext}</b><br><br>Dimensionality=%{customdata[0]}\\\n",
    "                                 <br>Year=%{x}<br>Value=%{y} S/cm<sup>2</sup>\\\n",
    "                                 <br>Porosity=%{customdata[1]} m<sup>2</sup>/g<extra></extra>')\n",
    "fig4.update_layout(yaxis_type=\"log\")\n",
    "fig4.show()"
   ]
  },
  {
   "cell_type": "code",
   "execution_count": 22,
   "metadata": {},
   "outputs": [
    {
     "data": {
      "application/vnd.plotly.v1+json": {
       "config": {
        "plotlyServerURL": "https://plotly.com"
       },
       "data": [
        {
         "customdata": [
          [
           "3D",
           385,
           "10.1021/cm101238m"
          ],
          [
           "3D",
           450,
           "10.1002/chem.201103433"
          ],
          [
           "3D",
           69.6,
           "10.1039/C3TA13179C"
          ],
          [
           "3D",
           214,
           "10.1126/science.1246738 "
          ],
          [
           "3D",
           248,
           "10.1021/jacs.5b02897"
          ],
          [
           "3D",
           54,
           "10.1021/jacs.5b02897"
          ],
          [
           "3D",
           559,
           "10.1021/ja512437u"
          ],
          [
           "3D",
           370,
           "10.1021/jacs.8b03696 "
          ],
          [
           "3D",
           50,
           "10.1021/jacs.8b03696 "
          ],
          [
           "3D",
           614,
           "10.1021/jacs.8b03604 "
          ],
          [
           "3D",
           1230,
           "10.1038/s41563-018-0098-1 "
          ],
          [
           "3D",
           610,
           "10.1038/s41563-018-0098-1 "
          ],
          [
           "3D",
           1550,
           "10.1039/C8SC00961A"
          ],
          [
           "3D",
           3,
           "10.1038/s41467-019-09682-0 "
          ],
          [
           "3D",
           208,
           "10.1038/s41557-019-0372-0 "
          ],
          [
           "3D",
           271,
           "10.1002/anie.201912642 "
          ],
          [
           "3D",
           208,
           "10.1038/s41557-019-0372-0 "
          ],
          [
           "3D",
           80,
           "10.1038/s41557-021-00666-6 "
          ],
          [
           "3D",
           1400,
           "10.1002/anie.202102670 "
          ],
          [
           "3D",
           120,
           "10.1021/jacs.2c00614"
          ]
         ],
         "hovertemplate": "<b>%{hovertext}</b><br><br>Dimensionality: %{customdata[0]}                                 <br>Year: %{x}<br>Value: %{y} S/cm                                 <br>BET: %{customdata[1]} m<sup>2</sup>/g<extra></extra>                                 <br>DOI: %{customdata[2]}",
         "hovertext": [
          "Cu[Ni(pdt)2]",
          "Fe(1,2,3-triazolate) (oxidized)",
          "I2@Eu4(BPT)4",
          "TCNQ@Cu3(BTC)2",
          "Fe2DOBDC",
          "Fe2DSBDC",
          "Cd2(TTFTB)",
          "Fe(1,2,3-triazolate)",
          "Fe(1,2,3-triazolate)(BF4)0.33",
          "Fe2(BDT)3 (oxidized)",
          "Fe2(BDP)3",
          "K(0.98)Fe2(BDP)3",
          "C60@Zr6(OH)16(TBAPy)2",
          "Cu2(6-Hmna)(6-mn)",
          "Ho(1+x)(HOTP)",
          "Cu-BDC",
          "HoHTTP",
          "Cr(tri)2(CF3SO3)0.33",
          "Fe-HHTP",
          "NiTAHQ-3D-ox"
         ],
         "legendgroup": "3D",
         "marker": {
          "color": "#636efa",
          "size": [
           385,
           450,
           69.6,
           214,
           248,
           54,
           559,
           370,
           50,
           614,
           1230,
           610,
           1550,
           3,
           208,
           271,
           208,
           80,
           1400,
           120
          ],
          "sizemin": 4,
          "sizemode": "area",
          "sizeref": 8,
          "symbol": "circle"
         },
         "mode": "markers",
         "name": "3D",
         "orientation": "v",
         "showlegend": true,
         "type": "scatter",
         "x": [
          2010,
          2012,
          2014,
          2014,
          2015,
          2015,
          2015,
          2018,
          2018,
          2018,
          2018,
          2018,
          2018,
          2019,
          2020,
          2020,
          2020,
          2021,
          2021,
          2022
         ],
         "xaxis": "x",
         "y": [
          1e-08,
          7.7e-05,
          8.2e-07,
          0.07,
          3.2e-07,
          3.9e-06,
          0.00029,
          7e-09,
          0.3,
          1.2,
          3.5e-07,
          0.025,
          0.001,
          10.96,
          0.05,
          0.01,
          0.05,
          0.014,
          0.001,
          3e-05
         ],
         "yaxis": "y"
        },
        {
         "customdata": [
          [
           "2D layered",
           306,
           "10.1021/cm301194a"
          ],
          [
           "2D layered",
           300,
           "10.1039/C4CC00408F"
          ],
          [
           "2D layered",
           630,
           "10.1021/ja502765n "
          ],
          [
           "2D layered",
           1175,
           "10.1021/jacs.7b00705 "
          ],
          [
           "2D layered",
           114,
           "10.1021/jacs.7b07234 "
          ],
          [
           "2D layered",
           526,
           "10.1038/s41563-018-0189-z "
          ],
          [
           "2D layered",
           210,
           " 10.1038/s41467-018-05141-4"
          ],
          [
           "2D layered",
           2298,
           "10.1039/c8ee02679c "
          ],
          [
           "2D layered",
           280,
           "10.1016/j.apcatb.2020.119295"
          ],
          [
           "2D layered",
           133,
           "10.1021/acsaem.0c02758 "
          ],
          [
           "2D layered",
           44.7,
           "10.1039/D1CC06407J"
          ],
          [
           "2D layered",
           480,
           "10.1038/s41467-022-34820-6"
          ]
         ],
         "hovertemplate": "<b>%{hovertext}</b><br><br>Dimensionality: %{customdata[0]}                                 <br>Year: %{x}<br>Value: %{y} S/cm                                 <br>BET: %{customdata[1]} m<sup>2</sup>/g<extra></extra>                                 <br>DOI: %{customdata[2]}",
         "hovertext": [
          "Cu3(HOTP)2",
          "Pt3(THT)2",
          "Ni3(HITP)2",
          "Fe2(dhbq)3",
          "Cu3(HIB)2",
          "Fe3(THT)2",
          "Fe3(PTC)",
          "(Mn/Fe)3(HIB)2",
          "Co3(HITP)2",
          "Ni3(HAB)2",
          "MnHHB",
          "Ni3(HATI_C1)2"
         ],
         "legendgroup": "2D layered",
         "marker": {
          "color": "#EF553B",
          "size": [
           306,
           300,
           630,
           1175,
           114,
           526,
           210,
           2298,
           280,
           133,
           44.7,
           480
          ],
          "sizemin": 4,
          "sizemode": "area",
          "sizeref": 8,
          "symbol": "circle"
         },
         "mode": "markers",
         "name": "2D layered",
         "orientation": "v",
         "showlegend": true,
         "type": "scatter",
         "x": [
          2012,
          2014,
          2014,
          2017,
          2017,
          2018,
          2018,
          2019,
          2020,
          2021,
          2022,
          2022
         ],
         "xaxis": "x",
         "y": [
          0.1,
          1.4e-06,
          40,
          0.014,
          13,
          0.034,
          10,
          359,
          11.5,
          0.52,
          0.005,
          0.01
         ],
         "yaxis": "y"
        },
        {
         "customdata": [
          [
           "Cu[Cu(pdt)2]",
           "3D",
           "10.1021/ic802117q "
          ],
          [
           "I2@Zn3(lac)2(pybz)2",
           "3D",
           "10.1021/ja908293n"
          ],
          [
           "Cd(DPNDI)",
           "3D",
           "10.1021/jacs.9b01717"
          ],
          [
           "Zn4O(NDC)3",
           "3D",
           "10.1016/j.synthmet.2019.04.018"
          ],
          [
           "TCNQ@(TATAB)3",
           "3D",
           "10.1016/j.inoche.2019.04.037 "
          ],
          [
           "Cu(H2O)(2,6-NDPA)0.5",
           "3D",
           "10.1002/adfm.202007294"
          ]
         ],
         "hovertemplate": "<b>%{customdata[0]}</b><br><br>Dimensionality: %{customdata[1]}                                 <br>Year: %{x}<br>Value: %{y} S/cm                                 <br>BET: unknown <extra></extra>                                 <br>DOI: %{customdata[2]}",
         "marker": {
          "color": "#636efa",
          "opacity": 0.7,
          "size": 5
         },
         "mode": "markers",
         "showlegend": false,
         "type": "scatter",
         "x": [
          2009,
          2010,
          2019,
          2019,
          2019,
          2020
         ],
         "y": [
          0.0006,
          0.0034,
          0.033,
          0.04,
          2.7e-07,
          2
         ]
        },
        {
         "customdata": [
          [
           "Ni3(BHT)2",
           "2D layered",
           "10.1021/ja312380b"
          ],
          [
           "Ni3(BHT)2 oxidized",
           "2D layered",
           "10.1021/ja507619d"
          ],
          [
           "Cu3(HITP)2",
           "2D layered",
           "10.1002/anie.201411854"
          ],
          [
           "V2(dhbq)3",
           "2D layered",
           "10.1021/jacs.7b13510 "
          ],
          [
           "La1.5(2,3,6,7,10,11-hexaoxytriphenylene)",
           "2D layered",
           "10.1073/pnas.2205127119"
          ],
          [
           "Nd1.5(2,3,6,7,10,11-hexaoxytriphenylene)",
           "2D layered",
           "10.1073/pnas.2205127119"
          ]
         ],
         "hovertemplate": "<b>%{customdata[0]}</b><br><br>Dimensionality: %{customdata[1]}                                 <br>Year: %{x}<br>Value: %{y} S/cm                                 <br>BET: unknown <extra></extra>                                 <br>DOI: %{customdata[2]}",
         "marker": {
          "color": "#EF553B",
          "opacity": 0.7,
          "size": 5
         },
         "mode": "markers",
         "showlegend": false,
         "type": "scatter",
         "x": [
          2013,
          2014,
          2015,
          2018,
          2022,
          2022
         ],
         "y": [
          0.15,
          150,
          0.2,
          0.45,
          900,
          1080
         ]
        },
        {
         "customdata": [
          [
           "Pb3(BHT)",
           "3D",
           "10.1021/ja0770983"
          ],
          [
           "Fe2(dhbq)3",
           "3D",
           "10.1021/jacs.5b10385"
          ]
         ],
         "hovertemplate": "<b>%{customdata[0]}</b><br><br>Dimensionality: %{customdata[1]}                                 <br>Year: %{x}<br>Value: %{y} S/cm                                 <br>Dense <extra></extra>                                 <br>DOI: %{customdata[2]}",
         "marker": {
          "color": "#636efa",
          "opacity": 0.7,
          "size": 5,
          "symbol": "circle-open"
         },
         "mode": "markers",
         "showlegend": false,
         "type": "scatter",
         "x": [
          2008,
          2015
         ],
         "y": [
          2e-06,
          0.16
         ]
        },
        {
         "customdata": [
          [
           "Cu3(BHT)",
           "2D layered",
           "10.1038/ncomms8408"
          ],
          [
           "Cu3(BHSe)",
           "2D layered",
           "10.1002/advs.201802235"
          ]
         ],
         "hovertemplate": "<b>%{customdata[0]}</b><br><br>Dimensionality: %{customdata[1]}                                 <br>Year: %{x}<br>Value: %{y} S/cm                                 <br>Dense <extra></extra>                                 <br>DOI: %{customdata[2]}",
         "marker": {
          "color": "#EF553B",
          "opacity": 0.7,
          "size": 5,
          "symbol": "circle-open"
         },
         "mode": "markers",
         "showlegend": false,
         "type": "scatter",
         "x": [
          2015,
          2019
         ],
         "y": [
          2500,
          110
         ]
        },
        {
         "hoverinfo": "skip",
         "line": {
          "color": "blue",
          "width": 2
         },
         "mode": "lines",
         "name": "Champion porous 3D MOF",
         "type": "scatter",
         "x": [
          2010,
          2012,
          2014,
          2015,
          2018,
          2020,
          2021,
          2022
         ],
         "y": [
          1e-08,
          7.7e-05,
          0.07,
          0.07,
          1.2,
          1.2,
          1.2,
          1.2
         ]
        },
        {
         "hoverinfo": "skip",
         "line": {
          "color": "red",
          "width": 2
         },
         "mode": "lines",
         "name": "Champion porous 2D layered MOF",
         "type": "scatter",
         "x": [
          2012,
          2014,
          2017,
          2018,
          2019,
          2020,
          2021,
          2022
         ],
         "y": [
          0.1,
          40,
          40,
          40,
          359,
          359,
          359,
          359
         ]
        },
        {
         "hoverinfo": "skip",
         "line": {
          "color": "blue",
          "dash": "dash",
          "width": 1
         },
         "mode": "lines",
         "name": "Champion 3D MOF",
         "type": "scatter",
         "visible": "legendonly",
         "x": [
          2008,
          2009,
          2010,
          2012,
          2014,
          2015,
          2018,
          2019,
          2020,
          2021,
          2022
         ],
         "y": [
          2e-06,
          0.0006,
          0.0034,
          0.0034,
          0.07,
          0.16,
          1.2,
          10.96,
          10.96,
          10.96,
          10.96
         ]
        },
        {
         "hoverinfo": "skip",
         "line": {
          "color": "red",
          "dash": "dash",
          "width": 1
         },
         "mode": "lines",
         "name": "Champion 2D layered MOF",
         "type": "scatter",
         "visible": "legendonly",
         "x": [
          2012,
          2013,
          2014,
          2015,
          2017,
          2018,
          2019,
          2020,
          2021,
          2022
         ],
         "y": [
          0.1,
          0.15,
          150,
          2500,
          2500,
          2500,
          2500,
          2500,
          2500,
          2500
         ]
        }
       ],
       "layout": {
        "autosize": true,
        "legend": {
         "itemsizing": "trace",
         "title": {},
         "tracegroupgap": 0
        },
        "template": {
         "data": {
          "bar": [
           {
            "error_x": {
             "color": "#2a3f5f"
            },
            "error_y": {
             "color": "#2a3f5f"
            },
            "marker": {
             "line": {
              "color": "white",
              "width": 0.5
             },
             "pattern": {
              "fillmode": "overlay",
              "size": 10,
              "solidity": 0.2
             }
            },
            "type": "bar"
           }
          ],
          "barpolar": [
           {
            "marker": {
             "line": {
              "color": "white",
              "width": 0.5
             },
             "pattern": {
              "fillmode": "overlay",
              "size": 10,
              "solidity": 0.2
             }
            },
            "type": "barpolar"
           }
          ],
          "carpet": [
           {
            "aaxis": {
             "endlinecolor": "#2a3f5f",
             "gridcolor": "#C8D4E3",
             "linecolor": "#C8D4E3",
             "minorgridcolor": "#C8D4E3",
             "startlinecolor": "#2a3f5f"
            },
            "baxis": {
             "endlinecolor": "#2a3f5f",
             "gridcolor": "#C8D4E3",
             "linecolor": "#C8D4E3",
             "minorgridcolor": "#C8D4E3",
             "startlinecolor": "#2a3f5f"
            },
            "type": "carpet"
           }
          ],
          "choropleth": [
           {
            "colorbar": {
             "outlinewidth": 0,
             "ticks": ""
            },
            "type": "choropleth"
           }
          ],
          "contour": [
           {
            "colorbar": {
             "outlinewidth": 0,
             "ticks": ""
            },
            "colorscale": [
             [
              0,
              "#0d0887"
             ],
             [
              0.1111111111111111,
              "#46039f"
             ],
             [
              0.2222222222222222,
              "#7201a8"
             ],
             [
              0.3333333333333333,
              "#9c179e"
             ],
             [
              0.4444444444444444,
              "#bd3786"
             ],
             [
              0.5555555555555556,
              "#d8576b"
             ],
             [
              0.6666666666666666,
              "#ed7953"
             ],
             [
              0.7777777777777778,
              "#fb9f3a"
             ],
             [
              0.8888888888888888,
              "#fdca26"
             ],
             [
              1,
              "#f0f921"
             ]
            ],
            "type": "contour"
           }
          ],
          "contourcarpet": [
           {
            "colorbar": {
             "outlinewidth": 0,
             "ticks": ""
            },
            "type": "contourcarpet"
           }
          ],
          "heatmap": [
           {
            "colorbar": {
             "outlinewidth": 0,
             "ticks": ""
            },
            "colorscale": [
             [
              0,
              "#0d0887"
             ],
             [
              0.1111111111111111,
              "#46039f"
             ],
             [
              0.2222222222222222,
              "#7201a8"
             ],
             [
              0.3333333333333333,
              "#9c179e"
             ],
             [
              0.4444444444444444,
              "#bd3786"
             ],
             [
              0.5555555555555556,
              "#d8576b"
             ],
             [
              0.6666666666666666,
              "#ed7953"
             ],
             [
              0.7777777777777778,
              "#fb9f3a"
             ],
             [
              0.8888888888888888,
              "#fdca26"
             ],
             [
              1,
              "#f0f921"
             ]
            ],
            "type": "heatmap"
           }
          ],
          "heatmapgl": [
           {
            "colorbar": {
             "outlinewidth": 0,
             "ticks": ""
            },
            "colorscale": [
             [
              0,
              "#0d0887"
             ],
             [
              0.1111111111111111,
              "#46039f"
             ],
             [
              0.2222222222222222,
              "#7201a8"
             ],
             [
              0.3333333333333333,
              "#9c179e"
             ],
             [
              0.4444444444444444,
              "#bd3786"
             ],
             [
              0.5555555555555556,
              "#d8576b"
             ],
             [
              0.6666666666666666,
              "#ed7953"
             ],
             [
              0.7777777777777778,
              "#fb9f3a"
             ],
             [
              0.8888888888888888,
              "#fdca26"
             ],
             [
              1,
              "#f0f921"
             ]
            ],
            "type": "heatmapgl"
           }
          ],
          "histogram": [
           {
            "marker": {
             "pattern": {
              "fillmode": "overlay",
              "size": 10,
              "solidity": 0.2
             }
            },
            "type": "histogram"
           }
          ],
          "histogram2d": [
           {
            "colorbar": {
             "outlinewidth": 0,
             "ticks": ""
            },
            "colorscale": [
             [
              0,
              "#0d0887"
             ],
             [
              0.1111111111111111,
              "#46039f"
             ],
             [
              0.2222222222222222,
              "#7201a8"
             ],
             [
              0.3333333333333333,
              "#9c179e"
             ],
             [
              0.4444444444444444,
              "#bd3786"
             ],
             [
              0.5555555555555556,
              "#d8576b"
             ],
             [
              0.6666666666666666,
              "#ed7953"
             ],
             [
              0.7777777777777778,
              "#fb9f3a"
             ],
             [
              0.8888888888888888,
              "#fdca26"
             ],
             [
              1,
              "#f0f921"
             ]
            ],
            "type": "histogram2d"
           }
          ],
          "histogram2dcontour": [
           {
            "colorbar": {
             "outlinewidth": 0,
             "ticks": ""
            },
            "colorscale": [
             [
              0,
              "#0d0887"
             ],
             [
              0.1111111111111111,
              "#46039f"
             ],
             [
              0.2222222222222222,
              "#7201a8"
             ],
             [
              0.3333333333333333,
              "#9c179e"
             ],
             [
              0.4444444444444444,
              "#bd3786"
             ],
             [
              0.5555555555555556,
              "#d8576b"
             ],
             [
              0.6666666666666666,
              "#ed7953"
             ],
             [
              0.7777777777777778,
              "#fb9f3a"
             ],
             [
              0.8888888888888888,
              "#fdca26"
             ],
             [
              1,
              "#f0f921"
             ]
            ],
            "type": "histogram2dcontour"
           }
          ],
          "mesh3d": [
           {
            "colorbar": {
             "outlinewidth": 0,
             "ticks": ""
            },
            "type": "mesh3d"
           }
          ],
          "parcoords": [
           {
            "line": {
             "colorbar": {
              "outlinewidth": 0,
              "ticks": ""
             }
            },
            "type": "parcoords"
           }
          ],
          "pie": [
           {
            "automargin": true,
            "type": "pie"
           }
          ],
          "scatter": [
           {
            "fillpattern": {
             "fillmode": "overlay",
             "size": 10,
             "solidity": 0.2
            },
            "type": "scatter"
           }
          ],
          "scatter3d": [
           {
            "line": {
             "colorbar": {
              "outlinewidth": 0,
              "ticks": ""
             }
            },
            "marker": {
             "colorbar": {
              "outlinewidth": 0,
              "ticks": ""
             }
            },
            "type": "scatter3d"
           }
          ],
          "scattercarpet": [
           {
            "marker": {
             "colorbar": {
              "outlinewidth": 0,
              "ticks": ""
             }
            },
            "type": "scattercarpet"
           }
          ],
          "scattergeo": [
           {
            "marker": {
             "colorbar": {
              "outlinewidth": 0,
              "ticks": ""
             }
            },
            "type": "scattergeo"
           }
          ],
          "scattergl": [
           {
            "marker": {
             "colorbar": {
              "outlinewidth": 0,
              "ticks": ""
             }
            },
            "type": "scattergl"
           }
          ],
          "scattermapbox": [
           {
            "marker": {
             "colorbar": {
              "outlinewidth": 0,
              "ticks": ""
             }
            },
            "type": "scattermapbox"
           }
          ],
          "scatterpolar": [
           {
            "marker": {
             "colorbar": {
              "outlinewidth": 0,
              "ticks": ""
             }
            },
            "type": "scatterpolar"
           }
          ],
          "scatterpolargl": [
           {
            "marker": {
             "colorbar": {
              "outlinewidth": 0,
              "ticks": ""
             }
            },
            "type": "scatterpolargl"
           }
          ],
          "scatterternary": [
           {
            "marker": {
             "colorbar": {
              "outlinewidth": 0,
              "ticks": ""
             }
            },
            "type": "scatterternary"
           }
          ],
          "surface": [
           {
            "colorbar": {
             "outlinewidth": 0,
             "ticks": ""
            },
            "colorscale": [
             [
              0,
              "#0d0887"
             ],
             [
              0.1111111111111111,
              "#46039f"
             ],
             [
              0.2222222222222222,
              "#7201a8"
             ],
             [
              0.3333333333333333,
              "#9c179e"
             ],
             [
              0.4444444444444444,
              "#bd3786"
             ],
             [
              0.5555555555555556,
              "#d8576b"
             ],
             [
              0.6666666666666666,
              "#ed7953"
             ],
             [
              0.7777777777777778,
              "#fb9f3a"
             ],
             [
              0.8888888888888888,
              "#fdca26"
             ],
             [
              1,
              "#f0f921"
             ]
            ],
            "type": "surface"
           }
          ],
          "table": [
           {
            "cells": {
             "fill": {
              "color": "#EBF0F8"
             },
             "line": {
              "color": "white"
             }
            },
            "header": {
             "fill": {
              "color": "#C8D4E3"
             },
             "line": {
              "color": "white"
             }
            },
            "type": "table"
           }
          ]
         },
         "layout": {
          "annotationdefaults": {
           "arrowcolor": "#2a3f5f",
           "arrowhead": 0,
           "arrowwidth": 1
          },
          "autotypenumbers": "strict",
          "coloraxis": {
           "colorbar": {
            "outlinewidth": 0,
            "ticks": ""
           }
          },
          "colorscale": {
           "diverging": [
            [
             0,
             "#8e0152"
            ],
            [
             0.1,
             "#c51b7d"
            ],
            [
             0.2,
             "#de77ae"
            ],
            [
             0.3,
             "#f1b6da"
            ],
            [
             0.4,
             "#fde0ef"
            ],
            [
             0.5,
             "#f7f7f7"
            ],
            [
             0.6,
             "#e6f5d0"
            ],
            [
             0.7,
             "#b8e186"
            ],
            [
             0.8,
             "#7fbc41"
            ],
            [
             0.9,
             "#4d9221"
            ],
            [
             1,
             "#276419"
            ]
           ],
           "sequential": [
            [
             0,
             "#0d0887"
            ],
            [
             0.1111111111111111,
             "#46039f"
            ],
            [
             0.2222222222222222,
             "#7201a8"
            ],
            [
             0.3333333333333333,
             "#9c179e"
            ],
            [
             0.4444444444444444,
             "#bd3786"
            ],
            [
             0.5555555555555556,
             "#d8576b"
            ],
            [
             0.6666666666666666,
             "#ed7953"
            ],
            [
             0.7777777777777778,
             "#fb9f3a"
            ],
            [
             0.8888888888888888,
             "#fdca26"
            ],
            [
             1,
             "#f0f921"
            ]
           ],
           "sequentialminus": [
            [
             0,
             "#0d0887"
            ],
            [
             0.1111111111111111,
             "#46039f"
            ],
            [
             0.2222222222222222,
             "#7201a8"
            ],
            [
             0.3333333333333333,
             "#9c179e"
            ],
            [
             0.4444444444444444,
             "#bd3786"
            ],
            [
             0.5555555555555556,
             "#d8576b"
            ],
            [
             0.6666666666666666,
             "#ed7953"
            ],
            [
             0.7777777777777778,
             "#fb9f3a"
            ],
            [
             0.8888888888888888,
             "#fdca26"
            ],
            [
             1,
             "#f0f921"
            ]
           ]
          },
          "colorway": [
           "#636efa",
           "#EF553B",
           "#00cc96",
           "#ab63fa",
           "#FFA15A",
           "#19d3f3",
           "#FF6692",
           "#B6E880",
           "#FF97FF",
           "#FECB52"
          ],
          "font": {
           "color": "#2a3f5f"
          },
          "geo": {
           "bgcolor": "white",
           "lakecolor": "white",
           "landcolor": "white",
           "showlakes": true,
           "showland": true,
           "subunitcolor": "#C8D4E3"
          },
          "hoverlabel": {
           "align": "left"
          },
          "hovermode": "closest",
          "mapbox": {
           "style": "light"
          },
          "paper_bgcolor": "white",
          "plot_bgcolor": "white",
          "polar": {
           "angularaxis": {
            "gridcolor": "#EBF0F8",
            "linecolor": "#EBF0F8",
            "ticks": ""
           },
           "bgcolor": "white",
           "radialaxis": {
            "gridcolor": "#EBF0F8",
            "linecolor": "#EBF0F8",
            "ticks": ""
           }
          },
          "scene": {
           "xaxis": {
            "backgroundcolor": "white",
            "gridcolor": "#DFE8F3",
            "gridwidth": 2,
            "linecolor": "#EBF0F8",
            "showbackground": true,
            "ticks": "",
            "zerolinecolor": "#EBF0F8"
           },
           "yaxis": {
            "backgroundcolor": "white",
            "gridcolor": "#DFE8F3",
            "gridwidth": 2,
            "linecolor": "#EBF0F8",
            "showbackground": true,
            "ticks": "",
            "zerolinecolor": "#EBF0F8"
           },
           "zaxis": {
            "backgroundcolor": "white",
            "gridcolor": "#DFE8F3",
            "gridwidth": 2,
            "linecolor": "#EBF0F8",
            "showbackground": true,
            "ticks": "",
            "zerolinecolor": "#EBF0F8"
           }
          },
          "shapedefaults": {
           "line": {
            "color": "#2a3f5f"
           }
          },
          "ternary": {
           "aaxis": {
            "gridcolor": "#DFE8F3",
            "linecolor": "#A2B1C6",
            "ticks": ""
           },
           "baxis": {
            "gridcolor": "#DFE8F3",
            "linecolor": "#A2B1C6",
            "ticks": ""
           },
           "bgcolor": "white",
           "caxis": {
            "gridcolor": "#DFE8F3",
            "linecolor": "#A2B1C6",
            "ticks": ""
           }
          },
          "title": {
           "x": 0.05
          },
          "xaxis": {
           "automargin": true,
           "gridcolor": "#EBF0F8",
           "linecolor": "#EBF0F8",
           "ticks": "",
           "title": {
            "standoff": 15
           },
           "zerolinecolor": "#EBF0F8",
           "zerolinewidth": 2
          },
          "yaxis": {
           "automargin": true,
           "gridcolor": "#EBF0F8",
           "linecolor": "#EBF0F8",
           "ticks": "",
           "title": {
            "standoff": 15
           },
           "zerolinecolor": "#EBF0F8",
           "zerolinewidth": 2
          }
         }
        },
        "title": {
         "text": "Conductivity performance of Metal-organic Frameworks"
        },
        "xaxis": {
         "anchor": "y",
         "autorange": true,
         "domain": [
          0,
          1
         ],
         "range": [
          2007.1338786176393,
          2022.938924726029
         ],
         "title": {
          "text": "Year"
         },
         "type": "linear"
        },
        "yaxis": {
         "anchor": "x",
         "autorange": true,
         "domain": [
          0,
          1
         ],
         "range": [
          -9.23692453617973,
          4.3105102699159845
         ],
         "title": {
          "text": "Conductivity [S/cm]"
         },
         "type": "log"
        }
       }
      },
      "image/png": "[encoded data removed]",
      "text/html": [
       "<div>                            <div id=\"f838ae34-3cf8-4768-b95a-76092fdfd231\" class=\"plotly-graph-div\" style=\"height:525px; width:100%;\"></div>            <script type=\"text/javascript\">                require([\"plotly\"], function(Plotly) {                    window.PLOTLYENV=window.PLOTLYENV || {};                                    if (document.getElementById(\"f838ae34-3cf8-4768-b95a-76092fdfd231\")) {                    Plotly.newPlot(                        \"f838ae34-3cf8-4768-b95a-76092fdfd231\",                        [{\"customdata\":[[\"3D\",385.0,\"10.1021/cm101238m\"],[\"3D\",450.0,\"10.1002/chem.201103433\"],[\"3D\",69.6,\"10.1039/C3TA13179C\"],[\"3D\",214.0,\"10.1126/science.1246738 \"],[\"3D\",248.0,\"10.1021/jacs.5b02897\"],[\"3D\",54.0,\"10.1021/jacs.5b02897\"],[\"3D\",559.0,\"10.1021/ja512437u\"],[\"3D\",370.0,\"10.1021/jacs.8b03696 \"],[\"3D\",50.0,\"10.1021/jacs.8b03696 \"],[\"3D\",614.0,\"10.1021/jacs.8b03604 \"],[\"3D\",1230.0,\"10.1038/s41563-018-0098-1 \"],[\"3D\",610.0,\"10.1038/s41563-018-0098-1 \"],[\"3D\",1550.0,\"10.1039/C8SC00961A\"],[\"3D\",3.0,\"10.1038/s41467-019-09682-0 \"],[\"3D\",208.0,\"10.1038/s41557-019-0372-0 \"],[\"3D\",271.0,\"10.1002/anie.201912642 \"],[\"3D\",208.0,\"10.1038/s41557-019-0372-0 \"],[\"3D\",80.0,\"10.1038/s41557-021-00666-6 \"],[\"3D\",1400.0,\"10.1002/anie.202102670 \"],[\"3D\",120.0,\"10.1021/jacs.2c00614\"]],\"hovertemplate\":\"<b>%{hovertext}</b><br><br>Dimensionality: %{customdata[0]}                                 <br>Year: %{x}<br>Value: %{y} S/cm                                 <br>BET: %{customdata[1]} m<sup>2</sup>/g<extra></extra>                                 <br>DOI: %{customdata[2]}\",\"hovertext\":[\"Cu[Ni(pdt)2]\",\"Fe(1,2,3-triazolate) (oxidized)\",\"I2@Eu4(BPT)4\",\"TCNQ@Cu3(BTC)2\",\"Fe2DOBDC\",\"Fe2DSBDC\",\"Cd2(TTFTB)\",\"Fe(1,2,3-triazolate)\",\"Fe(1,2,3-triazolate)(BF4)0.33\",\"Fe2(BDT)3 (oxidized)\",\"Fe2(BDP)3\",\"K(0.98)Fe2(BDP)3\",\"C60@Zr6(OH)16(TBAPy)2\",\"Cu2(6-Hmna)(6-mn)\",\"Ho(1+x)(HOTP)\",\"Cu-BDC\",\"HoHTTP\",\"Cr(tri)2(CF3SO3)0.33\",\"Fe-HHTP\",\"NiTAHQ-3D-ox\"],\"legendgroup\":\"3D\",\"marker\":{\"color\":\"#636efa\",\"size\":[385.0,450.0,69.6,214.0,248.0,54.0,559.0,370.0,50.0,614.0,1230.0,610.0,1550.0,3.0,208.0,271.0,208.0,80.0,1400.0,120.0],\"sizemode\":\"area\",\"sizeref\":8,\"symbol\":\"circle\",\"sizemin\":4},\"mode\":\"markers\",\"name\":\"3D\",\"orientation\":\"v\",\"showlegend\":true,\"x\":[2010,2012,2014,2014,2015,2015,2015,2018,2018,2018,2018,2018,2018,2019,2020,2020,2020,2021,2021,2022],\"xaxis\":\"x\",\"y\":[1e-08,7.7e-05,8.2e-07,0.07,3.2e-07,3.9e-06,0.00029,7e-09,0.3,1.2,3.5e-07,0.025,0.001,10.96,0.05,0.01,0.05,0.014,0.001,3e-05],\"yaxis\":\"y\",\"type\":\"scatter\"},{\"customdata\":[[\"2D layered\",306.0,\"10.1021/cm301194a\"],[\"2D layered\",300.0,\"10.1039/C4CC00408F\"],[\"2D layered\",630.0,\"10.1021/ja502765n \"],[\"2D layered\",1175.0,\"10.1021/jacs.7b00705 \"],[\"2D layered\",114.0,\"10.1021/jacs.7b07234 \"],[\"2D layered\",526.0,\"10.1038/s41563-018-0189-z \"],[\"2D layered\",210.0,\" 10.1038/s41467-018-05141-4\"],[\"2D layered\",2298.0,\"10.1039/c8ee02679c \"],[\"2D layered\",280.0,\"10.1016/j.apcatb.2020.119295\"],[\"2D layered\",133.0,\"10.1021/acsaem.0c02758 \"],[\"2D layered\",44.7,\"10.1039/D1CC06407J\"],[\"2D layered\",480.0,\"10.1038/s41467-022-34820-6\"]],\"hovertemplate\":\"<b>%{hovertext}</b><br><br>Dimensionality: %{customdata[0]}                                 <br>Year: %{x}<br>Value: %{y} S/cm                                 <br>BET: %{customdata[1]} m<sup>2</sup>/g<extra></extra>                                 <br>DOI: %{customdata[2]}\",\"hovertext\":[\"Cu3(HOTP)2\",\"Pt3(THT)2\",\"Ni3(HITP)2\",\"Fe2(dhbq)3\",\"Cu3(HIB)2\",\"Fe3(THT)2\",\"Fe3(PTC)\",\"(Mn/Fe)3(HIB)2\",\"Co3(HITP)2\",\"Ni3(HAB)2\",\"MnHHB\",\"Ni3(HATI_C1)2\"],\"legendgroup\":\"2D layered\",\"marker\":{\"color\":\"#EF553B\",\"size\":[306.0,300.0,630.0,1175.0,114.0,526.0,210.0,2298.0,280.0,133.0,44.7,480.0],\"sizemode\":\"area\",\"sizeref\":8,\"symbol\":\"circle\",\"sizemin\":4},\"mode\":\"markers\",\"name\":\"2D layered\",\"orientation\":\"v\",\"showlegend\":true,\"x\":[2012,2014,2014,2017,2017,2018,2018,2019,2020,2021,2022,2022],\"xaxis\":\"x\",\"y\":[0.1,1.4e-06,40.0,0.014,13.0,0.034,10.0,359.0,11.5,0.52,0.005,0.01],\"yaxis\":\"y\",\"type\":\"scatter\"},{\"customdata\":[[\"Cu[Cu(pdt)2]\",\"3D\",\"10.1021/ic802117q \"],[\"I2@Zn3(lac)2(pybz)2\",\"3D\",\"10.1021/ja908293n\"],[\"Cd(DPNDI)\",\"3D\",\"10.1021/jacs.9b01717\"],[\"Zn4O(NDC)3\",\"3D\",\"10.1016/j.synthmet.2019.04.018\"],[\"TCNQ@(TATAB)3\",\"3D\",\"10.1016/j.inoche.2019.04.037 \"],[\"Cu(H2O)(2,6-NDPA)0.5\",\"3D\",\"10.1002/adfm.202007294\"]],\"hovertemplate\":\"<b>%{customdata[0]}</b><br><br>Dimensionality: %{customdata[1]}                                 <br>Year: %{x}<br>Value: %{y} S/cm                                 <br>BET: unknown <extra></extra>                                 <br>DOI: %{customdata[2]}\",\"marker\":{\"color\":\"#636efa\",\"opacity\":0.7,\"size\":5},\"mode\":\"markers\",\"showlegend\":false,\"x\":[2009,2010,2019,2019,2019,2020],\"y\":[0.0006,0.0034,0.033,0.04,2.7e-07,2.0],\"type\":\"scatter\"},{\"customdata\":[[\"Ni3(BHT)2\",\"2D layered\",\"10.1021/ja312380b\"],[\"Ni3(BHT)2 oxidized\",\"2D layered\",\"10.1021/ja507619d\"],[\"Cu3(HITP)2\",\"2D layered\",\"10.1002/anie.201411854\"],[\"V2(dhbq)3\",\"2D layered\",\"10.1021/jacs.7b13510 \"],[\"La1.5(2,3,6,7,10,11-hexaoxytriphenylene)\",\"2D layered\",\"10.1073/pnas.2205127119\"],[\"Nd1.5(2,3,6,7,10,11-hexaoxytriphenylene)\",\"2D layered\",\"10.1073/pnas.2205127119\"]],\"hovertemplate\":\"<b>%{customdata[0]}</b><br><br>Dimensionality: %{customdata[1]}                                 <br>Year: %{x}<br>Value: %{y} S/cm                                 <br>BET: unknown <extra></extra>                                 <br>DOI: %{customdata[2]}\",\"marker\":{\"color\":\"#EF553B\",\"opacity\":0.7,\"size\":5},\"mode\":\"markers\",\"showlegend\":false,\"x\":[2013,2014,2015,2018,2022,2022],\"y\":[0.15,150.0,0.2,0.45,900.0,1080.0],\"type\":\"scatter\"},{\"customdata\":[[\"Pb3(BHT)\",\"3D\",\"10.1021/ja0770983\"],[\"Fe2(dhbq)3\",\"3D\",\"10.1021/jacs.5b10385\"]],\"hovertemplate\":\"<b>%{customdata[0]}</b><br><br>Dimensionality: %{customdata[1]}                                 <br>Year: %{x}<br>Value: %{y} S/cm                                 <br>Dense <extra></extra>                                 <br>DOI: %{customdata[2]}\",\"marker\":{\"color\":\"#636efa\",\"opacity\":0.7,\"size\":5,\"symbol\":\"circle-open\"},\"mode\":\"markers\",\"showlegend\":false,\"x\":[2008,2015],\"y\":[2e-06,0.16],\"type\":\"scatter\"},{\"customdata\":[[\"Cu3(BHT)\",\"2D layered\",\"10.1038/ncomms8408\"],[\"Cu3(BHSe)\",\"2D layered\",\"10.1002/advs.201802235\"]],\"hovertemplate\":\"<b>%{customdata[0]}</b><br><br>Dimensionality: %{customdata[1]}                                 <br>Year: %{x}<br>Value: %{y} S/cm                                 <br>Dense <extra></extra>                                 <br>DOI: %{customdata[2]}\",\"marker\":{\"color\":\"#EF553B\",\"opacity\":0.7,\"size\":5,\"symbol\":\"circle-open\"},\"mode\":\"markers\",\"showlegend\":false,\"x\":[2015,2019],\"y\":[2500.0,110.0],\"type\":\"scatter\"},{\"hoverinfo\":\"skip\",\"line\":{\"color\":\"blue\",\"width\":2},\"mode\":\"lines\",\"name\":\"Champion porous 3D MOF\",\"x\":[2010,2012,2014,2015,2018,2020,2021,2022],\"y\":[1e-08,7.7e-05,0.07,0.07,1.2,1.2,1.2,1.2],\"type\":\"scatter\"},{\"hoverinfo\":\"skip\",\"line\":{\"color\":\"red\",\"width\":2},\"mode\":\"lines\",\"name\":\"Champion porous 2D layered MOF\",\"x\":[2012,2014,2017,2018,2019,2020,2021,2022],\"y\":[0.1,40.0,40.0,40.0,359.0,359.0,359.0,359.0],\"type\":\"scatter\"},{\"hoverinfo\":\"skip\",\"line\":{\"color\":\"blue\",\"dash\":\"dash\",\"width\":1},\"mode\":\"lines\",\"name\":\"Champion 3D MOF\",\"visible\":\"legendonly\",\"x\":[2008,2009,2010,2012,2014,2015,2018,2019,2020,2021,2022],\"y\":[2e-06,0.0006,0.0034,0.0034,0.07,0.16,1.2,10.96,10.96,10.96,10.96],\"type\":\"scatter\"},{\"hoverinfo\":\"skip\",\"line\":{\"color\":\"red\",\"dash\":\"dash\",\"width\":1},\"mode\":\"lines\",\"name\":\"Champion 2D layered MOF\",\"visible\":\"legendonly\",\"x\":[2012,2013,2014,2015,2017,2018,2019,2020,2021,2022],\"y\":[0.1,0.15,150.0,2500.0,2500.0,2500.0,2500.0,2500.0,2500.0,2500.0],\"type\":\"scatter\"}],                        {\"template\":{\"data\":{\"barpolar\":[{\"marker\":{\"line\":{\"color\":\"white\",\"width\":0.5},\"pattern\":{\"fillmode\":\"overlay\",\"size\":10,\"solidity\":0.2}},\"type\":\"barpolar\"}],\"bar\":[{\"error_x\":{\"color\":\"#2a3f5f\"},\"error_y\":{\"color\":\"#2a3f5f\"},\"marker\":{\"line\":{\"color\":\"white\",\"width\":0.5},\"pattern\":{\"fillmode\":\"overlay\",\"size\":10,\"solidity\":0.2}},\"type\":\"bar\"}],\"carpet\":[{\"aaxis\":{\"endlinecolor\":\"#2a3f5f\",\"gridcolor\":\"#C8D4E3\",\"linecolor\":\"#C8D4E3\",\"minorgridcolor\":\"#C8D4E3\",\"startlinecolor\":\"#2a3f5f\"},\"baxis\":{\"endlinecolor\":\"#2a3f5f\",\"gridcolor\":\"#C8D4E3\",\"linecolor\":\"#C8D4E3\",\"minorgridcolor\":\"#C8D4E3\",\"startlinecolor\":\"#2a3f5f\"},\"type\":\"carpet\"}],\"choropleth\":[{\"colorbar\":{\"outlinewidth\":0,\"ticks\":\"\"},\"type\":\"choropleth\"}],\"contourcarpet\":[{\"colorbar\":{\"outlinewidth\":0,\"ticks\":\"\"},\"type\":\"contourcarpet\"}],\"contour\":[{\"colorbar\":{\"outlinewidth\":0,\"ticks\":\"\"},\"colorscale\":[[0.0,\"#0d0887\"],[0.1111111111111111,\"#46039f\"],[0.2222222222222222,\"#7201a8\"],[0.3333333333333333,\"#9c179e\"],[0.4444444444444444,\"#bd3786\"],[0.5555555555555556,\"#d8576b\"],[0.6666666666666666,\"#ed7953\"],[0.7777777777777778,\"#fb9f3a\"],[0.8888888888888888,\"#fdca26\"],[1.0,\"#f0f921\"]],\"type\":\"contour\"}],\"heatmapgl\":[{\"colorbar\":{\"outlinewidth\":0,\"ticks\":\"\"},\"colorscale\":[[0.0,\"#0d0887\"],[0.1111111111111111,\"#46039f\"],[0.2222222222222222,\"#7201a8\"],[0.3333333333333333,\"#9c179e\"],[0.4444444444444444,\"#bd3786\"],[0.5555555555555556,\"#d8576b\"],[0.6666666666666666,\"#ed7953\"],[0.7777777777777778,\"#fb9f3a\"],[0.8888888888888888,\"#fdca26\"],[1.0,\"#f0f921\"]],\"type\":\"heatmapgl\"}],\"heatmap\":[{\"colorbar\":{\"outlinewidth\":0,\"ticks\":\"\"},\"colorscale\":[[0.0,\"#0d0887\"],[0.1111111111111111,\"#46039f\"],[0.2222222222222222,\"#7201a8\"],[0.3333333333333333,\"#9c179e\"],[0.4444444444444444,\"#bd3786\"],[0.5555555555555556,\"#d8576b\"],[0.6666666666666666,\"#ed7953\"],[0.7777777777777778,\"#fb9f3a\"],[0.8888888888888888,\"#fdca26\"],[1.0,\"#f0f921\"]],\"type\":\"heatmap\"}],\"histogram2dcontour\":[{\"colorbar\":{\"outlinewidth\":0,\"ticks\":\"\"},\"colorscale\":[[0.0,\"#0d0887\"],[0.1111111111111111,\"#46039f\"],[0.2222222222222222,\"#7201a8\"],[0.3333333333333333,\"#9c179e\"],[0.4444444444444444,\"#bd3786\"],[0.5555555555555556,\"#d8576b\"],[0.6666666666666666,\"#ed7953\"],[0.7777777777777778,\"#fb9f3a\"],[0.8888888888888888,\"#fdca26\"],[1.0,\"#f0f921\"]],\"type\":\"histogram2dcontour\"}],\"histogram2d\":[{\"colorbar\":{\"outlinewidth\":0,\"ticks\":\"\"},\"colorscale\":[[0.0,\"#0d0887\"],[0.1111111111111111,\"#46039f\"],[0.2222222222222222,\"#7201a8\"],[0.3333333333333333,\"#9c179e\"],[0.4444444444444444,\"#bd3786\"],[0.5555555555555556,\"#d8576b\"],[0.6666666666666666,\"#ed7953\"],[0.7777777777777778,\"#fb9f3a\"],[0.8888888888888888,\"#fdca26\"],[1.0,\"#f0f921\"]],\"type\":\"histogram2d\"}],\"histogram\":[{\"marker\":{\"pattern\":{\"fillmode\":\"overlay\",\"size\":10,\"solidity\":0.2}},\"type\":\"histogram\"}],\"mesh3d\":[{\"colorbar\":{\"outlinewidth\":0,\"ticks\":\"\"},\"type\":\"mesh3d\"}],\"parcoords\":[{\"line\":{\"colorbar\":{\"outlinewidth\":0,\"ticks\":\"\"}},\"type\":\"parcoords\"}],\"pie\":[{\"automargin\":true,\"type\":\"pie\"}],\"scatter3d\":[{\"line\":{\"colorbar\":{\"outlinewidth\":0,\"ticks\":\"\"}},\"marker\":{\"colorbar\":{\"outlinewidth\":0,\"ticks\":\"\"}},\"type\":\"scatter3d\"}],\"scattercarpet\":[{\"marker\":{\"colorbar\":{\"outlinewidth\":0,\"ticks\":\"\"}},\"type\":\"scattercarpet\"}],\"scattergeo\":[{\"marker\":{\"colorbar\":{\"outlinewidth\":0,\"ticks\":\"\"}},\"type\":\"scattergeo\"}],\"scattergl\":[{\"marker\":{\"colorbar\":{\"outlinewidth\":0,\"ticks\":\"\"}},\"type\":\"scattergl\"}],\"scattermapbox\":[{\"marker\":{\"colorbar\":{\"outlinewidth\":0,\"ticks\":\"\"}},\"type\":\"scattermapbox\"}],\"scatterpolargl\":[{\"marker\":{\"colorbar\":{\"outlinewidth\":0,\"ticks\":\"\"}},\"type\":\"scatterpolargl\"}],\"scatterpolar\":[{\"marker\":{\"colorbar\":{\"outlinewidth\":0,\"ticks\":\"\"}},\"type\":\"scatterpolar\"}],\"scatter\":[{\"fillpattern\":{\"fillmode\":\"overlay\",\"size\":10,\"solidity\":0.2},\"type\":\"scatter\"}],\"scatterternary\":[{\"marker\":{\"colorbar\":{\"outlinewidth\":0,\"ticks\":\"\"}},\"type\":\"scatterternary\"}],\"surface\":[{\"colorbar\":{\"outlinewidth\":0,\"ticks\":\"\"},\"colorscale\":[[0.0,\"#0d0887\"],[0.1111111111111111,\"#46039f\"],[0.2222222222222222,\"#7201a8\"],[0.3333333333333333,\"#9c179e\"],[0.4444444444444444,\"#bd3786\"],[0.5555555555555556,\"#d8576b\"],[0.6666666666666666,\"#ed7953\"],[0.7777777777777778,\"#fb9f3a\"],[0.8888888888888888,\"#fdca26\"],[1.0,\"#f0f921\"]],\"type\":\"surface\"}],\"table\":[{\"cells\":{\"fill\":{\"color\":\"#EBF0F8\"},\"line\":{\"color\":\"white\"}},\"header\":{\"fill\":{\"color\":\"#C8D4E3\"},\"line\":{\"color\":\"white\"}},\"type\":\"table\"}]},\"layout\":{\"annotationdefaults\":{\"arrowcolor\":\"#2a3f5f\",\"arrowhead\":0,\"arrowwidth\":1},\"autotypenumbers\":\"strict\",\"coloraxis\":{\"colorbar\":{\"outlinewidth\":0,\"ticks\":\"\"}},\"colorscale\":{\"diverging\":[[0,\"#8e0152\"],[0.1,\"#c51b7d\"],[0.2,\"#de77ae\"],[0.3,\"#f1b6da\"],[0.4,\"#fde0ef\"],[0.5,\"#f7f7f7\"],[0.6,\"#e6f5d0\"],[0.7,\"#b8e186\"],[0.8,\"#7fbc41\"],[0.9,\"#4d9221\"],[1,\"#276419\"]],\"sequential\":[[0.0,\"#0d0887\"],[0.1111111111111111,\"#46039f\"],[0.2222222222222222,\"#7201a8\"],[0.3333333333333333,\"#9c179e\"],[0.4444444444444444,\"#bd3786\"],[0.5555555555555556,\"#d8576b\"],[0.6666666666666666,\"#ed7953\"],[0.7777777777777778,\"#fb9f3a\"],[0.8888888888888888,\"#fdca26\"],[1.0,\"#f0f921\"]],\"sequentialminus\":[[0.0,\"#0d0887\"],[0.1111111111111111,\"#46039f\"],[0.2222222222222222,\"#7201a8\"],[0.3333333333333333,\"#9c179e\"],[0.4444444444444444,\"#bd3786\"],[0.5555555555555556,\"#d8576b\"],[0.6666666666666666,\"#ed7953\"],[0.7777777777777778,\"#fb9f3a\"],[0.8888888888888888,\"#fdca26\"],[1.0,\"#f0f921\"]]},\"colorway\":[\"#636efa\",\"#EF553B\",\"#00cc96\",\"#ab63fa\",\"#FFA15A\",\"#19d3f3\",\"#FF6692\",\"#B6E880\",\"#FF97FF\",\"#FECB52\"],\"font\":{\"color\":\"#2a3f5f\"},\"geo\":{\"bgcolor\":\"white\",\"lakecolor\":\"white\",\"landcolor\":\"white\",\"showlakes\":true,\"showland\":true,\"subunitcolor\":\"#C8D4E3\"},\"hoverlabel\":{\"align\":\"left\"},\"hovermode\":\"closest\",\"mapbox\":{\"style\":\"light\"},\"paper_bgcolor\":\"white\",\"plot_bgcolor\":\"white\",\"polar\":{\"angularaxis\":{\"gridcolor\":\"#EBF0F8\",\"linecolor\":\"#EBF0F8\",\"ticks\":\"\"},\"bgcolor\":\"white\",\"radialaxis\":{\"gridcolor\":\"#EBF0F8\",\"linecolor\":\"#EBF0F8\",\"ticks\":\"\"}},\"scene\":{\"xaxis\":{\"backgroundcolor\":\"white\",\"gridcolor\":\"#DFE8F3\",\"gridwidth\":2,\"linecolor\":\"#EBF0F8\",\"showbackground\":true,\"ticks\":\"\",\"zerolinecolor\":\"#EBF0F8\"},\"yaxis\":{\"backgroundcolor\":\"white\",\"gridcolor\":\"#DFE8F3\",\"gridwidth\":2,\"linecolor\":\"#EBF0F8\",\"showbackground\":true,\"ticks\":\"\",\"zerolinecolor\":\"#EBF0F8\"},\"zaxis\":{\"backgroundcolor\":\"white\",\"gridcolor\":\"#DFE8F3\",\"gridwidth\":2,\"linecolor\":\"#EBF0F8\",\"showbackground\":true,\"ticks\":\"\",\"zerolinecolor\":\"#EBF0F8\"}},\"shapedefaults\":{\"line\":{\"color\":\"#2a3f5f\"}},\"ternary\":{\"aaxis\":{\"gridcolor\":\"#DFE8F3\",\"linecolor\":\"#A2B1C6\",\"ticks\":\"\"},\"baxis\":{\"gridcolor\":\"#DFE8F3\",\"linecolor\":\"#A2B1C6\",\"ticks\":\"\"},\"bgcolor\":\"white\",\"caxis\":{\"gridcolor\":\"#DFE8F3\",\"linecolor\":\"#A2B1C6\",\"ticks\":\"\"}},\"title\":{\"x\":0.05},\"xaxis\":{\"automargin\":true,\"gridcolor\":\"#EBF0F8\",\"linecolor\":\"#EBF0F8\",\"ticks\":\"\",\"title\":{\"standoff\":15},\"zerolinecolor\":\"#EBF0F8\",\"zerolinewidth\":2},\"yaxis\":{\"automargin\":true,\"gridcolor\":\"#EBF0F8\",\"linecolor\":\"#EBF0F8\",\"ticks\":\"\",\"title\":{\"standoff\":15},\"zerolinecolor\":\"#EBF0F8\",\"zerolinewidth\":2}}},\"xaxis\":{\"anchor\":\"y\",\"domain\":[0.0,1.0],\"title\":{\"text\":\"Year\"}},\"yaxis\":{\"anchor\":\"x\",\"domain\":[0.0,1.0],\"title\":{\"text\":\"Conductivity [S/cm]\"},\"type\":\"log\"},\"legend\":{\"title\":{},\"tracegroupgap\":0,\"itemsizing\":\"trace\"},\"title\":{\"text\":\"Conductivity performance of Metal-organic Frameworks\"}},                        {\"responsive\": true}                    ).then(function(){\n",
       "                            \n",
       "var gd = document.getElementById('f838ae34-3cf8-4768-b95a-76092fdfd231');\n",
       "var x = new MutationObserver(function (mutations, observer) {{\n",
       "        var display = window.getComputedStyle(gd).display;\n",
       "        if (!display || display === 'none') {{\n",
       "            console.log([gd, 'removed!']);\n",
       "            Plotly.purge(gd);\n",
       "            observer.disconnect();\n",
       "        }}\n",
       "}});\n",
       "\n",
       "// Listen for the removal of the full notebook cells\n",
       "var notebookContainer = gd.closest('#notebook-container');\n",
       "if (notebookContainer) {{\n",
       "    x.observe(notebookContainer, {childList: true});\n",
       "}}\n",
       "\n",
       "// Listen for the clearing of the current output cell\n",
       "var outputEl = gd.closest('.output');\n",
       "if (outputEl) {{\n",
       "    x.observe(outputEl, {childList: true});\n",
       "}}\n",
       "\n",
       "                        })                };                });            </script>        </div>"
      ]
     },
     "metadata": {},
     "output_type": "display_data"
    }
   ],
   "source": [
    "fig = px.scatter(mofs[mofs['BET']>1], x='Year', y='Value',\n",
    "                 hover_name='Name', color='Dimensionality', size='Porosity', hover_data=['Dimensionality','Porosity', 'DOI'], \n",
    "                 labels={'Value': \"Conductivity [S/cm]\"}, template='plotly_white', \n",
    "                 title='Conductivity performance of Metal-organic Frameworks')\n",
    "\n",
    "fig.update_traces(marker=dict(sizemin=4, sizeref=8))\n",
    "fig.update_layout(yaxis_type=\"log\")\n",
    "fig.update_traces(hovertemplate='<b>%{hovertext}</b><br><br>Dimensionality: %{customdata[0]}\\\n",
    "                                 <br>Year: %{x}<br>Value: %{y} S/cm\\\n",
    "                                 <br>BET: %{customdata[1]} m<sup>2</sup>/g<extra></extra>\\\n",
    "                                 <br>DOI: %{customdata[2]}')\n",
    "\n",
    "fig.add_trace(go.Scatter(x=mofs[(mofs['Porous']=='Yes') & (mofs['Porosity']<1) & (mofs['Dimensionality']=='3D')]['Year'], \n",
    "                         y=mofs[(mofs['Porous']=='Yes') & (mofs['Porosity']<1) & (mofs['Dimensionality']=='3D')]['Value'], \n",
    "                         mode='markers', marker=dict(color='#636efa', size=5, opacity=0.7),  \n",
    "                         customdata=np.stack((mofs[(mofs['Porous']=='Yes') & (mofs['Porosity']<1) & (mofs['Dimensionality']=='3D')]['Name'], \n",
    "                                              mofs[(mofs['Porous']=='Yes') & (mofs['Porosity']<1) & (mofs['Dimensionality']=='3D')]['Dimensionality'],\n",
    "                                              mofs[(mofs['Porous']=='Yes') & (mofs['Porosity']<1) & (mofs['Dimensionality']=='3D')]['DOI']), \n",
    "                                              axis=-1), \n",
    "                         hovertemplate='<b>%{customdata[0]}</b><br><br>Dimensionality: %{customdata[1]}\\\n",
    "                                 <br>Year: %{x}<br>Value: %{y} S/cm\\\n",
    "                                 <br>BET: unknown <extra></extra>\\\n",
    "                                 <br>DOI: %{customdata[2]}', \n",
    "                         showlegend=False))\n",
    "\n",
    "fig.add_trace(go.Scatter(x=mofs[(mofs['Porous']=='Yes') & (mofs['Porosity']<1) & (mofs['Dimensionality']=='2D layered')]['Year'], \n",
    "                         y=mofs[(mofs['Porous']=='Yes') & (mofs['Porosity']<1) & (mofs['Dimensionality']=='2D layered')]['Value'], \n",
    "                         mode='markers', marker=dict(color='#EF553B', size=5, opacity=0.7),  \n",
    "                         customdata=np.stack((mofs[(mofs['Porous']=='Yes') & (mofs['Porosity']<1) & (mofs['Dimensionality']=='2D layered')]['Name'], \n",
    "                                              mofs[(mofs['Porous']=='Yes') & (mofs['Porosity']<1) & (mofs['Dimensionality']=='2D layered')]['Dimensionality'],\n",
    "                                              mofs[(mofs['Porous']=='Yes') & (mofs['Porosity']<1) & (mofs['Dimensionality']=='2D layered')]['DOI']), \n",
    "                                              axis=-1), \n",
    "                         hovertemplate='<b>%{customdata[0]}</b><br><br>Dimensionality: %{customdata[1]}\\\n",
    "                                 <br>Year: %{x}<br>Value: %{y} S/cm\\\n",
    "                                 <br>BET: unknown <extra></extra>\\\n",
    "                                 <br>DOI: %{customdata[2]}', \n",
    "                         showlegend=False))\n",
    "\n",
    "fig.add_trace(go.Scatter(x=mofs[(mofs['Porous']=='No') & (mofs['Porosity']<1) & (mofs['Dimensionality']=='3D')]['Year'], \n",
    "                         y=mofs[(mofs['Porous']=='No') & (mofs['Porosity']<1) & (mofs['Dimensionality']=='3D')]['Value'], \n",
    "                         mode='markers', marker=dict(color='#636efa', size=5, opacity=0.7, symbol='circle-open'),  \n",
    "                         customdata=np.stack((mofs[(mofs['Porous']=='No') & (mofs['Porosity']<1) & (mofs['Dimensionality']=='3D')]['Name'], \n",
    "                                              mofs[(mofs['Porous']=='No') & (mofs['Porosity']<1) & (mofs['Dimensionality']=='3D')]['Dimensionality'],\n",
    "                                              mofs[(mofs['Porous']=='No') & (mofs['Porosity']<1) & (mofs['Dimensionality']=='3D')]['DOI']), \n",
    "                                              axis=-1), \n",
    "                         hovertemplate='<b>%{customdata[0]}</b><br><br>Dimensionality: %{customdata[1]}\\\n",
    "                                 <br>Year: %{x}<br>Value: %{y} S/cm\\\n",
    "                                 <br>Dense <extra></extra>\\\n",
    "                                 <br>DOI: %{customdata[2]}', \n",
    "                         showlegend=False))\n",
    "\n",
    "fig.add_trace(go.Scatter(x=mofs[(mofs['Porous']=='No') & (mofs['Porosity']<1) & (mofs['Dimensionality']=='2D layered')]['Year'], \n",
    "                         y=mofs[(mofs['Porous']=='No') & (mofs['Porosity']<1) & (mofs['Dimensionality']=='2D layered')]['Value'], \n",
    "                         mode='markers', marker=dict(color='#EF553B', size=5, opacity=0.7, symbol='circle-open'),  \n",
    "                         customdata=np.stack((mofs[(mofs['Porous']=='No') & (mofs['Porosity']<1) & (mofs['Dimensionality']=='2D layered')]['Name'], \n",
    "                                              mofs[(mofs['Porous']=='No') & (mofs['Porosity']<1) & (mofs['Dimensionality']=='2D layered')]['Dimensionality'],\n",
    "                                              mofs[(mofs['Porous']=='No') & (mofs['Porosity']<1) & (mofs['Dimensionality']=='2D layered')]['DOI']), \n",
    "                                              axis=-1), \n",
    "                         hovertemplate='<b>%{customdata[0]}</b><br><br>Dimensionality: %{customdata[1]}\\\n",
    "                                 <br>Year: %{x}<br>Value: %{y} S/cm\\\n",
    "                                 <br>Dense <extra></extra>\\\n",
    "                                 <br>DOI: %{customdata[2]}', \n",
    "                         showlegend=False))\n",
    "\n",
    "fig.add_trace(go.Scatter(x=mofs_sorted_3D_porous_cummax['Year'], y=mofs_sorted_3D_porous_cummax['Value'], \n",
    "                         name='Champion porous 3D MOF', line=dict(color='blue', width=2), hoverinfo='skip', mode='lines'))\n",
    "\n",
    "fig.add_trace(go.Scatter(x=mofs_sorted_2D_porous_cummax['Year'], y=mofs_sorted_2D_porous_cummax['Value'], \n",
    "                         name='Champion porous 2D layered MOF', line=dict(color='red', width=2), hoverinfo='skip', mode='lines'))\n",
    "\n",
    "\n",
    "fig.add_trace(go.Scatter(x=mofs_sorted_3D_cummax['Year'], y=mofs_sorted_3D_cummax['Value'], \n",
    "                         name='Champion 3D MOF', line=dict(color='blue', width=1, dash='dash'), hoverinfo='skip', \n",
    "                         mode='lines', visible='legendonly'))\n",
    "\n",
    "fig.add_trace(go.Scatter(x=mofs_sorted_2D_cummax['Year'], y=mofs_sorted_2D_cummax['Value'], \n",
    "                         name='Champion 2D layered MOF', line=dict(color='red', width=1, dash='dash'), hoverinfo='skip', \n",
    "                         mode='lines', visible='legendonly'))\n",
    "\n",
    "fig.update_layout(legend={'itemsizing': 'trace'}, legend_title_text=None)\n",
    "\n",
    "fig.show()"
   ]
  },
  {
   "cell_type": "code",
   "execution_count": 31,
   "metadata": {},
   "outputs": [
    {
     "data": {
      "text/plain": [
       "'https://plotly.com/~MatG92/1/'"
      ]
     },
     "execution_count": 31,
     "metadata": {},
     "output_type": "execute_result"
    }
   ],
   "source": [
    "import chart_studio.plotly as py\n",
    "py.plot(fig, filename = 'test', auto_open=True)"
   ]
  },
  {
   "cell_type": "code",
   "execution_count": 23,
   "metadata": {},
   "outputs": [],
   "source": [
    "import plotly.io as pio\n",
    "pio.write_html(fig, file='index.html')"
   ]
  }
 ],
 "metadata": {
  "kernelspec": {
   "display_name": "MLStuff",
   "language": "python",
   "name": "mlstuff"
  },
  "language_info": {
   "codemirror_mode": {
    "name": "ipython",
    "version": 3
   },
   "file_extension": ".py",
   "mimetype": "text/x-python",
   "name": "python",
   "nbconvert_exporter": "python",
   "pygments_lexer": "ipython3",
   "version": "3.8.8"
  }
 },
 "nbformat": 4,
 "nbformat_minor": 4
}
